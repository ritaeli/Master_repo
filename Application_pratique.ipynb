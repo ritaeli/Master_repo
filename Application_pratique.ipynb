{
  "cells": [
    {
      "cell_type": "markdown",
      "metadata": {
        "id": "view-in-github",
        "colab_type": "text"
      },
      "source": [
        "<a href=\"https://colab.research.google.com/github/Murat-Simsek/Master_repo/blob/main/Application_pratique.ipynb\" target=\"_parent\"><img src=\"https://colab.research.google.com/assets/colab-badge.svg\" alt=\"Open In Colab\"/></a>"
      ]
    },
    {
      "cell_type": "markdown",
      "source": [
        "### Download of Data"
      ],
      "metadata": {
        "id": "lbBGTnaNxaJz"
      }
    },
    {
      "cell_type": "code",
      "execution_count": 1,
      "metadata": {
        "id": "Prb1WMns4rDc"
      },
      "outputs": [],
      "source": [
        "import pandas as pd"
      ]
    },
    {
      "cell_type": "code",
      "execution_count": 2,
      "metadata": {
        "id": "dO7me3ckd5dL"
      },
      "outputs": [],
      "source": [
        "# import necessary libraries\n",
        "from bs4 import BeautifulSoup\n",
        "import requests\n",
        "import re\n",
        "\n",
        "\n",
        "# function to extract html document from given url\n",
        "def getHTMLdocument(url):\n",
        "\t\n",
        "\t# request for HTML document of given url\n",
        "\tresponse = requests.get(url)\n",
        "\t\n",
        "\t# response will be provided in JSON format\n",
        "\treturn response.text\n",
        "\n",
        "\t\n",
        "# assign required credentials\n",
        "# assign URL\n",
        "url_to_scrape = \"https://solidarites-sante.gouv.fr/systeme-de-sante-et-medico-social/innovation-et-recherche/l-innovation-et-la-recherche-clinique/appels-a-projets/article/les-projets-retenus\"\n",
        "\n",
        "# create document\n",
        "html_document = getHTMLdocument(url_to_scrape)\n",
        "\n",
        "# create soap object\n",
        "soup = BeautifulSoup(html_document, 'html.parser')\n",
        "\n",
        "links = []\n",
        "# find all the anchor tags with \"href\"\n",
        "# attribute starting with \"https://\"\n",
        "for link in soup.find_all('a',\n",
        "\t\t\t\t\t\tattrs={'href': re.compile(\"IMG/xls/\")}):\n",
        "            links.append(link.get('href'))\n",
        "for link in soup.find_all('a',\n",
        "\t\t\t\t\t\tattrs={'href': re.compile(\"IMG/xlsx/\")}):\n",
        "            links.append(link.get('href'))\n",
        "\t\n",
        "\t\n",
        "  \n",
        " "
      ]
    },
    {
      "cell_type": "code",
      "execution_count": 3,
      "metadata": {
        "colab": {
          "base_uri": "https://localhost:8080/"
        },
        "id": "hr34Tcyqew7m",
        "outputId": "4cc291b8-a325-43ee-b1b1-5c2a337d1d92"
      },
      "outputs": [
        {
          "output_type": "execute_result",
          "data": {
            "text/plain": [
              "['IMG/xls/resultats_prtk_2014.xls',\n",
              " 'IMG/xls/resultat-prts-2014.xls',\n",
              " 'IMG/xls/projets_retenus_phrc-n_2015.xls',\n",
              " 'IMG/xls/Resultats_PHRC-N_2014.xls',\n",
              " 'IMG/xls/resultats_phrc-k_2014.2.xls']"
            ]
          },
          "metadata": {},
          "execution_count": 3
        }
      ],
      "source": [
        "links[:5]"
      ]
    },
    {
      "cell_type": "code",
      "execution_count": 4,
      "metadata": {
        "id": "BK5vQN8SEFYB"
      },
      "outputs": [],
      "source": [
        "l = [l for l in links if \"PHRC\" in l] + [l for l in links if \"phrc\" in l]"
      ]
    },
    {
      "cell_type": "code",
      "execution_count": 5,
      "metadata": {
        "colab": {
          "base_uri": "https://localhost:8080/"
        },
        "id": "-qQpKPFIELgS",
        "outputId": "590f220f-09e9-4171-b1c0-4fed9804cc65"
      },
      "outputs": [
        {
          "output_type": "execute_result",
          "data": {
            "text/plain": [
              "27"
            ]
          },
          "metadata": {},
          "execution_count": 5
        }
      ],
      "source": [
        "len(l) # Links researched in the site"
      ]
    },
    {
      "cell_type": "code",
      "execution_count": 6,
      "metadata": {
        "colab": {
          "base_uri": "https://localhost:8080/"
        },
        "id": "0L0VqXQxqMcZ",
        "outputId": "1b603bcb-fb46-4623-ad77-4f7e36e32c04"
      },
      "outputs": [
        {
          "output_type": "stream",
          "name": "stdout",
          "text": [
            "Looking in indexes: https://pypi.org/simple, https://us-python.pkg.dev/colab-wheels/public/simple/\n",
            "Requirement already satisfied: xlrd in /usr/local/lib/python3.7/dist-packages (1.1.0)\n",
            "Collecting xlrd\n",
            "  Downloading xlrd-2.0.1-py2.py3-none-any.whl (96 kB)\n",
            "\u001b[K     |████████████████████████████████| 96 kB 2.4 MB/s \n",
            "\u001b[?25hInstalling collected packages: xlrd\n",
            "  Attempting uninstall: xlrd\n",
            "    Found existing installation: xlrd 1.1.0\n",
            "    Uninstalling xlrd-1.1.0:\n",
            "      Successfully uninstalled xlrd-1.1.0\n",
            "Successfully installed xlrd-2.0.1\n"
          ]
        }
      ],
      "source": [
        "pip install --upgrade xlrd"
      ]
    },
    {
      "cell_type": "code",
      "execution_count": 7,
      "metadata": {
        "id": "CeuFeFp5X38Q"
      },
      "outputs": [],
      "source": [
        "import requests\n",
        "import pandas as pd\n",
        "url = 'https://solidarites-sante.gouv.fr/IMG/xlsx/prts_21_resultatsselection_v2-1_20211004_mel.xlsx'\n",
        "#r = requests.get(url)\n",
        "#open('temp.xls', 'wb').write(r.content)\n",
        "#df = pd.read_excel('temp.xls')"
      ]
    },
    {
      "cell_type": "code",
      "execution_count": 8,
      "metadata": {
        "id": "AApcgBJAslU0"
      },
      "outputs": [],
      "source": [
        "comp_links = []\n",
        "for complet_link in l:\n",
        "  complet_link = 'https://solidarites-sante.gouv.fr/' + complet_link\n",
        "  comp_links.append(complet_link)"
      ]
    },
    {
      "cell_type": "code",
      "execution_count": 9,
      "metadata": {
        "colab": {
          "base_uri": "https://localhost:8080/"
        },
        "id": "WyTdapSdtMNJ",
        "outputId": "a625e6ef-ced9-4913-a64b-e594a0a98451"
      },
      "outputs": [
        {
          "output_type": "execute_result",
          "data": {
            "text/plain": [
              "['https://solidarites-sante.gouv.fr/IMG/xls/Resultats_PHRC-N_2014.xls',\n",
              " 'https://solidarites-sante.gouv.fr/IMG/xls/Projets_retenus_PHRC-I_2014.xls',\n",
              " 'https://solidarites-sante.gouv.fr/IMG/xls/RESULTAT-PHRCN-2012-v2.xls',\n",
              " 'https://solidarites-sante.gouv.fr/IMG/xls/RESULTAT-PHRCK-2012-2.xls',\n",
              " 'https://solidarites-sante.gouv.fr/IMG/xls/RESULTAT-PHRCI-2012-3.xls']"
            ]
          },
          "metadata": {},
          "execution_count": 9
        }
      ],
      "source": [
        "comp_links[0:5]"
      ]
    },
    {
      "cell_type": "code",
      "execution_count": 10,
      "metadata": {
        "id": "6p99L4uZzhTa"
      },
      "outputs": [],
      "source": [
        "df = []\n",
        "for d in l:\n",
        "  dfs = 'df_' + d #can add directory for files\n",
        "  df.append(dfs)"
      ]
    },
    {
      "cell_type": "code",
      "execution_count": 11,
      "metadata": {
        "id": "uHV2SM-t2qzZ"
      },
      "outputs": [],
      "source": [
        "df = list(map(lambda x: x.replace('/', '_'), df)) # removing all the annoying / that disturb the for loop"
      ]
    },
    {
      "cell_type": "code",
      "execution_count": 12,
      "metadata": {
        "colab": {
          "base_uri": "https://localhost:8080/"
        },
        "id": "a_jWm031mszN",
        "outputId": "91799348-3567-4bb4-96cc-a11a09abb28b"
      },
      "outputs": [
        {
          "output_type": "execute_result",
          "data": {
            "text/plain": [
              "['df_IMG_xls_Resultats_PHRC-N_2014.xls',\n",
              " 'df_IMG_xls_Projets_retenus_PHRC-I_2014.xls',\n",
              " 'df_IMG_xls_RESULTAT-PHRCN-2012-v2.xls',\n",
              " 'df_IMG_xls_RESULTAT-PHRCK-2012-2.xls',\n",
              " 'df_IMG_xls_RESULTAT-PHRCI-2012-3.xls']"
            ]
          },
          "metadata": {},
          "execution_count": 12
        }
      ],
      "source": [
        "df[:5]"
      ]
    },
    {
      "cell_type": "code",
      "source": [
        "!mkdir Data # create folders\n",
        "%cd Data"
      ],
      "metadata": {
        "colab": {
          "base_uri": "https://localhost:8080/"
        },
        "id": "QCtlJdG66w5v",
        "outputId": "545cd9a7-b093-4d54-c029-d6af45b7590c"
      },
      "execution_count": 13,
      "outputs": [
        {
          "output_type": "stream",
          "name": "stdout",
          "text": [
            "/content/Data\n"
          ]
        }
      ]
    },
    {
      "cell_type": "code",
      "execution_count": 14,
      "metadata": {
        "id": "4kchZY-xqYTP"
      },
      "outputs": [],
      "source": [
        "from numpy.lib.npyio import save\n",
        "from requests.api import request\n",
        "\n",
        "for d,i in zip(comp_links,df):  # for loop to request and save the files with their names in df and link in comp_links\n",
        "    r = requests.get(d)\n",
        "    open(i , 'wb').write(r.content)\n",
        "    df1 = pd.read_excel(i)"
      ]
    },
    {
      "cell_type": "code",
      "execution_count": 14,
      "metadata": {
        "id": "TL6UvNlpwbWW"
      },
      "outputs": [],
      "source": []
    },
    {
      "cell_type": "code",
      "execution_count": 14,
      "metadata": {
        "id": "q8v22gqpruCW"
      },
      "outputs": [],
      "source": []
    },
    {
      "cell_type": "markdown",
      "source": [
        "###  Modification of data columns"
      ],
      "metadata": {
        "id": "Ajql90j9xQ-3"
      }
    },
    {
      "cell_type": "code",
      "source": [
        "column = ['Porteur NOM',\n",
        "       'Porteur PRENOM',\n",
        "       'N° du projet', \n",
        "       'FINESS',\n",
        "       \"Nom de l'établissement de santé gestionnaire des fonds\", \n",
        "       'Acronyme',\n",
        "       'Titre du projet', \n",
        "       \" Autorisation d'engagement\",'Date','Type']"
      ],
      "metadata": {
        "id": "jdyJ7eF70_m5"
      },
      "execution_count": 15,
      "outputs": []
    },
    {
      "cell_type": "markdown",
      "source": [
        "#### 2020-2017"
      ],
      "metadata": {
        "id": "C1JO8M6pokuP"
      }
    },
    {
      "cell_type": "code",
      "source": [
        "dict_colmns_date = {\n",
        "    \"df_IMG_xlsx_phrcn_20_resultatsselection_v2-0_20211006_mel.xlsx\":2020,\n",
        "    \"df_IMG_xlsx_phrck_20_resultatsselection_v0-0_20210624_mel.xlsx\":2020,\n",
        "    #\"df_IMG_xlsx_phrcn_21_resultatsselection_v0-0_20220713_mel.xlsx\":2021,\n",
        "    \"df_IMG_xlsx_resultats_phrcn_2019_mel_v0-2_20200102.xlsx\":2019,\n",
        "    \"df_IMG_xlsx_resultats_phrc-k_2019_mel_v0-2_20200205.xlsx\":2019,\n",
        "    \"df_IMG_xlsx_resultats_phrci_2019_mel_v0-1_20200929.xlsx\":2019,\n",
        "    \"df_IMG_xlsx_resultats_phrcn_2018_mel.xlsx\":2018,\n",
        "    \"df_IMG_xlsx_resultats_phrck_2018_mel.xlsx\":2018,\n",
        "    \"df_IMG_xlsx_resultats_phrci_2018_mel.xlsx\":2018,\n",
        "    \"df_IMG_xlsx_resultats_phrc-n_2017_040118.xlsx\":2017,\n",
        "    \"df_IMG_xlsx_resultats_phrc-k_2017_040118.xlsx\":2017,\n",
        "    \"df_IMG_xlsx_dgos_resultats_phrc_i_2017_240718.xlsx\":2017,\n",
        "    \n",
        "\n",
        "}\n",
        "\n",
        "# -------------------------------------------------\n",
        "dict_colmns_type = {\n",
        "    \"df_IMG_xlsx_phrcn_20_resultatsselection_v2-0_20211006_mel.xlsx\":\"N\",\n",
        "    \"df_IMG_xlsx_phrck_20_resultatsselection_v0-0_20210624_mel.xlsx\":\"K\",\n",
        "   # \"df_IMG_xlsx_phrcn_21_resultatsselection_v0-0_20220713_mel.xlsx\":\"N\",\n",
        "    \"df_IMG_xlsx_resultats_phrcn_2019_mel_v0-2_20200102.xlsx\":\"N\",\n",
        "    \"df_IMG_xlsx_resultats_phrc-k_2019_mel_v0-2_20200205.xlsx\":\"K\",\n",
        "    \"df_IMG_xlsx_resultats_phrci_2019_mel_v0-1_20200929.xlsx\":\"I\",\n",
        "    \"df_IMG_xlsx_resultats_phrcn_2018_mel.xlsx\":\"N\",\n",
        "    \"df_IMG_xlsx_resultats_phrck_2018_mel.xlsx\":\"K\",\n",
        "    \"df_IMG_xlsx_resultats_phrci_2018_mel.xlsx\":\"I\",\n",
        "    \"df_IMG_xlsx_resultats_phrc-n_2017_040118.xlsx\":\"N\",\n",
        "    \"df_IMG_xlsx_resultats_phrc-k_2017_040118.xlsx\":\"K\",\n",
        "    \"df_IMG_xlsx_dgos_resultats_phrc_i_2017_240718.xlsx\":\"I\"\n",
        "\n",
        "\n",
        "}"
      ],
      "metadata": {
        "id": "uAw5dYoHcJdX"
      },
      "execution_count": 16,
      "outputs": []
    },
    {
      "cell_type": "code",
      "source": [
        "for d,t in zip(dict_colmns_date,dict_colmns_type):\n",
        "  path = d\n",
        "  df_1 = pd.read_excel(path)\n",
        "  print(f\"{d}--------------------------\")\n",
        "  print(len(df_1.columns))\n",
        "  print(df_1.columns)\n",
        "  df_1['Date'] = dict_colmns_date[d] # Date a ajouter\n",
        "  df_1[\"Type\"] = dict_colmns_type[t]   # Type du fichier\n",
        "  df_1.columns = column\n",
        "  print(df_1.columns)\n",
        "  df_1.to_excel('/content/' + path,index=False)"
      ],
      "metadata": {
        "colab": {
          "base_uri": "https://localhost:8080/"
        },
        "id": "DgOTz-okdUhd",
        "outputId": "14ef2a1e-f383-4596-9e2b-3177d9395d4c"
      },
      "execution_count": 17,
      "outputs": [
        {
          "output_type": "stream",
          "name": "stdout",
          "text": [
            "df_IMG_xlsx_phrcn_20_resultatsselection_v2-0_20211006_mel.xlsx--------------------------\n",
            "8\n",
            "Index(['Porteur de projet / Investigateur\\ncoordonnateur\\nNOM',\n",
            "       'Porteur de projet / Investigateur\\ncoordonnateur\\nPRENOM',\n",
            "       'N° du projet', 'FINESS',\n",
            "       'Nom de l'établissement de santé gestionnaire des fonds', 'Acronyme',\n",
            "       'Titre du projet ', 'Autorisation d'engagement (AE)'],\n",
            "      dtype='object')\n",
            "Index(['Porteur NOM', 'Porteur PRENOM', 'N° du projet', 'FINESS',\n",
            "       'Nom de l'établissement de santé gestionnaire des fonds', 'Acronyme',\n",
            "       'Titre du projet', ' Autorisation d'engagement', 'Date', 'Type'],\n",
            "      dtype='object')\n",
            "df_IMG_xlsx_phrck_20_resultatsselection_v0-0_20210624_mel.xlsx--------------------------\n",
            "8\n",
            "Index(['Porteur de projet /  Investigateur coordonnateur\\nNOM',\n",
            "       'Porteur de projet / Investigateur coordonnateur\\nPRENOM',\n",
            "       'N° du projet\\nPHRC-K', 'FINESS',\n",
            "       'Nom de l'établissement de santé\\ngestionnaire des fonds', 'Acronyme',\n",
            "       'Titre du projet', ' Autorisation d'engagement '],\n",
            "      dtype='object')\n",
            "Index(['Porteur NOM', 'Porteur PRENOM', 'N° du projet', 'FINESS',\n",
            "       'Nom de l'établissement de santé gestionnaire des fonds', 'Acronyme',\n",
            "       'Titre du projet', ' Autorisation d'engagement', 'Date', 'Type'],\n",
            "      dtype='object')\n",
            "df_IMG_xlsx_resultats_phrcn_2019_mel_v0-2_20200102.xlsx--------------------------\n",
            "8\n",
            "Index(['Porteur de projet / Investigateur\\ncoordonnateur\\nNOM',\n",
            "       'Porteur de projet / Investigateur\\ncoordonnateur\\nPRENOM',\n",
            "       'Numéro projet PHRC-N', 'FINESS',\n",
            "       'Nom de l'établissement de santé gestionnaire des fonds', 'Acronyme',\n",
            "       'Titre du projet ', 'Autorisation d'engagement (AE)'],\n",
            "      dtype='object')\n",
            "Index(['Porteur NOM', 'Porteur PRENOM', 'N° du projet', 'FINESS',\n",
            "       'Nom de l'établissement de santé gestionnaire des fonds', 'Acronyme',\n",
            "       'Titre du projet', ' Autorisation d'engagement', 'Date', 'Type'],\n",
            "      dtype='object')\n",
            "df_IMG_xlsx_resultats_phrc-k_2019_mel_v0-2_20200205.xlsx--------------------------\n",
            "8\n",
            "Index(['Porteur de projet / Investigateur\\ncoordonnateur\\nNOM',\n",
            "       'Porteur de projet / Investigateur\\ncoordonnateur\\nPRENOM',\n",
            "       'N° du projet', 'FINESS',\n",
            "       'Nom de l'établissement de santé\\ngestionnaire des fonds', 'Acronyme',\n",
            "       'Titre du projet', ' Autorisation d'engagement '],\n",
            "      dtype='object')\n",
            "Index(['Porteur NOM', 'Porteur PRENOM', 'N° du projet', 'FINESS',\n",
            "       'Nom de l'établissement de santé gestionnaire des fonds', 'Acronyme',\n",
            "       'Titre du projet', ' Autorisation d'engagement', 'Date', 'Type'],\n",
            "      dtype='object')\n",
            "df_IMG_xlsx_resultats_phrci_2019_mel_v0-1_20200929.xlsx--------------------------\n",
            "8\n",
            "Index(['Porteur de projet / Investigateur\\ncoordonnateur\\nNOM',\n",
            "       'Porteur de projet / Investigateur\\ncoordonnateur\\nPRENOM',\n",
            "       'N° du projet', 'FINESS',\n",
            "       'Nom de l'établissement de santé\\ngestionnaire des fonds', 'Acronyme',\n",
            "       'Titre du projet', 'Autorisation d'engagement '],\n",
            "      dtype='object')\n",
            "Index(['Porteur NOM', 'Porteur PRENOM', 'N° du projet', 'FINESS',\n",
            "       'Nom de l'établissement de santé gestionnaire des fonds', 'Acronyme',\n",
            "       'Titre du projet', ' Autorisation d'engagement', 'Date', 'Type'],\n",
            "      dtype='object')\n",
            "df_IMG_xlsx_resultats_phrcn_2018_mel.xlsx--------------------------\n",
            "8\n",
            "Index(['Porteur de projet / Investigateur\\ncoordonnateur\\nNOM',\n",
            "       'Porteur de projet / Investigateur\\ncoordonnateur\\nPRENOM',\n",
            "       'N° du projet', 'FINESS',\n",
            "       'Nom de l'établissement de santé\\ngestionnaire des fonds', 'Acronyme',\n",
            "       'Titre du projet', 'Autorisation d'engagement'],\n",
            "      dtype='object')\n",
            "Index(['Porteur NOM', 'Porteur PRENOM', 'N° du projet', 'FINESS',\n",
            "       'Nom de l'établissement de santé gestionnaire des fonds', 'Acronyme',\n",
            "       'Titre du projet', ' Autorisation d'engagement', 'Date', 'Type'],\n",
            "      dtype='object')\n",
            "df_IMG_xlsx_resultats_phrck_2018_mel.xlsx--------------------------\n",
            "8\n",
            "Index(['Porteur de projet / Investigateur\\ncoordonnateur\\nNOM',\n",
            "       'Porteur de projet / Investigateur\\ncoordonnateur\\nPRENOM',\n",
            "       'N° du projet', 'FINESS',\n",
            "       'Nom de l'établissement de santé\\ngestionnaire des fonds', 'Acronyme',\n",
            "       'Titre du projet', ' Autorisation d'engagement '],\n",
            "      dtype='object')\n",
            "Index(['Porteur NOM', 'Porteur PRENOM', 'N° du projet', 'FINESS',\n",
            "       'Nom de l'établissement de santé gestionnaire des fonds', 'Acronyme',\n",
            "       'Titre du projet', ' Autorisation d'engagement', 'Date', 'Type'],\n",
            "      dtype='object')\n",
            "df_IMG_xlsx_resultats_phrci_2018_mel.xlsx--------------------------\n",
            "8\n",
            "Index(['Porteur de projet / Investigateur\\ncoordonnateur\\nNOM',\n",
            "       'Porteur de projet / Investigateur\\ncoordonnateur\\nPRENOM',\n",
            "       'N° du projet', 'FINESS',\n",
            "       'Nom de l'établissement de santé\\ngestionnaire des fonds', 'Acronyme',\n",
            "       'Titre du projet', 'Autorisation d'engagement '],\n",
            "      dtype='object')\n",
            "Index(['Porteur NOM', 'Porteur PRENOM', 'N° du projet', 'FINESS',\n",
            "       'Nom de l'établissement de santé gestionnaire des fonds', 'Acronyme',\n",
            "       'Titre du projet', ' Autorisation d'engagement', 'Date', 'Type'],\n",
            "      dtype='object')\n",
            "df_IMG_xlsx_resultats_phrc-n_2017_040118.xlsx--------------------------\n",
            "8\n",
            "Index(['Porteur de projet / Investigateur\\ncoordonnateur\\nNOM',\n",
            "       'Porteur de projet / Investigateur\\ncoordonnateur\\nPRENOM',\n",
            "       'N° du projet', 'FINESS',\n",
            "       'Nom de l'établissement de santé\\ngestionnaire des fonds', 'Acronyme',\n",
            "       'Titre du projet', 'Autorisation d'engagement '],\n",
            "      dtype='object')\n",
            "Index(['Porteur NOM', 'Porteur PRENOM', 'N° du projet', 'FINESS',\n",
            "       'Nom de l'établissement de santé gestionnaire des fonds', 'Acronyme',\n",
            "       'Titre du projet', ' Autorisation d'engagement', 'Date', 'Type'],\n",
            "      dtype='object')\n",
            "df_IMG_xlsx_resultats_phrc-k_2017_040118.xlsx--------------------------\n",
            "8\n",
            "Index(['Nom Porteur', 'Prénom Porteur', 'Numéro', 'FINESS',\n",
            "       'Nom de l'établissement de santé gestionnaire des fonds', 'Acronyme',\n",
            "       'Titre du projet', 'Autorisation d'engagement (AE)'],\n",
            "      dtype='object')\n",
            "Index(['Porteur NOM', 'Porteur PRENOM', 'N° du projet', 'FINESS',\n",
            "       'Nom de l'établissement de santé gestionnaire des fonds', 'Acronyme',\n",
            "       'Titre du projet', ' Autorisation d'engagement', 'Date', 'Type'],\n",
            "      dtype='object')\n",
            "df_IMG_xlsx_dgos_resultats_phrc_i_2017_240718.xlsx--------------------------\n",
            "8\n",
            "Index(['Porteur de projet / Investigateur\\ncoordonnateur\\nNOM',\n",
            "       'Porteur de projet / Investigateur\\ncoordonnateur\\nPRENOM',\n",
            "       'N° du projet', 'FINESS',\n",
            "       'Nom de l'établissement de santé\\ngestionnaire des fonds', 'Acronyme',\n",
            "       'Titre du projet', 'Autorisation d'engagement '],\n",
            "      dtype='object')\n",
            "Index(['Porteur NOM', 'Porteur PRENOM', 'N° du projet', 'FINESS',\n",
            "       'Nom de l'établissement de santé gestionnaire des fonds', 'Acronyme',\n",
            "       'Titre du projet', ' Autorisation d'engagement', 'Date', 'Type'],\n",
            "      dtype='object')\n"
          ]
        }
      ]
    },
    {
      "cell_type": "code",
      "source": [
        "# \n",
        "#path = \"df_IMG_xlsx_phrcn_20_resultatsselection_v2-0_20211006_mel.xlsx\"\n",
        "#df_1 = pd.read_excel(path)\n",
        "#print(len(df_1.columns))\n",
        "#print(df_1.columns)\n",
        "#df_1['Date'] = 2020 # Date a ajouter\n",
        "#df_1[\"Type\"] = \"N\"   # Type du fichier\n",
        "#df_1.columns = column\n",
        "#print(df_1.columns)\n",
        "#df_1.to_excel('/content/' + path,index=False) # save file outside of Data File"
      ],
      "metadata": {
        "id": "Sj7gxdfv0_rP"
      },
      "execution_count": 18,
      "outputs": []
    },
    {
      "cell_type": "markdown",
      "source": [
        "#### 2016-2012"
      ],
      "metadata": {
        "id": "_YoSR6AiobGA"
      }
    },
    {
      "cell_type": "code",
      "source": [
        "column"
      ],
      "metadata": {
        "id": "TXI5k4kI2UFk",
        "colab": {
          "base_uri": "https://localhost:8080/"
        },
        "outputId": "47dc25ce-3887-4f58-adc1-c258d228f5fe"
      },
      "execution_count": 19,
      "outputs": [
        {
          "output_type": "execute_result",
          "data": {
            "text/plain": [
              "['Porteur NOM',\n",
              " 'Porteur PRENOM',\n",
              " 'N° du projet',\n",
              " 'FINESS',\n",
              " \"Nom de l'établissement de santé gestionnaire des fonds\",\n",
              " 'Acronyme',\n",
              " 'Titre du projet',\n",
              " \" Autorisation d'engagement\",\n",
              " 'Date',\n",
              " 'Type']"
            ]
          },
          "metadata": {},
          "execution_count": 19
        }
      ]
    },
    {
      "cell_type": "code",
      "execution_count": 20,
      "metadata": {
        "id": "j1zHxnphTcxM",
        "outputId": "6fb0d9bb-1f37-4720-d19d-a817579413c9",
        "colab": {
          "base_uri": "https://localhost:8080/"
        }
      },
      "outputs": [
        {
          "output_type": "stream",
          "name": "stdout",
          "text": [
            "Index(['FINESS\\njuridique',\n",
            "       'Nom de l'établissement de santé\\ngestionnaire des fonds',\n",
            "       'Porteur de projet / Investigateur\\ncoordonnateur\\nNOM',\n",
            "       'Porteur de projet / Investigateur\\ncoordonnateur\\nPRENOM',\n",
            "       'Titre du projet', 'N° du projet', 'Acronyme',\n",
            "       ' Autorisation d'engagement '],\n",
            "      dtype='object')\n",
            "-----------------------------------------------------------------------------------\n",
            "Index(['FINESS\\njuridique',\n",
            "       'Nom de l'établissement de santé\\ngestionnaire des fonds',\n",
            "       'Porteur de projet / Investigateur\\ncoordonnateur\\nNOM',\n",
            "       'Porteur de projet / Investigateur\\ncoordonnateur\\nPRENOM',\n",
            "       'Titre du projet', 'N° du projet', 'Acronyme',\n",
            "       ' Autorisation d'engagement '],\n",
            "      dtype='object')\n",
            "-----------------------------------------------------------------------------------\n",
            "Index(['FINESS\\njuridique',\n",
            "       'Nom de l'établissement de santé\\ngestionnaire des fonds',\n",
            "       'Porteur de projet / Investigateur\\ncoordonnateur\\nNOM',\n",
            "       'Porteur de projet / Investigateur\\ncoordonnateur\\nPRENOM',\n",
            "       'Titre du projet', 'N° du projet', 'Acronyme',\n",
            "       'Autorisation d'engagement'],\n",
            "      dtype='object')\n",
            "-----------------------------------------------------------------------------------\n",
            "Index(['FINESS\\njuridique',\n",
            "       'Nom de l'établissement de santé\\ngestionnaire des fonds',\n",
            "       'Porteur de projet / Investigateur\\ncoordonnateur\\nNOM',\n",
            "       'Porteur de projet / Investigateur\\ncoordonnateur\\nPRENOM',\n",
            "       'Titre du projet', 'N° du projet', 'Acronyme',\n",
            "       'Montant accordé sous conditions de suivi (€)'],\n",
            "      dtype='object')\n",
            "-----------------------------------------------------------------------------------\n",
            "Index(['FINESS\\njuridique',\n",
            "       'Nom de l'établissement de santé\\ngestionnaire des fonds',\n",
            "       'Porteur de projet / Investigateur\\ncoordonnateur\\nNOM',\n",
            "       'Porteur de projet / Investigateur\\ncoordonnateur\\nPRENOM',\n",
            "       'Titre du projet', 'N° du projet', 'Acronyme',\n",
            "       'Montant accordé sous conditions de suivi (€)'],\n",
            "      dtype='object')\n",
            "-----------------------------------------------------------------------------------\n",
            "Index(['FINESS\\njuridique',\n",
            "       'Nom de l'établissement de santé\\ngestionnaire des fonds',\n",
            "       'Porteur de projet / Investigateur\\ncoordonnateur\\nNOM',\n",
            "       'Porteur de projet / Investigateur\\ncoordonnateur\\nPRENOM',\n",
            "       'Titre du projet', 'N° du projet', 'Acronyme',\n",
            "       'Autorisation d'engagement (€)'],\n",
            "      dtype='object')\n",
            "-----------------------------------------------------------------------------------\n",
            "Index(['FINESS\\njuridique',\n",
            "       'Nom de l'établissement de santé\\ngestionnaire des fonds',\n",
            "       'Porteur de projet / Investigateur\\ncoordonnateur\\nNOM',\n",
            "       'Porteur de projet / Investigateur\\ncoordonnateur\\nPRENOM',\n",
            "       'Titre du projet', 'N° du projet', 'Acronyme',\n",
            "       'Montant accordé sous conditions de suivi (€)'],\n",
            "      dtype='object')\n",
            "-----------------------------------------------------------------------------------\n",
            "Index(['FINESS\\njuridique',\n",
            "       'Nom de l'établissement de santé\\ngestionnaire des fonds',\n",
            "       'Porteur de projet / Investigateur\\ncoordonnateur\\nNOM',\n",
            "       'Porteur de projet / Investigateur\\ncoordonnateur\\nPRENOM',\n",
            "       'Titre du projet', 'N° du projet', 'Acronyme',\n",
            "       'Montant accordé sous conditions de suivi (€)', 'Commentaires'],\n",
            "      dtype='object')\n",
            "-----------------------------------------------------------------------------------\n",
            "Index(['FINESS\\njuridique',\n",
            "       'Nom de l'établissement de santé\\ngestionnaire des fonds',\n",
            "       'Porteur de projet / Investigateur\\ncoordonnateur\\nNOM',\n",
            "       'Porteur de projet / Investigateur\\ncoordonnateur\\nPRENOM',\n",
            "       'Titre du projet', 'N° du projet', 'Acronyme',\n",
            "       'Montant accordé sous conditions de suivi (€)'],\n",
            "      dtype='object')\n",
            "-----------------------------------------------------------------------------------\n",
            "Index(['FINESS\\njuridique', 'Nom de l'établissement de santé\\ncoordonnateur',\n",
            "       'Porteur de projet / Investigateur\\ncoordonnateur\\nNOM',\n",
            "       'Porteur de projet / Investigateur\\ncoordonnateur\\nPRENOM',\n",
            "       'Titre du projet', 'N° du projet', 'Acronyme',\n",
            "       'Montant accordé sous conditions de suivi (€)'],\n",
            "      dtype='object')\n",
            "-----------------------------------------------------------------------------------\n",
            "Index(['FINESS\\njuridique', 'Nom de l'établissement de santé\\ncoordonnateur',\n",
            "       'Porteur de projet / Investigateur\\ncoordonnateur\\nNOM',\n",
            "       'Porteur de projet / Investigateur\\ncoordonnateur\\nPRENOM',\n",
            "       'Titre du projet', 'N° du projet', 'Acronyme',\n",
            "       'Montant accordé sous conditions de suivi (€)'],\n",
            "      dtype='object')\n",
            "-----------------------------------------------------------------------------------\n",
            "Index(['FINESS\\njuridique', 'Nom de l'établissement de santé\\ncoordonnateur',\n",
            "       'Porteur de projet / Investigateur\\ncoordonnateur\\nNOM',\n",
            "       'Porteur de projet / Investigateur\\ncoordonnateur\\nPRENOM',\n",
            "       'Titre du projet', 'N° du projet', 'Acronyme',\n",
            "       'Montant accordé sous conditions de suivi (€)'],\n",
            "      dtype='object')\n",
            "-----------------------------------------------------------------------------------\n",
            "Index(['FINESS\\njuridique',\n",
            "       'Nom de l'Etablissement de Santé\\ndu Porteur de Projet/Investigateur\\nCoordonnateur',\n",
            "       'Inter région', 'Porteur de Projet/Investigateur\\nCoordonnateur\\nNOM',\n",
            "       'Porteur de Projet/Investigateur\\nCoordonnateur\\nPRENOM',\n",
            "       'Titre du projet', 'N° du projet', 'Acronyme',\n",
            "       'Montant maximal PREVISIONNEL \\n (accordé  sous conditions de suivi)'],\n",
            "      dtype='object')\n",
            "-----------------------------------------------------------------------------------\n",
            "Index(['FINESS\\njuridique',\n",
            "       'Nom de l'Etablissement de Santé\\ndu Porteur de Projet/Investigateur\\nCoordonnateur',\n",
            "       'Porteur de Projet/Investigateur\\nCoordonnateur\\nNOM',\n",
            "       'Porteur de Projet/Investigateur\\nCoordonnateur\\nPRENOM',\n",
            "       'Titre du projet', 'N° du projet', 'Acronyme',\n",
            "       'Montant maximal PREVISIONNEL (accordé  sous conditions de suivi)'],\n",
            "      dtype='object')\n",
            "-----------------------------------------------------------------------------------\n",
            "Index(['FINESS\\njuridique',\n",
            "       'Nom de l'Etablissement de Santé\\ndu Porteur de Projet/Investigateur\\nCoordonnateur',\n",
            "       'Porteur de Projet/Investigateur\\nCoordonnateur\\nNOM',\n",
            "       'Porteur de Projet/Investigateur\\nCoordonnateur\\nPRENOM',\n",
            "       'Titre du projet', 'N° du projet', 'Acronyme',\n",
            "       'Montant maximal PREVISIONNEL (accordé  sous conditions de suivi)'],\n",
            "      dtype='object')\n",
            "-----------------------------------------------------------------------------------\n"
          ]
        }
      ],
      "source": [
        "path5 = \"df_IMG_xlsx_resultats_phrc-k_2016_mel.xlsx\"\n",
        "df5 = pd.read_excel(path5)\n",
        "print(df5.columns)\n",
        "columns_reindexing_5 = ['Porteur de projet / Investigateur\\ncoordonnateur\\nNOM',\n",
        "       'Porteur de projet / Investigateur\\ncoordonnateur\\nPRENOM',\n",
        "        'N° du projet', 'FINESS\\njuridique',\"Nom de l'établissement de santé\\ngestionnaire des fonds\",\n",
        "        'Acronyme','Titre du projet',\n",
        "       \" Autorisation d'engagement \"]\n",
        "print(\"-----------------------------------------------------------------------------------\")\n",
        "path4 = \"df_IMG_xlsx_resultats_phrc-i_2016_mel.xlsx\"\n",
        "df4 = pd.read_excel(path5)\n",
        "print(df4.columns)\n",
        "columns_reindexing_4 = ['Porteur de projet / Investigateur\\ncoordonnateur\\nNOM',\n",
        "       'Porteur de projet / Investigateur\\ncoordonnateur\\nPRENOM',\n",
        "        'N° du projet', 'FINESS\\njuridique',\"Nom de l'établissement de santé\\ngestionnaire des fonds\",\n",
        "        'Acronyme','Titre du projet',\n",
        "       \" Autorisation d'engagement \"]\n",
        "print(\"-----------------------------------------------------------------------------------\")\n",
        "path3 = \"df_IMG_xlsx_resultats_phrc_2016_mel.xlsx\"\n",
        "df3 = pd.read_excel(path3)\n",
        "print(df3.columns)\n",
        "columns_reindexing_3 = ['Porteur de projet / Investigateur\\ncoordonnateur\\nNOM',\n",
        "       'Porteur de projet / Investigateur\\ncoordonnateur\\nPRENOM',\n",
        "        'N° du projet', 'FINESS\\njuridique',\"Nom de l'établissement de santé\\ngestionnaire des fonds\",\n",
        "        'Acronyme','Titre du projet',\n",
        "       \"Autorisation d'engagement\"]\n",
        "print(\"-----------------------------------------------------------------------------------\")\n",
        "path2 = \"df_IMG_xlsx_projets_retenus_phrc-k_2015.xlsx\"\n",
        "df2 = pd.read_excel(path2)\n",
        "print(df2.columns)\n",
        "columns_reindexing_2 = ['Porteur de projet / Investigateur\\ncoordonnateur\\nNOM',\n",
        "       'Porteur de projet / Investigateur\\ncoordonnateur\\nPRENOM',\n",
        "        'N° du projet', 'FINESS\\njuridique',\"Nom de l'établissement de santé\\ngestionnaire des fonds\",\n",
        "        'Acronyme','Titre du projet',\n",
        "       'Montant accordé sous conditions de suivi (€)']\n",
        "print(\"-----------------------------------------------------------------------------------\")\n",
        "path6 = \"df_IMG_xlsx_projets_retenus_phrc-i_2015.xlsx\"\n",
        "df6 = pd.read_excel(path6)\n",
        "print(df6.columns)\n",
        "columns_reindexing_6 = ['Porteur de projet / Investigateur\\ncoordonnateur\\nNOM',\n",
        "       'Porteur de projet / Investigateur\\ncoordonnateur\\nPRENOM',\n",
        "        'N° du projet', 'FINESS\\njuridique',\"Nom de l'établissement de santé\\ngestionnaire des fonds\",\n",
        "        'Acronyme','Titre du projet',\n",
        "       'Montant accordé sous conditions de suivi (€)']\n",
        "print(\"-----------------------------------------------------------------------------------\")\n",
        "path7 = \"df_IMG_xls_projets_retenus_phrc-n_2015.xls\"\n",
        "df7 = pd.read_excel(path7)\n",
        "print(df7.columns)\n",
        "columns_reindexing_7 = ['Porteur de projet / Investigateur\\ncoordonnateur\\nNOM',\n",
        "       'Porteur de projet / Investigateur\\ncoordonnateur\\nPRENOM',\n",
        "        'N° du projet', 'FINESS\\njuridique',\"Nom de l'établissement de santé\\ngestionnaire des fonds\",\n",
        "        'Acronyme','Titre du projet',\n",
        "       \"Autorisation d'engagement (€)\"]\n",
        "print(\"-----------------------------------------------------------------------------------\")\n",
        "path8 = \"df_IMG_xls_Projets_retenus_PHRC-I_2014.xls\"\n",
        "df8 = pd.read_excel(path8)\n",
        "print(df8.columns)\n",
        "columns_reindexing_8 = ['Porteur de projet / Investigateur\\ncoordonnateur\\nNOM',\n",
        "       'Porteur de projet / Investigateur\\ncoordonnateur\\nPRENOM',\n",
        "        'N° du projet', 'FINESS\\njuridique',\"Nom de l'établissement de santé\\ngestionnaire des fonds\",\n",
        "        'Acronyme','Titre du projet',\n",
        "       'Montant accordé sous conditions de suivi (€)']\n",
        "print(\"-----------------------------------------------------------------------------------\")\n",
        "path9 = \"df_IMG_xls_resultats_phrc-k_2014.2.xls\"\n",
        "df9 = pd.read_excel(path9)\n",
        "print(df9.columns)\n",
        "columns_reindexing_9 = ['Porteur de projet / Investigateur\\ncoordonnateur\\nNOM',\n",
        "       'Porteur de projet / Investigateur\\ncoordonnateur\\nPRENOM',\n",
        "        'N° du projet', 'FINESS\\njuridique',\"Nom de l'établissement de santé\\ngestionnaire des fonds\",\n",
        "        'Acronyme','Titre du projet',\n",
        "       'Montant accordé sous conditions de suivi (€)']\n",
        "print(\"-----------------------------------------------------------------------------------\")\n",
        "path10 = \"df_IMG_xls_Resultats_PHRC-N_2014.xls\"\n",
        "df10 = pd.read_excel(path10)\n",
        "print(df10.columns)\n",
        "columns_reindexing_10 = ['Porteur de projet / Investigateur\\ncoordonnateur\\nNOM',\n",
        "       'Porteur de projet / Investigateur\\ncoordonnateur\\nPRENOM',\n",
        "        'N° du projet', 'FINESS\\njuridique',\"Nom de l'établissement de santé\\ngestionnaire des fonds\",\n",
        "        'Acronyme','Titre du projet',\n",
        "       'Montant accordé sous conditions de suivi (€)']\n",
        "print(\"-----------------------------------------------------------------------------------\")\n",
        "path11 = \"df_IMG_xlsx_Resultats_PHRC-N_2013.xlsx\"\n",
        "df11 = pd.read_excel(path11)\n",
        "print(df11.columns)\n",
        "columns_reindexing_11 = ['Porteur de projet / Investigateur\\ncoordonnateur\\nNOM',\n",
        "       'Porteur de projet / Investigateur\\ncoordonnateur\\nPRENOM',\n",
        "        'N° du projet', 'FINESS\\njuridique',\"Nom de l'établissement de santé\\ncoordonnateur\",\n",
        "        'Acronyme','Titre du projet',\n",
        "       'Montant accordé sous conditions de suivi (€)']\n",
        "print(\"-----------------------------------------------------------------------------------\")\n",
        "path12 = \"df_IMG_xlsx_Resultats_PHRC-K_2013.xlsx\"\n",
        "df12 = pd.read_excel(path12)\n",
        "print(df12.columns)\n",
        "columns_reindexing_12 = ['Porteur de projet / Investigateur\\ncoordonnateur\\nNOM',\n",
        "       'Porteur de projet / Investigateur\\ncoordonnateur\\nPRENOM',\n",
        "        'N° du projet', 'FINESS\\njuridique',\"Nom de l'établissement de santé\\ncoordonnateur\",\n",
        "        'Acronyme','Titre du projet',\n",
        "       'Montant accordé sous conditions de suivi (€)']\n",
        "print(\"-----------------------------------------------------------------------------------\")\n",
        "path13 = \"df_IMG_xlsx_Resultats_PHRC-I_2013-1.xlsx\"\n",
        "df13 = pd.read_excel(path13)\n",
        "print(df13.columns)\n",
        "columns_reindexing_13 = ['Porteur de projet / Investigateur\\ncoordonnateur\\nNOM',\n",
        "       'Porteur de projet / Investigateur\\ncoordonnateur\\nPRENOM',\n",
        "        'N° du projet', 'FINESS\\njuridique',\"Nom de l'établissement de santé\\ncoordonnateur\",\n",
        "        'Acronyme','Titre du projet',\n",
        "       'Montant accordé sous conditions de suivi (€)']\n",
        "print(\"-----------------------------------------------------------------------------------\")\n",
        "path14 = \"df_IMG_xls_RESULTAT-PHRCI-2012-3.xls\"\n",
        "df14 = pd.read_excel(path14)\n",
        "print(df14.columns)\n",
        "columns_reindexing_14 = ['Porteur de Projet/Investigateur\\nCoordonnateur\\nNOM',\n",
        "       'Porteur de Projet/Investigateur\\nCoordonnateur\\nPRENOM',\n",
        "        'N° du projet', 'FINESS\\njuridique',\"Nom de l'Etablissement de Santé\\ndu Porteur de Projet/Investigateur\\nCoordonnateur\",\n",
        "        'Acronyme','Titre du projet',\n",
        "       'Montant maximal PREVISIONNEL \\n (accordé  sous conditions de suivi)']\n",
        "print(\"-----------------------------------------------------------------------------------\")\n",
        "path15 = \"df_IMG_xls_RESULTAT-PHRCK-2012-2.xls\"\n",
        "df15 = pd.read_excel(path15)\n",
        "print(df15.columns)\n",
        "columns_reindexing_15 = ['Porteur de Projet/Investigateur\\nCoordonnateur\\nNOM',\n",
        "       'Porteur de Projet/Investigateur\\nCoordonnateur\\nPRENOM',\n",
        "        'N° du projet', 'FINESS\\njuridique',\"Nom de l'Etablissement de Santé\\ndu Porteur de Projet/Investigateur\\nCoordonnateur\",\n",
        "        'Acronyme','Titre du projet',\n",
        "       'Montant maximal PREVISIONNEL (accordé  sous conditions de suivi)']\n",
        "print(\"-----------------------------------------------------------------------------------\")\n",
        "path16 = \"df_IMG_xls_RESULTAT-PHRCN-2012-v2.xls\"\n",
        "df16 = pd.read_excel(path16)\n",
        "print(df16.columns)\n",
        "columns_reindexing_16 = ['Porteur de Projet/Investigateur\\nCoordonnateur\\nNOM',\n",
        "       'Porteur de Projet/Investigateur\\nCoordonnateur\\nPRENOM',\n",
        "        'N° du projet', 'FINESS\\njuridique',\"Nom de l'Etablissement de Santé\\ndu Porteur de Projet/Investigateur\\nCoordonnateur\",\n",
        "        'Acronyme','Titre du projet',\n",
        "       'Montant maximal PREVISIONNEL (accordé  sous conditions de suivi)']\n",
        "print(\"-----------------------------------------------------------------------------------\")"
      ]
    },
    {
      "cell_type": "code",
      "source": [
        "df5 = df5.reindex(columns= columns_reindexing_5)\n",
        "print(df5.columns)\n",
        "print(\"----------------------------------------------------------------------\")\n",
        "df4 = df4.reindex(columns= columns_reindexing_5)\n",
        "print(df4.columns)\n",
        "print(\"----------------------------------------------------------------------\")\n",
        "df3 = df3.reindex(columns= columns_reindexing_3)\n",
        "print(df3.columns)\n",
        "print(\"----------------------------------------------------------------------\")\n",
        "df2 = df2.reindex(columns= columns_reindexing_2)\n",
        "print(df2.columns)\n",
        "print(\"----------------------------------------------------------------------\")\n",
        "df6 = df6.reindex(columns= columns_reindexing_6)\n",
        "print(df6.columns)\n",
        "print(\"----------------------------------------------------------------------\")\n",
        "df7 = df7.reindex(columns= columns_reindexing_7)\n",
        "print(df7.columns)\n",
        "print(\"----------------------------------------------------------------------\")\n",
        "df8 = df8.reindex(columns= columns_reindexing_8)\n",
        "print(df8.columns)\n",
        "print(\"----------------------------------------------------------------------\")\n",
        "df9 = df9.reindex(columns= columns_reindexing_9)\n",
        "print(df9.columns)\n",
        "print(\"----------------------------------------------------------------------\")\n",
        "df10 = df10.reindex(columns= columns_reindexing_10)\n",
        "print(df10.columns)\n",
        "print(\"----------------------------------------------------------------------\")\n",
        "df11 = df11.reindex(columns= columns_reindexing_11)\n",
        "print(df11.columns)\n",
        "print(\"----------------------------------------------------------------------\")\n",
        "df12 = df12.reindex(columns= columns_reindexing_12)\n",
        "print(df12.columns)\n",
        "print(\"----------------------------------------------------------------------\")\n",
        "df13 = df13.reindex(columns= columns_reindexing_13)\n",
        "print(df13.columns)\n",
        "print(\"----------------------------------------------------------------------\")\n",
        "df14 = df14.reindex(columns= columns_reindexing_14)\n",
        "print(df14.columns)\n",
        "print(\"----------------------------------------------------------------------\")\n",
        "df15 = df15.reindex(columns= columns_reindexing_15)\n",
        "print(df15.columns)\n",
        "print(\"----------------------------------------------------------------------\")\n",
        "df16 = df16.reindex(columns= columns_reindexing_16)\n",
        "print(df16.columns)"
      ],
      "metadata": {
        "colab": {
          "base_uri": "https://localhost:8080/"
        },
        "id": "4gsqkqCbmoS6",
        "outputId": "8f8cc74b-86fe-417e-dbf6-af14fd9eefea"
      },
      "execution_count": 21,
      "outputs": [
        {
          "output_type": "stream",
          "name": "stdout",
          "text": [
            "Index(['Porteur de projet / Investigateur\\ncoordonnateur\\nNOM',\n",
            "       'Porteur de projet / Investigateur\\ncoordonnateur\\nPRENOM',\n",
            "       'N° du projet', 'FINESS\\njuridique',\n",
            "       'Nom de l'établissement de santé\\ngestionnaire des fonds', 'Acronyme',\n",
            "       'Titre du projet', ' Autorisation d'engagement '],\n",
            "      dtype='object')\n",
            "----------------------------------------------------------------------\n",
            "Index(['Porteur de projet / Investigateur\\ncoordonnateur\\nNOM',\n",
            "       'Porteur de projet / Investigateur\\ncoordonnateur\\nPRENOM',\n",
            "       'N° du projet', 'FINESS\\njuridique',\n",
            "       'Nom de l'établissement de santé\\ngestionnaire des fonds', 'Acronyme',\n",
            "       'Titre du projet', ' Autorisation d'engagement '],\n",
            "      dtype='object')\n",
            "----------------------------------------------------------------------\n",
            "Index(['Porteur de projet / Investigateur\\ncoordonnateur\\nNOM',\n",
            "       'Porteur de projet / Investigateur\\ncoordonnateur\\nPRENOM',\n",
            "       'N° du projet', 'FINESS\\njuridique',\n",
            "       'Nom de l'établissement de santé\\ngestionnaire des fonds', 'Acronyme',\n",
            "       'Titre du projet', 'Autorisation d'engagement'],\n",
            "      dtype='object')\n",
            "----------------------------------------------------------------------\n",
            "Index(['Porteur de projet / Investigateur\\ncoordonnateur\\nNOM',\n",
            "       'Porteur de projet / Investigateur\\ncoordonnateur\\nPRENOM',\n",
            "       'N° du projet', 'FINESS\\njuridique',\n",
            "       'Nom de l'établissement de santé\\ngestionnaire des fonds', 'Acronyme',\n",
            "       'Titre du projet', 'Montant accordé sous conditions de suivi (€)'],\n",
            "      dtype='object')\n",
            "----------------------------------------------------------------------\n",
            "Index(['Porteur de projet / Investigateur\\ncoordonnateur\\nNOM',\n",
            "       'Porteur de projet / Investigateur\\ncoordonnateur\\nPRENOM',\n",
            "       'N° du projet', 'FINESS\\njuridique',\n",
            "       'Nom de l'établissement de santé\\ngestionnaire des fonds', 'Acronyme',\n",
            "       'Titre du projet', 'Montant accordé sous conditions de suivi (€)'],\n",
            "      dtype='object')\n",
            "----------------------------------------------------------------------\n",
            "Index(['Porteur de projet / Investigateur\\ncoordonnateur\\nNOM',\n",
            "       'Porteur de projet / Investigateur\\ncoordonnateur\\nPRENOM',\n",
            "       'N° du projet', 'FINESS\\njuridique',\n",
            "       'Nom de l'établissement de santé\\ngestionnaire des fonds', 'Acronyme',\n",
            "       'Titre du projet', 'Autorisation d'engagement (€)'],\n",
            "      dtype='object')\n",
            "----------------------------------------------------------------------\n",
            "Index(['Porteur de projet / Investigateur\\ncoordonnateur\\nNOM',\n",
            "       'Porteur de projet / Investigateur\\ncoordonnateur\\nPRENOM',\n",
            "       'N° du projet', 'FINESS\\njuridique',\n",
            "       'Nom de l'établissement de santé\\ngestionnaire des fonds', 'Acronyme',\n",
            "       'Titre du projet', 'Montant accordé sous conditions de suivi (€)'],\n",
            "      dtype='object')\n",
            "----------------------------------------------------------------------\n",
            "Index(['Porteur de projet / Investigateur\\ncoordonnateur\\nNOM',\n",
            "       'Porteur de projet / Investigateur\\ncoordonnateur\\nPRENOM',\n",
            "       'N° du projet', 'FINESS\\njuridique',\n",
            "       'Nom de l'établissement de santé\\ngestionnaire des fonds', 'Acronyme',\n",
            "       'Titre du projet', 'Montant accordé sous conditions de suivi (€)'],\n",
            "      dtype='object')\n",
            "----------------------------------------------------------------------\n",
            "Index(['Porteur de projet / Investigateur\\ncoordonnateur\\nNOM',\n",
            "       'Porteur de projet / Investigateur\\ncoordonnateur\\nPRENOM',\n",
            "       'N° du projet', 'FINESS\\njuridique',\n",
            "       'Nom de l'établissement de santé\\ngestionnaire des fonds', 'Acronyme',\n",
            "       'Titre du projet', 'Montant accordé sous conditions de suivi (€)'],\n",
            "      dtype='object')\n",
            "----------------------------------------------------------------------\n",
            "Index(['Porteur de projet / Investigateur\\ncoordonnateur\\nNOM',\n",
            "       'Porteur de projet / Investigateur\\ncoordonnateur\\nPRENOM',\n",
            "       'N° du projet', 'FINESS\\njuridique',\n",
            "       'Nom de l'établissement de santé\\ncoordonnateur', 'Acronyme',\n",
            "       'Titre du projet', 'Montant accordé sous conditions de suivi (€)'],\n",
            "      dtype='object')\n",
            "----------------------------------------------------------------------\n",
            "Index(['Porteur de projet / Investigateur\\ncoordonnateur\\nNOM',\n",
            "       'Porteur de projet / Investigateur\\ncoordonnateur\\nPRENOM',\n",
            "       'N° du projet', 'FINESS\\njuridique',\n",
            "       'Nom de l'établissement de santé\\ncoordonnateur', 'Acronyme',\n",
            "       'Titre du projet', 'Montant accordé sous conditions de suivi (€)'],\n",
            "      dtype='object')\n",
            "----------------------------------------------------------------------\n",
            "Index(['Porteur de projet / Investigateur\\ncoordonnateur\\nNOM',\n",
            "       'Porteur de projet / Investigateur\\ncoordonnateur\\nPRENOM',\n",
            "       'N° du projet', 'FINESS\\njuridique',\n",
            "       'Nom de l'établissement de santé\\ncoordonnateur', 'Acronyme',\n",
            "       'Titre du projet', 'Montant accordé sous conditions de suivi (€)'],\n",
            "      dtype='object')\n",
            "----------------------------------------------------------------------\n",
            "Index(['Porteur de Projet/Investigateur\\nCoordonnateur\\nNOM',\n",
            "       'Porteur de Projet/Investigateur\\nCoordonnateur\\nPRENOM',\n",
            "       'N° du projet', 'FINESS\\njuridique',\n",
            "       'Nom de l'Etablissement de Santé\\ndu Porteur de Projet/Investigateur\\nCoordonnateur',\n",
            "       'Acronyme', 'Titre du projet',\n",
            "       'Montant maximal PREVISIONNEL \\n (accordé  sous conditions de suivi)'],\n",
            "      dtype='object')\n",
            "----------------------------------------------------------------------\n",
            "Index(['Porteur de Projet/Investigateur\\nCoordonnateur\\nNOM',\n",
            "       'Porteur de Projet/Investigateur\\nCoordonnateur\\nPRENOM',\n",
            "       'N° du projet', 'FINESS\\njuridique',\n",
            "       'Nom de l'Etablissement de Santé\\ndu Porteur de Projet/Investigateur\\nCoordonnateur',\n",
            "       'Acronyme', 'Titre du projet',\n",
            "       'Montant maximal PREVISIONNEL (accordé  sous conditions de suivi)'],\n",
            "      dtype='object')\n",
            "----------------------------------------------------------------------\n",
            "Index(['Porteur de Projet/Investigateur\\nCoordonnateur\\nNOM',\n",
            "       'Porteur de Projet/Investigateur\\nCoordonnateur\\nPRENOM',\n",
            "       'N° du projet', 'FINESS\\njuridique',\n",
            "       'Nom de l'Etablissement de Santé\\ndu Porteur de Projet/Investigateur\\nCoordonnateur',\n",
            "       'Acronyme', 'Titre du projet',\n",
            "       'Montant maximal PREVISIONNEL (accordé  sous conditions de suivi)'],\n",
            "      dtype='object')\n"
          ]
        }
      ]
    },
    {
      "cell_type": "code",
      "execution_count": 22,
      "metadata": {
        "id": "lGZd2kdoTcxS",
        "outputId": "db5f27e6-f62f-4c5d-d48e-886a47c488dc",
        "colab": {
          "base_uri": "https://localhost:8080/"
        }
      },
      "outputs": [
        {
          "output_type": "stream",
          "name": "stdout",
          "text": [
            "Index(['Porteur NOM', 'Porteur PRENOM', 'N° du projet', 'FINESS',\n",
            "       'Nom de l'établissement de santé gestionnaire des fonds', 'Acronyme',\n",
            "       'Titre du projet', ' Autorisation d'engagement', 'Date', 'Type'],\n",
            "      dtype='object')\n",
            "Index(['Porteur NOM', 'Porteur PRENOM', 'N° du projet', 'FINESS',\n",
            "       'Nom de l'établissement de santé gestionnaire des fonds', 'Acronyme',\n",
            "       'Titre du projet', ' Autorisation d'engagement', 'Date', 'Type'],\n",
            "      dtype='object')\n",
            "Index(['Porteur NOM', 'Porteur PRENOM', 'N° du projet', 'FINESS',\n",
            "       'Nom de l'établissement de santé gestionnaire des fonds', 'Acronyme',\n",
            "       'Titre du projet', ' Autorisation d'engagement', 'Date', 'Type'],\n",
            "      dtype='object')\n",
            "Index(['Porteur NOM', 'Porteur PRENOM', 'N° du projet', 'FINESS',\n",
            "       'Nom de l'établissement de santé gestionnaire des fonds', 'Acronyme',\n",
            "       'Titre du projet', ' Autorisation d'engagement', 'Date', 'Type'],\n",
            "      dtype='object')\n",
            "Index(['Porteur NOM', 'Porteur PRENOM', 'N° du projet', 'FINESS',\n",
            "       'Nom de l'établissement de santé gestionnaire des fonds', 'Acronyme',\n",
            "       'Titre du projet', ' Autorisation d'engagement', 'Date', 'Type'],\n",
            "      dtype='object')\n",
            "Index(['Porteur NOM', 'Porteur PRENOM', 'N° du projet', 'FINESS',\n",
            "       'Nom de l'établissement de santé gestionnaire des fonds', 'Acronyme',\n",
            "       'Titre du projet', ' Autorisation d'engagement', 'Date', 'Type'],\n",
            "      dtype='object')\n",
            "Index(['Porteur NOM', 'Porteur PRENOM', 'N° du projet', 'FINESS',\n",
            "       'Nom de l'établissement de santé gestionnaire des fonds', 'Acronyme',\n",
            "       'Titre du projet', ' Autorisation d'engagement', 'Date', 'Type'],\n",
            "      dtype='object')\n",
            "Index(['Porteur NOM', 'Porteur PRENOM', 'N° du projet', 'FINESS',\n",
            "       'Nom de l'établissement de santé gestionnaire des fonds', 'Acronyme',\n",
            "       'Titre du projet', ' Autorisation d'engagement', 'Date', 'Type'],\n",
            "      dtype='object')\n",
            "Index(['Porteur NOM', 'Porteur PRENOM', 'N° du projet', 'FINESS',\n",
            "       'Nom de l'établissement de santé gestionnaire des fonds', 'Acronyme',\n",
            "       'Titre du projet', ' Autorisation d'engagement', 'Date', 'Type'],\n",
            "      dtype='object')\n",
            "Index(['Porteur NOM', 'Porteur PRENOM', 'N° du projet', 'FINESS',\n",
            "       'Nom de l'établissement de santé gestionnaire des fonds', 'Acronyme',\n",
            "       'Titre du projet', ' Autorisation d'engagement', 'Date', 'Type'],\n",
            "      dtype='object')\n"
          ]
        },
        {
          "output_type": "stream",
          "name": "stderr",
          "text": [
            "/usr/local/lib/python3.7/dist-packages/ipykernel_launcher.py:35: FutureWarning: As the xlwt package is no longer maintained, the xlwt engine will be removed in a future version of pandas. This is the only engine in pandas that supports writing in the xls format. Install openpyxl and write to an xlsx file instead. You can set the option io.excel.xls.writer to 'xlwt' to silence this warning. While this option is deprecated and will also raise a warning, it can be globally set and the warning suppressed.\n",
            "/usr/local/lib/python3.7/dist-packages/ipykernel_launcher.py:41: FutureWarning: As the xlwt package is no longer maintained, the xlwt engine will be removed in a future version of pandas. This is the only engine in pandas that supports writing in the xls format. Install openpyxl and write to an xlsx file instead. You can set the option io.excel.xls.writer to 'xlwt' to silence this warning. While this option is deprecated and will also raise a warning, it can be globally set and the warning suppressed.\n",
            "/usr/local/lib/python3.7/dist-packages/ipykernel_launcher.py:47: FutureWarning: As the xlwt package is no longer maintained, the xlwt engine will be removed in a future version of pandas. This is the only engine in pandas that supports writing in the xls format. Install openpyxl and write to an xlsx file instead. You can set the option io.excel.xls.writer to 'xlwt' to silence this warning. While this option is deprecated and will also raise a warning, it can be globally set and the warning suppressed.\n",
            "/usr/local/lib/python3.7/dist-packages/ipykernel_launcher.py:53: FutureWarning: As the xlwt package is no longer maintained, the xlwt engine will be removed in a future version of pandas. This is the only engine in pandas that supports writing in the xls format. Install openpyxl and write to an xlsx file instead. You can set the option io.excel.xls.writer to 'xlwt' to silence this warning. While this option is deprecated and will also raise a warning, it can be globally set and the warning suppressed.\n"
          ]
        },
        {
          "output_type": "stream",
          "name": "stdout",
          "text": [
            "Index(['Porteur NOM', 'Porteur PRENOM', 'N° du projet', 'FINESS',\n",
            "       'Nom de l'établissement de santé gestionnaire des fonds', 'Acronyme',\n",
            "       'Titre du projet', ' Autorisation d'engagement', 'Date', 'Type'],\n",
            "      dtype='object')\n",
            "Index(['Porteur NOM', 'Porteur PRENOM', 'N° du projet', 'FINESS',\n",
            "       'Nom de l'établissement de santé gestionnaire des fonds', 'Acronyme',\n",
            "       'Titre du projet', ' Autorisation d'engagement', 'Date', 'Type'],\n",
            "      dtype='object')\n",
            "Index(['Porteur NOM', 'Porteur PRENOM', 'N° du projet', 'FINESS',\n",
            "       'Nom de l'établissement de santé gestionnaire des fonds', 'Acronyme',\n",
            "       'Titre du projet', ' Autorisation d'engagement', 'Date', 'Type'],\n",
            "      dtype='object')\n",
            "Index(['Porteur NOM', 'Porteur PRENOM', 'N° du projet', 'FINESS',\n",
            "       'Nom de l'établissement de santé gestionnaire des fonds', 'Acronyme',\n",
            "       'Titre du projet', ' Autorisation d'engagement', 'Date', 'Type'],\n",
            "      dtype='object')\n",
            "Index(['Porteur NOM', 'Porteur PRENOM', 'N° du projet', 'FINESS',\n",
            "       'Nom de l'établissement de santé gestionnaire des fonds', 'Acronyme',\n",
            "       'Titre du projet', ' Autorisation d'engagement', 'Date', 'Type'],\n",
            "      dtype='object')\n"
          ]
        },
        {
          "output_type": "stream",
          "name": "stderr",
          "text": [
            "/usr/local/lib/python3.7/dist-packages/ipykernel_launcher.py:77: FutureWarning: As the xlwt package is no longer maintained, the xlwt engine will be removed in a future version of pandas. This is the only engine in pandas that supports writing in the xls format. Install openpyxl and write to an xlsx file instead. You can set the option io.excel.xls.writer to 'xlwt' to silence this warning. While this option is deprecated and will also raise a warning, it can be globally set and the warning suppressed.\n",
            "/usr/local/lib/python3.7/dist-packages/ipykernel_launcher.py:83: FutureWarning: As the xlwt package is no longer maintained, the xlwt engine will be removed in a future version of pandas. This is the only engine in pandas that supports writing in the xls format. Install openpyxl and write to an xlsx file instead. You can set the option io.excel.xls.writer to 'xlwt' to silence this warning. While this option is deprecated and will also raise a warning, it can be globally set and the warning suppressed.\n",
            "/usr/local/lib/python3.7/dist-packages/ipykernel_launcher.py:89: FutureWarning: As the xlwt package is no longer maintained, the xlwt engine will be removed in a future version of pandas. This is the only engine in pandas that supports writing in the xls format. Install openpyxl and write to an xlsx file instead. You can set the option io.excel.xls.writer to 'xlwt' to silence this warning. While this option is deprecated and will also raise a warning, it can be globally set and the warning suppressed.\n"
          ]
        }
      ],
      "source": [
        "\n",
        "df5['Date'] = 2016 # Date a ajouter\n",
        "df5[\"Type\"] = \"K\"   # Type du fichier\n",
        "df5.columns = column\n",
        "print(df5.columns)\n",
        "df5.to_excel('/content/' + path5,index=False)\n",
        "#--------------------------------------------------------------------------------------\n",
        "df4['Date'] = 2016 # Date a ajouter\n",
        "df4[\"Type\"] = \"I\"   # Type du fichier\n",
        "df4.columns = column\n",
        "print(df4.columns)\n",
        "df4.to_excel('/content/' + path4,index=False)\n",
        "#--------------------------------------------------------------------------------------\n",
        "df3['Date'] = 2016 # Date a ajouter\n",
        "df3[\"Type\"] = \"C\"   # Type du fichier\n",
        "df3.columns = column\n",
        "print(df3.columns)\n",
        "df3.to_excel('/content/' + path3,index=False)\n",
        "#--------------------------------------------------------------------------------------\n",
        "df2['Date'] = 2015 # Date a ajouter\n",
        "df2[\"Type\"] = \"K\"   # Type du fichier\n",
        "df2.columns = column\n",
        "print(df2.columns)\n",
        "df2.to_excel('/content/' + path2,index=False)\n",
        "#--------------------------------------------------------------------------------------\n",
        "df6['Date'] = 2015 # Date a ajouter\n",
        "df6[\"Type\"] = \"I\"   # Type du fichier\n",
        "df6.columns = column\n",
        "print(df6.columns)\n",
        "df6.to_excel('/content/' + path6,index=False)\n",
        "#--------------------------------------------------------------------------------------\n",
        "df7['Date'] = 2015 # Date a ajouter\n",
        "df7[\"Type\"] = \"N\"   # Type du fichier\n",
        "df7.columns = column\n",
        "print(df7.columns)\n",
        "df7.to_excel('/content/' + path7,index=False)\n",
        "#--------------------------------------------------------------------------------------\n",
        "df8['Date'] = 2014 # Date a ajouter\n",
        "df8[\"Type\"] = \"I\"   # Type du fichier\n",
        "df8.columns = column\n",
        "print(df8.columns)\n",
        "df8.to_excel('/content/' + path8,index=False)\n",
        "#--------------------------------------------------------------------------------------\n",
        "df9['Date'] = 2014 # Date a ajouter\n",
        "df9[\"Type\"] = \"K\"   # Type du fichier\n",
        "df9.columns = column\n",
        "print(df9.columns)\n",
        "df9.to_excel('/content/' + path9,index=False)\n",
        "#--------------------------------------------------------------------------------------\n",
        "df10['Date'] = 2014 # Date a ajouter\n",
        "df10[\"Type\"] = \"N\"   # Type du fichier\n",
        "df10.columns = column\n",
        "print(df10.columns)\n",
        "df10.to_excel('/content/' + path10,index=False)\n",
        "#--------------------------------------------------------------------------------------\n",
        "df11['Date'] = 2013 # Date a ajouter\n",
        "df11[\"Type\"] = \"N\"   # Type du fichier\n",
        "df11.columns = column\n",
        "print(df11.columns)\n",
        "df11.to_excel('/content/' + path11,index=False)\n",
        "#--------------------------------------------------------------------------------------\n",
        "df12['Date'] = 2013 # Date a ajouter\n",
        "df12[\"Type\"] = \"K\"   # Type du fichier\n",
        "df12.columns = column\n",
        "print(df12.columns)\n",
        "df11.to_excel('/content/' + path12,index=False)\n",
        "#--------------------------------------------------------------------------------------\n",
        "df13['Date'] = 2013 # Date a ajouter\n",
        "df13[\"Type\"] = \"I\"   # Type du fichier\n",
        "df13.columns = column\n",
        "print(df13.columns)\n",
        "df13.to_excel('/content/' + path13,index=False)\n",
        "#--------------------------------------------------------------------------------------\n",
        "df14['Date'] = 2012 # Date a ajouter\n",
        "df14[\"Type\"] = \"I\"   # Type du fichier\n",
        "df14.columns = column\n",
        "print(df14.columns)\n",
        "df14.to_excel('/content/' + path14,index=False)\n",
        "#--------------------------------------------------------------------------------------\n",
        "df15['Date'] = 2012 # Date a ajouter\n",
        "df15[\"Type\"] = \"K\"   # Type du fichier\n",
        "df15.columns = column\n",
        "print(df15.columns)\n",
        "df15.to_excel('/content/' + path15,index=False)\n",
        "#--------------------------------------------------------------------------------------\n",
        "df16['Date'] = 2012 # Date a ajouter\n",
        "df16[\"Type\"] = \"N\"   # Type du fichier\n",
        "df16.columns = column\n",
        "print(df16.columns)\n",
        "df16.to_excel('/content/' + path16,index=False)\n",
        "\n"
      ]
    },
    {
      "cell_type": "code",
      "source": [
        "df15.head()"
      ],
      "metadata": {
        "colab": {
          "base_uri": "https://localhost:8080/",
          "height": 617
        },
        "id": "B8CHBNhXoMAv",
        "outputId": "4f60c429-2a15-4c25-cc0b-f557d981e829"
      },
      "execution_count": 23,
      "outputs": [
        {
          "output_type": "execute_result",
          "data": {
            "text/plain": [
              "  Porteur NOM Porteur PRENOM    N° du projet     FINESS  \\\n",
              "0       ANDRE        Thierry  PHRC12-055 (I)  750712184   \n",
              "1       BABIN       Emmanuel      PHRC12-220  140000100   \n",
              "2    BACHELOT         Thomas      PHRC12-089  690000880   \n",
              "3   BARRIERE          Jérôme      PHRC12-024  060000528   \n",
              "4      BAUDIN          Eric       PHRC12-202  940000664   \n",
              "\n",
              "  Nom de l'établissement de santé gestionnaire des fonds           Acronyme  \\\n",
              "0                          ASSISTANCE PUBLIQUE AP-HP               IDEA (I)   \n",
              "1                           CHU COTE DE NACRE - CAEN                  PETAL   \n",
              "2                                 CENTRE LEON BERARD                    NaN   \n",
              "3                          CENTRE ANTOINE LACASSAGNE               PAZOGLIO   \n",
              "4                            INSTITUT GUSTAVE ROUSSY      OCLURANDOM1inpNET   \n",
              "\n",
              "                                     Titre du projet  \\\n",
              "0  Etude clinique IDEA (International Duration Ev...   \n",
              "1  Programme d’Education Thérapeutique visant l’a...   \n",
              "2  Etude multicentrique de phase III en ouvert, é...   \n",
              "3  Etude de phase Ib d’association du pazopanib a...   \n",
              "4  Premier essai thérapeutique de phase 2 randomi...   \n",
              "\n",
              "    Autorisation d'engagement  Date Type  \n",
              "0                    900000.0  2012    K  \n",
              "1                    300000.0  2012    K  \n",
              "2                    902000.0  2012    K  \n",
              "3                    319000.0  2012    K  \n",
              "4                    685000.0  2012    K  "
            ],
            "text/html": [
              "\n",
              "  <div id=\"df-baecc334-1687-4b3a-a20f-b09a22cb1417\">\n",
              "    <div class=\"colab-df-container\">\n",
              "      <div>\n",
              "<style scoped>\n",
              "    .dataframe tbody tr th:only-of-type {\n",
              "        vertical-align: middle;\n",
              "    }\n",
              "\n",
              "    .dataframe tbody tr th {\n",
              "        vertical-align: top;\n",
              "    }\n",
              "\n",
              "    .dataframe thead th {\n",
              "        text-align: right;\n",
              "    }\n",
              "</style>\n",
              "<table border=\"1\" class=\"dataframe\">\n",
              "  <thead>\n",
              "    <tr style=\"text-align: right;\">\n",
              "      <th></th>\n",
              "      <th>Porteur NOM</th>\n",
              "      <th>Porteur PRENOM</th>\n",
              "      <th>N° du projet</th>\n",
              "      <th>FINESS</th>\n",
              "      <th>Nom de l'établissement de santé gestionnaire des fonds</th>\n",
              "      <th>Acronyme</th>\n",
              "      <th>Titre du projet</th>\n",
              "      <th>Autorisation d'engagement</th>\n",
              "      <th>Date</th>\n",
              "      <th>Type</th>\n",
              "    </tr>\n",
              "  </thead>\n",
              "  <tbody>\n",
              "    <tr>\n",
              "      <th>0</th>\n",
              "      <td>ANDRE</td>\n",
              "      <td>Thierry</td>\n",
              "      <td>PHRC12-055 (I)</td>\n",
              "      <td>750712184</td>\n",
              "      <td>ASSISTANCE PUBLIQUE AP-HP</td>\n",
              "      <td>IDEA (I)</td>\n",
              "      <td>Etude clinique IDEA (International Duration Ev...</td>\n",
              "      <td>900000.0</td>\n",
              "      <td>2012</td>\n",
              "      <td>K</td>\n",
              "    </tr>\n",
              "    <tr>\n",
              "      <th>1</th>\n",
              "      <td>BABIN</td>\n",
              "      <td>Emmanuel</td>\n",
              "      <td>PHRC12-220</td>\n",
              "      <td>140000100</td>\n",
              "      <td>CHU COTE DE NACRE - CAEN</td>\n",
              "      <td>PETAL</td>\n",
              "      <td>Programme d’Education Thérapeutique visant l’a...</td>\n",
              "      <td>300000.0</td>\n",
              "      <td>2012</td>\n",
              "      <td>K</td>\n",
              "    </tr>\n",
              "    <tr>\n",
              "      <th>2</th>\n",
              "      <td>BACHELOT</td>\n",
              "      <td>Thomas</td>\n",
              "      <td>PHRC12-089</td>\n",
              "      <td>690000880</td>\n",
              "      <td>CENTRE LEON BERARD</td>\n",
              "      <td>NaN</td>\n",
              "      <td>Etude multicentrique de phase III en ouvert, é...</td>\n",
              "      <td>902000.0</td>\n",
              "      <td>2012</td>\n",
              "      <td>K</td>\n",
              "    </tr>\n",
              "    <tr>\n",
              "      <th>3</th>\n",
              "      <td>BARRIERE</td>\n",
              "      <td>Jérôme</td>\n",
              "      <td>PHRC12-024</td>\n",
              "      <td>060000528</td>\n",
              "      <td>CENTRE ANTOINE LACASSAGNE</td>\n",
              "      <td>PAZOGLIO</td>\n",
              "      <td>Etude de phase Ib d’association du pazopanib a...</td>\n",
              "      <td>319000.0</td>\n",
              "      <td>2012</td>\n",
              "      <td>K</td>\n",
              "    </tr>\n",
              "    <tr>\n",
              "      <th>4</th>\n",
              "      <td>BAUDIN</td>\n",
              "      <td>Eric</td>\n",
              "      <td>PHRC12-202</td>\n",
              "      <td>940000664</td>\n",
              "      <td>INSTITUT GUSTAVE ROUSSY</td>\n",
              "      <td>OCLURANDOM1inpNET</td>\n",
              "      <td>Premier essai thérapeutique de phase 2 randomi...</td>\n",
              "      <td>685000.0</td>\n",
              "      <td>2012</td>\n",
              "      <td>K</td>\n",
              "    </tr>\n",
              "  </tbody>\n",
              "</table>\n",
              "</div>\n",
              "      <button class=\"colab-df-convert\" onclick=\"convertToInteractive('df-baecc334-1687-4b3a-a20f-b09a22cb1417')\"\n",
              "              title=\"Convert this dataframe to an interactive table.\"\n",
              "              style=\"display:none;\">\n",
              "        \n",
              "  <svg xmlns=\"http://www.w3.org/2000/svg\" height=\"24px\"viewBox=\"0 0 24 24\"\n",
              "       width=\"24px\">\n",
              "    <path d=\"M0 0h24v24H0V0z\" fill=\"none\"/>\n",
              "    <path d=\"M18.56 5.44l.94 2.06.94-2.06 2.06-.94-2.06-.94-.94-2.06-.94 2.06-2.06.94zm-11 1L8.5 8.5l.94-2.06 2.06-.94-2.06-.94L8.5 2.5l-.94 2.06-2.06.94zm10 10l.94 2.06.94-2.06 2.06-.94-2.06-.94-.94-2.06-.94 2.06-2.06.94z\"/><path d=\"M17.41 7.96l-1.37-1.37c-.4-.4-.92-.59-1.43-.59-.52 0-1.04.2-1.43.59L10.3 9.45l-7.72 7.72c-.78.78-.78 2.05 0 2.83L4 21.41c.39.39.9.59 1.41.59.51 0 1.02-.2 1.41-.59l7.78-7.78 2.81-2.81c.8-.78.8-2.07 0-2.86zM5.41 20L4 18.59l7.72-7.72 1.47 1.35L5.41 20z\"/>\n",
              "  </svg>\n",
              "      </button>\n",
              "      \n",
              "  <style>\n",
              "    .colab-df-container {\n",
              "      display:flex;\n",
              "      flex-wrap:wrap;\n",
              "      gap: 12px;\n",
              "    }\n",
              "\n",
              "    .colab-df-convert {\n",
              "      background-color: #E8F0FE;\n",
              "      border: none;\n",
              "      border-radius: 50%;\n",
              "      cursor: pointer;\n",
              "      display: none;\n",
              "      fill: #1967D2;\n",
              "      height: 32px;\n",
              "      padding: 0 0 0 0;\n",
              "      width: 32px;\n",
              "    }\n",
              "\n",
              "    .colab-df-convert:hover {\n",
              "      background-color: #E2EBFA;\n",
              "      box-shadow: 0px 1px 2px rgba(60, 64, 67, 0.3), 0px 1px 3px 1px rgba(60, 64, 67, 0.15);\n",
              "      fill: #174EA6;\n",
              "    }\n",
              "\n",
              "    [theme=dark] .colab-df-convert {\n",
              "      background-color: #3B4455;\n",
              "      fill: #D2E3FC;\n",
              "    }\n",
              "\n",
              "    [theme=dark] .colab-df-convert:hover {\n",
              "      background-color: #434B5C;\n",
              "      box-shadow: 0px 1px 3px 1px rgba(0, 0, 0, 0.15);\n",
              "      filter: drop-shadow(0px 1px 2px rgba(0, 0, 0, 0.3));\n",
              "      fill: #FFFFFF;\n",
              "    }\n",
              "  </style>\n",
              "\n",
              "      <script>\n",
              "        const buttonEl =\n",
              "          document.querySelector('#df-baecc334-1687-4b3a-a20f-b09a22cb1417 button.colab-df-convert');\n",
              "        buttonEl.style.display =\n",
              "          google.colab.kernel.accessAllowed ? 'block' : 'none';\n",
              "\n",
              "        async function convertToInteractive(key) {\n",
              "          const element = document.querySelector('#df-baecc334-1687-4b3a-a20f-b09a22cb1417');\n",
              "          const dataTable =\n",
              "            await google.colab.kernel.invokeFunction('convertToInteractive',\n",
              "                                                     [key], {});\n",
              "          if (!dataTable) return;\n",
              "\n",
              "          const docLinkHtml = 'Like what you see? Visit the ' +\n",
              "            '<a target=\"_blank\" href=https://colab.research.google.com/notebooks/data_table.ipynb>data table notebook</a>'\n",
              "            + ' to learn more about interactive tables.';\n",
              "          element.innerHTML = '';\n",
              "          dataTable['output_type'] = 'display_data';\n",
              "          await google.colab.output.renderOutput(dataTable, element);\n",
              "          const docLink = document.createElement('div');\n",
              "          docLink.innerHTML = docLinkHtml;\n",
              "          element.appendChild(docLink);\n",
              "        }\n",
              "      </script>\n",
              "    </div>\n",
              "  </div>\n",
              "  "
            ]
          },
          "metadata": {},
          "execution_count": 23
        }
      ]
    },
    {
      "cell_type": "code",
      "execution_count": 23,
      "metadata": {
        "id": "1dAbwf6NTcxT"
      },
      "outputs": [],
      "source": []
    },
    {
      "cell_type": "code",
      "execution_count": 23,
      "metadata": {
        "id": "i4eN616cTcxT"
      },
      "outputs": [],
      "source": []
    },
    {
      "cell_type": "markdown",
      "metadata": {
        "id": "zawSliDbTcxU"
      },
      "source": [
        "#### Concate ALL"
      ]
    },
    {
      "cell_type": "code",
      "execution_count": 29,
      "metadata": {
        "id": "JOdK1OFxTcxV"
      },
      "outputs": [],
      "source": [
        "import os"
      ]
    },
    {
      "cell_type": "code",
      "source": [
        "%cd /content/"
      ],
      "metadata": {
        "colab": {
          "base_uri": "https://localhost:8080/"
        },
        "id": "W4QJu5QqIZQn",
        "outputId": "de777ee3-4e0a-44f1-acdc-15c427a8b8cd"
      },
      "execution_count": 30,
      "outputs": [
        {
          "output_type": "stream",
          "name": "stdout",
          "text": [
            "/content\n"
          ]
        }
      ]
    },
    {
      "cell_type": "code",
      "execution_count": 31,
      "metadata": {
        "id": "zpL4auDrTcxW"
      },
      "outputs": [],
      "source": [
        "cwd = os.path.abspath('') \n",
        "files = os.listdir(cwd)  "
      ]
    },
    {
      "cell_type": "code",
      "execution_count": 32,
      "metadata": {
        "colab": {
          "base_uri": "https://localhost:8080/"
        },
        "id": "FeniTN8bTcxW",
        "outputId": "7e0ac573-21bd-4fb1-90cb-ffd25ae3eafb"
      },
      "outputs": [
        {
          "output_type": "execute_result",
          "data": {
            "text/plain": [
              "['.config',\n",
              " 'df_IMG_xlsx_resultats_phrcn_2019_mel_v0-2_20200102.xlsx',\n",
              " 'df_IMG_xls_resultats_phrc-k_2014.2.xls',\n",
              " 'df_IMG_xlsx_resultats_phrcn_2018_mel.xlsx',\n",
              " 'df_IMG_xlsx_phrck_20_resultatsselection_v0-0_20210624_mel.xlsx',\n",
              " 'df_IMG_xlsx_resultats_phrck_2018_mel.xlsx',\n",
              " 'df_IMG_xlsx_projets_retenus_phrc-k_2015.xlsx',\n",
              " 'df_IMG_xlsx_dgos_resultats_phrc_i_2017_240718.xlsx',\n",
              " 'df_IMG_xlsx_projets_retenus_phrc-i_2015.xlsx',\n",
              " 'df_IMG_xls_RESULTAT-PHRCI-2012-3.xls',\n",
              " 'df_IMG_xlsx_resultats_phrci_2018_mel.xlsx',\n",
              " 'df_IMG_xlsx_resultats_phrc-n_2017_040118.xlsx',\n",
              " 'df_IMG_xlsx_resultats_phrc-k_2016_mel.xlsx',\n",
              " 'df_IMG_xlsx_Resultats_PHRC-K_2013.xlsx',\n",
              " 'df_IMG_xls_projets_retenus_phrc-n_2015.xls',\n",
              " 'df_IMG_xlsx_Resultats_PHRC-N_2013.xlsx',\n",
              " 'df_IMG_xls_RESULTAT-PHRCN-2012-v2.xls',\n",
              " 'df_IMG_xlsx_Resultats_PHRC-I_2013-1.xlsx',\n",
              " 'df_IMG_xls_Resultats_PHRC-N_2014.xls',\n",
              " 'df_IMG_xlsx_resultats_phrc-i_2016_mel.xlsx',\n",
              " 'df_IMG_xlsx_phrcn_20_resultatsselection_v2-0_20211006_mel.xlsx',\n",
              " 'df_IMG_xlsx_resultats_phrci_2019_mel_v0-1_20200929.xlsx',\n",
              " 'Data',\n",
              " 'df_IMG_xlsx_resultats_phrc-k_2017_040118.xlsx',\n",
              " 'df_IMG_xlsx_resultats_phrc-k_2019_mel_v0-2_20200205.xlsx',\n",
              " 'df_IMG_xls_RESULTAT-PHRCK-2012-2.xls',\n",
              " 'df_IMG_xlsx_resultats_phrc_2016_mel.xlsx',\n",
              " 'df_IMG_xls_Projets_retenus_PHRC-I_2014.xls',\n",
              " 'sample_data']"
            ]
          },
          "metadata": {},
          "execution_count": 32
        }
      ],
      "source": [
        "files"
      ]
    },
    {
      "cell_type": "code",
      "execution_count": 33,
      "metadata": {
        "id": "hojeAUQRTcxY"
      },
      "outputs": [],
      "source": [
        "df_f = pd.DataFrame()\n",
        "for file in files:\n",
        "  if file.endswith('.xlsx'):\n",
        "   df = pd.concat(pd.read_excel(file, sheet_name=None), sort=False,axis=1)\n",
        "   df_f = df_f.append(df, ignore_index=True)\n",
        "  if file.endswith('.xls'):\n",
        "   df = pd.concat(pd.read_excel(file, sheet_name=None), sort=False,axis=1)\n",
        "   df_f = df_f.append(df, ignore_index=True)"
      ]
    },
    {
      "cell_type": "code",
      "execution_count": 34,
      "metadata": {
        "id": "45u3hnQsTcxY"
      },
      "outputs": [],
      "source": [
        "df_f.columns = column"
      ]
    },
    {
      "cell_type": "code",
      "source": [
        "df_f"
      ],
      "metadata": {
        "colab": {
          "base_uri": "https://localhost:8080/",
          "height": 1000
        },
        "id": "xbcLOmEulPNB",
        "outputId": "fbbd3577-2e31-45fd-89f1-599a47757c83"
      },
      "execution_count": 35,
      "outputs": [
        {
          "output_type": "execute_result",
          "data": {
            "text/plain": [
              "         Porteur NOM   Porteur PRENOM  N° du projet       FINESS  \\\n",
              "0              ADNET         Frédéric  PHRC-19-0155  750712184.0   \n",
              "1          ALEXANDRE          Joachim  PHRC-19-0091  140000100.0   \n",
              "2             ANNANE         Djillali  PHRC-19-0179  750712184.0   \n",
              "3     BARDOU-JACQUET          Edouard  PHRC-19-0303  350005179.0   \n",
              "4             BAUDRY        Guillaume  PHRC-19-0253  690781810.0   \n",
              "...              ...              ...           ...          ...   \n",
              "2036          VAMECQ           Joseph        14-079    590780193   \n",
              "2037         VENHARD  Jean-Christophe        14-051    370000481   \n",
              "2038         VIGNAL       Jean-Pierre        14-018    540002078   \n",
              "2039    WOJTUSCISZYN             Anne        14-058    340780477   \n",
              "2040          ZAMBON          Olivier        14-048    440000289   \n",
              "\n",
              "     Nom de l'établissement de santé gestionnaire des fonds   Acronyme  \\\n",
              "0                                                 AP-HP           NICO   \n",
              "1                                              CHU CAEN        SPONSoR   \n",
              "2                                                 AP-HP          LOVIT   \n",
              "3                                            CHU RENNES      Quali-SAT   \n",
              "4                                                   HCL       AMBU-VAD   \n",
              "...                                                 ...            ...   \n",
              "2036                                         CHRU LILLE       PEROXY4G   \n",
              "2037                                      CHRU DE TOURS        RenoMaP   \n",
              "2038                                       CHU DE NANCY         COMETE   \n",
              "2039                                    CHU MONTPELLIER       PREMIGIL   \n",
              "2040                                      CHU DE NANTES       PROTRACH   \n",
              "\n",
              "                                        Titre du projet  \\\n",
              "0     Prise en charge non invasive des voies aérienn...   \n",
              "1     SPironolactONe et maintien du Rythme Sinusal c...   \n",
              "2     Etude multicentrique, randomisée en double ins...   \n",
              "3     Impact sur la qualité de vie de la prise en co...   \n",
              "4     Assistance ventriculaire gauche versus traitem...   \n",
              "...                                                 ...   \n",
              "2036  Evaluation d'une nouvelle stratégie du diagnos...   \n",
              "2037  Comparaison de deux techniques de perfusion ré...   \n",
              "2038  Efficacité d’un programme de remédiation cogni...   \n",
              "2039  Preuve de concept de l’effet d’un prétraitemen...   \n",
              "2040  Etude prospective, multicentrique, randomisée,...   \n",
              "\n",
              "      Autorisation d'engagement  Date Type  \n",
              "0                      390972.0  2019    N  \n",
              "1                      972536.0  2019    N  \n",
              "2                      995807.0  2019    N  \n",
              "3                      499576.0  2019    N  \n",
              "4                      516110.0  2019    N  \n",
              "...                         ...   ...  ...  \n",
              "2036                     296535  2014    I  \n",
              "2037                     220194  2014    I  \n",
              "2038                     242968  2014    I  \n",
              "2039                     299668  2014    I  \n",
              "2040                     116144  2014    I  \n",
              "\n",
              "[2041 rows x 10 columns]"
            ],
            "text/html": [
              "\n",
              "  <div id=\"df-c7f779a9-a336-42d1-8a2a-f5898d19f631\">\n",
              "    <div class=\"colab-df-container\">\n",
              "      <div>\n",
              "<style scoped>\n",
              "    .dataframe tbody tr th:only-of-type {\n",
              "        vertical-align: middle;\n",
              "    }\n",
              "\n",
              "    .dataframe tbody tr th {\n",
              "        vertical-align: top;\n",
              "    }\n",
              "\n",
              "    .dataframe thead th {\n",
              "        text-align: right;\n",
              "    }\n",
              "</style>\n",
              "<table border=\"1\" class=\"dataframe\">\n",
              "  <thead>\n",
              "    <tr style=\"text-align: right;\">\n",
              "      <th></th>\n",
              "      <th>Porteur NOM</th>\n",
              "      <th>Porteur PRENOM</th>\n",
              "      <th>N° du projet</th>\n",
              "      <th>FINESS</th>\n",
              "      <th>Nom de l'établissement de santé gestionnaire des fonds</th>\n",
              "      <th>Acronyme</th>\n",
              "      <th>Titre du projet</th>\n",
              "      <th>Autorisation d'engagement</th>\n",
              "      <th>Date</th>\n",
              "      <th>Type</th>\n",
              "    </tr>\n",
              "  </thead>\n",
              "  <tbody>\n",
              "    <tr>\n",
              "      <th>0</th>\n",
              "      <td>ADNET</td>\n",
              "      <td>Frédéric</td>\n",
              "      <td>PHRC-19-0155</td>\n",
              "      <td>750712184.0</td>\n",
              "      <td>AP-HP</td>\n",
              "      <td>NICO</td>\n",
              "      <td>Prise en charge non invasive des voies aérienn...</td>\n",
              "      <td>390972.0</td>\n",
              "      <td>2019</td>\n",
              "      <td>N</td>\n",
              "    </tr>\n",
              "    <tr>\n",
              "      <th>1</th>\n",
              "      <td>ALEXANDRE</td>\n",
              "      <td>Joachim</td>\n",
              "      <td>PHRC-19-0091</td>\n",
              "      <td>140000100.0</td>\n",
              "      <td>CHU CAEN</td>\n",
              "      <td>SPONSoR</td>\n",
              "      <td>SPironolactONe et maintien du Rythme Sinusal c...</td>\n",
              "      <td>972536.0</td>\n",
              "      <td>2019</td>\n",
              "      <td>N</td>\n",
              "    </tr>\n",
              "    <tr>\n",
              "      <th>2</th>\n",
              "      <td>ANNANE</td>\n",
              "      <td>Djillali</td>\n",
              "      <td>PHRC-19-0179</td>\n",
              "      <td>750712184.0</td>\n",
              "      <td>AP-HP</td>\n",
              "      <td>LOVIT</td>\n",
              "      <td>Etude multicentrique, randomisée en double ins...</td>\n",
              "      <td>995807.0</td>\n",
              "      <td>2019</td>\n",
              "      <td>N</td>\n",
              "    </tr>\n",
              "    <tr>\n",
              "      <th>3</th>\n",
              "      <td>BARDOU-JACQUET</td>\n",
              "      <td>Edouard</td>\n",
              "      <td>PHRC-19-0303</td>\n",
              "      <td>350005179.0</td>\n",
              "      <td>CHU RENNES</td>\n",
              "      <td>Quali-SAT</td>\n",
              "      <td>Impact sur la qualité de vie de la prise en co...</td>\n",
              "      <td>499576.0</td>\n",
              "      <td>2019</td>\n",
              "      <td>N</td>\n",
              "    </tr>\n",
              "    <tr>\n",
              "      <th>4</th>\n",
              "      <td>BAUDRY</td>\n",
              "      <td>Guillaume</td>\n",
              "      <td>PHRC-19-0253</td>\n",
              "      <td>690781810.0</td>\n",
              "      <td>HCL</td>\n",
              "      <td>AMBU-VAD</td>\n",
              "      <td>Assistance ventriculaire gauche versus traitem...</td>\n",
              "      <td>516110.0</td>\n",
              "      <td>2019</td>\n",
              "      <td>N</td>\n",
              "    </tr>\n",
              "    <tr>\n",
              "      <th>...</th>\n",
              "      <td>...</td>\n",
              "      <td>...</td>\n",
              "      <td>...</td>\n",
              "      <td>...</td>\n",
              "      <td>...</td>\n",
              "      <td>...</td>\n",
              "      <td>...</td>\n",
              "      <td>...</td>\n",
              "      <td>...</td>\n",
              "      <td>...</td>\n",
              "    </tr>\n",
              "    <tr>\n",
              "      <th>2036</th>\n",
              "      <td>VAMECQ</td>\n",
              "      <td>Joseph</td>\n",
              "      <td>14-079</td>\n",
              "      <td>590780193</td>\n",
              "      <td>CHRU LILLE</td>\n",
              "      <td>PEROXY4G</td>\n",
              "      <td>Evaluation d'une nouvelle stratégie du diagnos...</td>\n",
              "      <td>296535</td>\n",
              "      <td>2014</td>\n",
              "      <td>I</td>\n",
              "    </tr>\n",
              "    <tr>\n",
              "      <th>2037</th>\n",
              "      <td>VENHARD</td>\n",
              "      <td>Jean-Christophe</td>\n",
              "      <td>14-051</td>\n",
              "      <td>370000481</td>\n",
              "      <td>CHRU DE TOURS</td>\n",
              "      <td>RenoMaP</td>\n",
              "      <td>Comparaison de deux techniques de perfusion ré...</td>\n",
              "      <td>220194</td>\n",
              "      <td>2014</td>\n",
              "      <td>I</td>\n",
              "    </tr>\n",
              "    <tr>\n",
              "      <th>2038</th>\n",
              "      <td>VIGNAL</td>\n",
              "      <td>Jean-Pierre</td>\n",
              "      <td>14-018</td>\n",
              "      <td>540002078</td>\n",
              "      <td>CHU DE NANCY</td>\n",
              "      <td>COMETE</td>\n",
              "      <td>Efficacité d’un programme de remédiation cogni...</td>\n",
              "      <td>242968</td>\n",
              "      <td>2014</td>\n",
              "      <td>I</td>\n",
              "    </tr>\n",
              "    <tr>\n",
              "      <th>2039</th>\n",
              "      <td>WOJTUSCISZYN</td>\n",
              "      <td>Anne</td>\n",
              "      <td>14-058</td>\n",
              "      <td>340780477</td>\n",
              "      <td>CHU MONTPELLIER</td>\n",
              "      <td>PREMIGIL</td>\n",
              "      <td>Preuve de concept de l’effet d’un prétraitemen...</td>\n",
              "      <td>299668</td>\n",
              "      <td>2014</td>\n",
              "      <td>I</td>\n",
              "    </tr>\n",
              "    <tr>\n",
              "      <th>2040</th>\n",
              "      <td>ZAMBON</td>\n",
              "      <td>Olivier</td>\n",
              "      <td>14-048</td>\n",
              "      <td>440000289</td>\n",
              "      <td>CHU DE NANTES</td>\n",
              "      <td>PROTRACH</td>\n",
              "      <td>Etude prospective, multicentrique, randomisée,...</td>\n",
              "      <td>116144</td>\n",
              "      <td>2014</td>\n",
              "      <td>I</td>\n",
              "    </tr>\n",
              "  </tbody>\n",
              "</table>\n",
              "<p>2041 rows × 10 columns</p>\n",
              "</div>\n",
              "      <button class=\"colab-df-convert\" onclick=\"convertToInteractive('df-c7f779a9-a336-42d1-8a2a-f5898d19f631')\"\n",
              "              title=\"Convert this dataframe to an interactive table.\"\n",
              "              style=\"display:none;\">\n",
              "        \n",
              "  <svg xmlns=\"http://www.w3.org/2000/svg\" height=\"24px\"viewBox=\"0 0 24 24\"\n",
              "       width=\"24px\">\n",
              "    <path d=\"M0 0h24v24H0V0z\" fill=\"none\"/>\n",
              "    <path d=\"M18.56 5.44l.94 2.06.94-2.06 2.06-.94-2.06-.94-.94-2.06-.94 2.06-2.06.94zm-11 1L8.5 8.5l.94-2.06 2.06-.94-2.06-.94L8.5 2.5l-.94 2.06-2.06.94zm10 10l.94 2.06.94-2.06 2.06-.94-2.06-.94-.94-2.06-.94 2.06-2.06.94z\"/><path d=\"M17.41 7.96l-1.37-1.37c-.4-.4-.92-.59-1.43-.59-.52 0-1.04.2-1.43.59L10.3 9.45l-7.72 7.72c-.78.78-.78 2.05 0 2.83L4 21.41c.39.39.9.59 1.41.59.51 0 1.02-.2 1.41-.59l7.78-7.78 2.81-2.81c.8-.78.8-2.07 0-2.86zM5.41 20L4 18.59l7.72-7.72 1.47 1.35L5.41 20z\"/>\n",
              "  </svg>\n",
              "      </button>\n",
              "      \n",
              "  <style>\n",
              "    .colab-df-container {\n",
              "      display:flex;\n",
              "      flex-wrap:wrap;\n",
              "      gap: 12px;\n",
              "    }\n",
              "\n",
              "    .colab-df-convert {\n",
              "      background-color: #E8F0FE;\n",
              "      border: none;\n",
              "      border-radius: 50%;\n",
              "      cursor: pointer;\n",
              "      display: none;\n",
              "      fill: #1967D2;\n",
              "      height: 32px;\n",
              "      padding: 0 0 0 0;\n",
              "      width: 32px;\n",
              "    }\n",
              "\n",
              "    .colab-df-convert:hover {\n",
              "      background-color: #E2EBFA;\n",
              "      box-shadow: 0px 1px 2px rgba(60, 64, 67, 0.3), 0px 1px 3px 1px rgba(60, 64, 67, 0.15);\n",
              "      fill: #174EA6;\n",
              "    }\n",
              "\n",
              "    [theme=dark] .colab-df-convert {\n",
              "      background-color: #3B4455;\n",
              "      fill: #D2E3FC;\n",
              "    }\n",
              "\n",
              "    [theme=dark] .colab-df-convert:hover {\n",
              "      background-color: #434B5C;\n",
              "      box-shadow: 0px 1px 3px 1px rgba(0, 0, 0, 0.15);\n",
              "      filter: drop-shadow(0px 1px 2px rgba(0, 0, 0, 0.3));\n",
              "      fill: #FFFFFF;\n",
              "    }\n",
              "  </style>\n",
              "\n",
              "      <script>\n",
              "        const buttonEl =\n",
              "          document.querySelector('#df-c7f779a9-a336-42d1-8a2a-f5898d19f631 button.colab-df-convert');\n",
              "        buttonEl.style.display =\n",
              "          google.colab.kernel.accessAllowed ? 'block' : 'none';\n",
              "\n",
              "        async function convertToInteractive(key) {\n",
              "          const element = document.querySelector('#df-c7f779a9-a336-42d1-8a2a-f5898d19f631');\n",
              "          const dataTable =\n",
              "            await google.colab.kernel.invokeFunction('convertToInteractive',\n",
              "                                                     [key], {});\n",
              "          if (!dataTable) return;\n",
              "\n",
              "          const docLinkHtml = 'Like what you see? Visit the ' +\n",
              "            '<a target=\"_blank\" href=https://colab.research.google.com/notebooks/data_table.ipynb>data table notebook</a>'\n",
              "            + ' to learn more about interactive tables.';\n",
              "          element.innerHTML = '';\n",
              "          dataTable['output_type'] = 'display_data';\n",
              "          await google.colab.output.renderOutput(dataTable, element);\n",
              "          const docLink = document.createElement('div');\n",
              "          docLink.innerHTML = docLinkHtml;\n",
              "          element.appendChild(docLink);\n",
              "        }\n",
              "      </script>\n",
              "    </div>\n",
              "  </div>\n",
              "  "
            ]
          },
          "metadata": {},
          "execution_count": 35
        }
      ]
    },
    {
      "cell_type": "code",
      "source": [
        "df_f['Date'].unique()"
      ],
      "metadata": {
        "colab": {
          "base_uri": "https://localhost:8080/"
        },
        "id": "S8W83XBmj40E",
        "outputId": "70aa3ef8-8413-4f71-edbe-264fecdc2b59"
      },
      "execution_count": 36,
      "outputs": [
        {
          "output_type": "execute_result",
          "data": {
            "text/plain": [
              "array([2019, 2014, 2018, 2020, 2015, 2017, 2012, 2016, 2013])"
            ]
          },
          "metadata": {},
          "execution_count": 36
        }
      ]
    },
    {
      "cell_type": "code",
      "execution_count": null,
      "metadata": {
        "id": "YDqP96fiTcxY"
      },
      "outputs": [],
      "source": [
        "\n"
      ]
    },
    {
      "cell_type": "code",
      "execution_count": null,
      "metadata": {
        "id": "6ON-H2_kTcxY"
      },
      "outputs": [],
      "source": []
    },
    {
      "cell_type": "code",
      "execution_count": null,
      "metadata": {
        "id": "hzlIN0xjTcxY"
      },
      "outputs": [],
      "source": []
    }
  ],
  "metadata": {
    "colab": {
      "collapsed_sections": [],
      "provenance": [],
      "include_colab_link": true
    },
    "kernelspec": {
      "display_name": "Python 3 (ipykernel)",
      "language": "python",
      "name": "python3"
    },
    "language_info": {
      "codemirror_mode": {
        "name": "ipython",
        "version": 3
      },
      "file_extension": ".py",
      "mimetype": "text/x-python",
      "name": "python",
      "nbconvert_exporter": "python",
      "pygments_lexer": "ipython3",
      "version": "3.8.13"
    }
  },
  "nbformat": 4,
  "nbformat_minor": 0
}