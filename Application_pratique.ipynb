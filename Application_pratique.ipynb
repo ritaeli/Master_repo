{
  "cells": [
    {
      "cell_type": "markdown",
      "metadata": {
        "id": "view-in-github",
        "colab_type": "text"
      },
      "source": [
        "<a href=\"https://colab.research.google.com/github/Murat-Simsek/Master_repo/blob/main/Application_pratique.ipynb\" target=\"_parent\"><img src=\"https://colab.research.google.com/assets/colab-badge.svg\" alt=\"Open In Colab\"/></a>"
      ]
    },
    {
      "cell_type": "markdown",
      "source": [
        "### Download of Data"
      ],
      "metadata": {
        "id": "lbBGTnaNxaJz"
      }
    },
    {
      "cell_type": "code",
      "execution_count": 1,
      "metadata": {
        "id": "Prb1WMns4rDc"
      },
      "outputs": [],
      "source": [
        "import pandas as pd"
      ]
    },
    {
      "cell_type": "code",
      "execution_count": 2,
      "metadata": {
        "id": "dO7me3ckd5dL"
      },
      "outputs": [],
      "source": [
        "# import necessary libraries\n",
        "from bs4 import BeautifulSoup\n",
        "import requests\n",
        "import re\n",
        "\n",
        "\n",
        "# function to extract html document from given url\n",
        "def getHTMLdocument(url):\n",
        "\t\n",
        "\t# request for HTML document of given url\n",
        "\tresponse = requests.get(url)\n",
        "\t\n",
        "\t# response will be provided in JSON format\n",
        "\treturn response.text\n",
        "\n",
        "\t\n",
        "# assign required credentials\n",
        "# assign URL\n",
        "url_to_scrape = \"https://solidarites-sante.gouv.fr/systeme-de-sante-et-medico-social/innovation-et-recherche/l-innovation-et-la-recherche-clinique/appels-a-projets/article/les-projets-retenus\"\n",
        "\n",
        "# create document\n",
        "html_document = getHTMLdocument(url_to_scrape)\n",
        "\n",
        "# create soap object\n",
        "soup = BeautifulSoup(html_document, 'html.parser')\n",
        "\n",
        "links = []\n",
        "# find all the anchor tags with \"href\"\n",
        "# attribute starting with \"https://\"\n",
        "for link in soup.find_all('a',\n",
        "\t\t\t\t\t\tattrs={'href': re.compile(\"IMG/xls/\")}):\n",
        "            links.append(link.get('href'))\n",
        "for link in soup.find_all('a',\n",
        "\t\t\t\t\t\tattrs={'href': re.compile(\"IMG/xlsx/\")}):\n",
        "            links.append(link.get('href'))\n",
        "\t\n",
        "\t\n",
        "  \n",
        " "
      ]
    },
    {
      "cell_type": "code",
      "execution_count": 3,
      "metadata": {
        "colab": {
          "base_uri": "https://localhost:8080/"
        },
        "id": "hr34Tcyqew7m",
        "outputId": "a5e45711-9766-4384-80e9-42f4085be98e"
      },
      "outputs": [
        {
          "output_type": "execute_result",
          "data": {
            "text/plain": [
              "['IMG/xls/resultats_prtk_2014.xls',\n",
              " 'IMG/xls/resultat-prts-2014.xls',\n",
              " 'IMG/xls/projets_retenus_phrc-n_2015.xls',\n",
              " 'IMG/xls/Resultats_PHRC-N_2014.xls',\n",
              " 'IMG/xls/resultats_phrc-k_2014.2.xls']"
            ]
          },
          "metadata": {},
          "execution_count": 3
        }
      ],
      "source": [
        "links[:5]"
      ]
    },
    {
      "cell_type": "code",
      "execution_count": 4,
      "metadata": {
        "id": "BK5vQN8SEFYB"
      },
      "outputs": [],
      "source": [
        "l = [l for l in links if \"PHRC\" in l] + [l for l in links if \"phrc\" in l]"
      ]
    },
    {
      "cell_type": "code",
      "execution_count": 5,
      "metadata": {
        "colab": {
          "base_uri": "https://localhost:8080/"
        },
        "id": "-qQpKPFIELgS",
        "outputId": "fe2e2293-d94b-4535-b59f-757b0651403d"
      },
      "outputs": [
        {
          "output_type": "execute_result",
          "data": {
            "text/plain": [
              "27"
            ]
          },
          "metadata": {},
          "execution_count": 5
        }
      ],
      "source": [
        "len(l) # Links researched in the site"
      ]
    },
    {
      "cell_type": "code",
      "execution_count": 6,
      "metadata": {
        "colab": {
          "base_uri": "https://localhost:8080/"
        },
        "id": "0L0VqXQxqMcZ",
        "outputId": "992cdfb4-64cb-4ec9-d221-311be09e9a9b"
      },
      "outputs": [
        {
          "output_type": "stream",
          "name": "stdout",
          "text": [
            "Looking in indexes: https://pypi.org/simple, https://us-python.pkg.dev/colab-wheels/public/simple/\n",
            "Requirement already satisfied: xlrd in /usr/local/lib/python3.7/dist-packages (1.1.0)\n",
            "Collecting xlrd\n",
            "  Downloading xlrd-2.0.1-py2.py3-none-any.whl (96 kB)\n",
            "\u001b[K     |████████████████████████████████| 96 kB 6.6 MB/s \n",
            "\u001b[?25hInstalling collected packages: xlrd\n",
            "  Attempting uninstall: xlrd\n",
            "    Found existing installation: xlrd 1.1.0\n",
            "    Uninstalling xlrd-1.1.0:\n",
            "      Successfully uninstalled xlrd-1.1.0\n",
            "Successfully installed xlrd-2.0.1\n"
          ]
        }
      ],
      "source": [
        "pip install --upgrade xlrd"
      ]
    },
    {
      "cell_type": "code",
      "execution_count": 7,
      "metadata": {
        "id": "CeuFeFp5X38Q"
      },
      "outputs": [],
      "source": [
        "import requests\n",
        "import pandas as pd\n",
        "url = 'https://solidarites-sante.gouv.fr/IMG/xlsx/prts_21_resultatsselection_v2-1_20211004_mel.xlsx'\n",
        "#r = requests.get(url)\n",
        "#open('temp.xls', 'wb').write(r.content)\n",
        "#df = pd.read_excel('temp.xls')"
      ]
    },
    {
      "cell_type": "code",
      "execution_count": 8,
      "metadata": {
        "id": "AApcgBJAslU0"
      },
      "outputs": [],
      "source": [
        "comp_links = []\n",
        "for complet_link in l:\n",
        "  complet_link = 'https://solidarites-sante.gouv.fr/' + complet_link\n",
        "  comp_links.append(complet_link)"
      ]
    },
    {
      "cell_type": "code",
      "execution_count": 9,
      "metadata": {
        "colab": {
          "base_uri": "https://localhost:8080/"
        },
        "id": "WyTdapSdtMNJ",
        "outputId": "2af0e2fc-6457-43ca-ce5f-62f9a546a7aa"
      },
      "outputs": [
        {
          "output_type": "execute_result",
          "data": {
            "text/plain": [
              "['https://solidarites-sante.gouv.fr/IMG/xls/Resultats_PHRC-N_2014.xls',\n",
              " 'https://solidarites-sante.gouv.fr/IMG/xls/Projets_retenus_PHRC-I_2014.xls',\n",
              " 'https://solidarites-sante.gouv.fr/IMG/xls/RESULTAT-PHRCN-2012-v2.xls',\n",
              " 'https://solidarites-sante.gouv.fr/IMG/xls/RESULTAT-PHRCK-2012-2.xls',\n",
              " 'https://solidarites-sante.gouv.fr/IMG/xls/RESULTAT-PHRCI-2012-3.xls']"
            ]
          },
          "metadata": {},
          "execution_count": 9
        }
      ],
      "source": [
        "comp_links[0:5]"
      ]
    },
    {
      "cell_type": "code",
      "execution_count": 10,
      "metadata": {
        "id": "6p99L4uZzhTa"
      },
      "outputs": [],
      "source": [
        "df = []\n",
        "for d in l:\n",
        "  dfs = 'df_' + d #can add directory for files\n",
        "  df.append(dfs)"
      ]
    },
    {
      "cell_type": "code",
      "execution_count": 11,
      "metadata": {
        "id": "uHV2SM-t2qzZ"
      },
      "outputs": [],
      "source": [
        "df = list(map(lambda x: x.replace('/', '_'), df)) # removing all the annoying / that disturb the for loop"
      ]
    },
    {
      "cell_type": "code",
      "execution_count": 12,
      "metadata": {
        "colab": {
          "base_uri": "https://localhost:8080/"
        },
        "id": "a_jWm031mszN",
        "outputId": "328e0bd1-480c-43ee-bd5c-4f1a95d6ad3c"
      },
      "outputs": [
        {
          "output_type": "execute_result",
          "data": {
            "text/plain": [
              "['df_IMG_xls_Resultats_PHRC-N_2014.xls',\n",
              " 'df_IMG_xls_Projets_retenus_PHRC-I_2014.xls',\n",
              " 'df_IMG_xls_RESULTAT-PHRCN-2012-v2.xls',\n",
              " 'df_IMG_xls_RESULTAT-PHRCK-2012-2.xls',\n",
              " 'df_IMG_xls_RESULTAT-PHRCI-2012-3.xls']"
            ]
          },
          "metadata": {},
          "execution_count": 12
        }
      ],
      "source": [
        "df[:5]"
      ]
    },
    {
      "cell_type": "code",
      "source": [
        "!mkdir Data # create folders\n",
        "%cd Data"
      ],
      "metadata": {
        "colab": {
          "base_uri": "https://localhost:8080/"
        },
        "id": "QCtlJdG66w5v",
        "outputId": "c228fdd7-5fe8-4b83-eacd-a01bd72e13c0"
      },
      "execution_count": 13,
      "outputs": [
        {
          "output_type": "stream",
          "name": "stdout",
          "text": [
            "/content/Data\n"
          ]
        }
      ]
    },
    {
      "cell_type": "code",
      "execution_count": 14,
      "metadata": {
        "id": "4kchZY-xqYTP"
      },
      "outputs": [],
      "source": [
        "from numpy.lib.npyio import save\n",
        "from requests.api import request\n",
        "\n",
        "for d,i in zip(comp_links,df):  # for loop to request and save the files with their names in df and link in comp_links\n",
        "    r = requests.get(d)\n",
        "    open(i , 'wb').write(r.content)\n",
        "    df1 = pd.read_excel(i)"
      ]
    },
    {
      "cell_type": "code",
      "execution_count": 14,
      "metadata": {
        "id": "TL6UvNlpwbWW"
      },
      "outputs": [],
      "source": []
    },
    {
      "cell_type": "code",
      "execution_count": 14,
      "metadata": {
        "id": "q8v22gqpruCW"
      },
      "outputs": [],
      "source": []
    },
    {
      "cell_type": "markdown",
      "source": [
        "###  Modification of data columns"
      ],
      "metadata": {
        "id": "Ajql90j9xQ-3"
      }
    },
    {
      "cell_type": "code",
      "source": [
        "column = ['Porteur NOM',\n",
        "       'Porteur PRENOM',\n",
        "       'N° du projet', \n",
        "       'FINESS',\n",
        "       \"Nom de l'établissement de santé gestionnaire des fonds\", \n",
        "       'Acronyme',\n",
        "       'Titre du projet', \n",
        "       \" Autorisation d'engagement\",'Date','Type']"
      ],
      "metadata": {
        "id": "jdyJ7eF70_m5"
      },
      "execution_count": 15,
      "outputs": []
    },
    {
      "cell_type": "markdown",
      "source": [
        "#### 2020-2017"
      ],
      "metadata": {
        "id": "C1JO8M6pokuP"
      }
    },
    {
      "cell_type": "code",
      "source": [
        "dict_colmns_date = {\n",
        "    \"df_IMG_xlsx_phrcn_20_resultatsselection_v2-0_20211006_mel.xlsx\":2020,\n",
        "    \"df_IMG_xlsx_phrck_20_resultatsselection_v0-0_20210624_mel.xlsx\":2020,\n",
        "    #\"df_IMG_xlsx_phrcn_21_resultatsselection_v0-0_20220713_mel.xlsx\":2021,\n",
        "    \"df_IMG_xlsx_resultats_phrcn_2019_mel_v0-2_20200102.xlsx\":2019,\n",
        "    \"df_IMG_xlsx_resultats_phrc-k_2019_mel_v0-2_20200205.xlsx\":2019,\n",
        "    \"df_IMG_xlsx_resultats_phrci_2019_mel_v0-1_20200929.xlsx\":2019,\n",
        "    \"df_IMG_xlsx_resultats_phrcn_2018_mel.xlsx\":2018,\n",
        "    \"df_IMG_xlsx_resultats_phrck_2018_mel.xlsx\":2018,\n",
        "    \"df_IMG_xlsx_resultats_phrci_2018_mel.xlsx\":2018,\n",
        "    \"df_IMG_xlsx_resultats_phrc-n_2017_040118.xlsx\":2017,\n",
        "    \"df_IMG_xlsx_resultats_phrc-k_2017_040118.xlsx\":2017,\n",
        "    \"df_IMG_xlsx_dgos_resultats_phrc_i_2017_240718.xlsx\":2017,\n",
        "    \n",
        "\n",
        "}\n",
        "\n",
        "# -------------------------------------------------\n",
        "dict_colmns_type = {\n",
        "    \"df_IMG_xlsx_phrcn_20_resultatsselection_v2-0_20211006_mel.xlsx\":\"N\",\n",
        "    \"df_IMG_xlsx_phrck_20_resultatsselection_v0-0_20210624_mel.xlsx\":\"K\",\n",
        "   # \"df_IMG_xlsx_phrcn_21_resultatsselection_v0-0_20220713_mel.xlsx\":\"N\",\n",
        "    \"df_IMG_xlsx_resultats_phrcn_2019_mel_v0-2_20200102.xlsx\":\"N\",\n",
        "    \"df_IMG_xlsx_resultats_phrc-k_2019_mel_v0-2_20200205.xlsx\":\"K\",\n",
        "    \"df_IMG_xlsx_resultats_phrci_2019_mel_v0-1_20200929.xlsx\":\"I\",\n",
        "    \"df_IMG_xlsx_resultats_phrcn_2018_mel.xlsx\":\"N\",\n",
        "    \"df_IMG_xlsx_resultats_phrck_2018_mel.xlsx\":\"K\",\n",
        "    \"df_IMG_xlsx_resultats_phrci_2018_mel.xlsx\":\"I\",\n",
        "    \"df_IMG_xlsx_resultats_phrc-n_2017_040118.xlsx\":\"N\",\n",
        "    \"df_IMG_xlsx_resultats_phrc-k_2017_040118.xlsx\":\"K\",\n",
        "    \"df_IMG_xlsx_dgos_resultats_phrc_i_2017_240718.xlsx\":\"I\"\n",
        "\n",
        "\n",
        "}"
      ],
      "metadata": {
        "id": "uAw5dYoHcJdX"
      },
      "execution_count": 16,
      "outputs": []
    },
    {
      "cell_type": "code",
      "source": [
        "for d,t in zip(dict_colmns_date,dict_colmns_type):\n",
        "  path = d\n",
        "  df_1 = pd.read_excel(path)\n",
        "  print(f\"{d}--------------------------\")\n",
        "  print(len(df_1.columns))\n",
        "  print(df_1.columns)\n",
        "  df_1['Date'] = dict_colmns_date[d] # Date a ajouter\n",
        "  df_1[\"Type\"] = dict_colmns_type[t]   # Type du fichier\n",
        "  df_1.columns = column\n",
        "  print(df_1.columns)\n",
        "  df_1.to_excel('/content/' + path,index=False)"
      ],
      "metadata": {
        "colab": {
          "base_uri": "https://localhost:8080/"
        },
        "id": "DgOTz-okdUhd",
        "outputId": "dbdbdc9a-9b44-44a8-c281-c321e994c85a"
      },
      "execution_count": 17,
      "outputs": [
        {
          "output_type": "stream",
          "name": "stdout",
          "text": [
            "df_IMG_xlsx_phrcn_20_resultatsselection_v2-0_20211006_mel.xlsx--------------------------\n",
            "8\n",
            "Index(['Porteur de projet / Investigateur\\ncoordonnateur\\nNOM',\n",
            "       'Porteur de projet / Investigateur\\ncoordonnateur\\nPRENOM',\n",
            "       'N° du projet', 'FINESS',\n",
            "       'Nom de l'établissement de santé gestionnaire des fonds', 'Acronyme',\n",
            "       'Titre du projet ', 'Autorisation d'engagement (AE)'],\n",
            "      dtype='object')\n",
            "Index(['Porteur NOM', 'Porteur PRENOM', 'N° du projet', 'FINESS',\n",
            "       'Nom de l'établissement de santé gestionnaire des fonds', 'Acronyme',\n",
            "       'Titre du projet', ' Autorisation d'engagement', 'Date', 'Type'],\n",
            "      dtype='object')\n",
            "df_IMG_xlsx_phrck_20_resultatsselection_v0-0_20210624_mel.xlsx--------------------------\n",
            "8\n",
            "Index(['Porteur de projet /  Investigateur coordonnateur\\nNOM',\n",
            "       'Porteur de projet / Investigateur coordonnateur\\nPRENOM',\n",
            "       'N° du projet\\nPHRC-K', 'FINESS',\n",
            "       'Nom de l'établissement de santé\\ngestionnaire des fonds', 'Acronyme',\n",
            "       'Titre du projet', ' Autorisation d'engagement '],\n",
            "      dtype='object')\n",
            "Index(['Porteur NOM', 'Porteur PRENOM', 'N° du projet', 'FINESS',\n",
            "       'Nom de l'établissement de santé gestionnaire des fonds', 'Acronyme',\n",
            "       'Titre du projet', ' Autorisation d'engagement', 'Date', 'Type'],\n",
            "      dtype='object')\n",
            "df_IMG_xlsx_resultats_phrcn_2019_mel_v0-2_20200102.xlsx--------------------------\n",
            "8\n",
            "Index(['Porteur de projet / Investigateur\\ncoordonnateur\\nNOM',\n",
            "       'Porteur de projet / Investigateur\\ncoordonnateur\\nPRENOM',\n",
            "       'Numéro projet PHRC-N', 'FINESS',\n",
            "       'Nom de l'établissement de santé gestionnaire des fonds', 'Acronyme',\n",
            "       'Titre du projet ', 'Autorisation d'engagement (AE)'],\n",
            "      dtype='object')\n",
            "Index(['Porteur NOM', 'Porteur PRENOM', 'N° du projet', 'FINESS',\n",
            "       'Nom de l'établissement de santé gestionnaire des fonds', 'Acronyme',\n",
            "       'Titre du projet', ' Autorisation d'engagement', 'Date', 'Type'],\n",
            "      dtype='object')\n",
            "df_IMG_xlsx_resultats_phrc-k_2019_mel_v0-2_20200205.xlsx--------------------------\n",
            "8\n",
            "Index(['Porteur de projet / Investigateur\\ncoordonnateur\\nNOM',\n",
            "       'Porteur de projet / Investigateur\\ncoordonnateur\\nPRENOM',\n",
            "       'N° du projet', 'FINESS',\n",
            "       'Nom de l'établissement de santé\\ngestionnaire des fonds', 'Acronyme',\n",
            "       'Titre du projet', ' Autorisation d'engagement '],\n",
            "      dtype='object')\n",
            "Index(['Porteur NOM', 'Porteur PRENOM', 'N° du projet', 'FINESS',\n",
            "       'Nom de l'établissement de santé gestionnaire des fonds', 'Acronyme',\n",
            "       'Titre du projet', ' Autorisation d'engagement', 'Date', 'Type'],\n",
            "      dtype='object')\n",
            "df_IMG_xlsx_resultats_phrci_2019_mel_v0-1_20200929.xlsx--------------------------\n",
            "8\n",
            "Index(['Porteur de projet / Investigateur\\ncoordonnateur\\nNOM',\n",
            "       'Porteur de projet / Investigateur\\ncoordonnateur\\nPRENOM',\n",
            "       'N° du projet', 'FINESS',\n",
            "       'Nom de l'établissement de santé\\ngestionnaire des fonds', 'Acronyme',\n",
            "       'Titre du projet', 'Autorisation d'engagement '],\n",
            "      dtype='object')\n",
            "Index(['Porteur NOM', 'Porteur PRENOM', 'N° du projet', 'FINESS',\n",
            "       'Nom de l'établissement de santé gestionnaire des fonds', 'Acronyme',\n",
            "       'Titre du projet', ' Autorisation d'engagement', 'Date', 'Type'],\n",
            "      dtype='object')\n",
            "df_IMG_xlsx_resultats_phrcn_2018_mel.xlsx--------------------------\n",
            "8\n",
            "Index(['Porteur de projet / Investigateur\\ncoordonnateur\\nNOM',\n",
            "       'Porteur de projet / Investigateur\\ncoordonnateur\\nPRENOM',\n",
            "       'N° du projet', 'FINESS',\n",
            "       'Nom de l'établissement de santé\\ngestionnaire des fonds', 'Acronyme',\n",
            "       'Titre du projet', 'Autorisation d'engagement'],\n",
            "      dtype='object')\n",
            "Index(['Porteur NOM', 'Porteur PRENOM', 'N° du projet', 'FINESS',\n",
            "       'Nom de l'établissement de santé gestionnaire des fonds', 'Acronyme',\n",
            "       'Titre du projet', ' Autorisation d'engagement', 'Date', 'Type'],\n",
            "      dtype='object')\n",
            "df_IMG_xlsx_resultats_phrck_2018_mel.xlsx--------------------------\n",
            "8\n",
            "Index(['Porteur de projet / Investigateur\\ncoordonnateur\\nNOM',\n",
            "       'Porteur de projet / Investigateur\\ncoordonnateur\\nPRENOM',\n",
            "       'N° du projet', 'FINESS',\n",
            "       'Nom de l'établissement de santé\\ngestionnaire des fonds', 'Acronyme',\n",
            "       'Titre du projet', ' Autorisation d'engagement '],\n",
            "      dtype='object')\n",
            "Index(['Porteur NOM', 'Porteur PRENOM', 'N° du projet', 'FINESS',\n",
            "       'Nom de l'établissement de santé gestionnaire des fonds', 'Acronyme',\n",
            "       'Titre du projet', ' Autorisation d'engagement', 'Date', 'Type'],\n",
            "      dtype='object')\n",
            "df_IMG_xlsx_resultats_phrci_2018_mel.xlsx--------------------------\n",
            "8\n",
            "Index(['Porteur de projet / Investigateur\\ncoordonnateur\\nNOM',\n",
            "       'Porteur de projet / Investigateur\\ncoordonnateur\\nPRENOM',\n",
            "       'N° du projet', 'FINESS',\n",
            "       'Nom de l'établissement de santé\\ngestionnaire des fonds', 'Acronyme',\n",
            "       'Titre du projet', 'Autorisation d'engagement '],\n",
            "      dtype='object')\n",
            "Index(['Porteur NOM', 'Porteur PRENOM', 'N° du projet', 'FINESS',\n",
            "       'Nom de l'établissement de santé gestionnaire des fonds', 'Acronyme',\n",
            "       'Titre du projet', ' Autorisation d'engagement', 'Date', 'Type'],\n",
            "      dtype='object')\n",
            "df_IMG_xlsx_resultats_phrc-n_2017_040118.xlsx--------------------------\n",
            "8\n",
            "Index(['Porteur de projet / Investigateur\\ncoordonnateur\\nNOM',\n",
            "       'Porteur de projet / Investigateur\\ncoordonnateur\\nPRENOM',\n",
            "       'N° du projet', 'FINESS',\n",
            "       'Nom de l'établissement de santé\\ngestionnaire des fonds', 'Acronyme',\n",
            "       'Titre du projet', 'Autorisation d'engagement '],\n",
            "      dtype='object')\n",
            "Index(['Porteur NOM', 'Porteur PRENOM', 'N° du projet', 'FINESS',\n",
            "       'Nom de l'établissement de santé gestionnaire des fonds', 'Acronyme',\n",
            "       'Titre du projet', ' Autorisation d'engagement', 'Date', 'Type'],\n",
            "      dtype='object')\n",
            "df_IMG_xlsx_resultats_phrc-k_2017_040118.xlsx--------------------------\n",
            "8\n",
            "Index(['Nom Porteur', 'Prénom Porteur', 'Numéro', 'FINESS',\n",
            "       'Nom de l'établissement de santé gestionnaire des fonds', 'Acronyme',\n",
            "       'Titre du projet', 'Autorisation d'engagement (AE)'],\n",
            "      dtype='object')\n",
            "Index(['Porteur NOM', 'Porteur PRENOM', 'N° du projet', 'FINESS',\n",
            "       'Nom de l'établissement de santé gestionnaire des fonds', 'Acronyme',\n",
            "       'Titre du projet', ' Autorisation d'engagement', 'Date', 'Type'],\n",
            "      dtype='object')\n",
            "df_IMG_xlsx_dgos_resultats_phrc_i_2017_240718.xlsx--------------------------\n",
            "8\n",
            "Index(['Porteur de projet / Investigateur\\ncoordonnateur\\nNOM',\n",
            "       'Porteur de projet / Investigateur\\ncoordonnateur\\nPRENOM',\n",
            "       'N° du projet', 'FINESS',\n",
            "       'Nom de l'établissement de santé\\ngestionnaire des fonds', 'Acronyme',\n",
            "       'Titre du projet', 'Autorisation d'engagement '],\n",
            "      dtype='object')\n",
            "Index(['Porteur NOM', 'Porteur PRENOM', 'N° du projet', 'FINESS',\n",
            "       'Nom de l'établissement de santé gestionnaire des fonds', 'Acronyme',\n",
            "       'Titre du projet', ' Autorisation d'engagement', 'Date', 'Type'],\n",
            "      dtype='object')\n"
          ]
        }
      ]
    },
    {
      "cell_type": "code",
      "source": [
        "# \n",
        "#path = \"df_IMG_xlsx_phrcn_20_resultatsselection_v2-0_20211006_mel.xlsx\"\n",
        "#df_1 = pd.read_excel(path)\n",
        "#print(len(df_1.columns))\n",
        "#print(df_1.columns)\n",
        "#df_1['Date'] = 2020 # Date a ajouter\n",
        "#df_1[\"Type\"] = \"N\"   # Type du fichier\n",
        "#df_1.columns = column\n",
        "#print(df_1.columns)\n",
        "#df_1.to_excel('/content/' + path,index=False) # save file outside of Data File"
      ],
      "metadata": {
        "id": "Sj7gxdfv0_rP"
      },
      "execution_count": 18,
      "outputs": []
    },
    {
      "cell_type": "markdown",
      "source": [
        "#### 2016-2012"
      ],
      "metadata": {
        "id": "_YoSR6AiobGA"
      }
    },
    {
      "cell_type": "code",
      "source": [
        "column"
      ],
      "metadata": {
        "id": "TXI5k4kI2UFk",
        "colab": {
          "base_uri": "https://localhost:8080/"
        },
        "outputId": "dd3dcf5a-4567-49c0-cb6a-ea8b1e7f6fcc"
      },
      "execution_count": 19,
      "outputs": [
        {
          "output_type": "execute_result",
          "data": {
            "text/plain": [
              "['Porteur NOM',\n",
              " 'Porteur PRENOM',\n",
              " 'N° du projet',\n",
              " 'FINESS',\n",
              " \"Nom de l'établissement de santé gestionnaire des fonds\",\n",
              " 'Acronyme',\n",
              " 'Titre du projet',\n",
              " \" Autorisation d'engagement\",\n",
              " 'Date',\n",
              " 'Type']"
            ]
          },
          "metadata": {},
          "execution_count": 19
        }
      ]
    },
    {
      "cell_type": "code",
      "execution_count": 109,
      "metadata": {
        "id": "j1zHxnphTcxM",
        "outputId": "32993525-e192-4847-d590-14913e68a7c8",
        "colab": {
          "base_uri": "https://localhost:8080/"
        }
      },
      "outputs": [
        {
          "output_type": "stream",
          "name": "stdout",
          "text": [
            "Index(['FINESS\\njuridique',\n",
            "       'Nom de l'établissement de santé\\ngestionnaire des fonds',\n",
            "       'Porteur de projet / Investigateur\\ncoordonnateur\\nNOM',\n",
            "       'Porteur de projet / Investigateur\\ncoordonnateur\\nPRENOM',\n",
            "       'Titre du projet', 'N° du projet', 'Acronyme',\n",
            "       ' Autorisation d'engagement '],\n",
            "      dtype='object')\n",
            "-----------------------------------------------------------------------------------\n",
            "Index(['FINESS\\njuridique',\n",
            "       'Nom de l'établissement de santé\\ngestionnaire des fonds',\n",
            "       'Porteur de projet / Investigateur\\ncoordonnateur\\nNOM',\n",
            "       'Porteur de projet / Investigateur\\ncoordonnateur\\nPRENOM',\n",
            "       'Titre du projet', 'N° du projet', 'Acronyme',\n",
            "       ' Autorisation d'engagement '],\n",
            "      dtype='object')\n",
            "-----------------------------------------------------------------------------------\n",
            "Index(['FINESS\\njuridique',\n",
            "       'Nom de l'établissement de santé\\ngestionnaire des fonds',\n",
            "       'Porteur de projet / Investigateur\\ncoordonnateur\\nNOM',\n",
            "       'Porteur de projet / Investigateur\\ncoordonnateur\\nPRENOM',\n",
            "       'Titre du projet', 'N° du projet', 'Acronyme',\n",
            "       'Autorisation d'engagement'],\n",
            "      dtype='object')\n",
            "-----------------------------------------------------------------------------------\n",
            "Index(['FINESS\\njuridique',\n",
            "       'Nom de l'établissement de santé\\ngestionnaire des fonds',\n",
            "       'Porteur de projet / Investigateur\\ncoordonnateur\\nNOM',\n",
            "       'Porteur de projet / Investigateur\\ncoordonnateur\\nPRENOM',\n",
            "       'Titre du projet', 'N° du projet', 'Acronyme',\n",
            "       'Montant accordé sous conditions de suivi (€)'],\n",
            "      dtype='object')\n",
            "-----------------------------------------------------------------------------------\n",
            "Index(['FINESS\\njuridique',\n",
            "       'Nom de l'établissement de santé\\ngestionnaire des fonds',\n",
            "       'Porteur de projet / Investigateur\\ncoordonnateur\\nNOM',\n",
            "       'Porteur de projet / Investigateur\\ncoordonnateur\\nPRENOM',\n",
            "       'Titre du projet', 'N° du projet', 'Acronyme',\n",
            "       'Montant accordé sous conditions de suivi (€)'],\n",
            "      dtype='object')\n",
            "-----------------------------------------------------------------------------------\n",
            "Index(['FINESS\\njuridique',\n",
            "       'Nom de l'établissement de santé\\ngestionnaire des fonds',\n",
            "       'Porteur de projet / Investigateur\\ncoordonnateur\\nNOM',\n",
            "       'Porteur de projet / Investigateur\\ncoordonnateur\\nPRENOM',\n",
            "       'Titre du projet', 'N° du projet', 'Acronyme',\n",
            "       'Autorisation d'engagement (€)'],\n",
            "      dtype='object')\n",
            "-----------------------------------------------------------------------------------\n",
            "Index(['FINESS\\njuridique',\n",
            "       'Nom de l'établissement de santé\\ngestionnaire des fonds',\n",
            "       'Porteur de projet / Investigateur\\ncoordonnateur\\nNOM',\n",
            "       'Porteur de projet / Investigateur\\ncoordonnateur\\nPRENOM',\n",
            "       'Titre du projet', 'N° du projet', 'Acronyme',\n",
            "       'Montant accordé sous conditions de suivi (€)'],\n",
            "      dtype='object')\n",
            "-----------------------------------------------------------------------------------\n",
            "Index(['FINESS\\njuridique',\n",
            "       'Nom de l'établissement de santé\\ngestionnaire des fonds',\n",
            "       'Porteur de projet / Investigateur\\ncoordonnateur\\nNOM',\n",
            "       'Porteur de projet / Investigateur\\ncoordonnateur\\nPRENOM',\n",
            "       'Titre du projet', 'N° du projet', 'Acronyme',\n",
            "       'Montant accordé sous conditions de suivi (€)', 'Commentaires'],\n",
            "      dtype='object')\n",
            "-----------------------------------------------------------------------------------\n",
            "Index(['FINESS\\njuridique',\n",
            "       'Nom de l'établissement de santé\\ngestionnaire des fonds',\n",
            "       'Porteur de projet / Investigateur\\ncoordonnateur\\nNOM',\n",
            "       'Porteur de projet / Investigateur\\ncoordonnateur\\nPRENOM',\n",
            "       'Titre du projet', 'N° du projet', 'Acronyme',\n",
            "       'Montant accordé sous conditions de suivi (€)'],\n",
            "      dtype='object')\n",
            "-----------------------------------------------------------------------------------\n",
            "Index(['FINESS\\njuridique', 'Nom de l'établissement de santé\\ncoordonnateur',\n",
            "       'Porteur de projet / Investigateur\\ncoordonnateur\\nNOM',\n",
            "       'Porteur de projet / Investigateur\\ncoordonnateur\\nPRENOM',\n",
            "       'Titre du projet', 'N° du projet', 'Acronyme',\n",
            "       'Montant accordé sous conditions de suivi (€)'],\n",
            "      dtype='object')\n",
            "-----------------------------------------------------------------------------------\n",
            "Index(['FINESS\\njuridique', 'Nom de l'établissement de santé\\ncoordonnateur',\n",
            "       'Porteur de projet / Investigateur\\ncoordonnateur\\nNOM',\n",
            "       'Porteur de projet / Investigateur\\ncoordonnateur\\nPRENOM',\n",
            "       'Titre du projet', 'N° du projet', 'Acronyme',\n",
            "       'Montant accordé sous conditions de suivi (€)'],\n",
            "      dtype='object')\n",
            "-----------------------------------------------------------------------------------\n",
            "Index(['FINESS\\njuridique', 'Nom de l'établissement de santé\\ncoordonnateur',\n",
            "       'Porteur de projet / Investigateur\\ncoordonnateur\\nNOM',\n",
            "       'Porteur de projet / Investigateur\\ncoordonnateur\\nPRENOM',\n",
            "       'Titre du projet', 'N° du projet', 'Acronyme',\n",
            "       'Montant accordé sous conditions de suivi (€)'],\n",
            "      dtype='object')\n",
            "-----------------------------------------------------------------------------------\n",
            "Index(['FINESS\\njuridique',\n",
            "       'Nom de l'Etablissement de Santé\\ndu Porteur de Projet/Investigateur\\nCoordonnateur',\n",
            "       'Inter région', 'Porteur de Projet/Investigateur\\nCoordonnateur\\nNOM',\n",
            "       'Porteur de Projet/Investigateur\\nCoordonnateur\\nPRENOM',\n",
            "       'Titre du projet', 'N° du projet', 'Acronyme',\n",
            "       'Montant maximal PREVISIONNEL \\n (accordé  sous conditions de suivi)'],\n",
            "      dtype='object')\n",
            "-----------------------------------------------------------------------------------\n",
            "Index(['FINESS\\njuridique',\n",
            "       'Nom de l'Etablissement de Santé\\ndu Porteur de Projet/Investigateur\\nCoordonnateur',\n",
            "       'Porteur de Projet/Investigateur\\nCoordonnateur\\nNOM',\n",
            "       'Porteur de Projet/Investigateur\\nCoordonnateur\\nPRENOM',\n",
            "       'Titre du projet', 'N° du projet', 'Acronyme',\n",
            "       'Montant maximal PREVISIONNEL (accordé  sous conditions de suivi)'],\n",
            "      dtype='object')\n",
            "-----------------------------------------------------------------------------------\n",
            "Index(['FINESS\\njuridique',\n",
            "       'Nom de l'Etablissement de Santé\\ndu Porteur de Projet/Investigateur\\nCoordonnateur',\n",
            "       'Porteur de Projet/Investigateur\\nCoordonnateur\\nNOM',\n",
            "       'Porteur de Projet/Investigateur\\nCoordonnateur\\nPRENOM',\n",
            "       'Titre du projet', 'N° du projet', 'Acronyme',\n",
            "       'Montant maximal PREVISIONNEL (accordé  sous conditions de suivi)'],\n",
            "      dtype='object')\n",
            "-----------------------------------------------------------------------------------\n"
          ]
        }
      ],
      "source": [
        "path5 = \"df_IMG_xlsx_resultats_phrc-k_2016_mel.xlsx\"\n",
        "df5 = pd.read_excel(path5)\n",
        "print(df5.columns)\n",
        "columns_reindexing_5 = ['Porteur de projet / Investigateur\\ncoordonnateur\\nNOM',\n",
        "       'Porteur de projet / Investigateur\\ncoordonnateur\\nPRENOM',\n",
        "        'N° du projet', 'FINESS\\njuridique',\"Nom de l'établissement de santé\\ngestionnaire des fonds\",\n",
        "        'Acronyme','Titre du projet',\n",
        "       \" Autorisation d'engagement \"]\n",
        "print(\"-----------------------------------------------------------------------------------\")\n",
        "path4 = \"df_IMG_xlsx_resultats_phrc-i_2016_mel.xlsx\"\n",
        "df4 = pd.read_excel(path5)\n",
        "print(df4.columns)\n",
        "columns_reindexing_4 = ['Porteur de projet / Investigateur\\ncoordonnateur\\nNOM',\n",
        "       'Porteur de projet / Investigateur\\ncoordonnateur\\nPRENOM',\n",
        "        'N° du projet', 'FINESS\\njuridique',\"Nom de l'établissement de santé\\ngestionnaire des fonds\",\n",
        "        'Acronyme','Titre du projet',\n",
        "       \" Autorisation d'engagement \"]\n",
        "print(\"-----------------------------------------------------------------------------------\")\n",
        "path3 = \"df_IMG_xlsx_resultats_phrc_2016_mel.xlsx\"\n",
        "df3 = pd.read_excel(path3)\n",
        "print(df3.columns)\n",
        "columns_reindexing_3 = ['Porteur de projet / Investigateur\\ncoordonnateur\\nNOM',\n",
        "       'Porteur de projet / Investigateur\\ncoordonnateur\\nPRENOM',\n",
        "        'N° du projet', 'FINESS\\njuridique',\"Nom de l'établissement de santé\\ngestionnaire des fonds\",\n",
        "        'Acronyme','Titre du projet',\n",
        "       \"Autorisation d'engagement\"]\n",
        "print(\"-----------------------------------------------------------------------------------\")\n",
        "path2 = \"df_IMG_xlsx_projets_retenus_phrc-k_2015.xlsx\"\n",
        "df2 = pd.read_excel(path2)\n",
        "print(df2.columns)\n",
        "columns_reindexing_2 = ['Porteur de projet / Investigateur\\ncoordonnateur\\nNOM',\n",
        "       'Porteur de projet / Investigateur\\ncoordonnateur\\nPRENOM',\n",
        "        'N° du projet', 'FINESS\\njuridique',\"Nom de l'établissement de santé\\ngestionnaire des fonds\",\n",
        "        'Acronyme','Titre du projet',\n",
        "       'Montant accordé sous conditions de suivi (€)']\n",
        "print(\"-----------------------------------------------------------------------------------\")\n",
        "path6 = \"df_IMG_xlsx_projets_retenus_phrc-i_2015.xlsx\"\n",
        "df6 = pd.read_excel(path6)\n",
        "print(df6.columns)\n",
        "columns_reindexing_6 = ['Porteur de projet / Investigateur\\ncoordonnateur\\nNOM',\n",
        "       'Porteur de projet / Investigateur\\ncoordonnateur\\nPRENOM',\n",
        "        'N° du projet', 'FINESS\\njuridique',\"Nom de l'établissement de santé\\ngestionnaire des fonds\",\n",
        "        'Acronyme','Titre du projet',\n",
        "       'Montant accordé sous conditions de suivi (€)']\n",
        "print(\"-----------------------------------------------------------------------------------\")\n",
        "path7 = \"df_IMG_xls_projets_retenus_phrc-n_2015.xls\"\n",
        "df7 = pd.read_excel(path7)\n",
        "print(df7.columns)\n",
        "columns_reindexing_7 = ['Porteur de projet / Investigateur\\ncoordonnateur\\nNOM',\n",
        "       'Porteur de projet / Investigateur\\ncoordonnateur\\nPRENOM',\n",
        "        'N° du projet', 'FINESS\\njuridique',\"Nom de l'établissement de santé\\ngestionnaire des fonds\",\n",
        "        'Acronyme','Titre du projet',\n",
        "       \"Autorisation d'engagement (€)\"]\n",
        "print(\"-----------------------------------------------------------------------------------\")\n",
        "path8 = \"df_IMG_xls_Projets_retenus_PHRC-I_2014.xls\"\n",
        "df8 = pd.read_excel(path8)\n",
        "print(df8.columns)\n",
        "columns_reindexing_8 = ['Porteur de projet / Investigateur\\ncoordonnateur\\nNOM',\n",
        "       'Porteur de projet / Investigateur\\ncoordonnateur\\nPRENOM',\n",
        "        'N° du projet', 'FINESS\\njuridique',\"Nom de l'établissement de santé\\ngestionnaire des fonds\",\n",
        "        'Acronyme','Titre du projet',\n",
        "       'Montant accordé sous conditions de suivi (€)']\n",
        "print(\"-----------------------------------------------------------------------------------\")\n",
        "path9 = \"df_IMG_xls_resultats_phrc-k_2014.2.xls\"\n",
        "df9 = pd.read_excel(path9)\n",
        "print(df9.columns)\n",
        "columns_reindexing_9 = ['Porteur de projet / Investigateur\\ncoordonnateur\\nNOM',\n",
        "       'Porteur de projet / Investigateur\\ncoordonnateur\\nPRENOM',\n",
        "        'N° du projet', 'FINESS\\njuridique',\"Nom de l'établissement de santé\\ngestionnaire des fonds\",\n",
        "        'Acronyme','Titre du projet',\n",
        "       'Montant accordé sous conditions de suivi (€)']\n",
        "print(\"-----------------------------------------------------------------------------------\")\n",
        "path10 = \"df_IMG_xls_Resultats_PHRC-N_2014.xls\"\n",
        "df10 = pd.read_excel(path10)\n",
        "print(df10.columns)\n",
        "columns_reindexing_10 = ['Porteur de projet / Investigateur\\ncoordonnateur\\nNOM',\n",
        "       'Porteur de projet / Investigateur\\ncoordonnateur\\nPRENOM',\n",
        "        'N° du projet', 'FINESS\\njuridique',\"Nom de l'établissement de santé\\ngestionnaire des fonds\",\n",
        "        'Acronyme','Titre du projet',\n",
        "       'Montant accordé sous conditions de suivi (€)']\n",
        "print(\"-----------------------------------------------------------------------------------\")\n",
        "path11 = \"df_IMG_xlsx_Resultats_PHRC-N_2013.xlsx\"\n",
        "df11 = pd.read_excel(path11)\n",
        "print(df11.columns)\n",
        "columns_reindexing_11 = ['Porteur de projet / Investigateur\\ncoordonnateur\\nNOM',\n",
        "       'Porteur de projet / Investigateur\\ncoordonnateur\\nPRENOM',\n",
        "        'N° du projet', 'FINESS\\njuridique',\"Nom de l'établissement de santé\\ncoordonnateur\",\n",
        "        'Acronyme','Titre du projet',\n",
        "       'Montant accordé sous conditions de suivi (€)']\n",
        "print(\"-----------------------------------------------------------------------------------\")\n",
        "path12 = \"df_IMG_xlsx_Resultats_PHRC-K_2013.xlsx\"\n",
        "df12 = pd.read_excel(path12)\n",
        "print(df12.columns)\n",
        "columns_reindexing_12 = ['Porteur de projet / Investigateur\\ncoordonnateur\\nNOM',\n",
        "       'Porteur de projet / Investigateur\\ncoordonnateur\\nPRENOM',\n",
        "        'N° du projet', 'FINESS\\njuridique',\"Nom de l'établissement de santé\\ncoordonnateur\",\n",
        "        'Acronyme','Titre du projet',\n",
        "       'Montant accordé sous conditions de suivi (€)']\n",
        "print(\"-----------------------------------------------------------------------------------\")\n",
        "path13 = \"df_IMG_xlsx_Resultats_PHRC-I_2013-1.xlsx\"\n",
        "df13 = pd.read_excel(path13)\n",
        "print(df13.columns)\n",
        "columns_reindexing_13 = ['Porteur de projet / Investigateur\\ncoordonnateur\\nNOM',\n",
        "       'Porteur de projet / Investigateur\\ncoordonnateur\\nPRENOM',\n",
        "        'N° du projet', 'FINESS\\njuridique',\"Nom de l'établissement de santé\\ncoordonnateur\",\n",
        "        'Acronyme','Titre du projet',\n",
        "       'Montant accordé sous conditions de suivi (€)']\n",
        "print(\"-----------------------------------------------------------------------------------\")\n",
        "path14 = \"df_IMG_xls_RESULTAT-PHRCI-2012-3.xls\"\n",
        "df14 = pd.read_excel(path14)\n",
        "print(df14.columns)\n",
        "columns_reindexing_14 = ['Porteur de Projet/Investigateur\\nCoordonnateur\\nNOM',\n",
        "       'Porteur de Projet/Investigateur\\nCoordonnateur\\nPRENOM',\n",
        "        'N° du projet', 'FINESS\\njuridique',\"Nom de l'Etablissement de Santé\\ndu Porteur de Projet/Investigateur\\nCoordonnateur\",\n",
        "        'Acronyme','Titre du projet',\n",
        "       'Montant maximal PREVISIONNEL \\n (accordé  sous conditions de suivi)']\n",
        "print(\"-----------------------------------------------------------------------------------\")\n",
        "path15 = \"df_IMG_xls_RESULTAT-PHRCK-2012-2.xls\"\n",
        "df15 = pd.read_excel(path15)\n",
        "print(df15.columns)\n",
        "columns_reindexing_15 = ['Porteur de Projet/Investigateur\\nCoordonnateur\\nNOM',\n",
        "       'Porteur de Projet/Investigateur\\nCoordonnateur\\nPRENOM',\n",
        "        'N° du projet', 'FINESS\\njuridique',\"Nom de l'Etablissement de Santé\\ndu Porteur de Projet/Investigateur\\nCoordonnateur\",\n",
        "        'Acronyme','Titre du projet',\n",
        "       'Montant maximal PREVISIONNEL (accordé  sous conditions de suivi)']\n",
        "print(\"-----------------------------------------------------------------------------------\")\n",
        "path16 = \"df_IMG_xls_RESULTAT-PHRCN-2012-v2.xls\"\n",
        "df16 = pd.read_excel(path16)\n",
        "print(df16.columns)\n",
        "columns_reindexing_16 = ['Porteur de Projet/Investigateur\\nCoordonnateur\\nNOM',\n",
        "       'Porteur de Projet/Investigateur\\nCoordonnateur\\nPRENOM',\n",
        "        'N° du projet', 'FINESS\\njuridique',\"Nom de l'Etablissement de Santé\\ndu Porteur de Projet/Investigateur\\nCoordonnateur\",\n",
        "        'Acronyme','Titre du projet',\n",
        "       'Montant maximal PREVISIONNEL (accordé  sous conditions de suivi)']\n",
        "print(\"-----------------------------------------------------------------------------------\")"
      ]
    },
    {
      "cell_type": "code",
      "source": [
        "df5 = df5.reindex(columns= columns_reindexing_5)\n",
        "print(df5.columns)\n",
        "print(\"----------------------------------------------------------------------\")\n",
        "df4 = df4.reindex(columns= columns_reindexing_5)\n",
        "print(df4.columns)\n",
        "print(\"----------------------------------------------------------------------\")\n",
        "df3 = df3.reindex(columns= columns_reindexing_3)\n",
        "print(df3.columns)\n",
        "print(\"----------------------------------------------------------------------\")\n",
        "df2 = df2.reindex(columns= columns_reindexing_2)\n",
        "print(df2.columns)\n",
        "print(\"----------------------------------------------------------------------\")\n",
        "df6 = df6.reindex(columns= columns_reindexing_6)\n",
        "print(df6.columns)\n",
        "print(\"----------------------------------------------------------------------\")\n",
        "df7 = df7.reindex(columns= columns_reindexing_7)\n",
        "print(df7.columns)\n",
        "print(\"----------------------------------------------------------------------\")\n",
        "df8 = df8.reindex(columns= columns_reindexing_8)\n",
        "print(df8.columns)\n",
        "print(\"----------------------------------------------------------------------\")\n",
        "df9 = df9.reindex(columns= columns_reindexing_9)\n",
        "print(df9.columns)\n",
        "print(\"----------------------------------------------------------------------\")\n",
        "df10 = df10.reindex(columns= columns_reindexing_10)\n",
        "print(df10.columns)\n",
        "print(\"----------------------------------------------------------------------\")\n",
        "df11 = df11.reindex(columns= columns_reindexing_11)\n",
        "print(df11.columns)\n",
        "print(\"----------------------------------------------------------------------\")\n",
        "df12 = df12.reindex(columns= columns_reindexing_12)\n",
        "print(df12.columns)\n",
        "print(\"----------------------------------------------------------------------\")\n",
        "df13 = df13.reindex(columns= columns_reindexing_13)\n",
        "print(df13.columns)\n",
        "print(\"----------------------------------------------------------------------\")\n",
        "df14 = df14.reindex(columns= columns_reindexing_14)\n",
        "print(df14.columns)\n",
        "print(\"----------------------------------------------------------------------\")\n",
        "df15 = df15.reindex(columns= columns_reindexing_15)\n",
        "print(df15.columns)\n",
        "print(\"----------------------------------------------------------------------\")\n",
        "df16 = df16.reindex(columns= columns_reindexing_16)\n",
        "print(df16.columns)"
      ],
      "metadata": {
        "colab": {
          "base_uri": "https://localhost:8080/"
        },
        "id": "4gsqkqCbmoS6",
        "outputId": "a6c7196a-e13a-4a4e-eb6f-c0dcbc98c246"
      },
      "execution_count": 110,
      "outputs": [
        {
          "output_type": "stream",
          "name": "stdout",
          "text": [
            "Index(['Porteur de projet / Investigateur\\ncoordonnateur\\nNOM',\n",
            "       'Porteur de projet / Investigateur\\ncoordonnateur\\nPRENOM',\n",
            "       'N° du projet', 'FINESS\\njuridique',\n",
            "       'Nom de l'établissement de santé\\ngestionnaire des fonds', 'Acronyme',\n",
            "       'Titre du projet', ' Autorisation d'engagement '],\n",
            "      dtype='object')\n",
            "----------------------------------------------------------------------\n",
            "Index(['Porteur de projet / Investigateur\\ncoordonnateur\\nNOM',\n",
            "       'Porteur de projet / Investigateur\\ncoordonnateur\\nPRENOM',\n",
            "       'N° du projet', 'FINESS\\njuridique',\n",
            "       'Nom de l'établissement de santé\\ngestionnaire des fonds', 'Acronyme',\n",
            "       'Titre du projet', ' Autorisation d'engagement '],\n",
            "      dtype='object')\n",
            "----------------------------------------------------------------------\n",
            "Index(['Porteur de projet / Investigateur\\ncoordonnateur\\nNOM',\n",
            "       'Porteur de projet / Investigateur\\ncoordonnateur\\nPRENOM',\n",
            "       'N° du projet', 'FINESS\\njuridique',\n",
            "       'Nom de l'établissement de santé\\ngestionnaire des fonds', 'Acronyme',\n",
            "       'Titre du projet', 'Autorisation d'engagement'],\n",
            "      dtype='object')\n",
            "----------------------------------------------------------------------\n",
            "Index(['Porteur de projet / Investigateur\\ncoordonnateur\\nNOM',\n",
            "       'Porteur de projet / Investigateur\\ncoordonnateur\\nPRENOM',\n",
            "       'N° du projet', 'FINESS\\njuridique',\n",
            "       'Nom de l'établissement de santé\\ngestionnaire des fonds', 'Acronyme',\n",
            "       'Titre du projet', 'Montant accordé sous conditions de suivi (€)'],\n",
            "      dtype='object')\n",
            "----------------------------------------------------------------------\n",
            "Index(['Porteur de projet / Investigateur\\ncoordonnateur\\nNOM',\n",
            "       'Porteur de projet / Investigateur\\ncoordonnateur\\nPRENOM',\n",
            "       'N° du projet', 'FINESS\\njuridique',\n",
            "       'Nom de l'établissement de santé\\ngestionnaire des fonds', 'Acronyme',\n",
            "       'Titre du projet', 'Montant accordé sous conditions de suivi (€)'],\n",
            "      dtype='object')\n",
            "----------------------------------------------------------------------\n",
            "Index(['Porteur de projet / Investigateur\\ncoordonnateur\\nNOM',\n",
            "       'Porteur de projet / Investigateur\\ncoordonnateur\\nPRENOM',\n",
            "       'N° du projet', 'FINESS\\njuridique',\n",
            "       'Nom de l'établissement de santé\\ngestionnaire des fonds', 'Acronyme',\n",
            "       'Titre du projet', 'Autorisation d'engagement (€)'],\n",
            "      dtype='object')\n",
            "----------------------------------------------------------------------\n",
            "Index(['Porteur de projet / Investigateur\\ncoordonnateur\\nNOM',\n",
            "       'Porteur de projet / Investigateur\\ncoordonnateur\\nPRENOM',\n",
            "       'N° du projet', 'FINESS\\njuridique',\n",
            "       'Nom de l'établissement de santé\\ngestionnaire des fonds', 'Acronyme',\n",
            "       'Titre du projet', 'Montant accordé sous conditions de suivi (€)'],\n",
            "      dtype='object')\n",
            "----------------------------------------------------------------------\n",
            "Index(['Porteur de projet / Investigateur\\ncoordonnateur\\nNOM',\n",
            "       'Porteur de projet / Investigateur\\ncoordonnateur\\nPRENOM',\n",
            "       'N° du projet', 'FINESS\\njuridique',\n",
            "       'Nom de l'établissement de santé\\ngestionnaire des fonds', 'Acronyme',\n",
            "       'Titre du projet', 'Montant accordé sous conditions de suivi (€)'],\n",
            "      dtype='object')\n",
            "----------------------------------------------------------------------\n",
            "Index(['Porteur de projet / Investigateur\\ncoordonnateur\\nNOM',\n",
            "       'Porteur de projet / Investigateur\\ncoordonnateur\\nPRENOM',\n",
            "       'N° du projet', 'FINESS\\njuridique',\n",
            "       'Nom de l'établissement de santé\\ngestionnaire des fonds', 'Acronyme',\n",
            "       'Titre du projet', 'Montant accordé sous conditions de suivi (€)'],\n",
            "      dtype='object')\n",
            "----------------------------------------------------------------------\n",
            "Index(['Porteur de projet / Investigateur\\ncoordonnateur\\nNOM',\n",
            "       'Porteur de projet / Investigateur\\ncoordonnateur\\nPRENOM',\n",
            "       'N° du projet', 'FINESS\\njuridique',\n",
            "       'Nom de l'établissement de santé\\ncoordonnateur', 'Acronyme',\n",
            "       'Titre du projet', 'Montant accordé sous conditions de suivi (€)'],\n",
            "      dtype='object')\n",
            "----------------------------------------------------------------------\n",
            "Index(['Porteur de projet / Investigateur\\ncoordonnateur\\nNOM',\n",
            "       'Porteur de projet / Investigateur\\ncoordonnateur\\nPRENOM',\n",
            "       'N° du projet', 'FINESS\\njuridique',\n",
            "       'Nom de l'établissement de santé\\ncoordonnateur', 'Acronyme',\n",
            "       'Titre du projet', 'Montant accordé sous conditions de suivi (€)'],\n",
            "      dtype='object')\n",
            "----------------------------------------------------------------------\n",
            "Index(['Porteur de projet / Investigateur\\ncoordonnateur\\nNOM',\n",
            "       'Porteur de projet / Investigateur\\ncoordonnateur\\nPRENOM',\n",
            "       'N° du projet', 'FINESS\\njuridique',\n",
            "       'Nom de l'établissement de santé\\ncoordonnateur', 'Acronyme',\n",
            "       'Titre du projet', 'Montant accordé sous conditions de suivi (€)'],\n",
            "      dtype='object')\n",
            "----------------------------------------------------------------------\n",
            "Index(['Porteur de Projet/Investigateur\\nCoordonnateur\\nNOM',\n",
            "       'Porteur de Projet/Investigateur\\nCoordonnateur\\nPRENOM',\n",
            "       'N° du projet', 'FINESS\\njuridique',\n",
            "       'Nom de l'Etablissement de Santé\\ndu Porteur de Projet/Investigateur\\nCoordonnateur',\n",
            "       'Acronyme', 'Titre du projet',\n",
            "       'Montant maximal PREVISIONNEL \\n (accordé  sous conditions de suivi)'],\n",
            "      dtype='object')\n",
            "----------------------------------------------------------------------\n",
            "Index(['Porteur de Projet/Investigateur\\nCoordonnateur\\nNOM',\n",
            "       'Porteur de Projet/Investigateur\\nCoordonnateur\\nPRENOM',\n",
            "       'N° du projet', 'FINESS\\njuridique',\n",
            "       'Nom de l'Etablissement de Santé\\ndu Porteur de Projet/Investigateur\\nCoordonnateur',\n",
            "       'Acronyme', 'Titre du projet',\n",
            "       'Montant maximal PREVISIONNEL (accordé  sous conditions de suivi)'],\n",
            "      dtype='object')\n",
            "----------------------------------------------------------------------\n",
            "Index(['Porteur de Projet/Investigateur\\nCoordonnateur\\nNOM',\n",
            "       'Porteur de Projet/Investigateur\\nCoordonnateur\\nPRENOM',\n",
            "       'N° du projet', 'FINESS\\njuridique',\n",
            "       'Nom de l'Etablissement de Santé\\ndu Porteur de Projet/Investigateur\\nCoordonnateur',\n",
            "       'Acronyme', 'Titre du projet',\n",
            "       'Montant maximal PREVISIONNEL (accordé  sous conditions de suivi)'],\n",
            "      dtype='object')\n"
          ]
        }
      ]
    },
    {
      "cell_type": "code",
      "execution_count": 111,
      "metadata": {
        "id": "lGZd2kdoTcxS",
        "outputId": "3d8dfe15-969b-4dd7-88ad-f307f534a5e8",
        "colab": {
          "base_uri": "https://localhost:8080/"
        }
      },
      "outputs": [
        {
          "output_type": "stream",
          "name": "stdout",
          "text": [
            "Index(['Porteur NOM', 'Porteur PRENOM', 'N° du projet', 'FINESS',\n",
            "       'Nom de l'établissement de santé gestionnaire des fonds', 'Acronyme',\n",
            "       'Titre du projet', ' Autorisation d'engagement', 'Date', 'Type'],\n",
            "      dtype='object')\n",
            "Index(['Porteur NOM', 'Porteur PRENOM', 'N° du projet', 'FINESS',\n",
            "       'Nom de l'établissement de santé gestionnaire des fonds', 'Acronyme',\n",
            "       'Titre du projet', ' Autorisation d'engagement', 'Date', 'Type'],\n",
            "      dtype='object')\n",
            "Index(['Porteur NOM', 'Porteur PRENOM', 'N° du projet', 'FINESS',\n",
            "       'Nom de l'établissement de santé gestionnaire des fonds', 'Acronyme',\n",
            "       'Titre du projet', ' Autorisation d'engagement', 'Date', 'Type'],\n",
            "      dtype='object')\n",
            "Index(['Porteur NOM', 'Porteur PRENOM', 'N° du projet', 'FINESS',\n",
            "       'Nom de l'établissement de santé gestionnaire des fonds', 'Acronyme',\n",
            "       'Titre du projet', ' Autorisation d'engagement', 'Date', 'Type'],\n",
            "      dtype='object')\n",
            "Index(['Porteur NOM', 'Porteur PRENOM', 'N° du projet', 'FINESS',\n",
            "       'Nom de l'établissement de santé gestionnaire des fonds', 'Acronyme',\n",
            "       'Titre du projet', ' Autorisation d'engagement', 'Date', 'Type'],\n",
            "      dtype='object')\n",
            "Index(['Porteur NOM', 'Porteur PRENOM', 'N° du projet', 'FINESS',\n",
            "       'Nom de l'établissement de santé gestionnaire des fonds', 'Acronyme',\n",
            "       'Titre du projet', ' Autorisation d'engagement', 'Date', 'Type'],\n",
            "      dtype='object')\n",
            "Index(['Porteur NOM', 'Porteur PRENOM', 'N° du projet', 'FINESS',\n",
            "       'Nom de l'établissement de santé gestionnaire des fonds', 'Acronyme',\n",
            "       'Titre du projet', ' Autorisation d'engagement', 'Date', 'Type'],\n",
            "      dtype='object')\n",
            "Index(['Porteur NOM', 'Porteur PRENOM', 'N° du projet', 'FINESS',\n",
            "       'Nom de l'établissement de santé gestionnaire des fonds', 'Acronyme',\n",
            "       'Titre du projet', ' Autorisation d'engagement', 'Date', 'Type'],\n",
            "      dtype='object')\n",
            "Index(['Porteur NOM', 'Porteur PRENOM', 'N° du projet', 'FINESS',\n",
            "       'Nom de l'établissement de santé gestionnaire des fonds', 'Acronyme',\n",
            "       'Titre du projet', ' Autorisation d'engagement', 'Date', 'Type'],\n",
            "      dtype='object')\n",
            "Index(['Porteur NOM', 'Porteur PRENOM', 'N° du projet', 'FINESS',\n",
            "       'Nom de l'établissement de santé gestionnaire des fonds', 'Acronyme',\n",
            "       'Titre du projet', ' Autorisation d'engagement', 'Date', 'Type'],\n",
            "      dtype='object')\n",
            "Index(['Porteur NOM', 'Porteur PRENOM', 'N° du projet', 'FINESS',\n",
            "       'Nom de l'établissement de santé gestionnaire des fonds', 'Acronyme',\n",
            "       'Titre du projet', ' Autorisation d'engagement', 'Date', 'Type'],\n",
            "      dtype='object')\n",
            "Index(['Porteur NOM', 'Porteur PRENOM', 'N° du projet', 'FINESS',\n",
            "       'Nom de l'établissement de santé gestionnaire des fonds', 'Acronyme',\n",
            "       'Titre du projet', ' Autorisation d'engagement', 'Date', 'Type'],\n",
            "      dtype='object')\n",
            "Index(['Porteur NOM', 'Porteur PRENOM', 'N° du projet', 'FINESS',\n",
            "       'Nom de l'établissement de santé gestionnaire des fonds', 'Acronyme',\n",
            "       'Titre du projet', ' Autorisation d'engagement', 'Date', 'Type'],\n",
            "      dtype='object')\n",
            "Index(['Porteur NOM', 'Porteur PRENOM', 'N° du projet', 'FINESS',\n",
            "       'Nom de l'établissement de santé gestionnaire des fonds', 'Acronyme',\n",
            "       'Titre du projet', ' Autorisation d'engagement', 'Date', 'Type'],\n",
            "      dtype='object')\n",
            "Index(['Porteur NOM', 'Porteur PRENOM', 'N° du projet', 'FINESS',\n",
            "       'Nom de l'établissement de santé gestionnaire des fonds', 'Acronyme',\n",
            "       'Titre du projet', ' Autorisation d'engagement', 'Date', 'Type'],\n",
            "      dtype='object')\n"
          ]
        },
        {
          "output_type": "stream",
          "name": "stderr",
          "text": [
            "/usr/local/lib/python3.7/dist-packages/ipykernel_launcher.py:35: FutureWarning: As the xlwt package is no longer maintained, the xlwt engine will be removed in a future version of pandas. This is the only engine in pandas that supports writing in the xls format. Install openpyxl and write to an xlsx file instead. You can set the option io.excel.xls.writer to 'xlwt' to silence this warning. While this option is deprecated and will also raise a warning, it can be globally set and the warning suppressed.\n",
            "/usr/local/lib/python3.7/dist-packages/ipykernel_launcher.py:41: FutureWarning: As the xlwt package is no longer maintained, the xlwt engine will be removed in a future version of pandas. This is the only engine in pandas that supports writing in the xls format. Install openpyxl and write to an xlsx file instead. You can set the option io.excel.xls.writer to 'xlwt' to silence this warning. While this option is deprecated and will also raise a warning, it can be globally set and the warning suppressed.\n",
            "/usr/local/lib/python3.7/dist-packages/ipykernel_launcher.py:47: FutureWarning: As the xlwt package is no longer maintained, the xlwt engine will be removed in a future version of pandas. This is the only engine in pandas that supports writing in the xls format. Install openpyxl and write to an xlsx file instead. You can set the option io.excel.xls.writer to 'xlwt' to silence this warning. While this option is deprecated and will also raise a warning, it can be globally set and the warning suppressed.\n",
            "/usr/local/lib/python3.7/dist-packages/ipykernel_launcher.py:53: FutureWarning: As the xlwt package is no longer maintained, the xlwt engine will be removed in a future version of pandas. This is the only engine in pandas that supports writing in the xls format. Install openpyxl and write to an xlsx file instead. You can set the option io.excel.xls.writer to 'xlwt' to silence this warning. While this option is deprecated and will also raise a warning, it can be globally set and the warning suppressed.\n",
            "/usr/local/lib/python3.7/dist-packages/ipykernel_launcher.py:77: FutureWarning: As the xlwt package is no longer maintained, the xlwt engine will be removed in a future version of pandas. This is the only engine in pandas that supports writing in the xls format. Install openpyxl and write to an xlsx file instead. You can set the option io.excel.xls.writer to 'xlwt' to silence this warning. While this option is deprecated and will also raise a warning, it can be globally set and the warning suppressed.\n",
            "/usr/local/lib/python3.7/dist-packages/ipykernel_launcher.py:83: FutureWarning: As the xlwt package is no longer maintained, the xlwt engine will be removed in a future version of pandas. This is the only engine in pandas that supports writing in the xls format. Install openpyxl and write to an xlsx file instead. You can set the option io.excel.xls.writer to 'xlwt' to silence this warning. While this option is deprecated and will also raise a warning, it can be globally set and the warning suppressed.\n",
            "/usr/local/lib/python3.7/dist-packages/ipykernel_launcher.py:89: FutureWarning: As the xlwt package is no longer maintained, the xlwt engine will be removed in a future version of pandas. This is the only engine in pandas that supports writing in the xls format. Install openpyxl and write to an xlsx file instead. You can set the option io.excel.xls.writer to 'xlwt' to silence this warning. While this option is deprecated and will also raise a warning, it can be globally set and the warning suppressed.\n"
          ]
        }
      ],
      "source": [
        "\n",
        "df5['Date'] = 2016 # Date a ajouter\n",
        "df5[\"Type\"] = \"K\"   # Type du fichier\n",
        "df5.columns = column\n",
        "print(df5.columns)\n",
        "df5.to_excel('/content/' + path5,index=False)\n",
        "#--------------------------------------------------------------------------------------\n",
        "df4['Date'] = 2016 # Date a ajouter\n",
        "df4[\"Type\"] = \"I\"   # Type du fichier\n",
        "df4.columns = column\n",
        "print(df4.columns)\n",
        "df4.to_excel('/content/' + path4,index=False)\n",
        "#--------------------------------------------------------------------------------------\n",
        "df3['Date'] = 2016 # Date a ajouter\n",
        "df3[\"Type\"] = \"C\"   # Type du fichier\n",
        "df3.columns = column\n",
        "print(df3.columns)\n",
        "df3.to_excel('/content/' + path3,index=False)\n",
        "#--------------------------------------------------------------------------------------\n",
        "df2['Date'] = 2015 # Date a ajouter\n",
        "df2[\"Type\"] = \"K\"   # Type du fichier\n",
        "df2.columns = column\n",
        "print(df2.columns)\n",
        "df2.to_excel('/content/' + path2,index=False)\n",
        "#--------------------------------------------------------------------------------------\n",
        "df6['Date'] = 2015 # Date a ajouter\n",
        "df6[\"Type\"] = \"I\"   # Type du fichier\n",
        "df6.columns = column\n",
        "print(df6.columns)\n",
        "df6.to_excel('/content/' + path6,index=False)\n",
        "#--------------------------------------------------------------------------------------\n",
        "df7['Date'] = 2015 # Date a ajouter\n",
        "df7[\"Type\"] = \"N\"   # Type du fichier\n",
        "df7.columns = column\n",
        "print(df7.columns)\n",
        "df7.to_excel('/content/' + path7,index=False)\n",
        "#--------------------------------------------------------------------------------------\n",
        "df8['Date'] = 2014 # Date a ajouter\n",
        "df8[\"Type\"] = \"I\"   # Type du fichier\n",
        "df8.columns = column\n",
        "print(df8.columns)\n",
        "df8.to_excel('/content/' + path8,index=False)\n",
        "#--------------------------------------------------------------------------------------\n",
        "df9['Date'] = 2014 # Date a ajouter\n",
        "df9[\"Type\"] = \"K\"   # Type du fichier\n",
        "df9.columns = column\n",
        "print(df9.columns)\n",
        "df9.to_excel('/content/' + path9,index=False)\n",
        "#--------------------------------------------------------------------------------------\n",
        "df10['Date'] = 2014 # Date a ajouter\n",
        "df10[\"Type\"] = \"N\"   # Type du fichier\n",
        "df10.columns = column\n",
        "print(df10.columns)\n",
        "df10.to_excel('/content/' + path10,index=False)\n",
        "#--------------------------------------------------------------------------------------\n",
        "df11['Date'] = 2013 # Date a ajouter\n",
        "df11[\"Type\"] = \"N\"   # Type du fichier\n",
        "df11.columns = column\n",
        "print(df11.columns)\n",
        "df11.to_excel('/content/' + path11,index=False)\n",
        "#--------------------------------------------------------------------------------------\n",
        "df12['Date'] = 2013 # Date a ajouter\n",
        "df12[\"Type\"] = \"K\"   # Type du fichier\n",
        "df12.columns = column\n",
        "print(df12.columns)\n",
        "df11.to_excel('/content/' + path12,index=False)\n",
        "#--------------------------------------------------------------------------------------\n",
        "df13['Date'] = 2013 # Date a ajouter\n",
        "df13[\"Type\"] = \"I\"   # Type du fichier\n",
        "df13.columns = column\n",
        "print(df13.columns)\n",
        "df13.to_excel('/content/' + path13,index=False)\n",
        "#--------------------------------------------------------------------------------------\n",
        "df14['Date'] = 2012 # Date a ajouter\n",
        "df14[\"Type\"] = \"I\"   # Type du fichier\n",
        "df14.columns = column\n",
        "print(df14.columns)\n",
        "df14.to_excel('/content/' + path14,index=False)\n",
        "#--------------------------------------------------------------------------------------\n",
        "df15['Date'] = 2012 # Date a ajouter\n",
        "df15[\"Type\"] = \"K\"   # Type du fichier\n",
        "df15.columns = column\n",
        "print(df15.columns)\n",
        "df15.to_excel('/content/' + path15,index=False)\n",
        "#--------------------------------------------------------------------------------------\n",
        "df16['Date'] = 2012 # Date a ajouter\n",
        "df16[\"Type\"] = \"N\"   # Type du fichier\n",
        "df16.columns = column\n",
        "print(df16.columns)\n",
        "df16.to_excel('/content/' + path16,index=False)\n",
        "\n"
      ]
    },
    {
      "cell_type": "code",
      "source": [
        "df15.head()"
      ],
      "metadata": {
        "colab": {
          "base_uri": "https://localhost:8080/",
          "height": 617
        },
        "id": "B8CHBNhXoMAv",
        "outputId": "d6bac938-5785-4fa4-dc99-fa6b65a0f7a9"
      },
      "execution_count": 113,
      "outputs": [
        {
          "output_type": "execute_result",
          "data": {
            "text/plain": [
              "  Porteur NOM Porteur PRENOM    N° du projet     FINESS  \\\n",
              "0       ANDRE        Thierry  PHRC12-055 (I)  750712184   \n",
              "1       BABIN       Emmanuel      PHRC12-220  140000100   \n",
              "2    BACHELOT         Thomas      PHRC12-089  690000880   \n",
              "3   BARRIERE          Jérôme      PHRC12-024  060000528   \n",
              "4      BAUDIN          Eric       PHRC12-202  940000664   \n",
              "\n",
              "  Nom de l'établissement de santé gestionnaire des fonds           Acronyme  \\\n",
              "0                          ASSISTANCE PUBLIQUE AP-HP               IDEA (I)   \n",
              "1                           CHU COTE DE NACRE - CAEN                  PETAL   \n",
              "2                                 CENTRE LEON BERARD                    NaN   \n",
              "3                          CENTRE ANTOINE LACASSAGNE               PAZOGLIO   \n",
              "4                            INSTITUT GUSTAVE ROUSSY      OCLURANDOM1inpNET   \n",
              "\n",
              "                                     Titre du projet  \\\n",
              "0  Etude clinique IDEA (International Duration Ev...   \n",
              "1  Programme d’Education Thérapeutique visant l’a...   \n",
              "2  Etude multicentrique de phase III en ouvert, é...   \n",
              "3  Etude de phase Ib d’association du pazopanib a...   \n",
              "4  Premier essai thérapeutique de phase 2 randomi...   \n",
              "\n",
              "    Autorisation d'engagement  Date Type  \n",
              "0                    900000.0  2012    K  \n",
              "1                    300000.0  2012    K  \n",
              "2                    902000.0  2012    K  \n",
              "3                    319000.0  2012    K  \n",
              "4                    685000.0  2012    K  "
            ],
            "text/html": [
              "\n",
              "  <div id=\"df-d62058bd-ea11-47c9-81e7-a213bb8ad2d8\">\n",
              "    <div class=\"colab-df-container\">\n",
              "      <div>\n",
              "<style scoped>\n",
              "    .dataframe tbody tr th:only-of-type {\n",
              "        vertical-align: middle;\n",
              "    }\n",
              "\n",
              "    .dataframe tbody tr th {\n",
              "        vertical-align: top;\n",
              "    }\n",
              "\n",
              "    .dataframe thead th {\n",
              "        text-align: right;\n",
              "    }\n",
              "</style>\n",
              "<table border=\"1\" class=\"dataframe\">\n",
              "  <thead>\n",
              "    <tr style=\"text-align: right;\">\n",
              "      <th></th>\n",
              "      <th>Porteur NOM</th>\n",
              "      <th>Porteur PRENOM</th>\n",
              "      <th>N° du projet</th>\n",
              "      <th>FINESS</th>\n",
              "      <th>Nom de l'établissement de santé gestionnaire des fonds</th>\n",
              "      <th>Acronyme</th>\n",
              "      <th>Titre du projet</th>\n",
              "      <th>Autorisation d'engagement</th>\n",
              "      <th>Date</th>\n",
              "      <th>Type</th>\n",
              "    </tr>\n",
              "  </thead>\n",
              "  <tbody>\n",
              "    <tr>\n",
              "      <th>0</th>\n",
              "      <td>ANDRE</td>\n",
              "      <td>Thierry</td>\n",
              "      <td>PHRC12-055 (I)</td>\n",
              "      <td>750712184</td>\n",
              "      <td>ASSISTANCE PUBLIQUE AP-HP</td>\n",
              "      <td>IDEA (I)</td>\n",
              "      <td>Etude clinique IDEA (International Duration Ev...</td>\n",
              "      <td>900000.0</td>\n",
              "      <td>2012</td>\n",
              "      <td>K</td>\n",
              "    </tr>\n",
              "    <tr>\n",
              "      <th>1</th>\n",
              "      <td>BABIN</td>\n",
              "      <td>Emmanuel</td>\n",
              "      <td>PHRC12-220</td>\n",
              "      <td>140000100</td>\n",
              "      <td>CHU COTE DE NACRE - CAEN</td>\n",
              "      <td>PETAL</td>\n",
              "      <td>Programme d’Education Thérapeutique visant l’a...</td>\n",
              "      <td>300000.0</td>\n",
              "      <td>2012</td>\n",
              "      <td>K</td>\n",
              "    </tr>\n",
              "    <tr>\n",
              "      <th>2</th>\n",
              "      <td>BACHELOT</td>\n",
              "      <td>Thomas</td>\n",
              "      <td>PHRC12-089</td>\n",
              "      <td>690000880</td>\n",
              "      <td>CENTRE LEON BERARD</td>\n",
              "      <td>NaN</td>\n",
              "      <td>Etude multicentrique de phase III en ouvert, é...</td>\n",
              "      <td>902000.0</td>\n",
              "      <td>2012</td>\n",
              "      <td>K</td>\n",
              "    </tr>\n",
              "    <tr>\n",
              "      <th>3</th>\n",
              "      <td>BARRIERE</td>\n",
              "      <td>Jérôme</td>\n",
              "      <td>PHRC12-024</td>\n",
              "      <td>060000528</td>\n",
              "      <td>CENTRE ANTOINE LACASSAGNE</td>\n",
              "      <td>PAZOGLIO</td>\n",
              "      <td>Etude de phase Ib d’association du pazopanib a...</td>\n",
              "      <td>319000.0</td>\n",
              "      <td>2012</td>\n",
              "      <td>K</td>\n",
              "    </tr>\n",
              "    <tr>\n",
              "      <th>4</th>\n",
              "      <td>BAUDIN</td>\n",
              "      <td>Eric</td>\n",
              "      <td>PHRC12-202</td>\n",
              "      <td>940000664</td>\n",
              "      <td>INSTITUT GUSTAVE ROUSSY</td>\n",
              "      <td>OCLURANDOM1inpNET</td>\n",
              "      <td>Premier essai thérapeutique de phase 2 randomi...</td>\n",
              "      <td>685000.0</td>\n",
              "      <td>2012</td>\n",
              "      <td>K</td>\n",
              "    </tr>\n",
              "  </tbody>\n",
              "</table>\n",
              "</div>\n",
              "      <button class=\"colab-df-convert\" onclick=\"convertToInteractive('df-d62058bd-ea11-47c9-81e7-a213bb8ad2d8')\"\n",
              "              title=\"Convert this dataframe to an interactive table.\"\n",
              "              style=\"display:none;\">\n",
              "        \n",
              "  <svg xmlns=\"http://www.w3.org/2000/svg\" height=\"24px\"viewBox=\"0 0 24 24\"\n",
              "       width=\"24px\">\n",
              "    <path d=\"M0 0h24v24H0V0z\" fill=\"none\"/>\n",
              "    <path d=\"M18.56 5.44l.94 2.06.94-2.06 2.06-.94-2.06-.94-.94-2.06-.94 2.06-2.06.94zm-11 1L8.5 8.5l.94-2.06 2.06-.94-2.06-.94L8.5 2.5l-.94 2.06-2.06.94zm10 10l.94 2.06.94-2.06 2.06-.94-2.06-.94-.94-2.06-.94 2.06-2.06.94z\"/><path d=\"M17.41 7.96l-1.37-1.37c-.4-.4-.92-.59-1.43-.59-.52 0-1.04.2-1.43.59L10.3 9.45l-7.72 7.72c-.78.78-.78 2.05 0 2.83L4 21.41c.39.39.9.59 1.41.59.51 0 1.02-.2 1.41-.59l7.78-7.78 2.81-2.81c.8-.78.8-2.07 0-2.86zM5.41 20L4 18.59l7.72-7.72 1.47 1.35L5.41 20z\"/>\n",
              "  </svg>\n",
              "      </button>\n",
              "      \n",
              "  <style>\n",
              "    .colab-df-container {\n",
              "      display:flex;\n",
              "      flex-wrap:wrap;\n",
              "      gap: 12px;\n",
              "    }\n",
              "\n",
              "    .colab-df-convert {\n",
              "      background-color: #E8F0FE;\n",
              "      border: none;\n",
              "      border-radius: 50%;\n",
              "      cursor: pointer;\n",
              "      display: none;\n",
              "      fill: #1967D2;\n",
              "      height: 32px;\n",
              "      padding: 0 0 0 0;\n",
              "      width: 32px;\n",
              "    }\n",
              "\n",
              "    .colab-df-convert:hover {\n",
              "      background-color: #E2EBFA;\n",
              "      box-shadow: 0px 1px 2px rgba(60, 64, 67, 0.3), 0px 1px 3px 1px rgba(60, 64, 67, 0.15);\n",
              "      fill: #174EA6;\n",
              "    }\n",
              "\n",
              "    [theme=dark] .colab-df-convert {\n",
              "      background-color: #3B4455;\n",
              "      fill: #D2E3FC;\n",
              "    }\n",
              "\n",
              "    [theme=dark] .colab-df-convert:hover {\n",
              "      background-color: #434B5C;\n",
              "      box-shadow: 0px 1px 3px 1px rgba(0, 0, 0, 0.15);\n",
              "      filter: drop-shadow(0px 1px 2px rgba(0, 0, 0, 0.3));\n",
              "      fill: #FFFFFF;\n",
              "    }\n",
              "  </style>\n",
              "\n",
              "      <script>\n",
              "        const buttonEl =\n",
              "          document.querySelector('#df-d62058bd-ea11-47c9-81e7-a213bb8ad2d8 button.colab-df-convert');\n",
              "        buttonEl.style.display =\n",
              "          google.colab.kernel.accessAllowed ? 'block' : 'none';\n",
              "\n",
              "        async function convertToInteractive(key) {\n",
              "          const element = document.querySelector('#df-d62058bd-ea11-47c9-81e7-a213bb8ad2d8');\n",
              "          const dataTable =\n",
              "            await google.colab.kernel.invokeFunction('convertToInteractive',\n",
              "                                                     [key], {});\n",
              "          if (!dataTable) return;\n",
              "\n",
              "          const docLinkHtml = 'Like what you see? Visit the ' +\n",
              "            '<a target=\"_blank\" href=https://colab.research.google.com/notebooks/data_table.ipynb>data table notebook</a>'\n",
              "            + ' to learn more about interactive tables.';\n",
              "          element.innerHTML = '';\n",
              "          dataTable['output_type'] = 'display_data';\n",
              "          await google.colab.output.renderOutput(dataTable, element);\n",
              "          const docLink = document.createElement('div');\n",
              "          docLink.innerHTML = docLinkHtml;\n",
              "          element.appendChild(docLink);\n",
              "        }\n",
              "      </script>\n",
              "    </div>\n",
              "  </div>\n",
              "  "
            ]
          },
          "metadata": {},
          "execution_count": 113
        }
      ]
    },
    {
      "cell_type": "code",
      "execution_count": null,
      "metadata": {
        "id": "1dAbwf6NTcxT"
      },
      "outputs": [],
      "source": []
    },
    {
      "cell_type": "code",
      "execution_count": null,
      "metadata": {
        "id": "i4eN616cTcxT"
      },
      "outputs": [],
      "source": []
    },
    {
      "cell_type": "markdown",
      "metadata": {
        "id": "zawSliDbTcxU"
      },
      "source": [
        "#### Concate ALL"
      ]
    },
    {
      "cell_type": "code",
      "execution_count": 128,
      "metadata": {
        "id": "JOdK1OFxTcxV"
      },
      "outputs": [],
      "source": [
        "import os"
      ]
    },
    {
      "cell_type": "code",
      "execution_count": 129,
      "metadata": {
        "id": "zpL4auDrTcxW"
      },
      "outputs": [],
      "source": [
        "cwd = os.path.abspath('') \n",
        "files = os.listdir(cwd)  "
      ]
    },
    {
      "cell_type": "code",
      "source": [
        "%cd /content/"
      ],
      "metadata": {
        "colab": {
          "base_uri": "https://localhost:8080/"
        },
        "id": "l6iKq6xpicYG",
        "outputId": "bc33fb10-98d2-4e7e-9a7b-5732753b1511"
      },
      "execution_count": 127,
      "outputs": [
        {
          "output_type": "stream",
          "name": "stdout",
          "text": [
            "/content\n"
          ]
        }
      ]
    },
    {
      "cell_type": "code",
      "execution_count": 130,
      "metadata": {
        "colab": {
          "base_uri": "https://localhost:8080/"
        },
        "id": "FeniTN8bTcxW",
        "outputId": "19a222ea-1196-4e76-d1ed-0f78e22f70be"
      },
      "outputs": [
        {
          "output_type": "execute_result",
          "data": {
            "text/plain": [
              "['.config',\n",
              " 'df_IMG_xlsx_resultats_phrci_2019_mel_v0-1_20200929.xlsx',\n",
              " 'df_IMG_xls_RESULTAT-PHRCI-2012-3.xls',\n",
              " 'df_IMG_xlsx_resultats_phrc-k_2016_mel.xlsx',\n",
              " 'df_IMG_xlsx_resultats_phrck_2018_mel.xlsx',\n",
              " 'df_IMG_xls_projets_retenus_phrc-n_2015.xls',\n",
              " 'df_IMG_xlsx_phrck_20_resultatsselection_v0-0_20210624_mel.xlsx',\n",
              " 'df_IMG_xlsx_resultats_phrc-k_2017_040118.xlsx',\n",
              " 'df_IMG_xlsx_projets_retenus_phrc-k_2015.xlsx',\n",
              " 'Data',\n",
              " 'df_IMG_xlsx_resultats_phrc-k_2019_mel_v0-2_20200205.xlsx',\n",
              " 'df_IMG_xlsx_dgos_resultats_phrc_i_2017_240718.xlsx',\n",
              " 'df_IMG_xlsx_resultats_phrc-n_2017_040118.xlsx',\n",
              " 'df_IMG_xlsx_resultats_phrcn_2018_mel.xlsx',\n",
              " 'df_IMG_xlsx_resultats_phrcn_2019_mel_v0-2_20200102.xlsx',\n",
              " 'df_IMG_xlsx_Resultats_PHRC-K_2013.xlsx',\n",
              " 'df_IMG_xls_resultats_phrc-k_2014.2.xls',\n",
              " 'df_IMG_xlsx_phrcn_20_resultatsselection_v2-0_20211006_mel.xlsx',\n",
              " 'df_IMG_xlsx_resultats_phrc-i_2016_mel.xlsx',\n",
              " 'df_IMG_xls_RESULTAT-PHRCN-2012-v2.xls',\n",
              " 'df_IMG_xls_Resultats_PHRC-N_2014.xls',\n",
              " 'df_IMG_xlsx_projets_retenus_phrc-i_2015.xlsx',\n",
              " 'df_IMG_xls_Projets_retenus_PHRC-I_2014.xls',\n",
              " 'df_IMG_xlsx_resultats_phrc_2016_mel.xlsx',\n",
              " 'df_IMG_xlsx_Resultats_PHRC-I_2013-1.xlsx',\n",
              " 'df_IMG_xls_RESULTAT-PHRCK-2012-2.xls',\n",
              " 'df_IMG_xlsx_Resultats_PHRC-N_2013.xlsx',\n",
              " 'df_IMG_xlsx_resultats_phrci_2018_mel.xlsx',\n",
              " 'sample_data']"
            ]
          },
          "metadata": {},
          "execution_count": 130
        }
      ],
      "source": [
        "files"
      ]
    },
    {
      "cell_type": "code",
      "execution_count": 158,
      "metadata": {
        "id": "hojeAUQRTcxY"
      },
      "outputs": [],
      "source": [
        "df_f = pd.DataFrame()\n",
        "for file in files:\n",
        "  if file.endswith('.xlsx'):\n",
        "   df = pd.concat(pd.read_excel(file, sheet_name=None), sort=False,axis=1)\n",
        "   df_f = df_f.append(df, ignore_index=True)\n",
        "  if file.endswith('.xls'):\n",
        "   df = pd.concat(pd.read_excel(file, sheet_name=None), sort=False,axis=1)\n",
        "   df_f = df_f.append(df, ignore_index=True)"
      ]
    },
    {
      "cell_type": "code",
      "execution_count": 161,
      "metadata": {
        "id": "45u3hnQsTcxY"
      },
      "outputs": [],
      "source": [
        "df_f.columns = column"
      ]
    },
    {
      "cell_type": "code",
      "source": [
        "df_f"
      ],
      "metadata": {
        "colab": {
          "base_uri": "https://localhost:8080/",
          "height": 1000
        },
        "id": "xbcLOmEulPNB",
        "outputId": "ed38f4a7-fe3f-4238-a3aa-ce079c84e2fc"
      },
      "execution_count": 163,
      "outputs": [
        {
          "output_type": "execute_result",
          "data": {
            "text/plain": [
              "       Porteur NOM Porteur PRENOM  N° du projet     FINESS  \\\n",
              "0         ANDANSON          Julie  PHRCI-19-054  310781406   \n",
              "1            AUDIA        Sylvain  PHRCI-19-088  210780581   \n",
              "2        BANNWARTH         Sylvie  PHRCI-19-028  060785011   \n",
              "3           BASTIT        Vianney  PHRCI-19-041  140000555   \n",
              "4     BEAU-FALLER         Michele  PHRCI-19-096  670780055   \n",
              "...            ...            ...           ...        ...   \n",
              "2036        VIVIEN         Benoît  PHRCI-18-022  750712205   \n",
              "2037       WEIBEL       Sébastien  PHRCI-18-031  670780055   \n",
              "2038       WYPLOSZ       Benjamin  PHRCI-18-023  750712206   \n",
              "2039       ZALLOT         Camille  PHRCI-18-032  540023264   \n",
              "2040       ZOGHEIB           Elie  PHRCI-18-047  800000044   \n",
              "\n",
              "     Nom de l'établissement de santé gestionnaire des fonds    Acronyme  \\\n",
              "0                                       CHU DE TOULOUSE         OT-DEFI   \n",
              "1                                             CHU DIJON        API-AHAI   \n",
              "2                                           CHU DE NICE        MITOMICS   \n",
              "3                       CENTRE FRANCOIS BACLESSE - CAEN         RoboCUP   \n",
              "4                 HOPITAUX UNIVERSITAIRES DE STRASBOURG        QUARTIER   \n",
              "...                                                 ...             ...   \n",
              "2036                          ASSISTANCE PUBLIQUE AP-HP        POTACREH   \n",
              "2037              HOPITAUX UNIVERSITAIRES DE STRASBOURG      ImAteM-TDA   \n",
              "2038                          ASSISTANCE PUBLIQUE AP-HP          TBVISA   \n",
              "2039                                       CHU DE NANCY        MICROSPA   \n",
              "2040                                         CHU AMIENS        HEMECMO    \n",
              "\n",
              "                                        Titre du projet  \\\n",
              "0     Intérêt de l’ocytocine comme traitement adjuva...   \n",
              "1     Efficacité d’une anticoagulation prolongée par...   \n",
              "2     Intérêt du multi-omics (WES / RNA-Seq) pour lu...   \n",
              "3     Intérêt de la mucosectomie de base de langue a...   \n",
              "4     Monitoring moléculaire par quantification de l...   \n",
              "...                                                 ...   \n",
              "2036  Evaluation de l’efficacité du chlorure de pota...   \n",
              "2037  Etude EEG-IRM de l'effet du méthylphénidate su...   \n",
              "2038  Évaluation prospective multicentrique de tests...   \n",
              "2039  Identification de biomarqueurs de SPondylArthr...   \n",
              "2040  Intérêt de l’ECMO veino - veineuse chez le pat...   \n",
              "\n",
              "      Autorisation d'engagement  Date Type  \n",
              "0                      282925.0  2019    I  \n",
              "1                      296508.0  2019    I  \n",
              "2                      247103.0  2019    I  \n",
              "3                      166510.0  2019    I  \n",
              "4                      295729.0  2019    I  \n",
              "...                         ...   ...  ...  \n",
              "2036                     152807  2018    I  \n",
              "2037                     295227  2018    I  \n",
              "2038                     206569  2018    I  \n",
              "2039                     291796  2018    I  \n",
              "2040                     133000  2018    I  \n",
              "\n",
              "[2041 rows x 10 columns]"
            ],
            "text/html": [
              "\n",
              "  <div id=\"df-02471126-3594-44d5-be5b-42e698a46295\">\n",
              "    <div class=\"colab-df-container\">\n",
              "      <div>\n",
              "<style scoped>\n",
              "    .dataframe tbody tr th:only-of-type {\n",
              "        vertical-align: middle;\n",
              "    }\n",
              "\n",
              "    .dataframe tbody tr th {\n",
              "        vertical-align: top;\n",
              "    }\n",
              "\n",
              "    .dataframe thead th {\n",
              "        text-align: right;\n",
              "    }\n",
              "</style>\n",
              "<table border=\"1\" class=\"dataframe\">\n",
              "  <thead>\n",
              "    <tr style=\"text-align: right;\">\n",
              "      <th></th>\n",
              "      <th>Porteur NOM</th>\n",
              "      <th>Porteur PRENOM</th>\n",
              "      <th>N° du projet</th>\n",
              "      <th>FINESS</th>\n",
              "      <th>Nom de l'établissement de santé gestionnaire des fonds</th>\n",
              "      <th>Acronyme</th>\n",
              "      <th>Titre du projet</th>\n",
              "      <th>Autorisation d'engagement</th>\n",
              "      <th>Date</th>\n",
              "      <th>Type</th>\n",
              "    </tr>\n",
              "  </thead>\n",
              "  <tbody>\n",
              "    <tr>\n",
              "      <th>0</th>\n",
              "      <td>ANDANSON</td>\n",
              "      <td>Julie</td>\n",
              "      <td>PHRCI-19-054</td>\n",
              "      <td>310781406</td>\n",
              "      <td>CHU DE TOULOUSE</td>\n",
              "      <td>OT-DEFI</td>\n",
              "      <td>Intérêt de l’ocytocine comme traitement adjuva...</td>\n",
              "      <td>282925.0</td>\n",
              "      <td>2019</td>\n",
              "      <td>I</td>\n",
              "    </tr>\n",
              "    <tr>\n",
              "      <th>1</th>\n",
              "      <td>AUDIA</td>\n",
              "      <td>Sylvain</td>\n",
              "      <td>PHRCI-19-088</td>\n",
              "      <td>210780581</td>\n",
              "      <td>CHU DIJON</td>\n",
              "      <td>API-AHAI</td>\n",
              "      <td>Efficacité d’une anticoagulation prolongée par...</td>\n",
              "      <td>296508.0</td>\n",
              "      <td>2019</td>\n",
              "      <td>I</td>\n",
              "    </tr>\n",
              "    <tr>\n",
              "      <th>2</th>\n",
              "      <td>BANNWARTH</td>\n",
              "      <td>Sylvie</td>\n",
              "      <td>PHRCI-19-028</td>\n",
              "      <td>060785011</td>\n",
              "      <td>CHU DE NICE</td>\n",
              "      <td>MITOMICS</td>\n",
              "      <td>Intérêt du multi-omics (WES / RNA-Seq) pour lu...</td>\n",
              "      <td>247103.0</td>\n",
              "      <td>2019</td>\n",
              "      <td>I</td>\n",
              "    </tr>\n",
              "    <tr>\n",
              "      <th>3</th>\n",
              "      <td>BASTIT</td>\n",
              "      <td>Vianney</td>\n",
              "      <td>PHRCI-19-041</td>\n",
              "      <td>140000555</td>\n",
              "      <td>CENTRE FRANCOIS BACLESSE - CAEN</td>\n",
              "      <td>RoboCUP</td>\n",
              "      <td>Intérêt de la mucosectomie de base de langue a...</td>\n",
              "      <td>166510.0</td>\n",
              "      <td>2019</td>\n",
              "      <td>I</td>\n",
              "    </tr>\n",
              "    <tr>\n",
              "      <th>4</th>\n",
              "      <td>BEAU-FALLER</td>\n",
              "      <td>Michele</td>\n",
              "      <td>PHRCI-19-096</td>\n",
              "      <td>670780055</td>\n",
              "      <td>HOPITAUX UNIVERSITAIRES DE STRASBOURG</td>\n",
              "      <td>QUARTIER</td>\n",
              "      <td>Monitoring moléculaire par quantification de l...</td>\n",
              "      <td>295729.0</td>\n",
              "      <td>2019</td>\n",
              "      <td>I</td>\n",
              "    </tr>\n",
              "    <tr>\n",
              "      <th>...</th>\n",
              "      <td>...</td>\n",
              "      <td>...</td>\n",
              "      <td>...</td>\n",
              "      <td>...</td>\n",
              "      <td>...</td>\n",
              "      <td>...</td>\n",
              "      <td>...</td>\n",
              "      <td>...</td>\n",
              "      <td>...</td>\n",
              "      <td>...</td>\n",
              "    </tr>\n",
              "    <tr>\n",
              "      <th>2036</th>\n",
              "      <td>VIVIEN</td>\n",
              "      <td>Benoît</td>\n",
              "      <td>PHRCI-18-022</td>\n",
              "      <td>750712205</td>\n",
              "      <td>ASSISTANCE PUBLIQUE AP-HP</td>\n",
              "      <td>POTACREH</td>\n",
              "      <td>Evaluation de l’efficacité du chlorure de pota...</td>\n",
              "      <td>152807</td>\n",
              "      <td>2018</td>\n",
              "      <td>I</td>\n",
              "    </tr>\n",
              "    <tr>\n",
              "      <th>2037</th>\n",
              "      <td>WEIBEL</td>\n",
              "      <td>Sébastien</td>\n",
              "      <td>PHRCI-18-031</td>\n",
              "      <td>670780055</td>\n",
              "      <td>HOPITAUX UNIVERSITAIRES DE STRASBOURG</td>\n",
              "      <td>ImAteM-TDA</td>\n",
              "      <td>Etude EEG-IRM de l'effet du méthylphénidate su...</td>\n",
              "      <td>295227</td>\n",
              "      <td>2018</td>\n",
              "      <td>I</td>\n",
              "    </tr>\n",
              "    <tr>\n",
              "      <th>2038</th>\n",
              "      <td>WYPLOSZ</td>\n",
              "      <td>Benjamin</td>\n",
              "      <td>PHRCI-18-023</td>\n",
              "      <td>750712206</td>\n",
              "      <td>ASSISTANCE PUBLIQUE AP-HP</td>\n",
              "      <td>TBVISA</td>\n",
              "      <td>Évaluation prospective multicentrique de tests...</td>\n",
              "      <td>206569</td>\n",
              "      <td>2018</td>\n",
              "      <td>I</td>\n",
              "    </tr>\n",
              "    <tr>\n",
              "      <th>2039</th>\n",
              "      <td>ZALLOT</td>\n",
              "      <td>Camille</td>\n",
              "      <td>PHRCI-18-032</td>\n",
              "      <td>540023264</td>\n",
              "      <td>CHU DE NANCY</td>\n",
              "      <td>MICROSPA</td>\n",
              "      <td>Identification de biomarqueurs de SPondylArthr...</td>\n",
              "      <td>291796</td>\n",
              "      <td>2018</td>\n",
              "      <td>I</td>\n",
              "    </tr>\n",
              "    <tr>\n",
              "      <th>2040</th>\n",
              "      <td>ZOGHEIB</td>\n",
              "      <td>Elie</td>\n",
              "      <td>PHRCI-18-047</td>\n",
              "      <td>800000044</td>\n",
              "      <td>CHU AMIENS</td>\n",
              "      <td>HEMECMO</td>\n",
              "      <td>Intérêt de l’ECMO veino - veineuse chez le pat...</td>\n",
              "      <td>133000</td>\n",
              "      <td>2018</td>\n",
              "      <td>I</td>\n",
              "    </tr>\n",
              "  </tbody>\n",
              "</table>\n",
              "<p>2041 rows × 10 columns</p>\n",
              "</div>\n",
              "      <button class=\"colab-df-convert\" onclick=\"convertToInteractive('df-02471126-3594-44d5-be5b-42e698a46295')\"\n",
              "              title=\"Convert this dataframe to an interactive table.\"\n",
              "              style=\"display:none;\">\n",
              "        \n",
              "  <svg xmlns=\"http://www.w3.org/2000/svg\" height=\"24px\"viewBox=\"0 0 24 24\"\n",
              "       width=\"24px\">\n",
              "    <path d=\"M0 0h24v24H0V0z\" fill=\"none\"/>\n",
              "    <path d=\"M18.56 5.44l.94 2.06.94-2.06 2.06-.94-2.06-.94-.94-2.06-.94 2.06-2.06.94zm-11 1L8.5 8.5l.94-2.06 2.06-.94-2.06-.94L8.5 2.5l-.94 2.06-2.06.94zm10 10l.94 2.06.94-2.06 2.06-.94-2.06-.94-.94-2.06-.94 2.06-2.06.94z\"/><path d=\"M17.41 7.96l-1.37-1.37c-.4-.4-.92-.59-1.43-.59-.52 0-1.04.2-1.43.59L10.3 9.45l-7.72 7.72c-.78.78-.78 2.05 0 2.83L4 21.41c.39.39.9.59 1.41.59.51 0 1.02-.2 1.41-.59l7.78-7.78 2.81-2.81c.8-.78.8-2.07 0-2.86zM5.41 20L4 18.59l7.72-7.72 1.47 1.35L5.41 20z\"/>\n",
              "  </svg>\n",
              "      </button>\n",
              "      \n",
              "  <style>\n",
              "    .colab-df-container {\n",
              "      display:flex;\n",
              "      flex-wrap:wrap;\n",
              "      gap: 12px;\n",
              "    }\n",
              "\n",
              "    .colab-df-convert {\n",
              "      background-color: #E8F0FE;\n",
              "      border: none;\n",
              "      border-radius: 50%;\n",
              "      cursor: pointer;\n",
              "      display: none;\n",
              "      fill: #1967D2;\n",
              "      height: 32px;\n",
              "      padding: 0 0 0 0;\n",
              "      width: 32px;\n",
              "    }\n",
              "\n",
              "    .colab-df-convert:hover {\n",
              "      background-color: #E2EBFA;\n",
              "      box-shadow: 0px 1px 2px rgba(60, 64, 67, 0.3), 0px 1px 3px 1px rgba(60, 64, 67, 0.15);\n",
              "      fill: #174EA6;\n",
              "    }\n",
              "\n",
              "    [theme=dark] .colab-df-convert {\n",
              "      background-color: #3B4455;\n",
              "      fill: #D2E3FC;\n",
              "    }\n",
              "\n",
              "    [theme=dark] .colab-df-convert:hover {\n",
              "      background-color: #434B5C;\n",
              "      box-shadow: 0px 1px 3px 1px rgba(0, 0, 0, 0.15);\n",
              "      filter: drop-shadow(0px 1px 2px rgba(0, 0, 0, 0.3));\n",
              "      fill: #FFFFFF;\n",
              "    }\n",
              "  </style>\n",
              "\n",
              "      <script>\n",
              "        const buttonEl =\n",
              "          document.querySelector('#df-02471126-3594-44d5-be5b-42e698a46295 button.colab-df-convert');\n",
              "        buttonEl.style.display =\n",
              "          google.colab.kernel.accessAllowed ? 'block' : 'none';\n",
              "\n",
              "        async function convertToInteractive(key) {\n",
              "          const element = document.querySelector('#df-02471126-3594-44d5-be5b-42e698a46295');\n",
              "          const dataTable =\n",
              "            await google.colab.kernel.invokeFunction('convertToInteractive',\n",
              "                                                     [key], {});\n",
              "          if (!dataTable) return;\n",
              "\n",
              "          const docLinkHtml = 'Like what you see? Visit the ' +\n",
              "            '<a target=\"_blank\" href=https://colab.research.google.com/notebooks/data_table.ipynb>data table notebook</a>'\n",
              "            + ' to learn more about interactive tables.';\n",
              "          element.innerHTML = '';\n",
              "          dataTable['output_type'] = 'display_data';\n",
              "          await google.colab.output.renderOutput(dataTable, element);\n",
              "          const docLink = document.createElement('div');\n",
              "          docLink.innerHTML = docLinkHtml;\n",
              "          element.appendChild(docLink);\n",
              "        }\n",
              "      </script>\n",
              "    </div>\n",
              "  </div>\n",
              "  "
            ]
          },
          "metadata": {},
          "execution_count": 163
        }
      ]
    },
    {
      "cell_type": "code",
      "source": [
        "df_f['Date'].unique()"
      ],
      "metadata": {
        "colab": {
          "base_uri": "https://localhost:8080/"
        },
        "id": "S8W83XBmj40E",
        "outputId": "a8feaa33-01b9-4c2e-962d-bd23c146c783"
      },
      "execution_count": 160,
      "outputs": [
        {
          "output_type": "execute_result",
          "data": {
            "text/plain": [
              "array([2019, 2012, 2016, 2018, 2015, 2020, 2017, 2013, 2014])"
            ]
          },
          "metadata": {},
          "execution_count": 160
        }
      ]
    },
    {
      "cell_type": "code",
      "execution_count": 160,
      "metadata": {
        "id": "YDqP96fiTcxY"
      },
      "outputs": [],
      "source": [
        "\n"
      ]
    },
    {
      "cell_type": "code",
      "execution_count": 162,
      "metadata": {
        "id": "6ON-H2_kTcxY"
      },
      "outputs": [],
      "source": []
    },
    {
      "cell_type": "code",
      "execution_count": null,
      "metadata": {
        "id": "hzlIN0xjTcxY"
      },
      "outputs": [],
      "source": []
    }
  ],
  "metadata": {
    "colab": {
      "collapsed_sections": [],
      "provenance": [],
      "include_colab_link": true
    },
    "kernelspec": {
      "display_name": "Python 3 (ipykernel)",
      "language": "python",
      "name": "python3"
    },
    "language_info": {
      "codemirror_mode": {
        "name": "ipython",
        "version": 3
      },
      "file_extension": ".py",
      "mimetype": "text/x-python",
      "name": "python",
      "nbconvert_exporter": "python",
      "pygments_lexer": "ipython3",
      "version": "3.8.13"
    }
  },
  "nbformat": 4,
  "nbformat_minor": 0
}