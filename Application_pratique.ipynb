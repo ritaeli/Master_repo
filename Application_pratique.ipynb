{
  "cells": [
    {
      "cell_type": "markdown",
      "metadata": {
        "id": "view-in-github",
        "colab_type": "text"
      },
      "source": [
        "<a href=\"https://colab.research.google.com/github/Murat-Simsek/Master_repo/blob/main/Application_pratique.ipynb\" target=\"_parent\"><img src=\"https://colab.research.google.com/assets/colab-badge.svg\" alt=\"Open In Colab\"/></a>"
      ]
    },
    {
      "cell_type": "markdown",
      "source": [
        "### Download of Data"
      ],
      "metadata": {
        "id": "lbBGTnaNxaJz"
      }
    },
    {
      "cell_type": "code",
      "execution_count": null,
      "metadata": {
        "id": "Prb1WMns4rDc"
      },
      "outputs": [],
      "source": [
        "import pandas as pd"
      ]
    },
    {
      "cell_type": "code",
      "execution_count": null,
      "metadata": {
        "id": "dO7me3ckd5dL"
      },
      "outputs": [],
      "source": [
        "# import necessary libraries\n",
        "from bs4 import BeautifulSoup\n",
        "import requests\n",
        "import re\n",
        "\n",
        "\n",
        "# function to extract html document from given url\n",
        "def getHTMLdocument(url):\n",
        "\t\n",
        "\t# request for HTML document of given url\n",
        "\tresponse = requests.get(url)\n",
        "\t\n",
        "\t# response will be provided in JSON format\n",
        "\treturn response.text\n",
        "\n",
        "\t\n",
        "# assign required credentials\n",
        "# assign URL\n",
        "url_to_scrape = \"https://solidarites-sante.gouv.fr/systeme-de-sante-et-medico-social/innovation-et-recherche/l-innovation-et-la-recherche-clinique/appels-a-projets/article/les-projets-retenus\"\n",
        "\n",
        "# create document\n",
        "html_document = getHTMLdocument(url_to_scrape)\n",
        "\n",
        "# create soap object\n",
        "soup = BeautifulSoup(html_document, 'html.parser')\n",
        "\n",
        "links = []\n",
        "# find all the anchor tags with \"href\"\n",
        "# attribute starting with \"https://\"\n",
        "for link in soup.find_all('a',\n",
        "\t\t\t\t\t\tattrs={'href': re.compile(\"IMG/xls/\")}):\n",
        "            links.append(link.get('href'))\n",
        "for link in soup.find_all('a',\n",
        "\t\t\t\t\t\tattrs={'href': re.compile(\"IMG/xlsx/\")}):\n",
        "            links.append(link.get('href'))\n",
        "\t\n",
        "\t\n",
        "  \n",
        " "
      ]
    },
    {
      "cell_type": "code",
      "execution_count": null,
      "metadata": {
        "colab": {
          "base_uri": "https://localhost:8080/"
        },
        "id": "hr34Tcyqew7m",
        "outputId": "a24a3b66-79a1-4e0d-92fc-518187f08785"
      },
      "outputs": [
        {
          "output_type": "execute_result",
          "data": {
            "text/plain": [
              "['IMG/xls/resultats_prtk_2014.xls',\n",
              " 'IMG/xls/resultat-prts-2014.xls',\n",
              " 'IMG/xls/projets_retenus_phrc-n_2015.xls',\n",
              " 'IMG/xls/Resultats_PHRC-N_2014.xls',\n",
              " 'IMG/xls/resultats_phrc-k_2014.2.xls']"
            ]
          },
          "metadata": {},
          "execution_count": 3
        }
      ],
      "source": [
        "links[:5]"
      ]
    },
    {
      "cell_type": "code",
      "execution_count": null,
      "metadata": {
        "id": "BK5vQN8SEFYB"
      },
      "outputs": [],
      "source": [
        "l = [l for l in links if \"PHRC\" in l] + [l for l in links if \"phrc\" in l]"
      ]
    },
    {
      "cell_type": "code",
      "execution_count": null,
      "metadata": {
        "colab": {
          "base_uri": "https://localhost:8080/"
        },
        "id": "-qQpKPFIELgS",
        "outputId": "c8e88f63-9e90-417f-a14e-aeb1946d2280"
      },
      "outputs": [
        {
          "output_type": "execute_result",
          "data": {
            "text/plain": [
              "27"
            ]
          },
          "metadata": {},
          "execution_count": 5
        }
      ],
      "source": [
        "len(l) # Links researched in the site"
      ]
    },
    {
      "cell_type": "code",
      "execution_count": null,
      "metadata": {
        "colab": {
          "base_uri": "https://localhost:8080/"
        },
        "id": "0L0VqXQxqMcZ",
        "outputId": "770381f2-6c89-4e8c-8ff3-1c3f8f6b4552"
      },
      "outputs": [
        {
          "output_type": "stream",
          "name": "stdout",
          "text": [
            "Looking in indexes: https://pypi.org/simple, https://us-python.pkg.dev/colab-wheels/public/simple/\n",
            "Requirement already satisfied: xlrd in /usr/local/lib/python3.7/dist-packages (1.1.0)\n",
            "Collecting xlrd\n",
            "  Downloading xlrd-2.0.1-py2.py3-none-any.whl (96 kB)\n",
            "\u001b[K     |████████████████████████████████| 96 kB 1.8 MB/s \n",
            "\u001b[?25hInstalling collected packages: xlrd\n",
            "  Attempting uninstall: xlrd\n",
            "    Found existing installation: xlrd 1.1.0\n",
            "    Uninstalling xlrd-1.1.0:\n",
            "      Successfully uninstalled xlrd-1.1.0\n",
            "Successfully installed xlrd-2.0.1\n"
          ]
        }
      ],
      "source": [
        "pip install --upgrade xlrd"
      ]
    },
    {
      "cell_type": "code",
      "execution_count": null,
      "metadata": {
        "id": "CeuFeFp5X38Q"
      },
      "outputs": [],
      "source": [
        "import requests\n",
        "import pandas as pd\n",
        "url = 'https://solidarites-sante.gouv.fr/IMG/xlsx/prts_21_resultatsselection_v2-1_20211004_mel.xlsx'\n",
        "#r = requests.get(url)\n",
        "#open('temp.xls', 'wb').write(r.content)\n",
        "#df = pd.read_excel('temp.xls')"
      ]
    },
    {
      "cell_type": "code",
      "execution_count": null,
      "metadata": {
        "id": "AApcgBJAslU0"
      },
      "outputs": [],
      "source": [
        "comp_links = []\n",
        "for complet_link in l:\n",
        "  complet_link = 'https://solidarites-sante.gouv.fr/' + complet_link\n",
        "  comp_links.append(complet_link)"
      ]
    },
    {
      "cell_type": "code",
      "execution_count": null,
      "metadata": {
        "colab": {
          "base_uri": "https://localhost:8080/"
        },
        "id": "WyTdapSdtMNJ",
        "outputId": "c9c6218d-a15f-410e-f76f-2602d1078e61"
      },
      "outputs": [
        {
          "output_type": "execute_result",
          "data": {
            "text/plain": [
              "['https://solidarites-sante.gouv.fr/IMG/xls/Resultats_PHRC-N_2014.xls',\n",
              " 'https://solidarites-sante.gouv.fr/IMG/xls/Projets_retenus_PHRC-I_2014.xls',\n",
              " 'https://solidarites-sante.gouv.fr/IMG/xls/RESULTAT-PHRCN-2012-v2.xls',\n",
              " 'https://solidarites-sante.gouv.fr/IMG/xls/RESULTAT-PHRCK-2012-2.xls',\n",
              " 'https://solidarites-sante.gouv.fr/IMG/xls/RESULTAT-PHRCI-2012-3.xls']"
            ]
          },
          "metadata": {},
          "execution_count": 9
        }
      ],
      "source": [
        "comp_links[0:5]"
      ]
    },
    {
      "cell_type": "code",
      "execution_count": null,
      "metadata": {
        "id": "6p99L4uZzhTa"
      },
      "outputs": [],
      "source": [
        "df = []\n",
        "for d in l:\n",
        "  dfs = 'df_' + d #can add directory for files\n",
        "  df.append(dfs)"
      ]
    },
    {
      "cell_type": "code",
      "execution_count": null,
      "metadata": {
        "id": "uHV2SM-t2qzZ"
      },
      "outputs": [],
      "source": [
        "df = list(map(lambda x: x.replace('/', '_'), df)) # removing all the annoying / that disturb the for loop"
      ]
    },
    {
      "cell_type": "code",
      "execution_count": null,
      "metadata": {
        "colab": {
          "base_uri": "https://localhost:8080/"
        },
        "id": "a_jWm031mszN",
        "outputId": "a4ef9cb6-1b7c-4f37-e423-d20f80d6e052"
      },
      "outputs": [
        {
          "output_type": "execute_result",
          "data": {
            "text/plain": [
              "['df_IMG_xls_Resultats_PHRC-N_2014.xls',\n",
              " 'df_IMG_xls_Projets_retenus_PHRC-I_2014.xls',\n",
              " 'df_IMG_xls_RESULTAT-PHRCN-2012-v2.xls',\n",
              " 'df_IMG_xls_RESULTAT-PHRCK-2012-2.xls',\n",
              " 'df_IMG_xls_RESULTAT-PHRCI-2012-3.xls']"
            ]
          },
          "metadata": {},
          "execution_count": 12
        }
      ],
      "source": [
        "df[:5]"
      ]
    },
    {
      "cell_type": "code",
      "source": [
        "!mkdir Data # create folders\n",
        "%cd Data"
      ],
      "metadata": {
        "colab": {
          "base_uri": "https://localhost:8080/"
        },
        "id": "QCtlJdG66w5v",
        "outputId": "4074e99f-accf-4daa-9fc1-39d25a6acb5b"
      },
      "execution_count": null,
      "outputs": [
        {
          "output_type": "stream",
          "name": "stdout",
          "text": [
            "/content/Data\n"
          ]
        }
      ]
    },
    {
      "cell_type": "code",
      "execution_count": null,
      "metadata": {
        "id": "4kchZY-xqYTP"
      },
      "outputs": [],
      "source": [
        "from numpy.lib.npyio import save\n",
        "from requests.api import request\n",
        "\n",
        "for d,i in zip(comp_links,df):  # for loop to request and save the files with their names in df and link in comp_links\n",
        "    r = requests.get(d)\n",
        "    open(i , 'wb').write(r.content)\n",
        "    df1 = pd.read_excel(i)"
      ]
    },
    {
      "cell_type": "code",
      "execution_count": null,
      "metadata": {
        "id": "TL6UvNlpwbWW"
      },
      "outputs": [],
      "source": []
    },
    {
      "cell_type": "code",
      "execution_count": null,
      "metadata": {
        "id": "q8v22gqpruCW"
      },
      "outputs": [],
      "source": []
    },
    {
      "cell_type": "markdown",
      "source": [
        "###  Modification of data columns"
      ],
      "metadata": {
        "id": "Ajql90j9xQ-3"
      }
    },
    {
      "cell_type": "code",
      "source": [
        "column = ['Porteur NOM',\n",
        "       'Porteur PRENOM',\n",
        "       'N° du projet', \n",
        "       'FINESS',\n",
        "       \"Nom de l'établissement de santé gestionnaire des fonds\", \n",
        "       'Acronyme',\n",
        "       'Titre du projet', \n",
        "       \" Autorisation d'engagement\",'Date','Type']"
      ],
      "metadata": {
        "id": "jdyJ7eF70_m5"
      },
      "execution_count": null,
      "outputs": []
    },
    {
      "cell_type": "markdown",
      "source": [
        "#### 2020-2017"
      ],
      "metadata": {
        "id": "C1JO8M6pokuP"
      }
    },
    {
      "cell_type": "code",
      "source": [
        "dict_colmns_date = {\n",
        "    \"df_IMG_xlsx_phrcn_20_resultatsselection_v2-0_20211006_mel.xlsx\":2020,\n",
        "    \"df_IMG_xlsx_phrck_20_resultatsselection_v0-0_20210624_mel.xlsx\":2020,\n",
        "    #\"df_IMG_xlsx_phrcn_21_resultatsselection_v0-0_20220713_mel.xlsx\":2021,\n",
        "    \"df_IMG_xlsx_resultats_phrcn_2019_mel_v0-2_20200102.xlsx\":2019,\n",
        "    \"df_IMG_xlsx_resultats_phrc-k_2019_mel_v0-2_20200205.xlsx\":2019,\n",
        "    \"df_IMG_xlsx_resultats_phrci_2019_mel_v0-1_20200929.xlsx\":2019,\n",
        "    \"df_IMG_xlsx_resultats_phrcn_2018_mel.xlsx\":2018,\n",
        "    \"df_IMG_xlsx_resultats_phrck_2018_mel.xlsx\":2018,\n",
        "    \"df_IMG_xlsx_resultats_phrci_2018_mel.xlsx\":2018,\n",
        "    \"df_IMG_xlsx_resultats_phrc-n_2017_040118.xlsx\":2017,\n",
        "    \"df_IMG_xlsx_resultats_phrc-k_2017_040118.xlsx\":2017,\n",
        "    \"df_IMG_xlsx_dgos_resultats_phrc_i_2017_240718.xlsx\":2017,\n",
        "    \n",
        "\n",
        "}\n",
        "\n",
        "# -------------------------------------------------\n",
        "dict_colmns_type = {\n",
        "    \"df_IMG_xlsx_phrcn_20_resultatsselection_v2-0_20211006_mel.xlsx\":\"N\",\n",
        "    \"df_IMG_xlsx_phrck_20_resultatsselection_v0-0_20210624_mel.xlsx\":\"K\",\n",
        "   # \"df_IMG_xlsx_phrcn_21_resultatsselection_v0-0_20220713_mel.xlsx\":\"N\",\n",
        "    \"df_IMG_xlsx_resultats_phrcn_2019_mel_v0-2_20200102.xlsx\":\"N\",\n",
        "    \"df_IMG_xlsx_resultats_phrc-k_2019_mel_v0-2_20200205.xlsx\":\"K\",\n",
        "    \"df_IMG_xlsx_resultats_phrci_2019_mel_v0-1_20200929.xlsx\":\"I\",\n",
        "    \"df_IMG_xlsx_resultats_phrcn_2018_mel.xlsx\":\"N\",\n",
        "    \"df_IMG_xlsx_resultats_phrck_2018_mel.xlsx\":\"K\",\n",
        "    \"df_IMG_xlsx_resultats_phrci_2018_mel.xlsx\":\"I\",\n",
        "    \"df_IMG_xlsx_resultats_phrc-n_2017_040118.xlsx\":\"N\",\n",
        "    \"df_IMG_xlsx_resultats_phrc-k_2017_040118.xlsx\":\"K\",\n",
        "    \"df_IMG_xlsx_dgos_resultats_phrc_i_2017_240718.xlsx\":\"I\"\n",
        "\n",
        "\n",
        "}"
      ],
      "metadata": {
        "id": "uAw5dYoHcJdX"
      },
      "execution_count": null,
      "outputs": []
    },
    {
      "cell_type": "code",
      "source": [
        "for d,t in zip(dict_colmns_date,dict_colmns_type):\n",
        "  path = d\n",
        "  df_1 = pd.read_excel(path)\n",
        "  print(f\"{d}--------------------------\")\n",
        "  print(len(df_1.columns))\n",
        "  print(df_1.columns)\n",
        "  df_1['Date'] = dict_colmns_date[d] # Date a ajouter\n",
        "  df_1[\"Type\"] = dict_colmns_type[t]   # Type du fichier\n",
        "  df_1.columns = column\n",
        "  print(df_1.columns)\n",
        "  df_1.to_excel('/content/' + path,index=False)"
      ],
      "metadata": {
        "colab": {
          "base_uri": "https://localhost:8080/"
        },
        "id": "DgOTz-okdUhd",
        "outputId": "d2bcb501-a46b-4b61-8d8b-ce6f4214827e"
      },
      "execution_count": null,
      "outputs": [
        {
          "output_type": "stream",
          "name": "stdout",
          "text": [
            "df_IMG_xlsx_phrcn_20_resultatsselection_v2-0_20211006_mel.xlsx--------------------------\n",
            "8\n",
            "Index(['Porteur de projet / Investigateur\\ncoordonnateur\\nNOM',\n",
            "       'Porteur de projet / Investigateur\\ncoordonnateur\\nPRENOM',\n",
            "       'N° du projet', 'FINESS',\n",
            "       'Nom de l'établissement de santé gestionnaire des fonds', 'Acronyme',\n",
            "       'Titre du projet ', 'Autorisation d'engagement (AE)'],\n",
            "      dtype='object')\n",
            "Index(['Porteur NOM', 'Porteur PRENOM', 'N° du projet', 'FINESS',\n",
            "       'Nom de l'établissement de santé gestionnaire des fonds', 'Acronyme',\n",
            "       'Titre du projet', ' Autorisation d'engagement', 'Date', 'Type'],\n",
            "      dtype='object')\n",
            "df_IMG_xlsx_phrck_20_resultatsselection_v0-0_20210624_mel.xlsx--------------------------\n",
            "8\n",
            "Index(['Porteur de projet /  Investigateur coordonnateur\\nNOM',\n",
            "       'Porteur de projet / Investigateur coordonnateur\\nPRENOM',\n",
            "       'N° du projet\\nPHRC-K', 'FINESS',\n",
            "       'Nom de l'établissement de santé\\ngestionnaire des fonds', 'Acronyme',\n",
            "       'Titre du projet', ' Autorisation d'engagement '],\n",
            "      dtype='object')\n",
            "Index(['Porteur NOM', 'Porteur PRENOM', 'N° du projet', 'FINESS',\n",
            "       'Nom de l'établissement de santé gestionnaire des fonds', 'Acronyme',\n",
            "       'Titre du projet', ' Autorisation d'engagement', 'Date', 'Type'],\n",
            "      dtype='object')\n",
            "df_IMG_xlsx_resultats_phrcn_2019_mel_v0-2_20200102.xlsx--------------------------\n",
            "8\n",
            "Index(['Porteur de projet / Investigateur\\ncoordonnateur\\nNOM',\n",
            "       'Porteur de projet / Investigateur\\ncoordonnateur\\nPRENOM',\n",
            "       'Numéro projet PHRC-N', 'FINESS',\n",
            "       'Nom de l'établissement de santé gestionnaire des fonds', 'Acronyme',\n",
            "       'Titre du projet ', 'Autorisation d'engagement (AE)'],\n",
            "      dtype='object')\n",
            "Index(['Porteur NOM', 'Porteur PRENOM', 'N° du projet', 'FINESS',\n",
            "       'Nom de l'établissement de santé gestionnaire des fonds', 'Acronyme',\n",
            "       'Titre du projet', ' Autorisation d'engagement', 'Date', 'Type'],\n",
            "      dtype='object')\n",
            "df_IMG_xlsx_resultats_phrc-k_2019_mel_v0-2_20200205.xlsx--------------------------\n",
            "8\n",
            "Index(['Porteur de projet / Investigateur\\ncoordonnateur\\nNOM',\n",
            "       'Porteur de projet / Investigateur\\ncoordonnateur\\nPRENOM',\n",
            "       'N° du projet', 'FINESS',\n",
            "       'Nom de l'établissement de santé\\ngestionnaire des fonds', 'Acronyme',\n",
            "       'Titre du projet', ' Autorisation d'engagement '],\n",
            "      dtype='object')\n",
            "Index(['Porteur NOM', 'Porteur PRENOM', 'N° du projet', 'FINESS',\n",
            "       'Nom de l'établissement de santé gestionnaire des fonds', 'Acronyme',\n",
            "       'Titre du projet', ' Autorisation d'engagement', 'Date', 'Type'],\n",
            "      dtype='object')\n",
            "df_IMG_xlsx_resultats_phrci_2019_mel_v0-1_20200929.xlsx--------------------------\n",
            "8\n",
            "Index(['Porteur de projet / Investigateur\\ncoordonnateur\\nNOM',\n",
            "       'Porteur de projet / Investigateur\\ncoordonnateur\\nPRENOM',\n",
            "       'N° du projet', 'FINESS',\n",
            "       'Nom de l'établissement de santé\\ngestionnaire des fonds', 'Acronyme',\n",
            "       'Titre du projet', 'Autorisation d'engagement '],\n",
            "      dtype='object')\n",
            "Index(['Porteur NOM', 'Porteur PRENOM', 'N° du projet', 'FINESS',\n",
            "       'Nom de l'établissement de santé gestionnaire des fonds', 'Acronyme',\n",
            "       'Titre du projet', ' Autorisation d'engagement', 'Date', 'Type'],\n",
            "      dtype='object')\n",
            "df_IMG_xlsx_resultats_phrcn_2018_mel.xlsx--------------------------\n",
            "8\n",
            "Index(['Porteur de projet / Investigateur\\ncoordonnateur\\nNOM',\n",
            "       'Porteur de projet / Investigateur\\ncoordonnateur\\nPRENOM',\n",
            "       'N° du projet', 'FINESS',\n",
            "       'Nom de l'établissement de santé\\ngestionnaire des fonds', 'Acronyme',\n",
            "       'Titre du projet', 'Autorisation d'engagement'],\n",
            "      dtype='object')\n",
            "Index(['Porteur NOM', 'Porteur PRENOM', 'N° du projet', 'FINESS',\n",
            "       'Nom de l'établissement de santé gestionnaire des fonds', 'Acronyme',\n",
            "       'Titre du projet', ' Autorisation d'engagement', 'Date', 'Type'],\n",
            "      dtype='object')\n",
            "df_IMG_xlsx_resultats_phrck_2018_mel.xlsx--------------------------\n",
            "8\n",
            "Index(['Porteur de projet / Investigateur\\ncoordonnateur\\nNOM',\n",
            "       'Porteur de projet / Investigateur\\ncoordonnateur\\nPRENOM',\n",
            "       'N° du projet', 'FINESS',\n",
            "       'Nom de l'établissement de santé\\ngestionnaire des fonds', 'Acronyme',\n",
            "       'Titre du projet', ' Autorisation d'engagement '],\n",
            "      dtype='object')\n",
            "Index(['Porteur NOM', 'Porteur PRENOM', 'N° du projet', 'FINESS',\n",
            "       'Nom de l'établissement de santé gestionnaire des fonds', 'Acronyme',\n",
            "       'Titre du projet', ' Autorisation d'engagement', 'Date', 'Type'],\n",
            "      dtype='object')\n",
            "df_IMG_xlsx_resultats_phrci_2018_mel.xlsx--------------------------\n",
            "8\n",
            "Index(['Porteur de projet / Investigateur\\ncoordonnateur\\nNOM',\n",
            "       'Porteur de projet / Investigateur\\ncoordonnateur\\nPRENOM',\n",
            "       'N° du projet', 'FINESS',\n",
            "       'Nom de l'établissement de santé\\ngestionnaire des fonds', 'Acronyme',\n",
            "       'Titre du projet', 'Autorisation d'engagement '],\n",
            "      dtype='object')\n",
            "Index(['Porteur NOM', 'Porteur PRENOM', 'N° du projet', 'FINESS',\n",
            "       'Nom de l'établissement de santé gestionnaire des fonds', 'Acronyme',\n",
            "       'Titre du projet', ' Autorisation d'engagement', 'Date', 'Type'],\n",
            "      dtype='object')\n",
            "df_IMG_xlsx_resultats_phrc-n_2017_040118.xlsx--------------------------\n",
            "8\n",
            "Index(['Porteur de projet / Investigateur\\ncoordonnateur\\nNOM',\n",
            "       'Porteur de projet / Investigateur\\ncoordonnateur\\nPRENOM',\n",
            "       'N° du projet', 'FINESS',\n",
            "       'Nom de l'établissement de santé\\ngestionnaire des fonds', 'Acronyme',\n",
            "       'Titre du projet', 'Autorisation d'engagement '],\n",
            "      dtype='object')\n",
            "Index(['Porteur NOM', 'Porteur PRENOM', 'N° du projet', 'FINESS',\n",
            "       'Nom de l'établissement de santé gestionnaire des fonds', 'Acronyme',\n",
            "       'Titre du projet', ' Autorisation d'engagement', 'Date', 'Type'],\n",
            "      dtype='object')\n",
            "df_IMG_xlsx_resultats_phrc-k_2017_040118.xlsx--------------------------\n",
            "8\n",
            "Index(['Nom Porteur', 'Prénom Porteur', 'Numéro', 'FINESS',\n",
            "       'Nom de l'établissement de santé gestionnaire des fonds', 'Acronyme',\n",
            "       'Titre du projet', 'Autorisation d'engagement (AE)'],\n",
            "      dtype='object')\n",
            "Index(['Porteur NOM', 'Porteur PRENOM', 'N° du projet', 'FINESS',\n",
            "       'Nom de l'établissement de santé gestionnaire des fonds', 'Acronyme',\n",
            "       'Titre du projet', ' Autorisation d'engagement', 'Date', 'Type'],\n",
            "      dtype='object')\n",
            "df_IMG_xlsx_dgos_resultats_phrc_i_2017_240718.xlsx--------------------------\n",
            "8\n",
            "Index(['Porteur de projet / Investigateur\\ncoordonnateur\\nNOM',\n",
            "       'Porteur de projet / Investigateur\\ncoordonnateur\\nPRENOM',\n",
            "       'N° du projet', 'FINESS',\n",
            "       'Nom de l'établissement de santé\\ngestionnaire des fonds', 'Acronyme',\n",
            "       'Titre du projet', 'Autorisation d'engagement '],\n",
            "      dtype='object')\n",
            "Index(['Porteur NOM', 'Porteur PRENOM', 'N° du projet', 'FINESS',\n",
            "       'Nom de l'établissement de santé gestionnaire des fonds', 'Acronyme',\n",
            "       'Titre du projet', ' Autorisation d'engagement', 'Date', 'Type'],\n",
            "      dtype='object')\n"
          ]
        }
      ]
    },
    {
      "cell_type": "code",
      "source": [
        "# \n",
        "#path = \"df_IMG_xlsx_phrcn_20_resultatsselection_v2-0_20211006_mel.xlsx\"\n",
        "#df_1 = pd.read_excel(path)\n",
        "#print(len(df_1.columns))\n",
        "#print(df_1.columns)\n",
        "#df_1['Date'] = 2020 # Date a ajouter\n",
        "#df_1[\"Type\"] = \"N\"   # Type du fichier\n",
        "#df_1.columns = column\n",
        "#print(df_1.columns)\n",
        "#df_1.to_excel('/content/' + path,index=False) # save file outside of Data File"
      ],
      "metadata": {
        "id": "Sj7gxdfv0_rP"
      },
      "execution_count": null,
      "outputs": []
    },
    {
      "cell_type": "markdown",
      "source": [
        "#### 2016-2012"
      ],
      "metadata": {
        "id": "_YoSR6AiobGA"
      }
    },
    {
      "cell_type": "code",
      "source": [
        "column"
      ],
      "metadata": {
        "id": "TXI5k4kI2UFk",
        "colab": {
          "base_uri": "https://localhost:8080/"
        },
        "outputId": "8b48ca49-8c8a-42f2-c133-52876d5eea80"
      },
      "execution_count": null,
      "outputs": [
        {
          "output_type": "execute_result",
          "data": {
            "text/plain": [
              "['Porteur NOM',\n",
              " 'Porteur PRENOM',\n",
              " 'N° du projet',\n",
              " 'FINESS',\n",
              " \"Nom de l'établissement de santé gestionnaire des fonds\",\n",
              " 'Acronyme',\n",
              " 'Titre du projet',\n",
              " \" Autorisation d'engagement\",\n",
              " 'Date',\n",
              " 'Type']"
            ]
          },
          "metadata": {},
          "execution_count": 47
        }
      ]
    },
    {
      "cell_type": "code",
      "execution_count": null,
      "metadata": {
        "id": "j1zHxnphTcxM",
        "outputId": "8f82e7d1-7296-4953-d475-2d4fdaddadd1",
        "colab": {
          "base_uri": "https://localhost:8080/"
        }
      },
      "outputs": [
        {
          "output_type": "stream",
          "name": "stdout",
          "text": [
            "Index(['FINESS\\njuridique',\n",
            "       'Nom de l'établissement de santé\\ngestionnaire des fonds',\n",
            "       'Porteur de projet / Investigateur\\ncoordonnateur\\nNOM',\n",
            "       'Porteur de projet / Investigateur\\ncoordonnateur\\nPRENOM',\n",
            "       'Titre du projet', 'N° du projet', 'Acronyme',\n",
            "       ' Autorisation d'engagement '],\n",
            "      dtype='object')\n",
            "-----------------------------------------------------------------------------------\n",
            "Index(['FINESS\\njuridique',\n",
            "       'Nom de l'établissement de santé\\ngestionnaire des fonds',\n",
            "       'Porteur de projet / Investigateur\\ncoordonnateur\\nNOM',\n",
            "       'Porteur de projet / Investigateur\\ncoordonnateur\\nPRENOM',\n",
            "       'Titre du projet', 'N° du projet', 'Acronyme',\n",
            "       ' Autorisation d'engagement '],\n",
            "      dtype='object')\n",
            "-----------------------------------------------------------------------------------\n",
            "Index(['FINESS\\njuridique',\n",
            "       'Nom de l'établissement de santé\\ngestionnaire des fonds',\n",
            "       'Porteur de projet / Investigateur\\ncoordonnateur\\nNOM',\n",
            "       'Porteur de projet / Investigateur\\ncoordonnateur\\nPRENOM',\n",
            "       'Titre du projet', 'N° du projet', 'Acronyme',\n",
            "       'Autorisation d'engagement'],\n",
            "      dtype='object')\n",
            "-----------------------------------------------------------------------------------\n",
            "Index(['FINESS\\njuridique',\n",
            "       'Nom de l'établissement de santé\\ngestionnaire des fonds',\n",
            "       'Porteur de projet / Investigateur\\ncoordonnateur\\nNOM',\n",
            "       'Porteur de projet / Investigateur\\ncoordonnateur\\nPRENOM',\n",
            "       'Titre du projet', 'N° du projet', 'Acronyme',\n",
            "       'Montant accordé sous conditions de suivi (€)'],\n",
            "      dtype='object')\n",
            "-----------------------------------------------------------------------------------\n",
            "Index(['FINESS\\njuridique',\n",
            "       'Nom de l'établissement de santé\\ngestionnaire des fonds',\n",
            "       'Porteur de projet / Investigateur\\ncoordonnateur\\nNOM',\n",
            "       'Porteur de projet / Investigateur\\ncoordonnateur\\nPRENOM',\n",
            "       'Titre du projet', 'N° du projet', 'Acronyme',\n",
            "       'Montant accordé sous conditions de suivi (€)'],\n",
            "      dtype='object')\n",
            "-----------------------------------------------------------------------------------\n"
          ]
        }
      ],
      "source": [
        "path5 = \"df_IMG_xlsx_resultats_phrc-k_2016_mel.xlsx\"\n",
        "df5 = pd.read_excel(path5)\n",
        "print(df5.columns)\n",
        "columns_reindexing_5 = ['Porteur de projet / Investigateur\\ncoordonnateur\\nNOM',\n",
        "       'Porteur de projet / Investigateur\\ncoordonnateur\\nPRENOM',\n",
        "        'N° du projet', 'FINESS\\njuridique',\"Nom de l'établissement de santé\\ngestionnaire des fonds\",\n",
        "        'Acronyme','Titre du projet',\n",
        "       \" Autorisation d'engagement \"]\n",
        "print(\"-----------------------------------------------------------------------------------\")\n",
        "path4 = \"df_IMG_xlsx_resultats_phrc-i_2016_mel.xlsx\"\n",
        "df4 = pd.read_excel(path5)\n",
        "print(df4.columns)\n",
        "columns_reindexing_4 = ['Porteur de projet / Investigateur\\ncoordonnateur\\nNOM',\n",
        "       'Porteur de projet / Investigateur\\ncoordonnateur\\nPRENOM',\n",
        "        'N° du projet', 'FINESS\\njuridique',\"Nom de l'établissement de santé\\ngestionnaire des fonds\",\n",
        "        'Acronyme','Titre du projet',\n",
        "       \" Autorisation d'engagement \"]\n",
        "print(\"-----------------------------------------------------------------------------------\")\n",
        "path3 = \"df_IMG_xlsx_resultats_phrc_2016_mel.xlsx\"\n",
        "df3 = pd.read_excel(path3)\n",
        "print(df3.columns)\n",
        "columns_reindexing_3 = ['Porteur de projet / Investigateur\\ncoordonnateur\\nNOM',\n",
        "       'Porteur de projet / Investigateur\\ncoordonnateur\\nPRENOM',\n",
        "        'N° du projet', 'FINESS\\njuridique',\"Nom de l'établissement de santé\\ngestionnaire des fonds\",\n",
        "        'Acronyme','Titre du projet',\n",
        "       \"Autorisation d'engagement\"]\n",
        "print(\"-----------------------------------------------------------------------------------\")\n",
        "path2 = \"df_IMG_xlsx_projets_retenus_phrc-k_2015.xlsx\"\n",
        "df2 = pd.read_excel(path2)\n",
        "print(df2.columns)\n",
        "columns_reindexing_2 = ['Porteur de projet / Investigateur\\ncoordonnateur\\nNOM',\n",
        "       'Porteur de projet / Investigateur\\ncoordonnateur\\nPRENOM',\n",
        "        'N° du projet', 'FINESS\\njuridique',\"Nom de l'établissement de santé\\ngestionnaire des fonds\",\n",
        "        'Acronyme','Titre du projet',\n",
        "       'Montant accordé sous conditions de suivi (€)']\n",
        "print(\"-----------------------------------------------------------------------------------\")\n",
        "path6 = \"df_IMG_xlsx_projets_retenus_phrc-i_2015.xlsx\"\n",
        "df6 = pd.read_excel(path2)\n",
        "print(df6.columns)\n",
        "columns_reindexing_6 = ['Porteur de projet / Investigateur\\ncoordonnateur\\nNOM',\n",
        "       'Porteur de projet / Investigateur\\ncoordonnateur\\nPRENOM',\n",
        "        'N° du projet', 'FINESS\\njuridique',\"Nom de l'établissement de santé\\ngestionnaire des fonds\",\n",
        "        'Acronyme','Titre du projet',\n",
        "       'Montant accordé sous conditions de suivi (€)']\n",
        "print(\"-----------------------------------------------------------------------------------\")\n"
      ]
    },
    {
      "cell_type": "code",
      "source": [
        "df5 = df5.reindex(columns= columns_reindexing_5)\n",
        "print(df5.columns)\n",
        "print(\"----------------------------------------------------------------------\")\n",
        "df4 = df4.reindex(columns= columns_reindexing_5)\n",
        "print(df4.columns)\n",
        "print(\"----------------------------------------------------------------------\")\n",
        "df3 = df3.reindex(columns= columns_reindexing_3)\n",
        "print(df3.columns)\n",
        "print(\"----------------------------------------------------------------------\")\n",
        "df2 = df2.reindex(columns= columns_reindexing_2)\n",
        "print(df2.columns)\n",
        "print(\"----------------------------------------------------------------------\")\n",
        "df2 = df2.reindex(columns= columns_reindexing_2)\n",
        "print(df2.columns)"
      ],
      "metadata": {
        "colab": {
          "base_uri": "https://localhost:8080/"
        },
        "id": "4gsqkqCbmoS6",
        "outputId": "37d37967-3ad7-42a4-ecb9-626f269aa367"
      },
      "execution_count": null,
      "outputs": [
        {
          "output_type": "stream",
          "name": "stdout",
          "text": [
            "Index(['Porteur de projet / Investigateur\\ncoordonnateur\\nNOM',\n",
            "       'Porteur de projet / Investigateur\\ncoordonnateur\\nPRENOM',\n",
            "       'N° du projet', 'FINESS\\njuridique',\n",
            "       'Nom de l'établissement de santé\\ngestionnaire des fonds', 'Acronyme',\n",
            "       'Titre du projet', ' Autorisation d'engagement '],\n",
            "      dtype='object')\n",
            "----------------------------------------------------------------------\n",
            "Index(['Porteur de projet / Investigateur\\ncoordonnateur\\nNOM',\n",
            "       'Porteur de projet / Investigateur\\ncoordonnateur\\nPRENOM',\n",
            "       'N° du projet', 'FINESS\\njuridique',\n",
            "       'Nom de l'établissement de santé\\ngestionnaire des fonds', 'Acronyme',\n",
            "       'Titre du projet', ' Autorisation d'engagement '],\n",
            "      dtype='object')\n",
            "----------------------------------------------------------------------\n",
            "Index(['Porteur de projet / Investigateur\\ncoordonnateur\\nNOM',\n",
            "       'Porteur de projet / Investigateur\\ncoordonnateur\\nPRENOM',\n",
            "       'N° du projet', 'FINESS\\njuridique',\n",
            "       'Nom de l'établissement de santé\\ngestionnaire des fonds', 'Acronyme',\n",
            "       'Titre du projet', 'Autorisation d'engagement'],\n",
            "      dtype='object')\n",
            "----------------------------------------------------------------------\n",
            "Index(['Porteur de projet / Investigateur\\ncoordonnateur\\nNOM',\n",
            "       'Porteur de projet / Investigateur\\ncoordonnateur\\nPRENOM',\n",
            "       'N° du projet', 'FINESS\\njuridique',\n",
            "       'Nom de l'établissement de santé\\ngestionnaire des fonds', 'Acronyme',\n",
            "       'Titre du projet', 'Montant accordé sous conditions de suivi (€)'],\n",
            "      dtype='object')\n"
          ]
        }
      ]
    },
    {
      "cell_type": "code",
      "execution_count": null,
      "metadata": {
        "id": "lGZd2kdoTcxS",
        "outputId": "82d8bef9-40fd-470e-b5ee-1934a0714e60",
        "colab": {
          "base_uri": "https://localhost:8080/"
        }
      },
      "outputs": [
        {
          "output_type": "stream",
          "name": "stdout",
          "text": [
            "Index(['Porteur NOM', 'Porteur PRENOM', 'N° du projet', 'FINESS',\n",
            "       'Nom de l'établissement de santé gestionnaire des fonds', 'Acronyme',\n",
            "       'Titre du projet', ' Autorisation d'engagement', 'Date', 'Type'],\n",
            "      dtype='object')\n",
            "Index(['Porteur NOM', 'Porteur PRENOM', 'N° du projet', 'FINESS',\n",
            "       'Nom de l'établissement de santé gestionnaire des fonds', 'Acronyme',\n",
            "       'Titre du projet', ' Autorisation d'engagement', 'Date', 'Type'],\n",
            "      dtype='object')\n",
            "Index(['Porteur NOM', 'Porteur PRENOM', 'N° du projet', 'FINESS',\n",
            "       'Nom de l'établissement de santé gestionnaire des fonds', 'Acronyme',\n",
            "       'Titre du projet', ' Autorisation d'engagement', 'Date', 'Type'],\n",
            "      dtype='object')\n",
            "Index(['Porteur NOM', 'Porteur PRENOM', 'N° du projet', 'FINESS',\n",
            "       'Nom de l'établissement de santé gestionnaire des fonds', 'Acronyme',\n",
            "       'Titre du projet', ' Autorisation d'engagement', 'Date', 'Type'],\n",
            "      dtype='object')\n"
          ]
        }
      ],
      "source": [
        "\n",
        "df5['Date'] = 2016 # Date a ajouter\n",
        "df5[\"Type\"] = \"K\"   # Type du fichier\n",
        "df5.columns = column\n",
        "print(df5.columns)\n",
        "df5.to_excel('/content/' + path5,index=False)\n",
        "#--------------------------------------------------------------------------------------\n",
        "df4['Date'] = 2016 # Date a ajouter\n",
        "df4[\"Type\"] = \"I\"   # Type du fichier\n",
        "df4.columns = column\n",
        "print(df4.columns)\n",
        "df4.to_excel('/content/' + path4,index=False)\n",
        "#--------------------------------------------------------------------------------------\n",
        "df3['Date'] = 2016 # Date a ajouter\n",
        "df3[\"Type\"] = \"C\"   # Type du fichier\n",
        "df3.columns = column\n",
        "print(df3.columns)\n",
        "df3.to_excel('/content/' + path3,index=False)\n",
        "#--------------------------------------------------------------------------------------\n",
        "df2['Date'] = 2015 # Date a ajouter\n",
        "df2[\"Type\"] = \"K\"   # Type du fichier\n",
        "df2.columns = column\n",
        "print(df2.columns)\n",
        "df2.to_excel('/content/' + path2,index=False)"
      ]
    },
    {
      "cell_type": "code",
      "source": [
        "df2.head()"
      ],
      "metadata": {
        "colab": {
          "base_uri": "https://localhost:8080/",
          "height": 600
        },
        "id": "B8CHBNhXoMAv",
        "outputId": "64e1714b-2b22-4c2d-f734-17232c12e872"
      },
      "execution_count": null,
      "outputs": [
        {
          "output_type": "execute_result",
          "data": {
            "text/plain": [
              "  Porteur NOM Porteur PRENOM  N° du projet     FINESS  \\\n",
              "0       ANDRE        Nicolas  PHRC-K15-109  130786049   \n",
              "1     ARNEDOS         Monica  PHRC-K15-100  750050932   \n",
              "2     ASSENAT           Eric  PHRC-K15-209  340000207   \n",
              "3     AZOULAY           Elie  PHRC-K15-022  750712184   \n",
              "4      BAUDIN           Eric  PHRC-K15-184  940000664   \n",
              "\n",
              "  Nom de l'établissement de santé gestionnaire des fonds      Acronyme  \\\n",
              "0                                               APHM            PROVIN   \n",
              "1                                          UNICANCER      TRACERx_TNBC   \n",
              "2                                 CRLC PAUL LAMARQUE       LEANOX-LEAn   \n",
              "3                                              AP-HP         EXPERT-IS   \n",
              "4                                     GUSTAVE ROUSSY        JUMMPP-T01   \n",
              "\n",
              "                                     Titre du projet  \\\n",
              "0  PROVIN : Phase I study of a propranolol (Heman...   \n",
              "1  TRACERx_TNBC TRAcking Triple-Negative Breast C...   \n",
              "2  LEANOX LEAn body mass Normalization of OXalipl...   \n",
              "3  EXPERT-IS: A Multifaceted Telemedicine-Based I...   \n",
              "4  JUMMPP in ‘T01: JUmp in Molecular Malignant Ph...   \n",
              "\n",
              "    Autorisation d'engagement  Date Type  \n",
              "0                      209609  2015    K  \n",
              "1                      715367  2015    K  \n",
              "2                      433113  2015    K  \n",
              "3                      537808  2015    K  \n",
              "4                      674548  2015    K  "
            ],
            "text/html": [
              "\n",
              "  <div id=\"df-bd2cb731-b46b-433d-85f9-e813d799d217\">\n",
              "    <div class=\"colab-df-container\">\n",
              "      <div>\n",
              "<style scoped>\n",
              "    .dataframe tbody tr th:only-of-type {\n",
              "        vertical-align: middle;\n",
              "    }\n",
              "\n",
              "    .dataframe tbody tr th {\n",
              "        vertical-align: top;\n",
              "    }\n",
              "\n",
              "    .dataframe thead th {\n",
              "        text-align: right;\n",
              "    }\n",
              "</style>\n",
              "<table border=\"1\" class=\"dataframe\">\n",
              "  <thead>\n",
              "    <tr style=\"text-align: right;\">\n",
              "      <th></th>\n",
              "      <th>Porteur NOM</th>\n",
              "      <th>Porteur PRENOM</th>\n",
              "      <th>N° du projet</th>\n",
              "      <th>FINESS</th>\n",
              "      <th>Nom de l'établissement de santé gestionnaire des fonds</th>\n",
              "      <th>Acronyme</th>\n",
              "      <th>Titre du projet</th>\n",
              "      <th>Autorisation d'engagement</th>\n",
              "      <th>Date</th>\n",
              "      <th>Type</th>\n",
              "    </tr>\n",
              "  </thead>\n",
              "  <tbody>\n",
              "    <tr>\n",
              "      <th>0</th>\n",
              "      <td>ANDRE</td>\n",
              "      <td>Nicolas</td>\n",
              "      <td>PHRC-K15-109</td>\n",
              "      <td>130786049</td>\n",
              "      <td>APHM</td>\n",
              "      <td>PROVIN</td>\n",
              "      <td>PROVIN : Phase I study of a propranolol (Heman...</td>\n",
              "      <td>209609</td>\n",
              "      <td>2015</td>\n",
              "      <td>K</td>\n",
              "    </tr>\n",
              "    <tr>\n",
              "      <th>1</th>\n",
              "      <td>ARNEDOS</td>\n",
              "      <td>Monica</td>\n",
              "      <td>PHRC-K15-100</td>\n",
              "      <td>750050932</td>\n",
              "      <td>UNICANCER</td>\n",
              "      <td>TRACERx_TNBC</td>\n",
              "      <td>TRACERx_TNBC TRAcking Triple-Negative Breast C...</td>\n",
              "      <td>715367</td>\n",
              "      <td>2015</td>\n",
              "      <td>K</td>\n",
              "    </tr>\n",
              "    <tr>\n",
              "      <th>2</th>\n",
              "      <td>ASSENAT</td>\n",
              "      <td>Eric</td>\n",
              "      <td>PHRC-K15-209</td>\n",
              "      <td>340000207</td>\n",
              "      <td>CRLC PAUL LAMARQUE</td>\n",
              "      <td>LEANOX-LEAn</td>\n",
              "      <td>LEANOX LEAn body mass Normalization of OXalipl...</td>\n",
              "      <td>433113</td>\n",
              "      <td>2015</td>\n",
              "      <td>K</td>\n",
              "    </tr>\n",
              "    <tr>\n",
              "      <th>3</th>\n",
              "      <td>AZOULAY</td>\n",
              "      <td>Elie</td>\n",
              "      <td>PHRC-K15-022</td>\n",
              "      <td>750712184</td>\n",
              "      <td>AP-HP</td>\n",
              "      <td>EXPERT-IS</td>\n",
              "      <td>EXPERT-IS: A Multifaceted Telemedicine-Based I...</td>\n",
              "      <td>537808</td>\n",
              "      <td>2015</td>\n",
              "      <td>K</td>\n",
              "    </tr>\n",
              "    <tr>\n",
              "      <th>4</th>\n",
              "      <td>BAUDIN</td>\n",
              "      <td>Eric</td>\n",
              "      <td>PHRC-K15-184</td>\n",
              "      <td>940000664</td>\n",
              "      <td>GUSTAVE ROUSSY</td>\n",
              "      <td>JUMMPP-T01</td>\n",
              "      <td>JUMMPP in ‘T01: JUmp in Molecular Malignant Ph...</td>\n",
              "      <td>674548</td>\n",
              "      <td>2015</td>\n",
              "      <td>K</td>\n",
              "    </tr>\n",
              "  </tbody>\n",
              "</table>\n",
              "</div>\n",
              "      <button class=\"colab-df-convert\" onclick=\"convertToInteractive('df-bd2cb731-b46b-433d-85f9-e813d799d217')\"\n",
              "              title=\"Convert this dataframe to an interactive table.\"\n",
              "              style=\"display:none;\">\n",
              "        \n",
              "  <svg xmlns=\"http://www.w3.org/2000/svg\" height=\"24px\"viewBox=\"0 0 24 24\"\n",
              "       width=\"24px\">\n",
              "    <path d=\"M0 0h24v24H0V0z\" fill=\"none\"/>\n",
              "    <path d=\"M18.56 5.44l.94 2.06.94-2.06 2.06-.94-2.06-.94-.94-2.06-.94 2.06-2.06.94zm-11 1L8.5 8.5l.94-2.06 2.06-.94-2.06-.94L8.5 2.5l-.94 2.06-2.06.94zm10 10l.94 2.06.94-2.06 2.06-.94-2.06-.94-.94-2.06-.94 2.06-2.06.94z\"/><path d=\"M17.41 7.96l-1.37-1.37c-.4-.4-.92-.59-1.43-.59-.52 0-1.04.2-1.43.59L10.3 9.45l-7.72 7.72c-.78.78-.78 2.05 0 2.83L4 21.41c.39.39.9.59 1.41.59.51 0 1.02-.2 1.41-.59l7.78-7.78 2.81-2.81c.8-.78.8-2.07 0-2.86zM5.41 20L4 18.59l7.72-7.72 1.47 1.35L5.41 20z\"/>\n",
              "  </svg>\n",
              "      </button>\n",
              "      \n",
              "  <style>\n",
              "    .colab-df-container {\n",
              "      display:flex;\n",
              "      flex-wrap:wrap;\n",
              "      gap: 12px;\n",
              "    }\n",
              "\n",
              "    .colab-df-convert {\n",
              "      background-color: #E8F0FE;\n",
              "      border: none;\n",
              "      border-radius: 50%;\n",
              "      cursor: pointer;\n",
              "      display: none;\n",
              "      fill: #1967D2;\n",
              "      height: 32px;\n",
              "      padding: 0 0 0 0;\n",
              "      width: 32px;\n",
              "    }\n",
              "\n",
              "    .colab-df-convert:hover {\n",
              "      background-color: #E2EBFA;\n",
              "      box-shadow: 0px 1px 2px rgba(60, 64, 67, 0.3), 0px 1px 3px 1px rgba(60, 64, 67, 0.15);\n",
              "      fill: #174EA6;\n",
              "    }\n",
              "\n",
              "    [theme=dark] .colab-df-convert {\n",
              "      background-color: #3B4455;\n",
              "      fill: #D2E3FC;\n",
              "    }\n",
              "\n",
              "    [theme=dark] .colab-df-convert:hover {\n",
              "      background-color: #434B5C;\n",
              "      box-shadow: 0px 1px 3px 1px rgba(0, 0, 0, 0.15);\n",
              "      filter: drop-shadow(0px 1px 2px rgba(0, 0, 0, 0.3));\n",
              "      fill: #FFFFFF;\n",
              "    }\n",
              "  </style>\n",
              "\n",
              "      <script>\n",
              "        const buttonEl =\n",
              "          document.querySelector('#df-bd2cb731-b46b-433d-85f9-e813d799d217 button.colab-df-convert');\n",
              "        buttonEl.style.display =\n",
              "          google.colab.kernel.accessAllowed ? 'block' : 'none';\n",
              "\n",
              "        async function convertToInteractive(key) {\n",
              "          const element = document.querySelector('#df-bd2cb731-b46b-433d-85f9-e813d799d217');\n",
              "          const dataTable =\n",
              "            await google.colab.kernel.invokeFunction('convertToInteractive',\n",
              "                                                     [key], {});\n",
              "          if (!dataTable) return;\n",
              "\n",
              "          const docLinkHtml = 'Like what you see? Visit the ' +\n",
              "            '<a target=\"_blank\" href=https://colab.research.google.com/notebooks/data_table.ipynb>data table notebook</a>'\n",
              "            + ' to learn more about interactive tables.';\n",
              "          element.innerHTML = '';\n",
              "          dataTable['output_type'] = 'display_data';\n",
              "          await google.colab.output.renderOutput(dataTable, element);\n",
              "          const docLink = document.createElement('div');\n",
              "          docLink.innerHTML = docLinkHtml;\n",
              "          element.appendChild(docLink);\n",
              "        }\n",
              "      </script>\n",
              "    </div>\n",
              "  </div>\n",
              "  "
            ]
          },
          "metadata": {},
          "execution_count": 47
        }
      ]
    },
    {
      "cell_type": "code",
      "execution_count": null,
      "metadata": {
        "id": "1dAbwf6NTcxT"
      },
      "outputs": [],
      "source": [
        "columns = ['Porteur de projet /  Investigateur coordonnateur NOM',\n",
        "       'Porteur de projet / Investigateur coordonnateur PRENOM',\n",
        "       'N° du projet PHRC-K', 'FINESS',\n",
        "       \"Nom de l'établissement de santé gestionnaire des fonds\", 'Acronyme',\n",
        "       'Titre du projet', \" Autorisation d'engagement\", \"Date\",\"Type\"]"
      ]
    },
    {
      "cell_type": "code",
      "execution_count": null,
      "metadata": {
        "id": "OwAoutKpTcxT",
        "outputId": "a7cde1f3-2758-4def-da7e-3e36bfa6aa6b"
      },
      "outputs": [
        {
          "name": "stdout",
          "output_type": "stream",
          "text": [
            "Index(['Nom Porteur', 'Prénom Porteur', 'Numéro', 'FINESS',\n",
            "       'Nom de l'établissement de santé gestionnaire des fonds', 'Acronyme',\n",
            "       'Titre du projet', 'Autorisation d'engagement (AE)'],\n",
            "      dtype='object')\n",
            "Index(['Porteur de projet /  Investigateur coordonnateur NOM',\n",
            "       'Porteur de projet / Investigateur coordonnateur PRENOM',\n",
            "       'N° du projet PHRC-K', 'FINESS',\n",
            "       'Nom de l'établissement de santé gestionnaire des fonds', 'Acronyme',\n",
            "       'Titre du projet', ' Autorisation d'engagement', 'Date', 'Type'],\n",
            "      dtype='object')\n"
          ]
        },
        {
          "data": {
            "text/html": [
              "<div><div id=4f7155b4-8ee2-420f-a5f8-6456b6cbe898 style=\"display:none; background-color:#9D6CFF; color:white; width:200px; height:30px; padding-left:5px; border-radius:4px; flex-direction:row; justify-content:space-around; align-items:center;\" onmouseover=\"this.style.backgroundColor='#BA9BF8'\" onmouseout=\"this.style.backgroundColor='#9D6CFF'\" onclick=\"window.commands?.execute('create-mitosheet-from-dataframe-output');\">See Full Dataframe in Mito</div> <script> if (window.commands.hasCommand('create-mitosheet-from-dataframe-output')) document.getElementById('4f7155b4-8ee2-420f-a5f8-6456b6cbe898').style.display = 'flex' </script> <table border=\"1\" class=\"dataframe\">\n",
              "  <thead>\n",
              "    <tr style=\"text-align: right;\">\n",
              "      <th></th>\n",
              "      <th>Porteur de projet /  Investigateur coordonnateur NOM</th>\n",
              "      <th>Porteur de projet / Investigateur coordonnateur PRENOM</th>\n",
              "      <th>N° du projet PHRC-K</th>\n",
              "      <th>FINESS</th>\n",
              "      <th>Nom de l'établissement de santé gestionnaire des fonds</th>\n",
              "      <th>Acronyme</th>\n",
              "      <th>Titre du projet</th>\n",
              "      <th>Autorisation d'engagement</th>\n",
              "      <th>Date</th>\n",
              "      <th>Type</th>\n",
              "    </tr>\n",
              "  </thead>\n",
              "  <tbody>\n",
              "    <tr>\n",
              "      <th>0</th>\n",
              "      <td>ALVES</td>\n",
              "      <td>Arnaud</td>\n",
              "      <td>31</td>\n",
              "      <td>140000100</td>\n",
              "      <td>CHU CAEN</td>\n",
              "      <td>LARS</td>\n",
              "      <td>Validation française du score fonctionnel digestif de résection antérieure « LARS score » chez les patients opérés d’un cancer du rectum. Impact sur leur qualité de vie</td>\n",
              "      <td>313205</td>\n",
              "      <td>2017</td>\n",
              "      <td>K</td>\n",
              "    </tr>\n",
              "    <tr>\n",
              "      <th>1</th>\n",
              "      <td>BACHET</td>\n",
              "      <td>Jean-Baptiste</td>\n",
              "      <td>120</td>\n",
              "      <td>750712184</td>\n",
              "      <td>AP-HP</td>\n",
              "      <td>GEMFOX</td>\n",
              "      <td>GEMFOX : Essai de phase 3 randomisé comparant le FOLFOX à la gemcitabine en 1ère ligne métastatique chez les patients avec un adénocarcinome du pancréas et non éligibles au FOLFIRINOX.</td>\n",
              "      <td>795194</td>\n",
              "      <td>2017</td>\n",
              "      <td>K</td>\n",
              "    </tr>\n",
              "    <tr>\n",
              "      <th>2</th>\n",
              "      <td>BENOIST</td>\n",
              "      <td>Stéphane</td>\n",
              "      <td>26</td>\n",
              "      <td>750712184</td>\n",
              "      <td>AP-HP</td>\n",
              "      <td>NORAD01</td>\n",
              "      <td>NORAD01 (Non inferiority study of preoperative chemotherapy without pelvic irradiation for rectal cancer) : essai randomisé de phase III multicentrique comparant la chimiothérapie seule à la radiochimiothérapie préopératoire pour les cancers du rectum localement évolués d’emblée résécables</td>\n",
              "      <td>992794</td>\n",
              "      <td>2017</td>\n",
              "      <td>K</td>\n",
              "    </tr>\n",
              "    <tr>\n",
              "      <th>3</th>\n",
              "      <td>CLASSE</td>\n",
              "      <td>Jean-Marc</td>\n",
              "      <td>56</td>\n",
              "      <td>490017258</td>\n",
              "      <td>INSTITUT DE CANCEROLOGIE DE L'OUEST (ICO)</td>\n",
              "      <td>GANEA_3</td>\n",
              "      <td>Ganglion sentinelle Après chimiothérapie NEoAdjuvante dans le cancer du sein - GANEA 3</td>\n",
              "      <td>397979</td>\n",
              "      <td>2017</td>\n",
              "      <td>K</td>\n",
              "    </tr>\n",
              "    <tr>\n",
              "      <th>4</th>\n",
              "      <td>COHEN-HAGUENAUER</td>\n",
              "      <td>Odile</td>\n",
              "      <td>71</td>\n",
              "      <td>750712184</td>\n",
              "      <td>AP-HP</td>\n",
              "      <td>PALB2-PARPi-01</td>\n",
              "      <td>PALB2-PARPi-01 : Essai clinique de Phase II évaluant la possibilité d’une régression tumorale du cancer du sein métastatique chez les porteurs de mutation constitutionnelle du gène PALB2</td>\n",
              "      <td>377873</td>\n",
              "      <td>2017</td>\n",
              "      <td>K</td>\n",
              "    </tr>\n",
              "    <tr>\n",
              "      <th>...</th>\n",
              "      <td>...</td>\n",
              "      <td>...</td>\n",
              "      <td>...</td>\n",
              "      <td>...</td>\n",
              "      <td>...</td>\n",
              "      <td>...</td>\n",
              "      <td>...</td>\n",
              "      <td>...</td>\n",
              "      <td>...</td>\n",
              "      <td>...</td>\n",
              "    </tr>\n",
              "    <tr>\n",
              "      <th>34</th>\n",
              "      <td>SABATIER</td>\n",
              "      <td>Renaud</td>\n",
              "      <td>51</td>\n",
              "      <td>130001647</td>\n",
              "      <td>INSTITUT PAOLI CALMETTES</td>\n",
              "      <td>EPITOP-01</td>\n",
              "      <td>EPITOP-01 : Etude de phase IV visant à évaluer la sécurité et  la qualité de vie lors de traitements par immunothérapie chez le sujet âgé</td>\n",
              "      <td>546639</td>\n",
              "      <td>2017</td>\n",
              "      <td>K</td>\n",
              "    </tr>\n",
              "    <tr>\n",
              "      <th>35</th>\n",
              "      <td>TAIEB</td>\n",
              "      <td>David</td>\n",
              "      <td>95</td>\n",
              "      <td>130786049</td>\n",
              "      <td>AP-HM</td>\n",
              "      <td>DopaMTC</td>\n",
              "      <td>Evaluation des performances cliniques de la TEP-TDM au 18F-FDOPA dans le bilan initial pré-opératoire des cancers médullaires de la thyroïde sporadiques : étude prospective multicentrique.</td>\n",
              "      <td>310656</td>\n",
              "      <td>2017</td>\n",
              "      <td>K</td>\n",
              "    </tr>\n",
              "    <tr>\n",
              "      <th>36</th>\n",
              "      <td>VALTEAU-COUANET</td>\n",
              "      <td>Dominique</td>\n",
              "      <td>174</td>\n",
              "      <td>940000664</td>\n",
              "      <td>GUSTAVE ROUSSY</td>\n",
              "      <td>HRNBL2</td>\n",
              "      <td>Neuroblastomes de haut risque - 2ème étude du groupe Européen des Neuroblastomes de la Société Internationale d'Oncologie Pédiatrique (SIOPEN)</td>\n",
              "      <td>887563</td>\n",
              "      <td>2017</td>\n",
              "      <td>K</td>\n",
              "    </tr>\n",
              "    <tr>\n",
              "      <th>37</th>\n",
              "      <td>VERSCHUUR</td>\n",
              "      <td>Arnauld</td>\n",
              "      <td>114</td>\n",
              "      <td>130786049</td>\n",
              "      <td>AP-HM</td>\n",
              "      <td>RANDOMET_2017</td>\n",
              "      <td>Phase III randomized clinical trial comparing neoadjuvant VAD versus VCE chemotherapy for Stage IV Nephroblastoma: an international RCT within the SIOP Renal Tumour Study Group</td>\n",
              "      <td>610382</td>\n",
              "      <td>2017</td>\n",
              "      <td>K</td>\n",
              "    </tr>\n",
              "    <tr>\n",
              "      <th>38</th>\n",
              "      <td>WALZ</td>\n",
              "      <td>Jochen</td>\n",
              "      <td>79</td>\n",
              "      <td>130001647</td>\n",
              "      <td>INSTITUT PAOLI CALMETTES</td>\n",
              "      <td>NPV-MRI-02</td>\n",
              "      <td>NPV-MRI-02 : Evaluation multicentrique de la vraie valeur prédictive négative de l’IRM multiparamétrique dans la détection du cancer de prostate chez des patients traités par cystoprostatectomie totale</td>\n",
              "      <td>229174</td>\n",
              "      <td>2017</td>\n",
              "      <td>K</td>\n",
              "    </tr>\n",
              "  </tbody>\n",
              "</table></div>"
            ],
            "text/plain": [
              "   Porteur de projet /  Investigateur coordonnateur NOM  \\\n",
              "0                                               ALVES     \n",
              "1                                              BACHET     \n",
              "2                                            BENOIST      \n",
              "3                                              CLASSE     \n",
              "4                                    COHEN-HAGUENAUER     \n",
              "5                                             COURBON     \n",
              "6                                  DE LA FOUCHARDIERE     \n",
              "7                                 DE LA FOUCHARDIERE      \n",
              "8                                            DELALOGE     \n",
              "9                                            DELPERO      \n",
              "10                                             DENOST     \n",
              "11                                              DOYEN     \n",
              "12                                             EVRARD     \n",
              "13                                           FOURQUET     \n",
              "14                                           GANDEMER     \n",
              "15                                              GELLI     \n",
              "16                                          GRAILLON      \n",
              "17                                               GUIU     \n",
              "18                                             HARBI      \n",
              "19                                              HENNI     \n",
              "20                                            HERSANT     \n",
              "21                                             LE ROY     \n",
              "22                                          MAROLLEAU     \n",
              "23                                       MINARD-COLIN     \n",
              "24                                                MIR     \n",
              "25                                           MIRALLIE     \n",
              "26                                           MIRGHANI     \n",
              "27                                             MOHTY      \n",
              "28                                            OLDRINI     \n",
              "29                                    ORTEGA-DEBALLON     \n",
              "30                                           PAOLETTI     \n",
              "31                                 PEFFAULT DE LATOUR     \n",
              "32                                              PEROL     \n",
              "33                                           PSIMARAS     \n",
              "34                                          SABATIER      \n",
              "35                                             TAIEB      \n",
              "36                                    VALTEAU-COUANET     \n",
              "37                                         VERSCHUUR      \n",
              "38                                              WALZ      \n",
              "\n",
              "   Porteur de projet / Investigateur coordonnateur PRENOM  \\\n",
              "0                                              Arnaud       \n",
              "1                                       Jean-Baptiste       \n",
              "2                                           Stéphane        \n",
              "3                                           Jean-Marc       \n",
              "4                                               Odile       \n",
              "5                                            Frédéric       \n",
              "6                                          Christelle       \n",
              "7                                          Christelle       \n",
              "8                                             Suzette       \n",
              "9                                        Jean-Robert        \n",
              "10                                            Quentin       \n",
              "11                                             Jérôme       \n",
              "12                                              Serge       \n",
              "13                                              Alain       \n",
              "14                                           Virginie       \n",
              "15                                        Maximiliano       \n",
              "16                                            Thomas        \n",
              "17                                              Boris       \n",
              "18                                              Samia       \n",
              "19                                              Samir       \n",
              "20                                            Barbara       \n",
              "21                                           Bertrand       \n",
              "22                                        Jean-Pierre       \n",
              "23                                          Véronique       \n",
              "24                                            Olivier       \n",
              "25                                               Eric       \n",
              "26                                            Haitham       \n",
              "27                                            Mohamad       \n",
              "28                                          Guillaume       \n",
              "29                                             Pablo        \n",
              "30                                             Xavier       \n",
              "31                                              Regis       \n",
              "32                                            Maurice       \n",
              "33                                            Dimitri       \n",
              "34                                            Renaud        \n",
              "35                                             David        \n",
              "36                                          Dominique       \n",
              "37                                           Arnauld        \n",
              "38                                            Jochen        \n",
              "\n",
              "    N° du projet PHRC-K     FINESS  \\\n",
              "0                    31  140000100   \n",
              "1                   120  750712184   \n",
              "2                    26  750712184   \n",
              "3                    56  490017258   \n",
              "4                    71  750712184   \n",
              "5                    34  310782347   \n",
              "6                   106  750050940   \n",
              "7                   123  690000880   \n",
              "8                   154  750050940   \n",
              "9                    80  130001647   \n",
              "10                   28  330781196   \n",
              "11                  134  750050940   \n",
              "12                  167  750050940   \n",
              "13                  146  750050940   \n",
              "14                   62  350005179   \n",
              "15                  184  940000664   \n",
              "16                   69  130786049   \n",
              "17                   19  340780477   \n",
              "18                   76  130001647   \n",
              "19                    2  490000031   \n",
              "20                   49  750712184   \n",
              "21                  126  630780989   \n",
              "22                  136  800000044   \n",
              "23                  175  940000664   \n",
              "24                  162  750050940   \n",
              "25                    4  440000289   \n",
              "26                  145  750050940   \n",
              "27                   39  750712184   \n",
              "28                   41  540001286   \n",
              "29                   85  210780581   \n",
              "30                  187  940000664   \n",
              "31                   30  750712184   \n",
              "32                  160  690000880   \n",
              "33                  206  750712184   \n",
              "34                   51  130001647   \n",
              "35                   95  130786049   \n",
              "36                  174  940000664   \n",
              "37                  114  130786049   \n",
              "38                   79  130001647   \n",
              "\n",
              "   Nom de l'établissement de santé gestionnaire des fonds         Acronyme  \\\n",
              "0                                            CHU CAEN                 LARS   \n",
              "1                                               AP-HP               GEMFOX   \n",
              "2                                               AP-HP              NORAD01   \n",
              "3           INSTITUT DE CANCEROLOGIE DE L'OUEST (ICO)              GANEA_3   \n",
              "4                                               AP-HP       PALB2-PARPi-01   \n",
              "5                            INSTITUT CLAUDIUS REGAUD           NEUROBLU02   \n",
              "6                                       GCS UNICANCER               GEMPAX   \n",
              "7                                  CENTRE LEON BERARD            LENVOS_01   \n",
              "8                                       GCS UNICANCER              My_PEBS   \n",
              "9                            INSTITUT PAOLI CALMETTES            REMIND_01   \n",
              "10                                       CHU Bordeaux           GRECCAR_15   \n",
              "11                                      GCS UNICANCER         Nirvana-Lung   \n",
              "12                                      GCS UNICANCER                 LUNA   \n",
              "13                                      GCS UNICANCER              ROMANCE   \n",
              "14                                         CHU RENNES      EsPhALL2017-02    \n",
              "15                                     GUSTAVE ROUSSY          PASIREOCHIP   \n",
              "16                                              AP-HM               ALTREM   \n",
              "17                                    CHU MONTPELLIER         HYPER-LIV_01   \n",
              "18                           INSTITUT PAOLI CALMETTES      HaploMUD-RIC-01   \n",
              "19                                         CHU ANGERS              PALERMO   \n",
              "20                                              AP-HP               EPIONE   \n",
              "21                               CHU CLERMONT-FERRAND             PROADAPT   \n",
              "22                                         CHU AMIENS              RELYAGE   \n",
              "23                                     GUSTAVE ROUSSY              FAR_RMS   \n",
              "24                                      GCS UNICANCER         GERICO14_STS   \n",
              "25                                         CHU NANTES            MIBI-THYR   \n",
              "26                                      GCS UNICANCER      IMMUNEBOOST_HPV   \n",
              "27                                              AP-HP              CONFIRM   \n",
              "28               INSTITUT DE CANCEROLOGIE DE LORRAINE            BREAST_01   \n",
              "29                                          CHU DIJON          CORTIFRENCH   \n",
              "30                                     GUSTAVE ROUSSY            SURROGATE   \n",
              "31                                              AP-HP          MacHaploMud   \n",
              "32                                 CENTRE LEON BERARD          LIBELULE_01   \n",
              "33                                              AP-HP                NESPA   \n",
              "34                           INSTITUT PAOLI CALMETTES            EPITOP-01   \n",
              "35                                              AP-HM              DopaMTC   \n",
              "36                                     GUSTAVE ROUSSY               HRNBL2   \n",
              "37                                              AP-HM        RANDOMET_2017   \n",
              "38                           INSTITUT PAOLI CALMETTES           NPV-MRI-02   \n",
              "\n",
              "                                      Titre du projet  \\\n",
              "0   Validation française du score fonctionnel dige...   \n",
              "1   GEMFOX : Essai de phase 3 randomisé comparant ...   \n",
              "2   NORAD01 (Non inferiority study of preoperative...   \n",
              "3   Ganglion sentinelle Après chimiothérapie NEoAd...   \n",
              "4   PALB2-PARPi-01 : Essai clinique de Phase II év...   \n",
              "5   NEUROBLU 02 : Essai clinique de phase I : Eval...   \n",
              "6   GEMPAX : essai de phase III randomisé évaluant...   \n",
              "7   LENVOS 01 - Etude de phase II prospective, mul...   \n",
              "8   My PeBS (My Personal Breast Screening) Compara...   \n",
              "9   REMIND-01 (REsection MargINs for Distal pancre...   \n",
              "10  GRECCAR 15 : Etude randomisée de phase III com...   \n",
              "11  NIRVANA-poumon: Nivolumab et IRradiation sur d...   \n",
              "12  LUNA : Résection hépatique avec des nodules pu...   \n",
              "13  ROMANCE: Essai de phase III d'omission de radi...   \n",
              "14  EsPhALL2017-02 - Etude randomisée internationa...   \n",
              "15  Evaluation de la faisabilité et de l’efficacit...   \n",
              "16  Association de l’Alpelisib et du Trametinib da...   \n",
              "17  EMBOLISATION SIMULTANEE PORTALE ET SUS-HEPATIQ...   \n",
              "18  HaploMUD-RIC-01 : Extension d’étude randomisée...   \n",
              "19  PALERMO-01: Etude de phase III, randomisée, mu...   \n",
              "20  Evaluation Prospective de thérapeutiques Innov...   \n",
              "21  PROADAPT- œsogastric: Préparation du Retour à ...   \n",
              "22  RELYAGE : Evaluation de la survie avec maintie...   \n",
              "23  Etude internationale “multi-bras multi-étapes”...   \n",
              "24  GERICO14/SARCOME Etude de phase III randomisée...   \n",
              "25  MIBI-THYR : Intérêt du couple scintigraphie do...   \n",
              "26  IMMUNEBOOST HPV – Etude de phase II, multicent...   \n",
              "27  Etude multicentrique randomisée de phase III c...   \n",
              "28  BREAST01- Validation de l’utilisation du proto...   \n",
              "29  CORTIFRENCH01 : Bénéfice d'un flash de cortico...   \n",
              "30  Méta-analyse sur données individuelles d’essai...   \n",
              "31  «MAC-HAPLO-MUD» : Essai de phase 3 randomisé c...   \n",
              "32  LIBELULE 01: Etude de phase III évaluant la fa...   \n",
              "33  Immunothérapie précoce par immunoglobulines in...   \n",
              "34  EPITOP-01 : Etude de phase IV visant à évaluer...   \n",
              "35  Evaluation des performances cliniques de la TE...   \n",
              "36  Neuroblastomes de haut risque - 2ème étude du ...   \n",
              "37  Phase III randomized clinical trial comparing ...   \n",
              "38  NPV-MRI-02 : Evaluation multicentrique de la v...   \n",
              "\n",
              "     Autorisation d'engagement  Date Type  \n",
              "0                       313205  2017    K  \n",
              "1                       795194  2017    K  \n",
              "2                       992794  2017    K  \n",
              "3                       397979  2017    K  \n",
              "4                       377873  2017    K  \n",
              "5                       495823  2017    K  \n",
              "6                       601140  2017    K  \n",
              "7                       254870  2017    K  \n",
              "8                      1152176  2017    K  \n",
              "9                       382126  2017    K  \n",
              "10                      599645  2017    K  \n",
              "11                      973880  2017    K  \n",
              "12                      259980  2017    K  \n",
              "13                      729350  2017    K  \n",
              "14                      774178  2017    K  \n",
              "15                      437274  2017    K  \n",
              "16                      253878  2017    K  \n",
              "17                      371624  2017    K  \n",
              "18                       75550  2017    K  \n",
              "19                      768577  2017    K  \n",
              "20                      553568  2017    K  \n",
              "21                      600195  2017    K  \n",
              "22                      385008  2017    K  \n",
              "23                      885991  2017    K  \n",
              "24                      554115  2017    K  \n",
              "25                      760816  2017    K  \n",
              "26                      390858  2017    K  \n",
              "27                      910607  2017    K  \n",
              "28                      535974  2017    K  \n",
              "29                      694812  2017    K  \n",
              "30                      142700  2017    K  \n",
              "31                     1072490  2017    K  \n",
              "32                      497350  2017    K  \n",
              "33                      312440  2017    K  \n",
              "34                      546639  2017    K  \n",
              "35                      310656  2017    K  \n",
              "36                      887563  2017    K  \n",
              "37                      610382  2017    K  \n",
              "38                      229174  2017    K  "
            ]
          },
          "execution_count": 34,
          "metadata": {},
          "output_type": "execute_result"
        }
      ],
      "source": [
        "path = \"df_IMG_xlsx_resultats_phrc-k_2017_040118.xlsx\"\n",
        "df_1 = pd.read_excel(path)\n",
        "print(df_1.columns)\n",
        "df_1['Date'] = 2017 # Date a ajouter\n",
        "df_1[\"Type\"] = \"K\"   # Type du fichier\n",
        "df_1.columns = columns\n",
        "print(df_1.columns)\n",
        "new_path = \"data_web\\\\\" + path\n",
        "df_1.to_excel(new_path)\n"
      ]
    },
    {
      "cell_type": "code",
      "execution_count": null,
      "metadata": {
        "id": "i4eN616cTcxT"
      },
      "outputs": [],
      "source": []
    },
    {
      "cell_type": "code",
      "execution_count": null,
      "metadata": {
        "id": "R6MR3merTcxU",
        "outputId": "3f98385b-cff0-454a-bda4-25342e145ccf"
      },
      "outputs": [
        {
          "name": "stdout",
          "output_type": "stream",
          "text": [
            "Index(['Porteur de projet /  Investigateur coordonnateur\\nNOM',\n",
            "       'Porteur de projet / Investigateur coordonnateur\\nPRENOM',\n",
            "       'N° du projet\\nPHRC-K', 'FINESS',\n",
            "       'Nom de l'établissement de santé\\ngestionnaire des fonds', 'Acronyme',\n",
            "       'Titre du projet', ' Autorisation d'engagement '],\n",
            "      dtype='object')\n",
            "Index(['Porteur de projet /  Investigateur coordonnateur NOM',\n",
            "       'Porteur de projet / Investigateur coordonnateur PRENOM',\n",
            "       'N° du projet PHRC-K', 'FINESS',\n",
            "       'Nom de l'établissement de santé gestionnaire des fonds', 'Acronyme',\n",
            "       'Titre du projet', ' Autorisation d'engagement', 'Date', 'Type'],\n",
            "      dtype='object')\n"
          ]
        }
      ],
      "source": [
        "path = \"df_IMG_xlsx_phrck_20_resultatsselection_v0-0_20210624_mel.xlsx\"\n",
        "df_1 = pd.read_excel(path)\n",
        "print(df_1.columns)\n",
        "df_1['Date'] = 2020 # Date a ajouter\n",
        "df_1[\"Type\"] = \"K\"   # Type du fichier\n",
        "df_1.columns = columns\n",
        "print(df_1.columns)"
      ]
    },
    {
      "cell_type": "markdown",
      "metadata": {
        "id": "zawSliDbTcxU"
      },
      "source": [
        "#### Concate ALL"
      ]
    },
    {
      "cell_type": "code",
      "execution_count": null,
      "metadata": {
        "id": "JOdK1OFxTcxV"
      },
      "outputs": [],
      "source": [
        "import os"
      ]
    },
    {
      "cell_type": "code",
      "execution_count": null,
      "metadata": {
        "id": "zpL4auDrTcxW"
      },
      "outputs": [],
      "source": [
        "cwd = os.path.abspath('') \n",
        "files = os.listdir(cwd)  "
      ]
    },
    {
      "cell_type": "code",
      "execution_count": null,
      "metadata": {
        "colab": {
          "base_uri": "https://localhost:8080/"
        },
        "id": "FeniTN8bTcxW",
        "outputId": "66ce1d8d-4ec0-41c7-e02d-f2466ccd5189"
      },
      "outputs": [
        {
          "output_type": "execute_result",
          "data": {
            "text/plain": [
              "['.config', 'sample_data']"
            ]
          },
          "metadata": {},
          "execution_count": 5
        }
      ],
      "source": [
        "files"
      ]
    },
    {
      "cell_type": "code",
      "execution_count": null,
      "metadata": {
        "id": "SdnxLeV5TcxW"
      },
      "outputs": [],
      "source": [
        "df_final = pd.DataFrame()"
      ]
    },
    {
      "cell_type": "code",
      "execution_count": null,
      "metadata": {
        "id": "RhSEkxANTcxX",
        "outputId": "8d867c52-0035-4753-f6b1-390884944702",
        "colab": {
          "base_uri": "https://localhost:8080/"
        }
      },
      "outputs": [
        {
          "output_type": "execute_result",
          "data": {
            "text/plain": [
              "['.config', 'sample_data']"
            ]
          },
          "metadata": {},
          "execution_count": 6
        }
      ],
      "source": [
        "files"
      ]
    },
    {
      "cell_type": "code",
      "execution_count": null,
      "metadata": {
        "id": "_8xuMTonTcxX"
      },
      "outputs": [],
      "source": []
    },
    {
      "cell_type": "code",
      "execution_count": null,
      "metadata": {
        "id": "TcsDErx0TcxX"
      },
      "outputs": [],
      "source": []
    },
    {
      "cell_type": "code",
      "execution_count": null,
      "metadata": {
        "id": "hojeAUQRTcxY"
      },
      "outputs": [],
      "source": [
        "df_f = pd.DataFrame()\n",
        "for file in files:\n",
        "  if file.endswith('.xlsx'):\n",
        "   df = pd.concat(pd.read_excel(file, sheet_name=None), ignore_index=True, sort=False,axis=1)\n",
        "   df_f = df_f.append(df, ignore_index=True)"
      ]
    },
    {
      "cell_type": "code",
      "execution_count": null,
      "metadata": {
        "id": "45u3hnQsTcxY"
      },
      "outputs": [],
      "source": []
    },
    {
      "cell_type": "code",
      "execution_count": null,
      "metadata": {
        "id": "YDqP96fiTcxY",
        "outputId": "bc3dad2e-906d-4454-c5a7-9cb3cd65764c"
      },
      "outputs": [
        {
          "ename": "ValueError",
          "evalue": "Excel file format cannot be determined, you must specify an engine manually.",
          "output_type": "error",
          "traceback": [
            "\u001b[1;31m---------------------------------------------------------------------------\u001b[0m",
            "\u001b[1;31mValueError\u001b[0m                                Traceback (most recent call last)",
            "Input \u001b[1;32mIn [6]\u001b[0m, in \u001b[0;36m<cell line: 1>\u001b[1;34m()\u001b[0m\n\u001b[0;32m      1\u001b[0m \u001b[38;5;28;01mfor\u001b[39;00m file \u001b[38;5;129;01min\u001b[39;00m files:\n\u001b[1;32m----> 2\u001b[0m     df_f \u001b[38;5;241m=\u001b[39m \u001b[43mpd\u001b[49m\u001b[38;5;241;43m.\u001b[39;49m\u001b[43mread_excel\u001b[49m\u001b[43m(\u001b[49m\u001b[43mfile\u001b[49m\u001b[43m)\u001b[49m\n\u001b[0;32m      3\u001b[0m     df_final \u001b[38;5;241m=\u001b[39m pd\u001b[38;5;241m.\u001b[39mconcat([df_final,df_f],axis\u001b[38;5;241m=\u001b[39m \u001b[38;5;241m1\u001b[39m)\n",
            "File \u001b[1;32m~\\anaconda3\\lib\\site-packages\\pandas\\util\\_decorators.py:311\u001b[0m, in \u001b[0;36mdeprecate_nonkeyword_arguments.<locals>.decorate.<locals>.wrapper\u001b[1;34m(*args, **kwargs)\u001b[0m\n\u001b[0;32m    305\u001b[0m \u001b[38;5;28;01mif\u001b[39;00m \u001b[38;5;28mlen\u001b[39m(args) \u001b[38;5;241m>\u001b[39m num_allow_args:\n\u001b[0;32m    306\u001b[0m     warnings\u001b[38;5;241m.\u001b[39mwarn(\n\u001b[0;32m    307\u001b[0m         msg\u001b[38;5;241m.\u001b[39mformat(arguments\u001b[38;5;241m=\u001b[39marguments),\n\u001b[0;32m    308\u001b[0m         \u001b[38;5;167;01mFutureWarning\u001b[39;00m,\n\u001b[0;32m    309\u001b[0m         stacklevel\u001b[38;5;241m=\u001b[39mstacklevel,\n\u001b[0;32m    310\u001b[0m     )\n\u001b[1;32m--> 311\u001b[0m \u001b[38;5;28;01mreturn\u001b[39;00m \u001b[43mfunc\u001b[49m\u001b[43m(\u001b[49m\u001b[38;5;241;43m*\u001b[39;49m\u001b[43margs\u001b[49m\u001b[43m,\u001b[49m\u001b[43m \u001b[49m\u001b[38;5;241;43m*\u001b[39;49m\u001b[38;5;241;43m*\u001b[39;49m\u001b[43mkwargs\u001b[49m\u001b[43m)\u001b[49m\n",
            "File \u001b[1;32m~\\anaconda3\\lib\\site-packages\\pandas\\io\\excel\\_base.py:364\u001b[0m, in \u001b[0;36mread_excel\u001b[1;34m(io, sheet_name, header, names, index_col, usecols, squeeze, dtype, engine, converters, true_values, false_values, skiprows, nrows, na_values, keep_default_na, na_filter, verbose, parse_dates, date_parser, thousands, comment, skipfooter, convert_float, mangle_dupe_cols, storage_options)\u001b[0m\n\u001b[0;32m    362\u001b[0m \u001b[38;5;28;01mif\u001b[39;00m \u001b[38;5;129;01mnot\u001b[39;00m \u001b[38;5;28misinstance\u001b[39m(io, ExcelFile):\n\u001b[0;32m    363\u001b[0m     should_close \u001b[38;5;241m=\u001b[39m \u001b[38;5;28;01mTrue\u001b[39;00m\n\u001b[1;32m--> 364\u001b[0m     io \u001b[38;5;241m=\u001b[39m \u001b[43mExcelFile\u001b[49m\u001b[43m(\u001b[49m\u001b[43mio\u001b[49m\u001b[43m,\u001b[49m\u001b[43m \u001b[49m\u001b[43mstorage_options\u001b[49m\u001b[38;5;241;43m=\u001b[39;49m\u001b[43mstorage_options\u001b[49m\u001b[43m,\u001b[49m\u001b[43m \u001b[49m\u001b[43mengine\u001b[49m\u001b[38;5;241;43m=\u001b[39;49m\u001b[43mengine\u001b[49m\u001b[43m)\u001b[49m\n\u001b[0;32m    365\u001b[0m \u001b[38;5;28;01melif\u001b[39;00m engine \u001b[38;5;129;01mand\u001b[39;00m engine \u001b[38;5;241m!=\u001b[39m io\u001b[38;5;241m.\u001b[39mengine:\n\u001b[0;32m    366\u001b[0m     \u001b[38;5;28;01mraise\u001b[39;00m \u001b[38;5;167;01mValueError\u001b[39;00m(\n\u001b[0;32m    367\u001b[0m         \u001b[38;5;124m\"\u001b[39m\u001b[38;5;124mEngine should not be specified when passing \u001b[39m\u001b[38;5;124m\"\u001b[39m\n\u001b[0;32m    368\u001b[0m         \u001b[38;5;124m\"\u001b[39m\u001b[38;5;124man ExcelFile - ExcelFile already has the engine set\u001b[39m\u001b[38;5;124m\"\u001b[39m\n\u001b[0;32m    369\u001b[0m     )\n",
            "File \u001b[1;32m~\\anaconda3\\lib\\site-packages\\pandas\\io\\excel\\_base.py:1195\u001b[0m, in \u001b[0;36mExcelFile.__init__\u001b[1;34m(self, path_or_buffer, engine, storage_options)\u001b[0m\n\u001b[0;32m   1191\u001b[0m     ext \u001b[38;5;241m=\u001b[39m inspect_excel_format(\n\u001b[0;32m   1192\u001b[0m         content_or_path\u001b[38;5;241m=\u001b[39mpath_or_buffer, storage_options\u001b[38;5;241m=\u001b[39mstorage_options\n\u001b[0;32m   1193\u001b[0m     )\n\u001b[0;32m   1194\u001b[0m     \u001b[38;5;28;01mif\u001b[39;00m ext \u001b[38;5;129;01mis\u001b[39;00m \u001b[38;5;28;01mNone\u001b[39;00m:\n\u001b[1;32m-> 1195\u001b[0m         \u001b[38;5;28;01mraise\u001b[39;00m \u001b[38;5;167;01mValueError\u001b[39;00m(\n\u001b[0;32m   1196\u001b[0m             \u001b[38;5;124m\"\u001b[39m\u001b[38;5;124mExcel file format cannot be determined, you must specify \u001b[39m\u001b[38;5;124m\"\u001b[39m\n\u001b[0;32m   1197\u001b[0m             \u001b[38;5;124m\"\u001b[39m\u001b[38;5;124man engine manually.\u001b[39m\u001b[38;5;124m\"\u001b[39m\n\u001b[0;32m   1198\u001b[0m         )\n\u001b[0;32m   1200\u001b[0m engine \u001b[38;5;241m=\u001b[39m config\u001b[38;5;241m.\u001b[39mget_option(\u001b[38;5;124mf\u001b[39m\u001b[38;5;124m\"\u001b[39m\u001b[38;5;124mio.excel.\u001b[39m\u001b[38;5;132;01m{\u001b[39;00mext\u001b[38;5;132;01m}\u001b[39;00m\u001b[38;5;124m.reader\u001b[39m\u001b[38;5;124m\"\u001b[39m, silent\u001b[38;5;241m=\u001b[39m\u001b[38;5;28;01mTrue\u001b[39;00m)\n\u001b[0;32m   1201\u001b[0m \u001b[38;5;28;01mif\u001b[39;00m engine \u001b[38;5;241m==\u001b[39m \u001b[38;5;124m\"\u001b[39m\u001b[38;5;124mauto\u001b[39m\u001b[38;5;124m\"\u001b[39m:\n",
            "\u001b[1;31mValueError\u001b[0m: Excel file format cannot be determined, you must specify an engine manually."
          ]
        }
      ],
      "source": [
        "for file in files:\n",
        "    \n",
        "    df_f = pd.read_excel(file)\n",
        "    df_final = pd.concat([df_final,df_f],axis= 1)\n"
      ]
    },
    {
      "cell_type": "code",
      "execution_count": null,
      "metadata": {
        "id": "6ON-H2_kTcxY"
      },
      "outputs": [],
      "source": [
        "df_final_all.info()"
      ]
    },
    {
      "cell_type": "code",
      "execution_count": null,
      "metadata": {
        "id": "hzlIN0xjTcxY"
      },
      "outputs": [],
      "source": []
    }
  ],
  "metadata": {
    "colab": {
      "collapsed_sections": [],
      "provenance": [],
      "include_colab_link": true
    },
    "kernelspec": {
      "display_name": "Python 3 (ipykernel)",
      "language": "python",
      "name": "python3"
    },
    "language_info": {
      "codemirror_mode": {
        "name": "ipython",
        "version": 3
      },
      "file_extension": ".py",
      "mimetype": "text/x-python",
      "name": "python",
      "nbconvert_exporter": "python",
      "pygments_lexer": "ipython3",
      "version": "3.8.13"
    }
  },
  "nbformat": 4,
  "nbformat_minor": 0
}