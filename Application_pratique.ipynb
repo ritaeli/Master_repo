{
  "cells": [
    {
      "cell_type": "markdown",
      "metadata": {
        "id": "view-in-github",
        "colab_type": "text"
      },
      "source": [
        "<a href=\"https://colab.research.google.com/github/ritaeli/Master_repo/blob/Rita/Application_pratique.ipynb\" target=\"_parent\"><img src=\"https://colab.research.google.com/assets/colab-badge.svg\" alt=\"Open In Colab\"/></a>"
      ]
    },
    {
      "cell_type": "markdown",
      "source": [
        "### Download of Data"
      ],
      "metadata": {
        "id": "lbBGTnaNxaJz"
      }
    },
    {
      "cell_type": "code",
      "execution_count": 20,
      "metadata": {
        "id": "Prb1WMns4rDc"
      },
      "outputs": [],
      "source": [
        "import pandas as pd"
      ]
    },
    {
      "cell_type": "code",
      "execution_count": 21,
      "metadata": {
        "id": "dO7me3ckd5dL"
      },
      "outputs": [],
      "source": [
        "# import necessary libraries\n",
        "from bs4 import BeautifulSoup\n",
        "import requests\n",
        "import re\n",
        "\n",
        "\n",
        "# function to extract html document from given url\n",
        "def getHTMLdocument(url):\n",
        "\t\n",
        "\t# request for HTML document of given url\n",
        "\tresponse = requests.get(url)\n",
        "\t\n",
        "\t# response will be provided in JSON format\n",
        "\treturn response.text\n",
        "\n",
        "\t\n",
        "# assign required credentials\n",
        "# assign URL\n",
        "url_to_scrape = \"https://solidarites-sante.gouv.fr/systeme-de-sante-et-medico-social/innovation-et-recherche/l-innovation-et-la-recherche-clinique/appels-a-projets/article/les-projets-retenus\"\n",
        "\n",
        "# create document\n",
        "html_document = getHTMLdocument(url_to_scrape)\n",
        "\n",
        "# create soap object\n",
        "soup = BeautifulSoup(html_document, 'html.parser')\n",
        "\n",
        "links = []\n",
        "# find all the anchor tags with \"href\"\n",
        "# attribute starting with \"https://\"\n",
        "for link in soup.find_all('a',\n",
        "\t\t\t\t\t\tattrs={'href': re.compile(\"IMG/(xls|xlsx)\")}):\n",
        "            links.append(link.get('href'))\n",
        "\n",
        "\t\n",
        "\t\n",
        "  \n",
        " "
      ]
    },
    {
      "cell_type": "code",
      "execution_count": 22,
      "metadata": {
        "colab": {
          "base_uri": "https://localhost:8080/"
        },
        "id": "hr34Tcyqew7m",
        "outputId": "aa7182f8-356d-4e63-a292-cd3af9e14572"
      },
      "outputs": [
        {
          "output_type": "execute_result",
          "data": {
            "text/plain": [
              "['IMG/xlsx/prts_21_resultatsselection_v2-1_20211004_mel.xlsx',\n",
              " 'IMG/xlsx/prts_20_resultatsselection_v0-3_20201006_mel.xlsx',\n",
              " 'IMG/xlsx/prt-k_20_resultatsselection_v0-0_20210624_mel.xlsx',\n",
              " 'IMG/xlsx/resultats_prt-s_2019_mel.xlsx',\n",
              " 'IMG/xlsx/resultats_prt-k_2019_mel_v0-2_20200205.xlsx']"
            ]
          },
          "metadata": {},
          "execution_count": 22
        }
      ],
      "source": [
        "links[:5]"
      ]
    },
    {
      "cell_type": "code",
      "source": [
        "links"
      ],
      "metadata": {
        "colab": {
          "base_uri": "https://localhost:8080/"
        },
        "id": "SggqTBSyUrkn",
        "outputId": "f813fe81-f087-437a-9b64-caec90ec6bf2"
      },
      "execution_count": 23,
      "outputs": [
        {
          "output_type": "execute_result",
          "data": {
            "text/plain": [
              "['IMG/xlsx/prts_21_resultatsselection_v2-1_20211004_mel.xlsx',\n",
              " 'IMG/xlsx/prts_20_resultatsselection_v0-3_20201006_mel.xlsx',\n",
              " 'IMG/xlsx/prt-k_20_resultatsselection_v0-0_20210624_mel.xlsx',\n",
              " 'IMG/xlsx/resultats_prt-s_2019_mel.xlsx',\n",
              " 'IMG/xlsx/resultats_prt-k_2019_mel_v0-2_20200205.xlsx',\n",
              " 'IMG/xlsx/resultats_prt-s_2018_mel.xlsx',\n",
              " 'IMG/xlsx/resultats_prt-k_2018_mel.xlsx',\n",
              " 'IMG/xlsx/resultats_prt-s_2017_040118.xlsx',\n",
              " 'IMG/xlsx/resultats_prt-k_2017_040118.xlsx',\n",
              " 'IMG/xlsx/resultats_prt-s_2016_mel.xlsx',\n",
              " 'IMG/xlsx/resultats_prt-k_2016_mel.xlsx',\n",
              " 'IMG/xlsx/projets_retenus_prtk_2015.xlsx',\n",
              " 'IMG/xlsx/projets_retenus_prts_2015.xlsx',\n",
              " 'IMG/xls/resultats_prtk_2014.xls',\n",
              " 'IMG/xls/resultat-prts-2014.xls',\n",
              " 'IMG/xlsx/resultats_prts_2013.xlsx',\n",
              " 'IMG/xlsx/phrcn_21_resultatsselection_v0-0_20220713_mel.xlsx',\n",
              " 'IMG/xlsx/phrcn_20_resultatsselection_v2-0_20211006_mel.xlsx',\n",
              " 'IMG/xlsx/phrck_20_resultatsselection_v0-0_20210624_mel.xlsx',\n",
              " 'IMG/xlsx/resultats_phrcn_2019_mel_v0-2_20200102.xlsx',\n",
              " 'IMG/xlsx/resultats_phrc-k_2019_mel_v0-2_20200205.xlsx',\n",
              " 'IMG/xlsx/resultats_phrci_2019_mel_v0-1_20200929.xlsx',\n",
              " 'IMG/xlsx/resultats_phrcn_2018_mel.xlsx',\n",
              " 'IMG/xlsx/resultats_phrck_2018_mel.xlsx',\n",
              " 'IMG/xlsx/resultats_phrci_2018_mel.xlsx',\n",
              " 'IMG/xlsx/resultats_phrc-n_2017_040118.xlsx',\n",
              " 'IMG/xlsx/resultats_phrc-k_2017_040118.xlsx',\n",
              " 'IMG/xlsx/dgos_resultats_phrc_i_2017_240718.xlsx',\n",
              " 'IMG/xlsx/resultats_phrc_2016_mel.xlsx',\n",
              " 'IMG/xlsx/resultats_phrc-k_2016_mel.xlsx',\n",
              " 'IMG/xlsx/resultats_phrc-i_2016_mel.xlsx',\n",
              " 'IMG/xls/projets_retenus_phrc-n_2015.xls',\n",
              " 'IMG/xlsx/projets_retenus_phrc-k_2015.xlsx',\n",
              " 'IMG/xlsx/projets_retenus_phrc-i_2015.xlsx',\n",
              " 'IMG/xls/Resultats_PHRC-N_2014.xls',\n",
              " 'IMG/xls/resultats_phrc-k_2014.2.xls',\n",
              " 'IMG/xls/Projets_retenus_PHRC-I_2014.xls',\n",
              " 'IMG/xlsx/Resultats_PHRC-N_2013.xlsx',\n",
              " 'IMG/xlsx/Resultats_PHRC-K_2013.xlsx',\n",
              " 'IMG/xlsx/Resultats_PHRC-I_2013-1.xlsx',\n",
              " 'IMG/xls/RESULTAT-PHRCN-2012-v2.xls',\n",
              " 'IMG/xls/RESULTAT-PHRCK-2012-2.xls',\n",
              " 'IMG/xls/RESULTAT-PHRCI-2012-3.xls',\n",
              " 'IMG/xlsx/prme_21_resultatsselection_v0-0_20220713_mel.xlsx',\n",
              " 'IMG/xlsx/prme_20_resultatsselection_v2-0_20211006_mel.xlsx',\n",
              " 'IMG/xlsx/resultats_prme_2019_mel_v0-2_20200102.xlsx',\n",
              " 'IMG/xlsx/resultats_prme_2018_mel.xlsx',\n",
              " 'IMG/xlsx/dgos_resultats_prme_2017_260218_revbme.xlsx',\n",
              " 'IMG/xlsx/dgos_resultats_prme_2016.xlsx',\n",
              " 'IMG/xlsx/resultats_prme-k_2016_mel.xlsx',\n",
              " 'IMG/xls/resultats_prme_2015_mel.xls',\n",
              " 'IMG/xlsx/projets_retenus_prme-k_2015.xlsx',\n",
              " 'IMG/xls/Resultats_PRME_2014.xls',\n",
              " 'IMG/xls/Resultats_PRMEK_2014.xls',\n",
              " 'IMG/xlsx/Resultats_PRME_2013.xlsx',\n",
              " 'IMG/xlsx/Resultats_PRME-K_2013.xlsx',\n",
              " 'IMG/xlsx/preps_21_resultatsselection_v0-0_20220713_me1.xlsx',\n",
              " 'IMG/xlsx/preps_20_resultatsselection_v2-0_20211006_mel.xlsx',\n",
              " 'IMG/xlsx/resultats_preps_2019_mel_v0-2_20200102.xlsx',\n",
              " 'IMG/xlsx/resultats_preps_2018_mel.xlsx',\n",
              " 'IMG/xlsx/resultats_preps_2017_040118.xlsx',\n",
              " 'IMG/xlsx/resultats_preps_2016_mel.xlsx',\n",
              " 'IMG/xls/resultats_preps_2015_mel.xls',\n",
              " 'IMG/xls/Resultats_PREPS_2014.xls',\n",
              " 'IMG/xlsx/Resultats_PREPS_2013.xlsx',\n",
              " 'IMG/xlsx/Resultats_PREPS-DP_2013.xlsx',\n",
              " 'IMG/xlsx/Resultats_PREPS-IQ_2013.xlsx',\n",
              " 'IMG/xls/RESULTAT-PREPS-SIPS-2012.xls',\n",
              " 'IMG/xls/RESULTAT-PREPS-2012.xls',\n",
              " 'IMG/xlsx/phrip_21_resultatsselection_v0-1_20220713_mel.xlsx',\n",
              " 'IMG/xlsx/phrip_20_resultatsselection_v2-0_2021006_mel.xlsx',\n",
              " 'IMG/xlsx/resultats_phrip_2019_mel_v0-2_20200102.xlsx',\n",
              " 'IMG/xlsx/resultats_phrip_2018_mel.xlsx',\n",
              " 'IMG/xlsx/dgos_resultats_phrip_2017_280618.xlsx',\n",
              " 'IMG/xlsx/resultats_phrip_2016_mel.xlsx',\n",
              " 'IMG/xls/resultats_phrip_2015_mel.xls',\n",
              " 'IMG/xls/Resultats_PHRIP_2014.xls',\n",
              " 'IMG/xlsx/Resultats_PHRIP_2013.xlsx',\n",
              " 'IMG/xls/RESULTAT-PHRIP-2012-2.xls']"
            ]
          },
          "metadata": {},
          "execution_count": 23
        }
      ]
    },
    {
      "cell_type": "code",
      "execution_count": 24,
      "metadata": {
        "id": "BK5vQN8SEFYB"
      },
      "outputs": [],
      "source": [
        "l = [l for l in links if \"PHRC\" in l] + [l for l in links if \"phrc\" in l]"
      ]
    },
    {
      "cell_type": "code",
      "source": [
        "!mkdir Data_Preps_web\n",
        "%cd /content/Data_Preps/Data_Preps_web "
      ],
      "metadata": {
        "colab": {
          "base_uri": "https://localhost:8080/"
        },
        "id": "kotgdWv8vl8X",
        "outputId": "6bc0f28e-427e-4f41-e56e-87dfea7dec78"
      },
      "execution_count": 8,
      "outputs": [
        {
          "output_type": "stream",
          "name": "stdout",
          "text": [
            "/content/Data_Preps/Data_Preps_web\n"
          ]
        }
      ]
    },
    {
      "cell_type": "code",
      "execution_count": 25,
      "metadata": {
        "colab": {
          "base_uri": "https://localhost:8080/"
        },
        "id": "-qQpKPFIELgS",
        "outputId": "a739a00b-aab3-47cc-89e4-b850bffe5c1d"
      },
      "outputs": [
        {
          "output_type": "execute_result",
          "data": {
            "text/plain": [
              "27"
            ]
          },
          "metadata": {},
          "execution_count": 25
        }
      ],
      "source": [
        "len(l) # Links researched in the site"
      ]
    },
    {
      "cell_type": "code",
      "execution_count": 26,
      "metadata": {
        "colab": {
          "base_uri": "https://localhost:8080/"
        },
        "id": "0L0VqXQxqMcZ",
        "outputId": "646082bd-e9fe-4242-fa52-773f8d4a1bf3"
      },
      "outputs": [
        {
          "output_type": "stream",
          "name": "stdout",
          "text": [
            "Looking in indexes: https://pypi.org/simple, https://us-python.pkg.dev/colab-wheels/public/simple/\n",
            "Requirement already satisfied: xlrd in /usr/local/lib/python3.7/dist-packages (2.0.1)\n"
          ]
        }
      ],
      "source": [
        "pip install --upgrade xlrd"
      ]
    },
    {
      "cell_type": "code",
      "execution_count": 27,
      "metadata": {
        "id": "CeuFeFp5X38Q"
      },
      "outputs": [],
      "source": [
        "url = 'https://solidarites-sante.gouv.fr/IMG/xlsx/prts_21_resultatsselection_v2-1_20211004_mel.xlsx'\n",
        "#r = requests.get(url)\n",
        "#open('temp.xls', 'wb').write(r.content)\n",
        "#df = pd.read_excel('temp.xls')"
      ]
    },
    {
      "cell_type": "code",
      "execution_count": 28,
      "metadata": {
        "id": "AApcgBJAslU0"
      },
      "outputs": [],
      "source": [
        "comp_links = []\n",
        "for complet_link in l:\n",
        "  complet_link = 'https://solidarites-sante.gouv.fr/' + complet_link\n",
        "  comp_links.append(complet_link)"
      ]
    },
    {
      "cell_type": "code",
      "execution_count": 29,
      "metadata": {
        "colab": {
          "base_uri": "https://localhost:8080/"
        },
        "id": "WyTdapSdtMNJ",
        "outputId": "265db292-3a6f-489c-86af-05f659275062"
      },
      "outputs": [
        {
          "output_type": "execute_result",
          "data": {
            "text/plain": [
              "['https://solidarites-sante.gouv.fr/IMG/xls/Resultats_PHRC-N_2014.xls',\n",
              " 'https://solidarites-sante.gouv.fr/IMG/xls/Projets_retenus_PHRC-I_2014.xls',\n",
              " 'https://solidarites-sante.gouv.fr/IMG/xlsx/Resultats_PHRC-N_2013.xlsx',\n",
              " 'https://solidarites-sante.gouv.fr/IMG/xlsx/Resultats_PHRC-K_2013.xlsx',\n",
              " 'https://solidarites-sante.gouv.fr/IMG/xlsx/Resultats_PHRC-I_2013-1.xlsx']"
            ]
          },
          "metadata": {},
          "execution_count": 29
        }
      ],
      "source": [
        "comp_links[0:5]"
      ]
    },
    {
      "cell_type": "code",
      "execution_count": 30,
      "metadata": {
        "id": "6p99L4uZzhTa"
      },
      "outputs": [],
      "source": [
        "df = []\n",
        "for d in l:\n",
        "  dfs = 'df_' + d #can add directory for files\n",
        "  df.append(dfs)"
      ]
    },
    {
      "cell_type": "code",
      "execution_count": 31,
      "metadata": {
        "id": "uHV2SM-t2qzZ"
      },
      "outputs": [],
      "source": [
        "df = list(map(lambda x: x.replace('/', '_'), df)) # removing all the annoying / that disturb the for loop"
      ]
    },
    {
      "cell_type": "code",
      "execution_count": 32,
      "metadata": {
        "colab": {
          "base_uri": "https://localhost:8080/"
        },
        "id": "a_jWm031mszN",
        "outputId": "1101d2b3-528a-4e33-9700-725412205aa8"
      },
      "outputs": [
        {
          "output_type": "execute_result",
          "data": {
            "text/plain": [
              "['df_IMG_xls_Resultats_PHRC-N_2014.xls',\n",
              " 'df_IMG_xls_Projets_retenus_PHRC-I_2014.xls',\n",
              " 'df_IMG_xlsx_Resultats_PHRC-N_2013.xlsx',\n",
              " 'df_IMG_xlsx_Resultats_PHRC-K_2013.xlsx',\n",
              " 'df_IMG_xlsx_Resultats_PHRC-I_2013-1.xlsx']"
            ]
          },
          "metadata": {},
          "execution_count": 32
        }
      ],
      "source": [
        "df[:5]"
      ]
    },
    {
      "cell_type": "code",
      "source": [
        "!mkdir Data # create folders\n",
        "%cd Data"
      ],
      "metadata": {
        "colab": {
          "base_uri": "https://localhost:8080/"
        },
        "id": "QCtlJdG66w5v",
        "outputId": "aa4ef192-0040-4847-fa3c-8d4d5a854414"
      },
      "execution_count": 33,
      "outputs": [
        {
          "output_type": "stream",
          "name": "stdout",
          "text": [
            "/content/Data_Preps/Data_Preps_web/Data/Data\n"
          ]
        }
      ]
    },
    {
      "cell_type": "code",
      "execution_count": 34,
      "metadata": {
        "id": "4kchZY-xqYTP",
        "colab": {
          "base_uri": "https://localhost:8080/",
          "height": 485
        },
        "outputId": "01798518-cabc-4c96-bcd6-0a81e010d2af"
      },
      "outputs": [
        {
          "output_type": "error",
          "ename": "ImportError",
          "evalue": "ignored",
          "traceback": [
            "\u001b[0;31m---------------------------------------------------------------------------\u001b[0m",
            "\u001b[0;31mImportError\u001b[0m                               Traceback (most recent call last)",
            "\u001b[0;32m<ipython-input-34-7d0893c75cd1>\u001b[0m in \u001b[0;36m<module>\u001b[0;34m\u001b[0m\n\u001b[1;32m      5\u001b[0m     \u001b[0mr\u001b[0m \u001b[0;34m=\u001b[0m \u001b[0mrequests\u001b[0m\u001b[0;34m.\u001b[0m\u001b[0mget\u001b[0m\u001b[0;34m(\u001b[0m\u001b[0md\u001b[0m\u001b[0;34m)\u001b[0m\u001b[0;34m\u001b[0m\u001b[0;34m\u001b[0m\u001b[0m\n\u001b[1;32m      6\u001b[0m     \u001b[0mopen\u001b[0m\u001b[0;34m(\u001b[0m\u001b[0mi\u001b[0m \u001b[0;34m,\u001b[0m \u001b[0;34m'wb'\u001b[0m\u001b[0;34m)\u001b[0m\u001b[0;34m.\u001b[0m\u001b[0mwrite\u001b[0m\u001b[0;34m(\u001b[0m\u001b[0mr\u001b[0m\u001b[0;34m.\u001b[0m\u001b[0mcontent\u001b[0m\u001b[0;34m)\u001b[0m\u001b[0;34m\u001b[0m\u001b[0;34m\u001b[0m\u001b[0m\n\u001b[0;32m----> 7\u001b[0;31m     \u001b[0mdf1\u001b[0m \u001b[0;34m=\u001b[0m \u001b[0mpd\u001b[0m\u001b[0;34m.\u001b[0m\u001b[0mread_excel\u001b[0m\u001b[0;34m(\u001b[0m\u001b[0mi\u001b[0m\u001b[0;34m)\u001b[0m\u001b[0;34m\u001b[0m\u001b[0;34m\u001b[0m\u001b[0m\n\u001b[0m",
            "\u001b[0;32m/usr/local/lib/python3.7/dist-packages/pandas/util/_decorators.py\u001b[0m in \u001b[0;36mwrapper\u001b[0;34m(*args, **kwargs)\u001b[0m\n\u001b[1;32m    309\u001b[0m                     \u001b[0mstacklevel\u001b[0m\u001b[0;34m=\u001b[0m\u001b[0mstacklevel\u001b[0m\u001b[0;34m,\u001b[0m\u001b[0;34m\u001b[0m\u001b[0;34m\u001b[0m\u001b[0m\n\u001b[1;32m    310\u001b[0m                 )\n\u001b[0;32m--> 311\u001b[0;31m             \u001b[0;32mreturn\u001b[0m \u001b[0mfunc\u001b[0m\u001b[0;34m(\u001b[0m\u001b[0;34m*\u001b[0m\u001b[0margs\u001b[0m\u001b[0;34m,\u001b[0m \u001b[0;34m**\u001b[0m\u001b[0mkwargs\u001b[0m\u001b[0;34m)\u001b[0m\u001b[0;34m\u001b[0m\u001b[0;34m\u001b[0m\u001b[0m\n\u001b[0m\u001b[1;32m    312\u001b[0m \u001b[0;34m\u001b[0m\u001b[0m\n\u001b[1;32m    313\u001b[0m         \u001b[0;32mreturn\u001b[0m \u001b[0mwrapper\u001b[0m\u001b[0;34m\u001b[0m\u001b[0;34m\u001b[0m\u001b[0m\n",
            "\u001b[0;32m/usr/local/lib/python3.7/dist-packages/pandas/io/excel/_base.py\u001b[0m in \u001b[0;36mread_excel\u001b[0;34m(io, sheet_name, header, names, index_col, usecols, squeeze, dtype, engine, converters, true_values, false_values, skiprows, nrows, na_values, keep_default_na, na_filter, verbose, parse_dates, date_parser, thousands, comment, skipfooter, convert_float, mangle_dupe_cols, storage_options)\u001b[0m\n\u001b[1;32m    362\u001b[0m     \u001b[0;32mif\u001b[0m \u001b[0;32mnot\u001b[0m \u001b[0misinstance\u001b[0m\u001b[0;34m(\u001b[0m\u001b[0mio\u001b[0m\u001b[0;34m,\u001b[0m \u001b[0mExcelFile\u001b[0m\u001b[0;34m)\u001b[0m\u001b[0;34m:\u001b[0m\u001b[0;34m\u001b[0m\u001b[0;34m\u001b[0m\u001b[0m\n\u001b[1;32m    363\u001b[0m         \u001b[0mshould_close\u001b[0m \u001b[0;34m=\u001b[0m \u001b[0;32mTrue\u001b[0m\u001b[0;34m\u001b[0m\u001b[0;34m\u001b[0m\u001b[0m\n\u001b[0;32m--> 364\u001b[0;31m         \u001b[0mio\u001b[0m \u001b[0;34m=\u001b[0m \u001b[0mExcelFile\u001b[0m\u001b[0;34m(\u001b[0m\u001b[0mio\u001b[0m\u001b[0;34m,\u001b[0m \u001b[0mstorage_options\u001b[0m\u001b[0;34m=\u001b[0m\u001b[0mstorage_options\u001b[0m\u001b[0;34m,\u001b[0m \u001b[0mengine\u001b[0m\u001b[0;34m=\u001b[0m\u001b[0mengine\u001b[0m\u001b[0;34m)\u001b[0m\u001b[0;34m\u001b[0m\u001b[0;34m\u001b[0m\u001b[0m\n\u001b[0m\u001b[1;32m    365\u001b[0m     \u001b[0;32melif\u001b[0m \u001b[0mengine\u001b[0m \u001b[0;32mand\u001b[0m \u001b[0mengine\u001b[0m \u001b[0;34m!=\u001b[0m \u001b[0mio\u001b[0m\u001b[0;34m.\u001b[0m\u001b[0mengine\u001b[0m\u001b[0;34m:\u001b[0m\u001b[0;34m\u001b[0m\u001b[0;34m\u001b[0m\u001b[0m\n\u001b[1;32m    366\u001b[0m         raise ValueError(\n",
            "\u001b[0;32m/usr/local/lib/python3.7/dist-packages/pandas/io/excel/_base.py\u001b[0m in \u001b[0;36m__init__\u001b[0;34m(self, path_or_buffer, engine, storage_options)\u001b[0m\n\u001b[1;32m   1231\u001b[0m         \u001b[0mself\u001b[0m\u001b[0;34m.\u001b[0m\u001b[0mstorage_options\u001b[0m \u001b[0;34m=\u001b[0m \u001b[0mstorage_options\u001b[0m\u001b[0;34m\u001b[0m\u001b[0;34m\u001b[0m\u001b[0m\n\u001b[1;32m   1232\u001b[0m \u001b[0;34m\u001b[0m\u001b[0m\n\u001b[0;32m-> 1233\u001b[0;31m         \u001b[0mself\u001b[0m\u001b[0;34m.\u001b[0m\u001b[0m_reader\u001b[0m \u001b[0;34m=\u001b[0m \u001b[0mself\u001b[0m\u001b[0;34m.\u001b[0m\u001b[0m_engines\u001b[0m\u001b[0;34m[\u001b[0m\u001b[0mengine\u001b[0m\u001b[0;34m]\u001b[0m\u001b[0;34m(\u001b[0m\u001b[0mself\u001b[0m\u001b[0;34m.\u001b[0m\u001b[0m_io\u001b[0m\u001b[0;34m,\u001b[0m \u001b[0mstorage_options\u001b[0m\u001b[0;34m=\u001b[0m\u001b[0mstorage_options\u001b[0m\u001b[0;34m)\u001b[0m\u001b[0;34m\u001b[0m\u001b[0;34m\u001b[0m\u001b[0m\n\u001b[0m\u001b[1;32m   1234\u001b[0m \u001b[0;34m\u001b[0m\u001b[0m\n\u001b[1;32m   1235\u001b[0m     \u001b[0;32mdef\u001b[0m \u001b[0m__fspath__\u001b[0m\u001b[0;34m(\u001b[0m\u001b[0mself\u001b[0m\u001b[0;34m)\u001b[0m\u001b[0;34m:\u001b[0m\u001b[0;34m\u001b[0m\u001b[0;34m\u001b[0m\u001b[0m\n",
            "\u001b[0;32m/usr/local/lib/python3.7/dist-packages/pandas/io/excel/_xlrd.py\u001b[0m in \u001b[0;36m__init__\u001b[0;34m(self, filepath_or_buffer, storage_options)\u001b[0m\n\u001b[1;32m     22\u001b[0m         \"\"\"\n\u001b[1;32m     23\u001b[0m         \u001b[0merr_msg\u001b[0m \u001b[0;34m=\u001b[0m \u001b[0;34m\"Install xlrd >= 1.0.0 for Excel support\"\u001b[0m\u001b[0;34m\u001b[0m\u001b[0;34m\u001b[0m\u001b[0m\n\u001b[0;32m---> 24\u001b[0;31m         \u001b[0mimport_optional_dependency\u001b[0m\u001b[0;34m(\u001b[0m\u001b[0;34m\"xlrd\"\u001b[0m\u001b[0;34m,\u001b[0m \u001b[0mextra\u001b[0m\u001b[0;34m=\u001b[0m\u001b[0merr_msg\u001b[0m\u001b[0;34m)\u001b[0m\u001b[0;34m\u001b[0m\u001b[0;34m\u001b[0m\u001b[0m\n\u001b[0m\u001b[1;32m     25\u001b[0m         \u001b[0msuper\u001b[0m\u001b[0;34m(\u001b[0m\u001b[0;34m)\u001b[0m\u001b[0;34m.\u001b[0m\u001b[0m__init__\u001b[0m\u001b[0;34m(\u001b[0m\u001b[0mfilepath_or_buffer\u001b[0m\u001b[0;34m,\u001b[0m \u001b[0mstorage_options\u001b[0m\u001b[0;34m=\u001b[0m\u001b[0mstorage_options\u001b[0m\u001b[0;34m)\u001b[0m\u001b[0;34m\u001b[0m\u001b[0;34m\u001b[0m\u001b[0m\n\u001b[1;32m     26\u001b[0m \u001b[0;34m\u001b[0m\u001b[0m\n",
            "\u001b[0;32m/usr/local/lib/python3.7/dist-packages/pandas/compat/_optional.py\u001b[0m in \u001b[0;36mimport_optional_dependency\u001b[0;34m(name, extra, errors, min_version)\u001b[0m\n\u001b[1;32m    139\u001b[0m                 \u001b[0;32mreturn\u001b[0m \u001b[0;32mNone\u001b[0m\u001b[0;34m\u001b[0m\u001b[0;34m\u001b[0m\u001b[0m\n\u001b[1;32m    140\u001b[0m             \u001b[0;32melif\u001b[0m \u001b[0merrors\u001b[0m \u001b[0;34m==\u001b[0m \u001b[0;34m\"raise\"\u001b[0m\u001b[0;34m:\u001b[0m\u001b[0;34m\u001b[0m\u001b[0;34m\u001b[0m\u001b[0m\n\u001b[0;32m--> 141\u001b[0;31m                 \u001b[0;32mraise\u001b[0m \u001b[0mImportError\u001b[0m\u001b[0;34m(\u001b[0m\u001b[0mmsg\u001b[0m\u001b[0;34m)\u001b[0m\u001b[0;34m\u001b[0m\u001b[0;34m\u001b[0m\u001b[0m\n\u001b[0m\u001b[1;32m    142\u001b[0m \u001b[0;34m\u001b[0m\u001b[0m\n\u001b[1;32m    143\u001b[0m     \u001b[0;32mreturn\u001b[0m \u001b[0mmodule\u001b[0m\u001b[0;34m\u001b[0m\u001b[0;34m\u001b[0m\u001b[0m\n",
            "\u001b[0;31mImportError\u001b[0m: Pandas requires version '1.2.0' or newer of 'xlrd' (version '1.1.0' currently installed).",
            "",
            "\u001b[0;31m---------------------------------------------------------------------------\u001b[0;32m\nNOTE: If your import is failing due to a missing package, you can\nmanually install dependencies using either !pip or !apt.\n\nTo view examples of installing some common dependencies, click the\n\"Open Examples\" button below.\n\u001b[0;31m---------------------------------------------------------------------------\u001b[0m\n"
          ],
          "errorDetails": {
            "actions": [
              {
                "action": "open_url",
                "actionText": "Open Examples",
                "url": "/notebooks/snippets/importing_libraries.ipynb"
              }
            ]
          }
        }
      ],
      "source": [
        "from numpy.lib.npyio import save\n",
        "from requests.api import request\n",
        "\n",
        "for d,i in zip(comp_links,df):  # for loop to request and save the files with their names in df and link in comp_links\n",
        "    r = requests.get(d)\n",
        "    open(i , 'wb').write(r.content)\n",
        "    df1 = pd.read_excel(i)"
      ]
    },
    {
      "cell_type": "code",
      "execution_count": null,
      "metadata": {
        "id": "TL6UvNlpwbWW"
      },
      "outputs": [],
      "source": []
    },
    {
      "cell_type": "code",
      "execution_count": null,
      "metadata": {
        "id": "q8v22gqpruCW"
      },
      "outputs": [],
      "source": []
    },
    {
      "cell_type": "markdown",
      "source": [
        "###  Modification of data columns"
      ],
      "metadata": {
        "id": "Ajql90j9xQ-3"
      }
    },
    {
      "cell_type": "code",
      "source": [
        "column = ['Porteur NOM',\n",
        "       'Porteur PRENOM',\n",
        "       'N° du projet', \n",
        "       'FINESS',\n",
        "       \"Nom de l'établissement de santé gestionnaire des fonds\", \n",
        "       'Acronyme',\n",
        "       'Titre du projet', \n",
        "       \" Autorisation d'engagement\",'Date','Type']\n",
        "column0 = ['Porteur NOM',\n",
        "       'Porteur PRENOM',\n",
        "       'N° du projet', \n",
        "       'FINESS',\n",
        "       \"Nom de l'établissement de santé gestionnaire des fonds\", \n",
        "       'Acronyme',\n",
        "       'Titre du projet', \n",
        "       \" Autorisation d'engagement\",'Date']"
      ],
      "metadata": {
        "id": "jdyJ7eF70_m5"
      },
      "execution_count": 78,
      "outputs": []
    },
    {
      "cell_type": "markdown",
      "source": [
        "#### 2020-2017"
      ],
      "metadata": {
        "id": "C1JO8M6pokuP"
      }
    },
    {
      "cell_type": "code",
      "source": [
        "dict_colmns_date = {\n",
        "    \"df_IMG_xlsx_phrcn_20_resultatsselection_v2-0_20211006_mel.xlsx\":2020,\n",
        "    \"df_IMG_xlsx_phrck_20_resultatsselection_v0-0_20210624_mel.xlsx\":2020,\n",
        "    #\"df_IMG_xlsx_phrcn_21_resultatsselection_v0-0_20220713_mel.xlsx\":2021,\n",
        "    \"df_IMG_xlsx_resultats_phrcn_2019_mel_v0-2_20200102.xlsx\":2019,\n",
        "    \"df_IMG_xlsx_resultats_phrc-k_2019_mel_v0-2_20200205.xlsx\":2019,\n",
        "    \"df_IMG_xlsx_resultats_phrci_2019_mel_v0-1_20200929.xlsx\":2019,\n",
        "    \"df_IMG_xlsx_resultats_phrcn_2018_mel.xlsx\":2018,\n",
        "    \"df_IMG_xlsx_resultats_phrck_2018_mel.xlsx\":2018,\n",
        "    \"df_IMG_xlsx_resultats_phrci_2018_mel.xlsx\":2018,\n",
        "    \"df_IMG_xlsx_resultats_phrc-n_2017_040118.xlsx\":2017,\n",
        "    \"df_IMG_xlsx_resultats_phrc-k_2017_040118.xlsx\":2017,\n",
        "    \"df_IMG_xlsx_dgos_resultats_phrc_i_2017_240718.xlsx\":2017,\n",
        "    \n",
        "\n",
        "}\n",
        "\n",
        "# -------------------------------------------------\n",
        "dict_colmns_type = {\n",
        "    \"df_IMG_xlsx_phrcn_20_resultatsselection_v2-0_20211006_mel.xlsx\":\"N\",\n",
        "    \"df_IMG_xlsx_phrck_20_resultatsselection_v0-0_20210624_mel.xlsx\":\"K\",\n",
        "   # \"df_IMG_xlsx_phrcn_21_resultatsselection_v0-0_20220713_mel.xlsx\":\"N\",\n",
        "    \"df_IMG_xlsx_resultats_phrcn_2019_mel_v0-2_20200102.xlsx\":\"N\",\n",
        "    \"df_IMG_xlsx_resultats_phrc-k_2019_mel_v0-2_20200205.xlsx\":\"K\",\n",
        "    \"df_IMG_xlsx_resultats_phrci_2019_mel_v0-1_20200929.xlsx\":\"I\",\n",
        "    \"df_IMG_xlsx_resultats_phrcn_2018_mel.xlsx\":\"N\",\n",
        "    \"df_IMG_xlsx_resultats_phrck_2018_mel.xlsx\":\"K\",\n",
        "    \"df_IMG_xlsx_resultats_phrci_2018_mel.xlsx\":\"I\",\n",
        "    \"df_IMG_xlsx_resultats_phrc-n_2017_040118.xlsx\":\"N\",\n",
        "    \"df_IMG_xlsx_resultats_phrc-k_2017_040118.xlsx\":\"K\",\n",
        "    \"df_IMG_xlsx_dgos_resultats_phrc_i_2017_240718.xlsx\":\"I\"\n",
        "\n",
        "\n",
        "}"
      ],
      "metadata": {
        "id": "uAw5dYoHcJdX"
      },
      "execution_count": 19,
      "outputs": []
    },
    {
      "cell_type": "code",
      "source": [
        "for d,t in zip(dict_colmns_date,dict_colmns_type):\n",
        "  path = d\n",
        "  df_1 = pd.read_excel(path)\n",
        "  print(f\"{d}--------------------------\")\n",
        "  print(len(df_1.columns))\n",
        "  print(df_1.columns)\n",
        "  df_1['Date'] = dict_colmns_date[d] # Date a ajouter\n",
        "  df_1[\"Type\"] = dict_colmns_type[t]   # Type du fichier\n",
        "  df_1.columns = column\n",
        "  print(df_1.columns)\n",
        "  df_1.to_excel('/content/' + path,index=False)"
      ],
      "metadata": {
        "colab": {
          "base_uri": "https://localhost:8080/"
        },
        "id": "DgOTz-okdUhd",
        "outputId": "41bdf122-bb9c-4d96-dab4-d0dea0e66a63"
      },
      "execution_count": 20,
      "outputs": [
        {
          "output_type": "stream",
          "name": "stdout",
          "text": [
            "df_IMG_xlsx_phrcn_20_resultatsselection_v2-0_20211006_mel.xlsx--------------------------\n",
            "8\n",
            "Index(['Porteur de projet / Investigateur\\ncoordonnateur\\nNOM',\n",
            "       'Porteur de projet / Investigateur\\ncoordonnateur\\nPRENOM',\n",
            "       'N° du projet', 'FINESS',\n",
            "       'Nom de l'établissement de santé gestionnaire des fonds', 'Acronyme',\n",
            "       'Titre du projet ', 'Autorisation d'engagement (AE)'],\n",
            "      dtype='object')\n",
            "Index(['Porteur NOM', 'Porteur PRENOM', 'N° du projet', 'FINESS',\n",
            "       'Nom de l'établissement de santé gestionnaire des fonds', 'Acronyme',\n",
            "       'Titre du projet', ' Autorisation d'engagement', 'Date', 'Type'],\n",
            "      dtype='object')\n",
            "df_IMG_xlsx_phrck_20_resultatsselection_v0-0_20210624_mel.xlsx--------------------------\n",
            "8\n",
            "Index(['Porteur de projet /  Investigateur coordonnateur\\nNOM',\n",
            "       'Porteur de projet / Investigateur coordonnateur\\nPRENOM',\n",
            "       'N° du projet\\nPHRC-K', 'FINESS',\n",
            "       'Nom de l'établissement de santé\\ngestionnaire des fonds', 'Acronyme',\n",
            "       'Titre du projet', ' Autorisation d'engagement '],\n",
            "      dtype='object')\n",
            "Index(['Porteur NOM', 'Porteur PRENOM', 'N° du projet', 'FINESS',\n",
            "       'Nom de l'établissement de santé gestionnaire des fonds', 'Acronyme',\n",
            "       'Titre du projet', ' Autorisation d'engagement', 'Date', 'Type'],\n",
            "      dtype='object')\n",
            "df_IMG_xlsx_resultats_phrcn_2019_mel_v0-2_20200102.xlsx--------------------------\n",
            "8\n",
            "Index(['Porteur de projet / Investigateur\\ncoordonnateur\\nNOM',\n",
            "       'Porteur de projet / Investigateur\\ncoordonnateur\\nPRENOM',\n",
            "       'Numéro projet PHRC-N', 'FINESS',\n",
            "       'Nom de l'établissement de santé gestionnaire des fonds', 'Acronyme',\n",
            "       'Titre du projet ', 'Autorisation d'engagement (AE)'],\n",
            "      dtype='object')\n",
            "Index(['Porteur NOM', 'Porteur PRENOM', 'N° du projet', 'FINESS',\n",
            "       'Nom de l'établissement de santé gestionnaire des fonds', 'Acronyme',\n",
            "       'Titre du projet', ' Autorisation d'engagement', 'Date', 'Type'],\n",
            "      dtype='object')\n",
            "df_IMG_xlsx_resultats_phrc-k_2019_mel_v0-2_20200205.xlsx--------------------------\n",
            "8\n",
            "Index(['Porteur de projet / Investigateur\\ncoordonnateur\\nNOM',\n",
            "       'Porteur de projet / Investigateur\\ncoordonnateur\\nPRENOM',\n",
            "       'N° du projet', 'FINESS',\n",
            "       'Nom de l'établissement de santé\\ngestionnaire des fonds', 'Acronyme',\n",
            "       'Titre du projet', ' Autorisation d'engagement '],\n",
            "      dtype='object')\n",
            "Index(['Porteur NOM', 'Porteur PRENOM', 'N° du projet', 'FINESS',\n",
            "       'Nom de l'établissement de santé gestionnaire des fonds', 'Acronyme',\n",
            "       'Titre du projet', ' Autorisation d'engagement', 'Date', 'Type'],\n",
            "      dtype='object')\n",
            "df_IMG_xlsx_resultats_phrci_2019_mel_v0-1_20200929.xlsx--------------------------\n",
            "8\n",
            "Index(['Porteur de projet / Investigateur\\ncoordonnateur\\nNOM',\n",
            "       'Porteur de projet / Investigateur\\ncoordonnateur\\nPRENOM',\n",
            "       'N° du projet', 'FINESS',\n",
            "       'Nom de l'établissement de santé\\ngestionnaire des fonds', 'Acronyme',\n",
            "       'Titre du projet', 'Autorisation d'engagement '],\n",
            "      dtype='object')\n",
            "Index(['Porteur NOM', 'Porteur PRENOM', 'N° du projet', 'FINESS',\n",
            "       'Nom de l'établissement de santé gestionnaire des fonds', 'Acronyme',\n",
            "       'Titre du projet', ' Autorisation d'engagement', 'Date', 'Type'],\n",
            "      dtype='object')\n",
            "df_IMG_xlsx_resultats_phrcn_2018_mel.xlsx--------------------------\n",
            "8\n",
            "Index(['Porteur de projet / Investigateur\\ncoordonnateur\\nNOM',\n",
            "       'Porteur de projet / Investigateur\\ncoordonnateur\\nPRENOM',\n",
            "       'N° du projet', 'FINESS',\n",
            "       'Nom de l'établissement de santé\\ngestionnaire des fonds', 'Acronyme',\n",
            "       'Titre du projet', 'Autorisation d'engagement'],\n",
            "      dtype='object')\n",
            "Index(['Porteur NOM', 'Porteur PRENOM', 'N° du projet', 'FINESS',\n",
            "       'Nom de l'établissement de santé gestionnaire des fonds', 'Acronyme',\n",
            "       'Titre du projet', ' Autorisation d'engagement', 'Date', 'Type'],\n",
            "      dtype='object')\n",
            "df_IMG_xlsx_resultats_phrck_2018_mel.xlsx--------------------------\n",
            "8\n",
            "Index(['Porteur de projet / Investigateur\\ncoordonnateur\\nNOM',\n",
            "       'Porteur de projet / Investigateur\\ncoordonnateur\\nPRENOM',\n",
            "       'N° du projet', 'FINESS',\n",
            "       'Nom de l'établissement de santé\\ngestionnaire des fonds', 'Acronyme',\n",
            "       'Titre du projet', ' Autorisation d'engagement '],\n",
            "      dtype='object')\n",
            "Index(['Porteur NOM', 'Porteur PRENOM', 'N° du projet', 'FINESS',\n",
            "       'Nom de l'établissement de santé gestionnaire des fonds', 'Acronyme',\n",
            "       'Titre du projet', ' Autorisation d'engagement', 'Date', 'Type'],\n",
            "      dtype='object')\n",
            "df_IMG_xlsx_resultats_phrci_2018_mel.xlsx--------------------------\n",
            "8\n",
            "Index(['Porteur de projet / Investigateur\\ncoordonnateur\\nNOM',\n",
            "       'Porteur de projet / Investigateur\\ncoordonnateur\\nPRENOM',\n",
            "       'N° du projet', 'FINESS',\n",
            "       'Nom de l'établissement de santé\\ngestionnaire des fonds', 'Acronyme',\n",
            "       'Titre du projet', 'Autorisation d'engagement '],\n",
            "      dtype='object')\n",
            "Index(['Porteur NOM', 'Porteur PRENOM', 'N° du projet', 'FINESS',\n",
            "       'Nom de l'établissement de santé gestionnaire des fonds', 'Acronyme',\n",
            "       'Titre du projet', ' Autorisation d'engagement', 'Date', 'Type'],\n",
            "      dtype='object')\n",
            "df_IMG_xlsx_resultats_phrc-n_2017_040118.xlsx--------------------------\n",
            "8\n",
            "Index(['Porteur de projet / Investigateur\\ncoordonnateur\\nNOM',\n",
            "       'Porteur de projet / Investigateur\\ncoordonnateur\\nPRENOM',\n",
            "       'N° du projet', 'FINESS',\n",
            "       'Nom de l'établissement de santé\\ngestionnaire des fonds', 'Acronyme',\n",
            "       'Titre du projet', 'Autorisation d'engagement '],\n",
            "      dtype='object')\n",
            "Index(['Porteur NOM', 'Porteur PRENOM', 'N° du projet', 'FINESS',\n",
            "       'Nom de l'établissement de santé gestionnaire des fonds', 'Acronyme',\n",
            "       'Titre du projet', ' Autorisation d'engagement', 'Date', 'Type'],\n",
            "      dtype='object')\n",
            "df_IMG_xlsx_resultats_phrc-k_2017_040118.xlsx--------------------------\n",
            "8\n",
            "Index(['Nom Porteur', 'Prénom Porteur', 'Numéro', 'FINESS',\n",
            "       'Nom de l'établissement de santé gestionnaire des fonds', 'Acronyme',\n",
            "       'Titre du projet', 'Autorisation d'engagement (AE)'],\n",
            "      dtype='object')\n",
            "Index(['Porteur NOM', 'Porteur PRENOM', 'N° du projet', 'FINESS',\n",
            "       'Nom de l'établissement de santé gestionnaire des fonds', 'Acronyme',\n",
            "       'Titre du projet', ' Autorisation d'engagement', 'Date', 'Type'],\n",
            "      dtype='object')\n",
            "df_IMG_xlsx_dgos_resultats_phrc_i_2017_240718.xlsx--------------------------\n",
            "8\n",
            "Index(['Porteur de projet / Investigateur\\ncoordonnateur\\nNOM',\n",
            "       'Porteur de projet / Investigateur\\ncoordonnateur\\nPRENOM',\n",
            "       'N° du projet', 'FINESS',\n",
            "       'Nom de l'établissement de santé\\ngestionnaire des fonds', 'Acronyme',\n",
            "       'Titre du projet', 'Autorisation d'engagement '],\n",
            "      dtype='object')\n",
            "Index(['Porteur NOM', 'Porteur PRENOM', 'N° du projet', 'FINESS',\n",
            "       'Nom de l'établissement de santé gestionnaire des fonds', 'Acronyme',\n",
            "       'Titre du projet', ' Autorisation d'engagement', 'Date', 'Type'],\n",
            "      dtype='object')\n"
          ]
        }
      ]
    },
    {
      "cell_type": "code",
      "source": [
        "# \n",
        "#path = \"df_IMG_xlsx_phrcn_20_resultatsselection_v2-0_20211006_mel.xlsx\"\n",
        "#df_1 = pd.read_excel(path)\n",
        "#print(len(df_1.columns))\n",
        "#print(df_1.columns)\n",
        "#df_1['Date'] = 2020 # Date a ajouter\n",
        "#df_1[\"Type\"] = \"N\"   # Type du fichier\n",
        "#df_1.columns = column\n",
        "#print(df_1.columns)\n",
        "#df_1.to_excel('/content/' + path,index=False) # save file outside of Data File"
      ],
      "metadata": {
        "id": "Sj7gxdfv0_rP"
      },
      "execution_count": 21,
      "outputs": []
    },
    {
      "cell_type": "markdown",
      "source": [
        "#### 2016-2012"
      ],
      "metadata": {
        "id": "_YoSR6AiobGA"
      }
    },
    {
      "cell_type": "code",
      "source": [
        "column"
      ],
      "metadata": {
        "id": "TXI5k4kI2UFk",
        "colab": {
          "base_uri": "https://localhost:8080/"
        },
        "outputId": "42e4528f-7a51-487a-d2e8-dd5e64a41673"
      },
      "execution_count": 22,
      "outputs": [
        {
          "output_type": "execute_result",
          "data": {
            "text/plain": [
              "['Porteur NOM',\n",
              " 'Porteur PRENOM',\n",
              " 'N° du projet',\n",
              " 'FINESS',\n",
              " \"Nom de l'établissement de santé gestionnaire des fonds\",\n",
              " 'Acronyme',\n",
              " 'Titre du projet',\n",
              " \" Autorisation d'engagement\",\n",
              " 'Date',\n",
              " 'Type']"
            ]
          },
          "metadata": {},
          "execution_count": 22
        }
      ]
    },
    {
      "cell_type": "code",
      "execution_count": 24,
      "metadata": {
        "id": "j1zHxnphTcxM",
        "outputId": "be583995-50cf-4350-efe1-716be5e9e759",
        "colab": {
          "base_uri": "https://localhost:8080/"
        }
      },
      "outputs": [
        {
          "output_type": "stream",
          "name": "stdout",
          "text": [
            "Index(['FINESS\\njuridique',\n",
            "       'Nom de l'établissement de santé\\ngestionnaire des fonds',\n",
            "       'Porteur de projet / Investigateur\\ncoordonnateur\\nNOM',\n",
            "       'Porteur de projet / Investigateur\\ncoordonnateur\\nPRENOM',\n",
            "       'Titre du projet', 'N° du projet', 'Acronyme',\n",
            "       ' Autorisation d'engagement '],\n",
            "      dtype='object')\n",
            "-----------------------------------------------------------------------------------\n",
            "Index(['FINESS\\njuridique',\n",
            "       'Nom de l'établissement de santé\\ngestionnaire des fonds',\n",
            "       'Porteur de projet / Investigateur\\ncoordonnateur\\nNOM',\n",
            "       'Porteur de projet / Investigateur\\ncoordonnateur\\nPRENOM',\n",
            "       'Titre du projet', 'N° du projet', 'Acronyme',\n",
            "       ' Autorisation d'engagement '],\n",
            "      dtype='object')\n",
            "-----------------------------------------------------------------------------------\n",
            "Index(['FINESS\\njuridique',\n",
            "       'Nom de l'établissement de santé\\ngestionnaire des fonds',\n",
            "       'Porteur de projet / Investigateur\\ncoordonnateur\\nNOM',\n",
            "       'Porteur de projet / Investigateur\\ncoordonnateur\\nPRENOM',\n",
            "       'Titre du projet', 'N° du projet', 'Acronyme',\n",
            "       'Autorisation d'engagement'],\n",
            "      dtype='object')\n",
            "-----------------------------------------------------------------------------------\n",
            "Index(['FINESS\\njuridique',\n",
            "       'Nom de l'établissement de santé\\ngestionnaire des fonds',\n",
            "       'Porteur de projet / Investigateur\\ncoordonnateur\\nNOM',\n",
            "       'Porteur de projet / Investigateur\\ncoordonnateur\\nPRENOM',\n",
            "       'Titre du projet', 'N° du projet', 'Acronyme',\n",
            "       'Montant accordé sous conditions de suivi (€)'],\n",
            "      dtype='object')\n",
            "-----------------------------------------------------------------------------------\n",
            "Index(['FINESS\\njuridique',\n",
            "       'Nom de l'établissement de santé\\ngestionnaire des fonds',\n",
            "       'Porteur de projet / Investigateur\\ncoordonnateur\\nNOM',\n",
            "       'Porteur de projet / Investigateur\\ncoordonnateur\\nPRENOM',\n",
            "       'Titre du projet', 'N° du projet', 'Acronyme',\n",
            "       'Montant accordé sous conditions de suivi (€)'],\n",
            "      dtype='object')\n",
            "-----------------------------------------------------------------------------------\n",
            "Index(['FINESS\\njuridique',\n",
            "       'Nom de l'établissement de santé\\ngestionnaire des fonds',\n",
            "       'Porteur de projet / Investigateur\\ncoordonnateur\\nNOM',\n",
            "       'Porteur de projet / Investigateur\\ncoordonnateur\\nPRENOM',\n",
            "       'Titre du projet', 'N° du projet', 'Acronyme',\n",
            "       'Autorisation d'engagement (€)'],\n",
            "      dtype='object')\n",
            "-----------------------------------------------------------------------------------\n",
            "Index(['FINESS\\njuridique',\n",
            "       'Nom de l'établissement de santé\\ngestionnaire des fonds',\n",
            "       'Porteur de projet / Investigateur\\ncoordonnateur\\nNOM',\n",
            "       'Porteur de projet / Investigateur\\ncoordonnateur\\nPRENOM',\n",
            "       'Titre du projet', 'N° du projet', 'Acronyme',\n",
            "       'Montant accordé sous conditions de suivi (€)'],\n",
            "      dtype='object')\n",
            "-----------------------------------------------------------------------------------\n",
            "Index(['FINESS\\njuridique',\n",
            "       'Nom de l'établissement de santé\\ngestionnaire des fonds',\n",
            "       'Porteur de projet / Investigateur\\ncoordonnateur\\nNOM',\n",
            "       'Porteur de projet / Investigateur\\ncoordonnateur\\nPRENOM',\n",
            "       'Titre du projet', 'N° du projet', 'Acronyme',\n",
            "       'Montant accordé sous conditions de suivi (€)', 'Commentaires'],\n",
            "      dtype='object')\n",
            "-----------------------------------------------------------------------------------\n",
            "Index(['FINESS\\njuridique',\n",
            "       'Nom de l'établissement de santé\\ngestionnaire des fonds',\n",
            "       'Porteur de projet / Investigateur\\ncoordonnateur\\nNOM',\n",
            "       'Porteur de projet / Investigateur\\ncoordonnateur\\nPRENOM',\n",
            "       'Titre du projet', 'N° du projet', 'Acronyme',\n",
            "       'Montant accordé sous conditions de suivi (€)'],\n",
            "      dtype='object')\n",
            "-----------------------------------------------------------------------------------\n",
            "Index(['FINESS\\njuridique', 'Nom de l'établissement de santé\\ncoordonnateur',\n",
            "       'Porteur de projet / Investigateur\\ncoordonnateur\\nNOM',\n",
            "       'Porteur de projet / Investigateur\\ncoordonnateur\\nPRENOM',\n",
            "       'Titre du projet', 'N° du projet', 'Acronyme',\n",
            "       'Montant accordé sous conditions de suivi (€)'],\n",
            "      dtype='object')\n",
            "-----------------------------------------------------------------------------------\n",
            "Index(['FINESS\\njuridique', 'Nom de l'établissement de santé\\ncoordonnateur',\n",
            "       'Porteur de projet / Investigateur\\ncoordonnateur\\nNOM',\n",
            "       'Porteur de projet / Investigateur\\ncoordonnateur\\nPRENOM',\n",
            "       'Titre du projet', 'N° du projet', 'Acronyme',\n",
            "       'Montant accordé sous conditions de suivi (€)'],\n",
            "      dtype='object')\n",
            "-----------------------------------------------------------------------------------\n",
            "Index(['FINESS\\njuridique', 'Nom de l'établissement de santé\\ncoordonnateur',\n",
            "       'Porteur de projet / Investigateur\\ncoordonnateur\\nNOM',\n",
            "       'Porteur de projet / Investigateur\\ncoordonnateur\\nPRENOM',\n",
            "       'Titre du projet', 'N° du projet', 'Acronyme',\n",
            "       'Montant accordé sous conditions de suivi (€)'],\n",
            "      dtype='object')\n",
            "-----------------------------------------------------------------------------------\n",
            "Index(['FINESS\\njuridique',\n",
            "       'Nom de l'Etablissement de Santé\\ndu Porteur de Projet/Investigateur\\nCoordonnateur',\n",
            "       'Inter région', 'Porteur de Projet/Investigateur\\nCoordonnateur\\nNOM',\n",
            "       'Porteur de Projet/Investigateur\\nCoordonnateur\\nPRENOM',\n",
            "       'Titre du projet', 'N° du projet', 'Acronyme',\n",
            "       'Montant maximal PREVISIONNEL \\n (accordé  sous conditions de suivi)'],\n",
            "      dtype='object')\n",
            "-----------------------------------------------------------------------------------\n",
            "Index(['FINESS\\njuridique',\n",
            "       'Nom de l'Etablissement de Santé\\ndu Porteur de Projet/Investigateur\\nCoordonnateur',\n",
            "       'Porteur de Projet/Investigateur\\nCoordonnateur\\nNOM',\n",
            "       'Porteur de Projet/Investigateur\\nCoordonnateur\\nPRENOM',\n",
            "       'Titre du projet', 'N° du projet', 'Acronyme',\n",
            "       'Montant maximal PREVISIONNEL (accordé  sous conditions de suivi)'],\n",
            "      dtype='object')\n",
            "-----------------------------------------------------------------------------------\n",
            "Index(['FINESS\\njuridique',\n",
            "       'Nom de l'Etablissement de Santé\\ndu Porteur de Projet/Investigateur\\nCoordonnateur',\n",
            "       'Porteur de Projet/Investigateur\\nCoordonnateur\\nNOM',\n",
            "       'Porteur de Projet/Investigateur\\nCoordonnateur\\nPRENOM',\n",
            "       'Titre du projet', 'N° du projet', 'Acronyme',\n",
            "       'Montant maximal PREVISIONNEL (accordé  sous conditions de suivi)'],\n",
            "      dtype='object')\n",
            "-----------------------------------------------------------------------------------\n"
          ]
        }
      ],
      "source": [
        "path5 = \"df_IMG_xlsx_resultats_phrc-k_2016_mel.xlsx\"\n",
        "df5 = pd.read_excel(path5)\n",
        "print(df5.columns)\n",
        "columns_reindexing_5 = ['Porteur de projet / Investigateur\\ncoordonnateur\\nNOM',\n",
        "       'Porteur de projet / Investigateur\\ncoordonnateur\\nPRENOM',\n",
        "        'N° du projet', 'FINESS\\njuridique',\"Nom de l'établissement de santé\\ngestionnaire des fonds\",\n",
        "        'Acronyme','Titre du projet',\n",
        "       \" Autorisation d'engagement \"]\n",
        "print(\"-----------------------------------------------------------------------------------\")\n",
        "path4 = \"df_IMG_xlsx_resultats_phrc-i_2016_mel.xlsx\"\n",
        "df4 = pd.read_excel(path5)\n",
        "print(df4.columns)\n",
        "columns_reindexing_4 = ['Porteur de projet / Investigateur\\ncoordonnateur\\nNOM',\n",
        "       'Porteur de projet / Investigateur\\ncoordonnateur\\nPRENOM',\n",
        "        'N° du projet', 'FINESS\\njuridique',\"Nom de l'établissement de santé\\ngestionnaire des fonds\",\n",
        "        'Acronyme','Titre du projet',\n",
        "       \" Autorisation d'engagement \"]\n",
        "print(\"-----------------------------------------------------------------------------------\")\n",
        "path3 = \"df_IMG_xlsx_resultats_phrc_2016_mel.xlsx\"\n",
        "df3 = pd.read_excel(path3)\n",
        "print(df3.columns)\n",
        "columns_reindexing_3 = ['Porteur de projet / Investigateur\\ncoordonnateur\\nNOM',\n",
        "       'Porteur de projet / Investigateur\\ncoordonnateur\\nPRENOM',\n",
        "        'N° du projet', 'FINESS\\njuridique',\"Nom de l'établissement de santé\\ngestionnaire des fonds\",\n",
        "        'Acronyme','Titre du projet',\n",
        "       \"Autorisation d'engagement\"]\n",
        "print(\"-----------------------------------------------------------------------------------\")\n",
        "path2 = \"df_IMG_xlsx_projets_retenus_phrc-k_2015.xlsx\"\n",
        "df2 = pd.read_excel(path2)\n",
        "print(df2.columns)\n",
        "columns_reindexing_2 = ['Porteur de projet / Investigateur\\ncoordonnateur\\nNOM',\n",
        "       'Porteur de projet / Investigateur\\ncoordonnateur\\nPRENOM',\n",
        "        'N° du projet', 'FINESS\\njuridique',\"Nom de l'établissement de santé\\ngestionnaire des fonds\",\n",
        "        'Acronyme','Titre du projet',\n",
        "       'Montant accordé sous conditions de suivi (€)']\n",
        "print(\"-----------------------------------------------------------------------------------\")\n",
        "path6 = \"df_IMG_xlsx_projets_retenus_phrc-i_2015.xlsx\"\n",
        "df6 = pd.read_excel(path6)\n",
        "print(df6.columns)\n",
        "columns_reindexing_6 = ['Porteur de projet / Investigateur\\ncoordonnateur\\nNOM',\n",
        "       'Porteur de projet / Investigateur\\ncoordonnateur\\nPRENOM',\n",
        "        'N° du projet', 'FINESS\\njuridique',\"Nom de l'établissement de santé\\ngestionnaire des fonds\",\n",
        "        'Acronyme','Titre du projet',\n",
        "       'Montant accordé sous conditions de suivi (€)']\n",
        "print(\"-----------------------------------------------------------------------------------\")\n",
        "path7 = \"df_IMG_xls_projets_retenus_phrc-n_2015.xls\"\n",
        "df7 = pd.read_excel(path7)\n",
        "print(df7.columns)\n",
        "columns_reindexing_7 = ['Porteur de projet / Investigateur\\ncoordonnateur\\nNOM',\n",
        "       'Porteur de projet / Investigateur\\ncoordonnateur\\nPRENOM',\n",
        "        'N° du projet', 'FINESS\\njuridique',\"Nom de l'établissement de santé\\ngestionnaire des fonds\",\n",
        "        'Acronyme','Titre du projet',\n",
        "       \"Autorisation d'engagement (€)\"]\n",
        "print(\"-----------------------------------------------------------------------------------\")\n",
        "path8 = \"df_IMG_xls_Projets_retenus_PHRC-I_2014.xls\"\n",
        "df8 = pd.read_excel(path8)\n",
        "print(df8.columns)\n",
        "columns_reindexing_8 = ['Porteur de projet / Investigateur\\ncoordonnateur\\nNOM',\n",
        "       'Porteur de projet / Investigateur\\ncoordonnateur\\nPRENOM',\n",
        "        'N° du projet', 'FINESS\\njuridique',\"Nom de l'établissement de santé\\ngestionnaire des fonds\",\n",
        "        'Acronyme','Titre du projet',\n",
        "       'Montant accordé sous conditions de suivi (€)']\n",
        "print(\"-----------------------------------------------------------------------------------\")\n",
        "path9 = \"df_IMG_xls_resultats_phrc-k_2014.2.xls\"\n",
        "df9 = pd.read_excel(path9)\n",
        "print(df9.columns)\n",
        "columns_reindexing_9 = ['Porteur de projet / Investigateur\\ncoordonnateur\\nNOM',\n",
        "       'Porteur de projet / Investigateur\\ncoordonnateur\\nPRENOM',\n",
        "        'N° du projet', 'FINESS\\njuridique',\"Nom de l'établissement de santé\\ngestionnaire des fonds\",\n",
        "        'Acronyme','Titre du projet',\n",
        "       'Montant accordé sous conditions de suivi (€)']\n",
        "print(\"-----------------------------------------------------------------------------------\")\n",
        "path10 = \"df_IMG_xls_Resultats_PHRC-N_2014.xls\"\n",
        "df10 = pd.read_excel(path10)\n",
        "print(df10.columns)\n",
        "columns_reindexing_10 = ['Porteur de projet / Investigateur\\ncoordonnateur\\nNOM',\n",
        "       'Porteur de projet / Investigateur\\ncoordonnateur\\nPRENOM',\n",
        "        'N° du projet', 'FINESS\\njuridique',\"Nom de l'établissement de santé\\ngestionnaire des fonds\",\n",
        "        'Acronyme','Titre du projet',\n",
        "       'Montant accordé sous conditions de suivi (€)']\n",
        "print(\"-----------------------------------------------------------------------------------\")\n",
        "path11 = \"df_IMG_xlsx_Resultats_PHRC-N_2013.xlsx\"\n",
        "df11 = pd.read_excel(path11)\n",
        "print(df11.columns)\n",
        "columns_reindexing_11 = ['Porteur de projet / Investigateur\\ncoordonnateur\\nNOM',\n",
        "       'Porteur de projet / Investigateur\\ncoordonnateur\\nPRENOM',\n",
        "        'N° du projet', 'FINESS\\njuridique',\"Nom de l'établissement de santé\\ncoordonnateur\",\n",
        "        'Acronyme','Titre du projet',\n",
        "       'Montant accordé sous conditions de suivi (€)']\n",
        "print(\"-----------------------------------------------------------------------------------\")\n",
        "path12 = \"df_IMG_xlsx_Resultats_PHRC-K_2013.xlsx\"\n",
        "df12 = pd.read_excel(path12)\n",
        "print(df12.columns)\n",
        "columns_reindexing_12 = ['Porteur de projet / Investigateur\\ncoordonnateur\\nNOM',\n",
        "       'Porteur de projet / Investigateur\\ncoordonnateur\\nPRENOM',\n",
        "        'N° du projet', 'FINESS\\njuridique',\"Nom de l'établissement de santé\\ncoordonnateur\",\n",
        "        'Acronyme','Titre du projet',\n",
        "       'Montant accordé sous conditions de suivi (€)']\n",
        "print(\"-----------------------------------------------------------------------------------\")\n",
        "path13 = \"df_IMG_xlsx_Resultats_PHRC-I_2013-1.xlsx\"\n",
        "df13 = pd.read_excel(path13)\n",
        "print(df13.columns)\n",
        "columns_reindexing_13 = ['Porteur de projet / Investigateur\\ncoordonnateur\\nNOM',\n",
        "       'Porteur de projet / Investigateur\\ncoordonnateur\\nPRENOM',\n",
        "        'N° du projet', 'FINESS\\njuridique',\"Nom de l'établissement de santé\\ncoordonnateur\",\n",
        "        'Acronyme','Titre du projet',\n",
        "       'Montant accordé sous conditions de suivi (€)']\n",
        "print(\"-----------------------------------------------------------------------------------\")\n",
        "path14 = \"df_IMG_xls_RESULTAT-PHRCI-2012-3.xls\"\n",
        "df14 = pd.read_excel(path14)\n",
        "print(df14.columns)\n",
        "columns_reindexing_14 = ['Porteur de Projet/Investigateur\\nCoordonnateur\\nNOM',\n",
        "       'Porteur de Projet/Investigateur\\nCoordonnateur\\nPRENOM',\n",
        "        'N° du projet', 'FINESS\\njuridique',\"Nom de l'Etablissement de Santé\\ndu Porteur de Projet/Investigateur\\nCoordonnateur\",\n",
        "        'Acronyme','Titre du projet',\n",
        "       'Montant maximal PREVISIONNEL \\n (accordé  sous conditions de suivi)']\n",
        "print(\"-----------------------------------------------------------------------------------\")\n",
        "path15 = \"df_IMG_xls_RESULTAT-PHRCK-2012-2.xls\"\n",
        "df15 = pd.read_excel(path15)\n",
        "print(df15.columns)\n",
        "columns_reindexing_15 = ['Porteur de Projet/Investigateur\\nCoordonnateur\\nNOM',\n",
        "       'Porteur de Projet/Investigateur\\nCoordonnateur\\nPRENOM',\n",
        "        'N° du projet', 'FINESS\\njuridique',\"Nom de l'Etablissement de Santé\\ndu Porteur de Projet/Investigateur\\nCoordonnateur\",\n",
        "        'Acronyme','Titre du projet',\n",
        "       'Montant maximal PREVISIONNEL (accordé  sous conditions de suivi)']\n",
        "print(\"-----------------------------------------------------------------------------------\")\n",
        "path16 = \"df_IMG_xls_RESULTAT-PHRCN-2012-v2.xls\"\n",
        "df16 = pd.read_excel(path16)\n",
        "print(df16.columns)\n",
        "columns_reindexing_16 = ['Porteur de Projet/Investigateur\\nCoordonnateur\\nNOM',\n",
        "       'Porteur de Projet/Investigateur\\nCoordonnateur\\nPRENOM',\n",
        "        'N° du projet', 'FINESS\\njuridique',\"Nom de l'Etablissement de Santé\\ndu Porteur de Projet/Investigateur\\nCoordonnateur\",\n",
        "        'Acronyme','Titre du projet',\n",
        "       'Montant maximal PREVISIONNEL (accordé  sous conditions de suivi)']\n",
        "print(\"-----------------------------------------------------------------------------------\")"
      ]
    },
    {
      "cell_type": "code",
      "source": [
        "df5 = df5.reindex(columns= columns_reindexing_5)\n",
        "print(df5.columns)\n",
        "print(\"----------------------------------------------------------------------\")\n",
        "df4 = df4.reindex(columns= columns_reindexing_5)\n",
        "print(df4.columns)\n",
        "print(\"----------------------------------------------------------------------\")\n",
        "df3 = df3.reindex(columns= columns_reindexing_3)\n",
        "print(df3.columns)\n",
        "print(\"----------------------------------------------------------------------\")\n",
        "df2 = df2.reindex(columns= columns_reindexing_2)\n",
        "print(df2.columns)\n",
        "print(\"----------------------------------------------------------------------\")\n",
        "df6 = df6.reindex(columns= columns_reindexing_6)\n",
        "print(df6.columns)\n",
        "print(\"----------------------------------------------------------------------\")\n",
        "df7 = df7.reindex(columns= columns_reindexing_7)\n",
        "print(df7.columns)\n",
        "print(\"----------------------------------------------------------------------\")\n",
        "df8 = df8.reindex(columns= columns_reindexing_8)\n",
        "print(df8.columns)\n",
        "print(\"----------------------------------------------------------------------\")\n",
        "df9 = df9.reindex(columns= columns_reindexing_9)\n",
        "print(df9.columns)\n",
        "print(\"----------------------------------------------------------------------\")\n",
        "df10 = df10.reindex(columns= columns_reindexing_10)\n",
        "print(df10.columns)\n",
        "print(\"----------------------------------------------------------------------\")\n",
        "df11 = df11.reindex(columns= columns_reindexing_11)\n",
        "print(df11.columns)\n",
        "print(\"----------------------------------------------------------------------\")\n",
        "df12 = df12.reindex(columns= columns_reindexing_12)\n",
        "print(df12.columns)\n",
        "print(\"----------------------------------------------------------------------\")\n",
        "df13 = df13.reindex(columns= columns_reindexing_13)\n",
        "print(df13.columns)\n",
        "print(\"----------------------------------------------------------------------\")\n",
        "df14 = df14.reindex(columns= columns_reindexing_14)\n",
        "print(df14.columns)\n",
        "print(\"----------------------------------------------------------------------\")\n",
        "df15 = df15.reindex(columns= columns_reindexing_15)\n",
        "print(df15.columns)\n",
        "print(\"----------------------------------------------------------------------\")\n",
        "df16 = df16.reindex(columns= columns_reindexing_16)\n",
        "print(df16.columns)"
      ],
      "metadata": {
        "id": "4gsqkqCbmoS6"
      },
      "execution_count": null,
      "outputs": []
    },
    {
      "cell_type": "code",
      "execution_count": 27,
      "metadata": {
        "id": "lGZd2kdoTcxS",
        "outputId": "f4a4b5d5-aa83-49a8-d361-e3d74c4e1dc4",
        "colab": {
          "base_uri": "https://localhost:8080/"
        }
      },
      "outputs": [
        {
          "output_type": "stream",
          "name": "stdout",
          "text": [
            "Index(['Porteur NOM', 'Porteur PRENOM', 'N° du projet', 'FINESS',\n",
            "       'Nom de l'établissement de santé gestionnaire des fonds', 'Acronyme',\n",
            "       'Titre du projet', ' Autorisation d'engagement', 'Date', 'Type'],\n",
            "      dtype='object')\n",
            "Index(['Porteur NOM', 'Porteur PRENOM', 'N° du projet', 'FINESS',\n",
            "       'Nom de l'établissement de santé gestionnaire des fonds', 'Acronyme',\n",
            "       'Titre du projet', ' Autorisation d'engagement', 'Date', 'Type'],\n",
            "      dtype='object')\n",
            "Index(['Porteur NOM', 'Porteur PRENOM', 'N° du projet', 'FINESS',\n",
            "       'Nom de l'établissement de santé gestionnaire des fonds', 'Acronyme',\n",
            "       'Titre du projet', ' Autorisation d'engagement', 'Date', 'Type'],\n",
            "      dtype='object')\n",
            "Index(['Porteur NOM', 'Porteur PRENOM', 'N° du projet', 'FINESS',\n",
            "       'Nom de l'établissement de santé gestionnaire des fonds', 'Acronyme',\n",
            "       'Titre du projet', ' Autorisation d'engagement', 'Date', 'Type'],\n",
            "      dtype='object')\n",
            "Index(['Porteur NOM', 'Porteur PRENOM', 'N° du projet', 'FINESS',\n",
            "       'Nom de l'établissement de santé gestionnaire des fonds', 'Acronyme',\n",
            "       'Titre du projet', ' Autorisation d'engagement', 'Date', 'Type'],\n",
            "      dtype='object')\n",
            "Index(['Porteur NOM', 'Porteur PRENOM', 'N° du projet', 'FINESS',\n",
            "       'Nom de l'établissement de santé gestionnaire des fonds', 'Acronyme',\n",
            "       'Titre du projet', ' Autorisation d'engagement', 'Date', 'Type'],\n",
            "      dtype='object')\n",
            "Index(['Porteur NOM', 'Porteur PRENOM', 'N° du projet', 'FINESS',\n",
            "       'Nom de l'établissement de santé gestionnaire des fonds', 'Acronyme',\n",
            "       'Titre du projet', ' Autorisation d'engagement', 'Date', 'Type'],\n",
            "      dtype='object')\n",
            "Index(['Porteur NOM', 'Porteur PRENOM', 'N° du projet', 'FINESS',\n",
            "       'Nom de l'établissement de santé gestionnaire des fonds', 'Acronyme',\n",
            "       'Titre du projet', ' Autorisation d'engagement', 'Date', 'Type'],\n",
            "      dtype='object')\n",
            "Index(['Porteur NOM', 'Porteur PRENOM', 'N° du projet', 'FINESS',\n",
            "       'Nom de l'établissement de santé gestionnaire des fonds', 'Acronyme',\n",
            "       'Titre du projet', ' Autorisation d'engagement', 'Date', 'Type'],\n",
            "      dtype='object')\n",
            "Index(['Porteur NOM', 'Porteur PRENOM', 'N° du projet', 'FINESS',\n",
            "       'Nom de l'établissement de santé gestionnaire des fonds', 'Acronyme',\n",
            "       'Titre du projet', ' Autorisation d'engagement', 'Date', 'Type'],\n",
            "      dtype='object')\n"
          ]
        },
        {
          "output_type": "stream",
          "name": "stderr",
          "text": [
            "/usr/local/lib/python3.7/dist-packages/ipykernel_launcher.py:35: FutureWarning: As the xlwt package is no longer maintained, the xlwt engine will be removed in a future version of pandas. This is the only engine in pandas that supports writing in the xls format. Install openpyxl and write to an xlsx file instead. You can set the option io.excel.xls.writer to 'xlwt' to silence this warning. While this option is deprecated and will also raise a warning, it can be globally set and the warning suppressed.\n",
            "/usr/local/lib/python3.7/dist-packages/ipykernel_launcher.py:41: FutureWarning: As the xlwt package is no longer maintained, the xlwt engine will be removed in a future version of pandas. This is the only engine in pandas that supports writing in the xls format. Install openpyxl and write to an xlsx file instead. You can set the option io.excel.xls.writer to 'xlwt' to silence this warning. While this option is deprecated and will also raise a warning, it can be globally set and the warning suppressed.\n",
            "/usr/local/lib/python3.7/dist-packages/ipykernel_launcher.py:47: FutureWarning: As the xlwt package is no longer maintained, the xlwt engine will be removed in a future version of pandas. This is the only engine in pandas that supports writing in the xls format. Install openpyxl and write to an xlsx file instead. You can set the option io.excel.xls.writer to 'xlwt' to silence this warning. While this option is deprecated and will also raise a warning, it can be globally set and the warning suppressed.\n",
            "/usr/local/lib/python3.7/dist-packages/ipykernel_launcher.py:53: FutureWarning: As the xlwt package is no longer maintained, the xlwt engine will be removed in a future version of pandas. This is the only engine in pandas that supports writing in the xls format. Install openpyxl and write to an xlsx file instead. You can set the option io.excel.xls.writer to 'xlwt' to silence this warning. While this option is deprecated and will also raise a warning, it can be globally set and the warning suppressed.\n"
          ]
        },
        {
          "output_type": "stream",
          "name": "stdout",
          "text": [
            "Index(['Porteur NOM', 'Porteur PRENOM', 'N° du projet', 'FINESS',\n",
            "       'Nom de l'établissement de santé gestionnaire des fonds', 'Acronyme',\n",
            "       'Titre du projet', ' Autorisation d'engagement', 'Date', 'Type'],\n",
            "      dtype='object')\n",
            "Index(['Porteur NOM', 'Porteur PRENOM', 'N° du projet', 'FINESS',\n",
            "       'Nom de l'établissement de santé gestionnaire des fonds', 'Acronyme',\n",
            "       'Titre du projet', ' Autorisation d'engagement', 'Date', 'Type'],\n",
            "      dtype='object')\n",
            "Index(['Porteur NOM', 'Porteur PRENOM', 'N° du projet', 'FINESS',\n",
            "       'Nom de l'établissement de santé gestionnaire des fonds', 'Acronyme',\n",
            "       'Titre du projet', ' Autorisation d'engagement', 'Date', 'Type'],\n",
            "      dtype='object')\n",
            "Index(['Porteur NOM', 'Porteur PRENOM', 'N° du projet', 'FINESS',\n",
            "       'Nom de l'établissement de santé gestionnaire des fonds', 'Acronyme',\n",
            "       'Titre du projet', ' Autorisation d'engagement', 'Date', 'Type'],\n",
            "      dtype='object')\n",
            "Index(['Porteur NOM', 'Porteur PRENOM', 'N° du projet', 'FINESS',\n",
            "       'Nom de l'établissement de santé gestionnaire des fonds', 'Acronyme',\n",
            "       'Titre du projet', ' Autorisation d'engagement', 'Date', 'Type'],\n",
            "      dtype='object')\n"
          ]
        },
        {
          "output_type": "stream",
          "name": "stderr",
          "text": [
            "/usr/local/lib/python3.7/dist-packages/ipykernel_launcher.py:77: FutureWarning: As the xlwt package is no longer maintained, the xlwt engine will be removed in a future version of pandas. This is the only engine in pandas that supports writing in the xls format. Install openpyxl and write to an xlsx file instead. You can set the option io.excel.xls.writer to 'xlwt' to silence this warning. While this option is deprecated and will also raise a warning, it can be globally set and the warning suppressed.\n",
            "/usr/local/lib/python3.7/dist-packages/ipykernel_launcher.py:83: FutureWarning: As the xlwt package is no longer maintained, the xlwt engine will be removed in a future version of pandas. This is the only engine in pandas that supports writing in the xls format. Install openpyxl and write to an xlsx file instead. You can set the option io.excel.xls.writer to 'xlwt' to silence this warning. While this option is deprecated and will also raise a warning, it can be globally set and the warning suppressed.\n",
            "/usr/local/lib/python3.7/dist-packages/ipykernel_launcher.py:89: FutureWarning: As the xlwt package is no longer maintained, the xlwt engine will be removed in a future version of pandas. This is the only engine in pandas that supports writing in the xls format. Install openpyxl and write to an xlsx file instead. You can set the option io.excel.xls.writer to 'xlwt' to silence this warning. While this option is deprecated and will also raise a warning, it can be globally set and the warning suppressed.\n"
          ]
        }
      ],
      "source": [
        "\n",
        "df5['Date'] = 2016 # Date a ajouter\n",
        "df5[\"Type\"] = \"K\"   # Type du fichier\n",
        "df5.columns = column\n",
        "print(df5.columns)\n",
        "df5.to_excel('/content/' + path5,index=False)\n",
        "#--------------------------------------------------------------------------------------\n",
        "df4['Date'] = 2016 # Date a ajouter\n",
        "df4[\"Type\"] = \"I\"   # Type du fichier\n",
        "df4.columns = column\n",
        "print(df4.columns)\n",
        "df4.to_excel('/content/' + path4,index=False)\n",
        "#--------------------------------------------------------------------------------------\n",
        "df3['Date'] = 2016 # Date a ajouter\n",
        "df3[\"Type\"] = \"C\"   # Type du fichier\n",
        "df3.columns = column\n",
        "print(df3.columns)\n",
        "df3.to_excel('/content/' + path3,index=False)\n",
        "#--------------------------------------------------------------------------------------\n",
        "df2['Date'] = 2015 # Date a ajouter\n",
        "df2[\"Type\"] = \"K\"   # Type du fichier\n",
        "df2.columns = column\n",
        "print(df2.columns)\n",
        "df2.to_excel('/content/' + path2,index=False)\n",
        "#--------------------------------------------------------------------------------------\n",
        "df6['Date'] = 2015 # Date a ajouter\n",
        "df6[\"Type\"] = \"I\"   # Type du fichier\n",
        "df6.columns = column\n",
        "print(df6.columns)\n",
        "df6.to_excel('/content/' + path6,index=False)\n",
        "#--------------------------------------------------------------------------------------\n",
        "df7['Date'] = 2015 # Date a ajouter\n",
        "df7[\"Type\"] = \"N\"   # Type du fichier\n",
        "df7.columns = column\n",
        "print(df7.columns)\n",
        "df7.to_excel('/content/' + path7,index=False)\n",
        "#--------------------------------------------------------------------------------------\n",
        "df8['Date'] = 2014 # Date a ajouter\n",
        "df8[\"Type\"] = \"I\"   # Type du fichier\n",
        "df8.columns = column\n",
        "print(df8.columns)\n",
        "df8.to_excel('/content/' + path8,index=False)\n",
        "#--------------------------------------------------------------------------------------\n",
        "df9['Date'] = 2014 # Date a ajouter\n",
        "df9[\"Type\"] = \"K\"   # Type du fichier\n",
        "df9.columns = column\n",
        "print(df9.columns)\n",
        "df9.to_excel('/content/' + path9,index=False)\n",
        "#--------------------------------------------------------------------------------------\n",
        "df10['Date'] = 2014 # Date a ajouter\n",
        "df10[\"Type\"] = \"N\"   # Type du fichier\n",
        "df10.columns = column\n",
        "print(df10.columns)\n",
        "df10.to_excel('/content/' + path10,index=False)\n",
        "#--------------------------------------------------------------------------------------\n",
        "df11['Date'] = 2013 # Date a ajouter\n",
        "df11[\"Type\"] = \"N\"   # Type du fichier\n",
        "df11.columns = column\n",
        "print(df11.columns)\n",
        "df11.to_excel('/content/' + path11,index=False)\n",
        "#--------------------------------------------------------------------------------------\n",
        "df12['Date'] = 2013 # Date a ajouter\n",
        "df12[\"Type\"] = \"K\"   # Type du fichier\n",
        "df12.columns = column\n",
        "print(df12.columns)\n",
        "df11.to_excel('/content/' + path12,index=False)\n",
        "#--------------------------------------------------------------------------------------\n",
        "df13['Date'] = 2013 # Date a ajouter\n",
        "df13[\"Type\"] = \"I\"   # Type du fichier\n",
        "df13.columns = column\n",
        "print(df13.columns)\n",
        "df13.to_excel('/content/' + path13,index=False)\n",
        "#--------------------------------------------------------------------------------------\n",
        "df14['Date'] = 2012 # Date a ajouter\n",
        "df14[\"Type\"] = \"I\"   # Type du fichier\n",
        "df14.columns = column\n",
        "print(df14.columns)\n",
        "df14.to_excel('/content/' + path14,index=False)\n",
        "#--------------------------------------------------------------------------------------\n",
        "df15['Date'] = 2012 # Date a ajouter\n",
        "df15[\"Type\"] = \"K\"   # Type du fichier\n",
        "df15.columns = column\n",
        "print(df15.columns)\n",
        "df15.to_excel('/content/' + path15,index=False)\n",
        "#--------------------------------------------------------------------------------------\n",
        "df16['Date'] = 2012 # Date a ajouter\n",
        "df16[\"Type\"] = \"N\"   # Type du fichier\n",
        "df16.columns = column\n",
        "print(df16.columns)\n",
        "df16.to_excel('/content/' + path16,index=False)\n",
        "\n"
      ]
    },
    {
      "cell_type": "code",
      "source": [],
      "metadata": {
        "id": "fOMu25OIyszM"
      },
      "execution_count": null,
      "outputs": []
    },
    {
      "cell_type": "code",
      "source": [
        "df15.head()"
      ],
      "metadata": {
        "colab": {
          "base_uri": "https://localhost:8080/",
          "height": 511
        },
        "id": "B8CHBNhXoMAv",
        "outputId": "65f01d7e-8092-4257-e7c8-2e78ca3871e4"
      },
      "execution_count": 28,
      "outputs": [
        {
          "output_type": "execute_result",
          "data": {
            "text/plain": [
              "  Porteur NOM Porteur PRENOM    N° du projet     FINESS  \\\n",
              "0       ANDRE        Thierry  PHRC12-055 (I)  750712184   \n",
              "1       BABIN       Emmanuel      PHRC12-220  140000100   \n",
              "2    BACHELOT         Thomas      PHRC12-089  690000880   \n",
              "3   BARRIERE          Jérôme      PHRC12-024  060000528   \n",
              "4      BAUDIN          Eric       PHRC12-202  940000664   \n",
              "\n",
              "  Nom de l'établissement de santé gestionnaire des fonds           Acronyme  \\\n",
              "0                          ASSISTANCE PUBLIQUE AP-HP               IDEA (I)   \n",
              "1                           CHU COTE DE NACRE - CAEN                  PETAL   \n",
              "2                                 CENTRE LEON BERARD                    NaN   \n",
              "3                          CENTRE ANTOINE LACASSAGNE               PAZOGLIO   \n",
              "4                            INSTITUT GUSTAVE ROUSSY      OCLURANDOM1inpNET   \n",
              "\n",
              "                                     Titre du projet  \\\n",
              "0  Etude clinique IDEA (International Duration Ev...   \n",
              "1  Programme d’Education Thérapeutique visant l’a...   \n",
              "2  Etude multicentrique de phase III en ouvert, é...   \n",
              "3  Etude de phase Ib d’association du pazopanib a...   \n",
              "4  Premier essai thérapeutique de phase 2 randomi...   \n",
              "\n",
              "    Autorisation d'engagement  Date Type  \n",
              "0                    900000.0  2012    K  \n",
              "1                    300000.0  2012    K  \n",
              "2                    902000.0  2012    K  \n",
              "3                    319000.0  2012    K  \n",
              "4                    685000.0  2012    K  "
            ],
            "text/html": [
              "\n",
              "  <div id=\"df-d93bc394-c3c4-43aa-bbec-4a019b712c18\">\n",
              "    <div class=\"colab-df-container\">\n",
              "      <div>\n",
              "<style scoped>\n",
              "    .dataframe tbody tr th:only-of-type {\n",
              "        vertical-align: middle;\n",
              "    }\n",
              "\n",
              "    .dataframe tbody tr th {\n",
              "        vertical-align: top;\n",
              "    }\n",
              "\n",
              "    .dataframe thead th {\n",
              "        text-align: right;\n",
              "    }\n",
              "</style>\n",
              "<table border=\"1\" class=\"dataframe\">\n",
              "  <thead>\n",
              "    <tr style=\"text-align: right;\">\n",
              "      <th></th>\n",
              "      <th>Porteur NOM</th>\n",
              "      <th>Porteur PRENOM</th>\n",
              "      <th>N° du projet</th>\n",
              "      <th>FINESS</th>\n",
              "      <th>Nom de l'établissement de santé gestionnaire des fonds</th>\n",
              "      <th>Acronyme</th>\n",
              "      <th>Titre du projet</th>\n",
              "      <th>Autorisation d'engagement</th>\n",
              "      <th>Date</th>\n",
              "      <th>Type</th>\n",
              "    </tr>\n",
              "  </thead>\n",
              "  <tbody>\n",
              "    <tr>\n",
              "      <th>0</th>\n",
              "      <td>ANDRE</td>\n",
              "      <td>Thierry</td>\n",
              "      <td>PHRC12-055 (I)</td>\n",
              "      <td>750712184</td>\n",
              "      <td>ASSISTANCE PUBLIQUE AP-HP</td>\n",
              "      <td>IDEA (I)</td>\n",
              "      <td>Etude clinique IDEA (International Duration Ev...</td>\n",
              "      <td>900000.0</td>\n",
              "      <td>2012</td>\n",
              "      <td>K</td>\n",
              "    </tr>\n",
              "    <tr>\n",
              "      <th>1</th>\n",
              "      <td>BABIN</td>\n",
              "      <td>Emmanuel</td>\n",
              "      <td>PHRC12-220</td>\n",
              "      <td>140000100</td>\n",
              "      <td>CHU COTE DE NACRE - CAEN</td>\n",
              "      <td>PETAL</td>\n",
              "      <td>Programme d’Education Thérapeutique visant l’a...</td>\n",
              "      <td>300000.0</td>\n",
              "      <td>2012</td>\n",
              "      <td>K</td>\n",
              "    </tr>\n",
              "    <tr>\n",
              "      <th>2</th>\n",
              "      <td>BACHELOT</td>\n",
              "      <td>Thomas</td>\n",
              "      <td>PHRC12-089</td>\n",
              "      <td>690000880</td>\n",
              "      <td>CENTRE LEON BERARD</td>\n",
              "      <td>NaN</td>\n",
              "      <td>Etude multicentrique de phase III en ouvert, é...</td>\n",
              "      <td>902000.0</td>\n",
              "      <td>2012</td>\n",
              "      <td>K</td>\n",
              "    </tr>\n",
              "    <tr>\n",
              "      <th>3</th>\n",
              "      <td>BARRIERE</td>\n",
              "      <td>Jérôme</td>\n",
              "      <td>PHRC12-024</td>\n",
              "      <td>060000528</td>\n",
              "      <td>CENTRE ANTOINE LACASSAGNE</td>\n",
              "      <td>PAZOGLIO</td>\n",
              "      <td>Etude de phase Ib d’association du pazopanib a...</td>\n",
              "      <td>319000.0</td>\n",
              "      <td>2012</td>\n",
              "      <td>K</td>\n",
              "    </tr>\n",
              "    <tr>\n",
              "      <th>4</th>\n",
              "      <td>BAUDIN</td>\n",
              "      <td>Eric</td>\n",
              "      <td>PHRC12-202</td>\n",
              "      <td>940000664</td>\n",
              "      <td>INSTITUT GUSTAVE ROUSSY</td>\n",
              "      <td>OCLURANDOM1inpNET</td>\n",
              "      <td>Premier essai thérapeutique de phase 2 randomi...</td>\n",
              "      <td>685000.0</td>\n",
              "      <td>2012</td>\n",
              "      <td>K</td>\n",
              "    </tr>\n",
              "  </tbody>\n",
              "</table>\n",
              "</div>\n",
              "      <button class=\"colab-df-convert\" onclick=\"convertToInteractive('df-d93bc394-c3c4-43aa-bbec-4a019b712c18')\"\n",
              "              title=\"Convert this dataframe to an interactive table.\"\n",
              "              style=\"display:none;\">\n",
              "        \n",
              "  <svg xmlns=\"http://www.w3.org/2000/svg\" height=\"24px\"viewBox=\"0 0 24 24\"\n",
              "       width=\"24px\">\n",
              "    <path d=\"M0 0h24v24H0V0z\" fill=\"none\"/>\n",
              "    <path d=\"M18.56 5.44l.94 2.06.94-2.06 2.06-.94-2.06-.94-.94-2.06-.94 2.06-2.06.94zm-11 1L8.5 8.5l.94-2.06 2.06-.94-2.06-.94L8.5 2.5l-.94 2.06-2.06.94zm10 10l.94 2.06.94-2.06 2.06-.94-2.06-.94-.94-2.06-.94 2.06-2.06.94z\"/><path d=\"M17.41 7.96l-1.37-1.37c-.4-.4-.92-.59-1.43-.59-.52 0-1.04.2-1.43.59L10.3 9.45l-7.72 7.72c-.78.78-.78 2.05 0 2.83L4 21.41c.39.39.9.59 1.41.59.51 0 1.02-.2 1.41-.59l7.78-7.78 2.81-2.81c.8-.78.8-2.07 0-2.86zM5.41 20L4 18.59l7.72-7.72 1.47 1.35L5.41 20z\"/>\n",
              "  </svg>\n",
              "      </button>\n",
              "      \n",
              "  <style>\n",
              "    .colab-df-container {\n",
              "      display:flex;\n",
              "      flex-wrap:wrap;\n",
              "      gap: 12px;\n",
              "    }\n",
              "\n",
              "    .colab-df-convert {\n",
              "      background-color: #E8F0FE;\n",
              "      border: none;\n",
              "      border-radius: 50%;\n",
              "      cursor: pointer;\n",
              "      display: none;\n",
              "      fill: #1967D2;\n",
              "      height: 32px;\n",
              "      padding: 0 0 0 0;\n",
              "      width: 32px;\n",
              "    }\n",
              "\n",
              "    .colab-df-convert:hover {\n",
              "      background-color: #E2EBFA;\n",
              "      box-shadow: 0px 1px 2px rgba(60, 64, 67, 0.3), 0px 1px 3px 1px rgba(60, 64, 67, 0.15);\n",
              "      fill: #174EA6;\n",
              "    }\n",
              "\n",
              "    [theme=dark] .colab-df-convert {\n",
              "      background-color: #3B4455;\n",
              "      fill: #D2E3FC;\n",
              "    }\n",
              "\n",
              "    [theme=dark] .colab-df-convert:hover {\n",
              "      background-color: #434B5C;\n",
              "      box-shadow: 0px 1px 3px 1px rgba(0, 0, 0, 0.15);\n",
              "      filter: drop-shadow(0px 1px 2px rgba(0, 0, 0, 0.3));\n",
              "      fill: #FFFFFF;\n",
              "    }\n",
              "  </style>\n",
              "\n",
              "      <script>\n",
              "        const buttonEl =\n",
              "          document.querySelector('#df-d93bc394-c3c4-43aa-bbec-4a019b712c18 button.colab-df-convert');\n",
              "        buttonEl.style.display =\n",
              "          google.colab.kernel.accessAllowed ? 'block' : 'none';\n",
              "\n",
              "        async function convertToInteractive(key) {\n",
              "          const element = document.querySelector('#df-d93bc394-c3c4-43aa-bbec-4a019b712c18');\n",
              "          const dataTable =\n",
              "            await google.colab.kernel.invokeFunction('convertToInteractive',\n",
              "                                                     [key], {});\n",
              "          if (!dataTable) return;\n",
              "\n",
              "          const docLinkHtml = 'Like what you see? Visit the ' +\n",
              "            '<a target=\"_blank\" href=https://colab.research.google.com/notebooks/data_table.ipynb>data table notebook</a>'\n",
              "            + ' to learn more about interactive tables.';\n",
              "          element.innerHTML = '';\n",
              "          dataTable['output_type'] = 'display_data';\n",
              "          await google.colab.output.renderOutput(dataTable, element);\n",
              "          const docLink = document.createElement('div');\n",
              "          docLink.innerHTML = docLinkHtml;\n",
              "          element.appendChild(docLink);\n",
              "        }\n",
              "      </script>\n",
              "    </div>\n",
              "  </div>\n",
              "  "
            ]
          },
          "metadata": {},
          "execution_count": 28
        }
      ]
    },
    {
      "cell_type": "code",
      "execution_count": null,
      "metadata": {
        "id": "1dAbwf6NTcxT"
      },
      "outputs": [],
      "source": []
    },
    {
      "cell_type": "code",
      "execution_count": null,
      "metadata": {
        "id": "i4eN616cTcxT"
      },
      "outputs": [],
      "source": []
    },
    {
      "cell_type": "markdown",
      "metadata": {
        "id": "zawSliDbTcxU"
      },
      "source": [
        "#### Concate ALL"
      ]
    },
    {
      "cell_type": "code",
      "execution_count": 29,
      "metadata": {
        "id": "JOdK1OFxTcxV"
      },
      "outputs": [],
      "source": [
        "import os"
      ]
    },
    {
      "cell_type": "code",
      "source": [
        "%cd /content/"
      ],
      "metadata": {
        "colab": {
          "base_uri": "https://localhost:8080/"
        },
        "id": "W4QJu5QqIZQn",
        "outputId": "dc5f87f8-48bf-4b1a-c33f-dc95c3af53df"
      },
      "execution_count": 30,
      "outputs": [
        {
          "output_type": "stream",
          "name": "stdout",
          "text": [
            "/content\n"
          ]
        }
      ]
    },
    {
      "cell_type": "code",
      "execution_count": 31,
      "metadata": {
        "id": "zpL4auDrTcxW"
      },
      "outputs": [],
      "source": [
        "cwd = os.path.abspath('') \n",
        "files = os.listdir(cwd)  "
      ]
    },
    {
      "cell_type": "code",
      "execution_count": 32,
      "metadata": {
        "colab": {
          "base_uri": "https://localhost:8080/"
        },
        "id": "FeniTN8bTcxW",
        "outputId": "87ccac98-1d74-402c-af4d-db5ad5b839fa"
      },
      "outputs": [
        {
          "output_type": "execute_result",
          "data": {
            "text/plain": [
              "['.config',\n",
              " 'df_IMG_xlsx_resultats_phrcn_2019_mel_v0-2_20200102.xlsx',\n",
              " 'df_IMG_xls_resultats_phrc-k_2014.2.xls',\n",
              " 'df_IMG_xlsx_resultats_phrcn_2018_mel.xlsx',\n",
              " 'df_IMG_xlsx_phrck_20_resultatsselection_v0-0_20210624_mel.xlsx',\n",
              " 'df_IMG_xlsx_resultats_phrck_2018_mel.xlsx',\n",
              " 'df_IMG_xlsx_projets_retenus_phrc-k_2015.xlsx',\n",
              " 'df_IMG_xlsx_dgos_resultats_phrc_i_2017_240718.xlsx',\n",
              " 'df_IMG_xlsx_projets_retenus_phrc-i_2015.xlsx',\n",
              " 'df_IMG_xls_RESULTAT-PHRCI-2012-3.xls',\n",
              " 'df_IMG_xlsx_resultats_phrci_2018_mel.xlsx',\n",
              " 'df_IMG_xlsx_resultats_phrc-n_2017_040118.xlsx',\n",
              " 'df_IMG_xlsx_resultats_phrc-k_2016_mel.xlsx',\n",
              " 'df_IMG_xlsx_Resultats_PHRC-K_2013.xlsx',\n",
              " 'df_IMG_xls_projets_retenus_phrc-n_2015.xls',\n",
              " 'df_IMG_xlsx_Resultats_PHRC-N_2013.xlsx',\n",
              " 'df_IMG_xls_RESULTAT-PHRCN-2012-v2.xls',\n",
              " 'df_IMG_xlsx_Resultats_PHRC-I_2013-1.xlsx',\n",
              " 'df_IMG_xls_Resultats_PHRC-N_2014.xls',\n",
              " 'df_IMG_xlsx_resultats_phrc-i_2016_mel.xlsx',\n",
              " 'df_IMG_xlsx_phrcn_20_resultatsselection_v2-0_20211006_mel.xlsx',\n",
              " 'df_IMG_xlsx_resultats_phrci_2019_mel_v0-1_20200929.xlsx',\n",
              " 'Data',\n",
              " 'df_IMG_xlsx_resultats_phrc-k_2017_040118.xlsx',\n",
              " 'df_IMG_xlsx_resultats_phrc-k_2019_mel_v0-2_20200205.xlsx',\n",
              " 'df_IMG_xls_RESULTAT-PHRCK-2012-2.xls',\n",
              " 'df_IMG_xlsx_resultats_phrc_2016_mel.xlsx',\n",
              " 'df_IMG_xls_Projets_retenus_PHRC-I_2014.xls',\n",
              " 'sample_data']"
            ]
          },
          "metadata": {},
          "execution_count": 32
        }
      ],
      "source": [
        "files"
      ]
    },
    {
      "cell_type": "code",
      "execution_count": 33,
      "metadata": {
        "id": "hojeAUQRTcxY"
      },
      "outputs": [],
      "source": [
        "df_f = pd.DataFrame()\n",
        "for file in files:\n",
        "  if file.endswith('.xlsx'):\n",
        "   df = pd.concat(pd.read_excel(file, sheet_name=None), sort=False,axis=1)\n",
        "   df_f = df_f.append(df, ignore_index=True)\n",
        "  if file.endswith('.xls'):\n",
        "   df = pd.concat(pd.read_excel(file, sheet_name=None), sort=False,axis=1)\n",
        "   df_f = df_f.append(df, ignore_index=True)"
      ]
    },
    {
      "cell_type": "code",
      "execution_count": 34,
      "metadata": {
        "id": "45u3hnQsTcxY"
      },
      "outputs": [],
      "source": [
        "df_f.columns = column"
      ]
    },
    {
      "cell_type": "code",
      "source": [
        "df_f"
      ],
      "metadata": {
        "colab": {
          "base_uri": "https://localhost:8080/",
          "height": 884
        },
        "id": "xbcLOmEulPNB",
        "outputId": "83f5755f-7675-4197-d2a4-ce1ebc61c8c0"
      },
      "execution_count": 35,
      "outputs": [
        {
          "output_type": "execute_result",
          "data": {
            "text/plain": [
              "         Porteur NOM   Porteur PRENOM  N° du projet       FINESS  \\\n",
              "0              ADNET         Frédéric  PHRC-19-0155  750712184.0   \n",
              "1          ALEXANDRE          Joachim  PHRC-19-0091  140000100.0   \n",
              "2             ANNANE         Djillali  PHRC-19-0179  750712184.0   \n",
              "3     BARDOU-JACQUET          Edouard  PHRC-19-0303  350005179.0   \n",
              "4             BAUDRY        Guillaume  PHRC-19-0253  690781810.0   \n",
              "...              ...              ...           ...          ...   \n",
              "2036          VAMECQ           Joseph        14-079    590780193   \n",
              "2037         VENHARD  Jean-Christophe        14-051    370000481   \n",
              "2038         VIGNAL       Jean-Pierre        14-018    540002078   \n",
              "2039    WOJTUSCISZYN             Anne        14-058    340780477   \n",
              "2040          ZAMBON          Olivier        14-048    440000289   \n",
              "\n",
              "     Nom de l'établissement de santé gestionnaire des fonds   Acronyme  \\\n",
              "0                                                 AP-HP           NICO   \n",
              "1                                              CHU CAEN        SPONSoR   \n",
              "2                                                 AP-HP          LOVIT   \n",
              "3                                            CHU RENNES      Quali-SAT   \n",
              "4                                                   HCL       AMBU-VAD   \n",
              "...                                                 ...            ...   \n",
              "2036                                         CHRU LILLE       PEROXY4G   \n",
              "2037                                      CHRU DE TOURS        RenoMaP   \n",
              "2038                                       CHU DE NANCY         COMETE   \n",
              "2039                                    CHU MONTPELLIER       PREMIGIL   \n",
              "2040                                      CHU DE NANTES       PROTRACH   \n",
              "\n",
              "                                        Titre du projet  \\\n",
              "0     Prise en charge non invasive des voies aérienn...   \n",
              "1     SPironolactONe et maintien du Rythme Sinusal c...   \n",
              "2     Etude multicentrique, randomisée en double ins...   \n",
              "3     Impact sur la qualité de vie de la prise en co...   \n",
              "4     Assistance ventriculaire gauche versus traitem...   \n",
              "...                                                 ...   \n",
              "2036  Evaluation d'une nouvelle stratégie du diagnos...   \n",
              "2037  Comparaison de deux techniques de perfusion ré...   \n",
              "2038  Efficacité d’un programme de remédiation cogni...   \n",
              "2039  Preuve de concept de l’effet d’un prétraitemen...   \n",
              "2040  Etude prospective, multicentrique, randomisée,...   \n",
              "\n",
              "      Autorisation d'engagement  Date Type  \n",
              "0                      390972.0  2019    N  \n",
              "1                      972536.0  2019    N  \n",
              "2                      995807.0  2019    N  \n",
              "3                      499576.0  2019    N  \n",
              "4                      516110.0  2019    N  \n",
              "...                         ...   ...  ...  \n",
              "2036                     296535  2014    I  \n",
              "2037                     220194  2014    I  \n",
              "2038                     242968  2014    I  \n",
              "2039                     299668  2014    I  \n",
              "2040                     116144  2014    I  \n",
              "\n",
              "[2041 rows x 10 columns]"
            ],
            "text/html": [
              "\n",
              "  <div id=\"df-daea7e1c-89da-4a2a-9283-c3a0a635675e\">\n",
              "    <div class=\"colab-df-container\">\n",
              "      <div>\n",
              "<style scoped>\n",
              "    .dataframe tbody tr th:only-of-type {\n",
              "        vertical-align: middle;\n",
              "    }\n",
              "\n",
              "    .dataframe tbody tr th {\n",
              "        vertical-align: top;\n",
              "    }\n",
              "\n",
              "    .dataframe thead th {\n",
              "        text-align: right;\n",
              "    }\n",
              "</style>\n",
              "<table border=\"1\" class=\"dataframe\">\n",
              "  <thead>\n",
              "    <tr style=\"text-align: right;\">\n",
              "      <th></th>\n",
              "      <th>Porteur NOM</th>\n",
              "      <th>Porteur PRENOM</th>\n",
              "      <th>N° du projet</th>\n",
              "      <th>FINESS</th>\n",
              "      <th>Nom de l'établissement de santé gestionnaire des fonds</th>\n",
              "      <th>Acronyme</th>\n",
              "      <th>Titre du projet</th>\n",
              "      <th>Autorisation d'engagement</th>\n",
              "      <th>Date</th>\n",
              "      <th>Type</th>\n",
              "    </tr>\n",
              "  </thead>\n",
              "  <tbody>\n",
              "    <tr>\n",
              "      <th>0</th>\n",
              "      <td>ADNET</td>\n",
              "      <td>Frédéric</td>\n",
              "      <td>PHRC-19-0155</td>\n",
              "      <td>750712184.0</td>\n",
              "      <td>AP-HP</td>\n",
              "      <td>NICO</td>\n",
              "      <td>Prise en charge non invasive des voies aérienn...</td>\n",
              "      <td>390972.0</td>\n",
              "      <td>2019</td>\n",
              "      <td>N</td>\n",
              "    </tr>\n",
              "    <tr>\n",
              "      <th>1</th>\n",
              "      <td>ALEXANDRE</td>\n",
              "      <td>Joachim</td>\n",
              "      <td>PHRC-19-0091</td>\n",
              "      <td>140000100.0</td>\n",
              "      <td>CHU CAEN</td>\n",
              "      <td>SPONSoR</td>\n",
              "      <td>SPironolactONe et maintien du Rythme Sinusal c...</td>\n",
              "      <td>972536.0</td>\n",
              "      <td>2019</td>\n",
              "      <td>N</td>\n",
              "    </tr>\n",
              "    <tr>\n",
              "      <th>2</th>\n",
              "      <td>ANNANE</td>\n",
              "      <td>Djillali</td>\n",
              "      <td>PHRC-19-0179</td>\n",
              "      <td>750712184.0</td>\n",
              "      <td>AP-HP</td>\n",
              "      <td>LOVIT</td>\n",
              "      <td>Etude multicentrique, randomisée en double ins...</td>\n",
              "      <td>995807.0</td>\n",
              "      <td>2019</td>\n",
              "      <td>N</td>\n",
              "    </tr>\n",
              "    <tr>\n",
              "      <th>3</th>\n",
              "      <td>BARDOU-JACQUET</td>\n",
              "      <td>Edouard</td>\n",
              "      <td>PHRC-19-0303</td>\n",
              "      <td>350005179.0</td>\n",
              "      <td>CHU RENNES</td>\n",
              "      <td>Quali-SAT</td>\n",
              "      <td>Impact sur la qualité de vie de la prise en co...</td>\n",
              "      <td>499576.0</td>\n",
              "      <td>2019</td>\n",
              "      <td>N</td>\n",
              "    </tr>\n",
              "    <tr>\n",
              "      <th>4</th>\n",
              "      <td>BAUDRY</td>\n",
              "      <td>Guillaume</td>\n",
              "      <td>PHRC-19-0253</td>\n",
              "      <td>690781810.0</td>\n",
              "      <td>HCL</td>\n",
              "      <td>AMBU-VAD</td>\n",
              "      <td>Assistance ventriculaire gauche versus traitem...</td>\n",
              "      <td>516110.0</td>\n",
              "      <td>2019</td>\n",
              "      <td>N</td>\n",
              "    </tr>\n",
              "    <tr>\n",
              "      <th>...</th>\n",
              "      <td>...</td>\n",
              "      <td>...</td>\n",
              "      <td>...</td>\n",
              "      <td>...</td>\n",
              "      <td>...</td>\n",
              "      <td>...</td>\n",
              "      <td>...</td>\n",
              "      <td>...</td>\n",
              "      <td>...</td>\n",
              "      <td>...</td>\n",
              "    </tr>\n",
              "    <tr>\n",
              "      <th>2036</th>\n",
              "      <td>VAMECQ</td>\n",
              "      <td>Joseph</td>\n",
              "      <td>14-079</td>\n",
              "      <td>590780193</td>\n",
              "      <td>CHRU LILLE</td>\n",
              "      <td>PEROXY4G</td>\n",
              "      <td>Evaluation d'une nouvelle stratégie du diagnos...</td>\n",
              "      <td>296535</td>\n",
              "      <td>2014</td>\n",
              "      <td>I</td>\n",
              "    </tr>\n",
              "    <tr>\n",
              "      <th>2037</th>\n",
              "      <td>VENHARD</td>\n",
              "      <td>Jean-Christophe</td>\n",
              "      <td>14-051</td>\n",
              "      <td>370000481</td>\n",
              "      <td>CHRU DE TOURS</td>\n",
              "      <td>RenoMaP</td>\n",
              "      <td>Comparaison de deux techniques de perfusion ré...</td>\n",
              "      <td>220194</td>\n",
              "      <td>2014</td>\n",
              "      <td>I</td>\n",
              "    </tr>\n",
              "    <tr>\n",
              "      <th>2038</th>\n",
              "      <td>VIGNAL</td>\n",
              "      <td>Jean-Pierre</td>\n",
              "      <td>14-018</td>\n",
              "      <td>540002078</td>\n",
              "      <td>CHU DE NANCY</td>\n",
              "      <td>COMETE</td>\n",
              "      <td>Efficacité d’un programme de remédiation cogni...</td>\n",
              "      <td>242968</td>\n",
              "      <td>2014</td>\n",
              "      <td>I</td>\n",
              "    </tr>\n",
              "    <tr>\n",
              "      <th>2039</th>\n",
              "      <td>WOJTUSCISZYN</td>\n",
              "      <td>Anne</td>\n",
              "      <td>14-058</td>\n",
              "      <td>340780477</td>\n",
              "      <td>CHU MONTPELLIER</td>\n",
              "      <td>PREMIGIL</td>\n",
              "      <td>Preuve de concept de l’effet d’un prétraitemen...</td>\n",
              "      <td>299668</td>\n",
              "      <td>2014</td>\n",
              "      <td>I</td>\n",
              "    </tr>\n",
              "    <tr>\n",
              "      <th>2040</th>\n",
              "      <td>ZAMBON</td>\n",
              "      <td>Olivier</td>\n",
              "      <td>14-048</td>\n",
              "      <td>440000289</td>\n",
              "      <td>CHU DE NANTES</td>\n",
              "      <td>PROTRACH</td>\n",
              "      <td>Etude prospective, multicentrique, randomisée,...</td>\n",
              "      <td>116144</td>\n",
              "      <td>2014</td>\n",
              "      <td>I</td>\n",
              "    </tr>\n",
              "  </tbody>\n",
              "</table>\n",
              "<p>2041 rows × 10 columns</p>\n",
              "</div>\n",
              "      <button class=\"colab-df-convert\" onclick=\"convertToInteractive('df-daea7e1c-89da-4a2a-9283-c3a0a635675e')\"\n",
              "              title=\"Convert this dataframe to an interactive table.\"\n",
              "              style=\"display:none;\">\n",
              "        \n",
              "  <svg xmlns=\"http://www.w3.org/2000/svg\" height=\"24px\"viewBox=\"0 0 24 24\"\n",
              "       width=\"24px\">\n",
              "    <path d=\"M0 0h24v24H0V0z\" fill=\"none\"/>\n",
              "    <path d=\"M18.56 5.44l.94 2.06.94-2.06 2.06-.94-2.06-.94-.94-2.06-.94 2.06-2.06.94zm-11 1L8.5 8.5l.94-2.06 2.06-.94-2.06-.94L8.5 2.5l-.94 2.06-2.06.94zm10 10l.94 2.06.94-2.06 2.06-.94-2.06-.94-.94-2.06-.94 2.06-2.06.94z\"/><path d=\"M17.41 7.96l-1.37-1.37c-.4-.4-.92-.59-1.43-.59-.52 0-1.04.2-1.43.59L10.3 9.45l-7.72 7.72c-.78.78-.78 2.05 0 2.83L4 21.41c.39.39.9.59 1.41.59.51 0 1.02-.2 1.41-.59l7.78-7.78 2.81-2.81c.8-.78.8-2.07 0-2.86zM5.41 20L4 18.59l7.72-7.72 1.47 1.35L5.41 20z\"/>\n",
              "  </svg>\n",
              "      </button>\n",
              "      \n",
              "  <style>\n",
              "    .colab-df-container {\n",
              "      display:flex;\n",
              "      flex-wrap:wrap;\n",
              "      gap: 12px;\n",
              "    }\n",
              "\n",
              "    .colab-df-convert {\n",
              "      background-color: #E8F0FE;\n",
              "      border: none;\n",
              "      border-radius: 50%;\n",
              "      cursor: pointer;\n",
              "      display: none;\n",
              "      fill: #1967D2;\n",
              "      height: 32px;\n",
              "      padding: 0 0 0 0;\n",
              "      width: 32px;\n",
              "    }\n",
              "\n",
              "    .colab-df-convert:hover {\n",
              "      background-color: #E2EBFA;\n",
              "      box-shadow: 0px 1px 2px rgba(60, 64, 67, 0.3), 0px 1px 3px 1px rgba(60, 64, 67, 0.15);\n",
              "      fill: #174EA6;\n",
              "    }\n",
              "\n",
              "    [theme=dark] .colab-df-convert {\n",
              "      background-color: #3B4455;\n",
              "      fill: #D2E3FC;\n",
              "    }\n",
              "\n",
              "    [theme=dark] .colab-df-convert:hover {\n",
              "      background-color: #434B5C;\n",
              "      box-shadow: 0px 1px 3px 1px rgba(0, 0, 0, 0.15);\n",
              "      filter: drop-shadow(0px 1px 2px rgba(0, 0, 0, 0.3));\n",
              "      fill: #FFFFFF;\n",
              "    }\n",
              "  </style>\n",
              "\n",
              "      <script>\n",
              "        const buttonEl =\n",
              "          document.querySelector('#df-daea7e1c-89da-4a2a-9283-c3a0a635675e button.colab-df-convert');\n",
              "        buttonEl.style.display =\n",
              "          google.colab.kernel.accessAllowed ? 'block' : 'none';\n",
              "\n",
              "        async function convertToInteractive(key) {\n",
              "          const element = document.querySelector('#df-daea7e1c-89da-4a2a-9283-c3a0a635675e');\n",
              "          const dataTable =\n",
              "            await google.colab.kernel.invokeFunction('convertToInteractive',\n",
              "                                                     [key], {});\n",
              "          if (!dataTable) return;\n",
              "\n",
              "          const docLinkHtml = 'Like what you see? Visit the ' +\n",
              "            '<a target=\"_blank\" href=https://colab.research.google.com/notebooks/data_table.ipynb>data table notebook</a>'\n",
              "            + ' to learn more about interactive tables.';\n",
              "          element.innerHTML = '';\n",
              "          dataTable['output_type'] = 'display_data';\n",
              "          await google.colab.output.renderOutput(dataTable, element);\n",
              "          const docLink = document.createElement('div');\n",
              "          docLink.innerHTML = docLinkHtml;\n",
              "          element.appendChild(docLink);\n",
              "        }\n",
              "      </script>\n",
              "    </div>\n",
              "  </div>\n",
              "  "
            ]
          },
          "metadata": {},
          "execution_count": 35
        }
      ]
    },
    {
      "cell_type": "code",
      "source": [
        "df_f['Date'].unique()"
      ],
      "metadata": {
        "colab": {
          "base_uri": "https://localhost:8080/"
        },
        "id": "S8W83XBmj40E",
        "outputId": "70aa3ef8-8413-4f71-edbe-264fecdc2b59"
      },
      "execution_count": null,
      "outputs": [
        {
          "output_type": "execute_result",
          "data": {
            "text/plain": [
              "array([2019, 2014, 2018, 2020, 2015, 2017, 2012, 2016, 2013])"
            ]
          },
          "metadata": {},
          "execution_count": 36
        }
      ]
    },
    {
      "cell_type": "code",
      "execution_count": null,
      "metadata": {
        "id": "YDqP96fiTcxY"
      },
      "outputs": [],
      "source": [
        "\n"
      ]
    },
    {
      "cell_type": "code",
      "execution_count": null,
      "metadata": {
        "id": "6ON-H2_kTcxY"
      },
      "outputs": [],
      "source": []
    },
    {
      "cell_type": "code",
      "source": [
        "##################################################################################################\n",
        "#####preps et PREPS\n",
        "!mkdir Data_Preps # create folders\n",
        "%cd Data_Preps\n"
      ],
      "metadata": {
        "colab": {
          "base_uri": "https://localhost:8080/"
        },
        "id": "GBzzoYbOWoNa",
        "outputId": "b3646d22-574e-451f-b25e-a7b1b6e7a35a"
      },
      "execution_count": null,
      "outputs": [
        {
          "output_type": "stream",
          "name": "stdout",
          "text": [
            "/content/Data_Preps\n"
          ]
        }
      ]
    },
    {
      "cell_type": "code",
      "source": [
        "#preps et PREPS\n",
        "l1 = [l1 for l1 in links if \"PREPS\" in l1] + [l1 for l1 in links if \"preps\" in l1]\n",
        "len(l1) #reponse: 13\n",
        "#for loop\n",
        "comp_links1 = []\n",
        "for complet_link1 in l1:\n",
        "  complet_link1 = 'https://solidarites-sante.gouv.fr/' + complet_link1\n",
        "  comp_links1.append(complet_link1)\n",
        "#dfpreps noms\n",
        "dfpreps = []\n",
        "for d in l1:\n",
        "  dfspreps = 'df_' + d #can add directory for files\n",
        "  dfpreps.append(dfspreps)\n",
        "dfpreps = list(map(lambda x: x.replace('/', '_'), dfpreps)) # removing all the annoying / that disturb the for loop\n",
        "\n",
        "for d,i in zip(comp_links1,dfpreps):  # for loop to request and save the files with their names in df and link in comp_links\n",
        "    r1 = requests.get(d)\n",
        "    open(i , 'wb').write(r1.content)\n",
        "    dfpreps1 = pd.read_excel(i)\n",
        "\n",
        "dict_colmns_date1 = {\n",
        "    \"df_IMG_xls_RESULTAT-PREPS-2012.xls\":2012,\n",
        "    \"df_IMG_xls_RESULTAT-PREPS-SIPS-2012.xls\":2012,\n",
        "    \"df_IMG_xls_Resultats_PREPS_2014.xls\":2014,\n",
        "    \"df_IMG_xls_resultats_preps_2015_mel.xls\":2015,\n",
        "    \"df_IMG_xlsx_Resultats_PREPS-DP_2013.xlsx\":2013,\n",
        "    \"df_IMG_xlsx_Resultats_PREPS-IQ_2013.xlsx\":2013,\n",
        "    \"df_IMG_xlsx_Resultats_PREPS_2013.xlsx\":2013,\n",
        "    \"df_IMG_xlsx_resultats_preps_2016_mel.xlsx\":2016,\n",
        "    \"df_IMG_xlsx_resultats_preps_2017_040118.xlsx\":2017,\n",
        "    \"df_IMG_xlsx_resultats_preps_2018_mel.xlsx\":2018,\n",
        "    \"df_IMG_xlsx_resultats_preps_2019_mel_v0-2_20200102.xlsx\":2019,\n",
        "    \"df_IMG_xlsx_preps_20_resultatsselection_v2-0_20211006_mel.xlsx\":2020\n",
        "\n",
        " \n",
        "    \n",
        "\n",
        "}\n",
        "\n",
        "# -------------------------------------------------\n",
        "dict_colmns_type1 = {\n",
        "    \"df_IMG_xlsx_Resultats_PREPS-DP_2013.xlsx\":\"DP\",\n",
        "    \"df_IMG_xlsx_Resultats_PREPS-IQ_2013.xlsx\":\"IQ\",\n",
        "    \"df_IMG_xls_RESULTAT-PREPS-SIPS-2012.xls\":\"SIPS\"\n",
        "\n",
        "\n",
        "}"
      ],
      "metadata": {
        "colab": {
          "base_uri": "https://localhost:8080/",
          "height": 520
        },
        "id": "lNAB9dpGUhVp",
        "outputId": "875210fc-da01-471e-e1db-380ada8a7ab8"
      },
      "execution_count": null,
      "outputs": [
        {
          "output_type": "error",
          "ename": "ImportError",
          "evalue": "ignored",
          "traceback": [
            "\u001b[0;31m---------------------------------------------------------------------------\u001b[0m",
            "\u001b[0;31mImportError\u001b[0m                               Traceback (most recent call last)",
            "\u001b[0;32m<ipython-input-9-e7c94db10ead>\u001b[0m in \u001b[0;36m<module>\u001b[0;34m\u001b[0m\n\u001b[1;32m     17\u001b[0m     \u001b[0mr1\u001b[0m \u001b[0;34m=\u001b[0m \u001b[0mrequests\u001b[0m\u001b[0;34m.\u001b[0m\u001b[0mget\u001b[0m\u001b[0;34m(\u001b[0m\u001b[0md\u001b[0m\u001b[0;34m)\u001b[0m\u001b[0;34m\u001b[0m\u001b[0;34m\u001b[0m\u001b[0m\n\u001b[1;32m     18\u001b[0m     \u001b[0mopen\u001b[0m\u001b[0;34m(\u001b[0m\u001b[0mi\u001b[0m \u001b[0;34m,\u001b[0m \u001b[0;34m'wb'\u001b[0m\u001b[0;34m)\u001b[0m\u001b[0;34m.\u001b[0m\u001b[0mwrite\u001b[0m\u001b[0;34m(\u001b[0m\u001b[0mr1\u001b[0m\u001b[0;34m.\u001b[0m\u001b[0mcontent\u001b[0m\u001b[0;34m)\u001b[0m\u001b[0;34m\u001b[0m\u001b[0;34m\u001b[0m\u001b[0m\n\u001b[0;32m---> 19\u001b[0;31m     \u001b[0mdfpreps1\u001b[0m \u001b[0;34m=\u001b[0m \u001b[0mpd\u001b[0m\u001b[0;34m.\u001b[0m\u001b[0mread_excel\u001b[0m\u001b[0;34m(\u001b[0m\u001b[0mi\u001b[0m\u001b[0;34m)\u001b[0m\u001b[0;34m\u001b[0m\u001b[0;34m\u001b[0m\u001b[0m\n\u001b[0m\u001b[1;32m     20\u001b[0m \u001b[0;34m\u001b[0m\u001b[0m\n\u001b[1;32m     21\u001b[0m dict_colmns_date1 = {\n",
            "\u001b[0;32m/usr/local/lib/python3.7/dist-packages/pandas/util/_decorators.py\u001b[0m in \u001b[0;36mwrapper\u001b[0;34m(*args, **kwargs)\u001b[0m\n\u001b[1;32m    309\u001b[0m                     \u001b[0mstacklevel\u001b[0m\u001b[0;34m=\u001b[0m\u001b[0mstacklevel\u001b[0m\u001b[0;34m,\u001b[0m\u001b[0;34m\u001b[0m\u001b[0;34m\u001b[0m\u001b[0m\n\u001b[1;32m    310\u001b[0m                 )\n\u001b[0;32m--> 311\u001b[0;31m             \u001b[0;32mreturn\u001b[0m \u001b[0mfunc\u001b[0m\u001b[0;34m(\u001b[0m\u001b[0;34m*\u001b[0m\u001b[0margs\u001b[0m\u001b[0;34m,\u001b[0m \u001b[0;34m**\u001b[0m\u001b[0mkwargs\u001b[0m\u001b[0;34m)\u001b[0m\u001b[0;34m\u001b[0m\u001b[0;34m\u001b[0m\u001b[0m\n\u001b[0m\u001b[1;32m    312\u001b[0m \u001b[0;34m\u001b[0m\u001b[0m\n\u001b[1;32m    313\u001b[0m         \u001b[0;32mreturn\u001b[0m \u001b[0mwrapper\u001b[0m\u001b[0;34m\u001b[0m\u001b[0;34m\u001b[0m\u001b[0m\n",
            "\u001b[0;32m/usr/local/lib/python3.7/dist-packages/pandas/io/excel/_base.py\u001b[0m in \u001b[0;36mread_excel\u001b[0;34m(io, sheet_name, header, names, index_col, usecols, squeeze, dtype, engine, converters, true_values, false_values, skiprows, nrows, na_values, keep_default_na, na_filter, verbose, parse_dates, date_parser, thousands, comment, skipfooter, convert_float, mangle_dupe_cols, storage_options)\u001b[0m\n\u001b[1;32m    362\u001b[0m     \u001b[0;32mif\u001b[0m \u001b[0;32mnot\u001b[0m \u001b[0misinstance\u001b[0m\u001b[0;34m(\u001b[0m\u001b[0mio\u001b[0m\u001b[0;34m,\u001b[0m \u001b[0mExcelFile\u001b[0m\u001b[0;34m)\u001b[0m\u001b[0;34m:\u001b[0m\u001b[0;34m\u001b[0m\u001b[0;34m\u001b[0m\u001b[0m\n\u001b[1;32m    363\u001b[0m         \u001b[0mshould_close\u001b[0m \u001b[0;34m=\u001b[0m \u001b[0;32mTrue\u001b[0m\u001b[0;34m\u001b[0m\u001b[0;34m\u001b[0m\u001b[0m\n\u001b[0;32m--> 364\u001b[0;31m         \u001b[0mio\u001b[0m \u001b[0;34m=\u001b[0m \u001b[0mExcelFile\u001b[0m\u001b[0;34m(\u001b[0m\u001b[0mio\u001b[0m\u001b[0;34m,\u001b[0m \u001b[0mstorage_options\u001b[0m\u001b[0;34m=\u001b[0m\u001b[0mstorage_options\u001b[0m\u001b[0;34m,\u001b[0m \u001b[0mengine\u001b[0m\u001b[0;34m=\u001b[0m\u001b[0mengine\u001b[0m\u001b[0;34m)\u001b[0m\u001b[0;34m\u001b[0m\u001b[0;34m\u001b[0m\u001b[0m\n\u001b[0m\u001b[1;32m    365\u001b[0m     \u001b[0;32melif\u001b[0m \u001b[0mengine\u001b[0m \u001b[0;32mand\u001b[0m \u001b[0mengine\u001b[0m \u001b[0;34m!=\u001b[0m \u001b[0mio\u001b[0m\u001b[0;34m.\u001b[0m\u001b[0mengine\u001b[0m\u001b[0;34m:\u001b[0m\u001b[0;34m\u001b[0m\u001b[0;34m\u001b[0m\u001b[0m\n\u001b[1;32m    366\u001b[0m         raise ValueError(\n",
            "\u001b[0;32m/usr/local/lib/python3.7/dist-packages/pandas/io/excel/_base.py\u001b[0m in \u001b[0;36m__init__\u001b[0;34m(self, path_or_buffer, engine, storage_options)\u001b[0m\n\u001b[1;32m   1231\u001b[0m         \u001b[0mself\u001b[0m\u001b[0;34m.\u001b[0m\u001b[0mstorage_options\u001b[0m \u001b[0;34m=\u001b[0m \u001b[0mstorage_options\u001b[0m\u001b[0;34m\u001b[0m\u001b[0;34m\u001b[0m\u001b[0m\n\u001b[1;32m   1232\u001b[0m \u001b[0;34m\u001b[0m\u001b[0m\n\u001b[0;32m-> 1233\u001b[0;31m         \u001b[0mself\u001b[0m\u001b[0;34m.\u001b[0m\u001b[0m_reader\u001b[0m \u001b[0;34m=\u001b[0m \u001b[0mself\u001b[0m\u001b[0;34m.\u001b[0m\u001b[0m_engines\u001b[0m\u001b[0;34m[\u001b[0m\u001b[0mengine\u001b[0m\u001b[0;34m]\u001b[0m\u001b[0;34m(\u001b[0m\u001b[0mself\u001b[0m\u001b[0;34m.\u001b[0m\u001b[0m_io\u001b[0m\u001b[0;34m,\u001b[0m \u001b[0mstorage_options\u001b[0m\u001b[0;34m=\u001b[0m\u001b[0mstorage_options\u001b[0m\u001b[0;34m)\u001b[0m\u001b[0;34m\u001b[0m\u001b[0;34m\u001b[0m\u001b[0m\n\u001b[0m\u001b[1;32m   1234\u001b[0m \u001b[0;34m\u001b[0m\u001b[0m\n\u001b[1;32m   1235\u001b[0m     \u001b[0;32mdef\u001b[0m \u001b[0m__fspath__\u001b[0m\u001b[0;34m(\u001b[0m\u001b[0mself\u001b[0m\u001b[0;34m)\u001b[0m\u001b[0;34m:\u001b[0m\u001b[0;34m\u001b[0m\u001b[0;34m\u001b[0m\u001b[0m\n",
            "\u001b[0;32m/usr/local/lib/python3.7/dist-packages/pandas/io/excel/_xlrd.py\u001b[0m in \u001b[0;36m__init__\u001b[0;34m(self, filepath_or_buffer, storage_options)\u001b[0m\n\u001b[1;32m     22\u001b[0m         \"\"\"\n\u001b[1;32m     23\u001b[0m         \u001b[0merr_msg\u001b[0m \u001b[0;34m=\u001b[0m \u001b[0;34m\"Install xlrd >= 1.0.0 for Excel support\"\u001b[0m\u001b[0;34m\u001b[0m\u001b[0;34m\u001b[0m\u001b[0m\n\u001b[0;32m---> 24\u001b[0;31m         \u001b[0mimport_optional_dependency\u001b[0m\u001b[0;34m(\u001b[0m\u001b[0;34m\"xlrd\"\u001b[0m\u001b[0;34m,\u001b[0m \u001b[0mextra\u001b[0m\u001b[0;34m=\u001b[0m\u001b[0merr_msg\u001b[0m\u001b[0;34m)\u001b[0m\u001b[0;34m\u001b[0m\u001b[0;34m\u001b[0m\u001b[0m\n\u001b[0m\u001b[1;32m     25\u001b[0m         \u001b[0msuper\u001b[0m\u001b[0;34m(\u001b[0m\u001b[0;34m)\u001b[0m\u001b[0;34m.\u001b[0m\u001b[0m__init__\u001b[0m\u001b[0;34m(\u001b[0m\u001b[0mfilepath_or_buffer\u001b[0m\u001b[0;34m,\u001b[0m \u001b[0mstorage_options\u001b[0m\u001b[0;34m=\u001b[0m\u001b[0mstorage_options\u001b[0m\u001b[0;34m)\u001b[0m\u001b[0;34m\u001b[0m\u001b[0;34m\u001b[0m\u001b[0m\n\u001b[1;32m     26\u001b[0m \u001b[0;34m\u001b[0m\u001b[0m\n",
            "\u001b[0;32m/usr/local/lib/python3.7/dist-packages/pandas/compat/_optional.py\u001b[0m in \u001b[0;36mimport_optional_dependency\u001b[0;34m(name, extra, errors, min_version)\u001b[0m\n\u001b[1;32m    139\u001b[0m                 \u001b[0;32mreturn\u001b[0m \u001b[0;32mNone\u001b[0m\u001b[0;34m\u001b[0m\u001b[0;34m\u001b[0m\u001b[0m\n\u001b[1;32m    140\u001b[0m             \u001b[0;32melif\u001b[0m \u001b[0merrors\u001b[0m \u001b[0;34m==\u001b[0m \u001b[0;34m\"raise\"\u001b[0m\u001b[0;34m:\u001b[0m\u001b[0;34m\u001b[0m\u001b[0;34m\u001b[0m\u001b[0m\n\u001b[0;32m--> 141\u001b[0;31m                 \u001b[0;32mraise\u001b[0m \u001b[0mImportError\u001b[0m\u001b[0;34m(\u001b[0m\u001b[0mmsg\u001b[0m\u001b[0;34m)\u001b[0m\u001b[0;34m\u001b[0m\u001b[0;34m\u001b[0m\u001b[0m\n\u001b[0m\u001b[1;32m    142\u001b[0m \u001b[0;34m\u001b[0m\u001b[0m\n\u001b[1;32m    143\u001b[0m     \u001b[0;32mreturn\u001b[0m \u001b[0mmodule\u001b[0m\u001b[0;34m\u001b[0m\u001b[0;34m\u001b[0m\u001b[0m\n",
            "\u001b[0;31mImportError\u001b[0m: Pandas requires version '1.2.0' or newer of 'xlrd' (version '1.1.0' currently installed).",
            "",
            "\u001b[0;31m---------------------------------------------------------------------------\u001b[0;32m\nNOTE: If your import is failing due to a missing package, you can\nmanually install dependencies using either !pip or !apt.\n\nTo view examples of installing some common dependencies, click the\n\"Open Examples\" button below.\n\u001b[0;31m---------------------------------------------------------------------------\u001b[0m\n"
          ],
          "errorDetails": {
            "actions": [
              {
                "action": "open_url",
                "actionText": "Open Examples",
                "url": "/notebooks/snippets/importing_libraries.ipynb"
              }
            ]
          }
        }
      ]
    },
    {
      "cell_type": "code",
      "source": [
        "#preps et PREPS\n",
        "pathpreps1 = \"df_IMG_xls_RESULTAT-PREPS-2012.xls\"\n",
        "dfpreps2012 = pd.read_excel(pathpreps1)\n",
        "print(dfpreps2012.columns)\n",
        "columns_reindexing_preps2012 = ['Porteur de Projet/Investigateur\\nCoordonnateur\\nNOM',\n",
        "       'Porteur de Projet/Investigateur\\nCoordonnateur\\nPRENOM',\n",
        "        'N° du projet', 'FINESS\\njuridique',\"Nom de l'Etablissement de Santé\\ndu Porteur de Projet/Investigateur\\nCoordonnateur\",\n",
        "        'Acronyme','Titre du projet',\n",
        "       'Montant maximal PREVISIONNEL \\n (accordé  sous conditions de suivi)']\n",
        "print(\"-----------------------------------------------------------------------------------\")\n",
        "pathpreps2 = \"df_IMG_xls_RESULTAT-PREPS-SIPS-2012.xls\"\n",
        "dfpreps2012sips = pd.read_excel(pathpreps2)\n",
        "print(dfpreps2012sips.columns)\n",
        "columns_reindexing_preps2012sips = ['Porteur de Projet/Investigateur\\nCoordonnateur\\nNOM',\n",
        "       'Porteur de Projet/Investigateur\\nCoordonnateur\\nPRENOM',\n",
        "        'N° du projet', 'FINESS\\njuridique',\"Nom de l'Etablissement de Santé\\ndu Porteur de Projet/Investigateur\\nCoordonnateur\",\n",
        "        'Acronyme','Titre du projet',\n",
        "       'Montant maximal PREVISIONNEL \\n (accordé  sous conditions de suivi)']\n",
        "print(\"-----------------------------------------------------------------------------------\")\n",
        "pathpreps3 = \"df_IMG_xls_Resultats_PREPS_2014.xls\"\n",
        "dfpreps2014 = pd.read_excel(pathpreps3)\n",
        "print(dfpreps2014.columns)\n",
        "columns_reindexing_preps2014 = ['Porteur de projet / Investigateur\\ncoordonnateur\\nNOM',\n",
        "       'Porteur de projet / Investigateur\\ncoordonnateur\\nPRENOM',\n",
        "        'N° du projet', 'FINESS\\njuridique',\"Nom de l'établissement de santé\\ngestionnaire des fonds\",\n",
        "        'Acronyme','Titre du projet',\n",
        "       'Montant accordé sous conditions de suivi (€)']\n",
        "print(\"-----------------------------------------------------------------------------------\")\n",
        "pathpreps4 = \"df_IMG_xls_resultats_preps_2015_mel.xls\"\n",
        "dfpreps2015 = pd.read_excel(pathpreps4)\n",
        "print(dfpreps2015.columns)\n",
        "columns_reindexing_preps2015 = ['Porteur de projet / Investigateur\\ncoordonnateur\\nNOM',\n",
        "       'Porteur de projet / Investigateur\\ncoordonnateur\\nPRENOM',\n",
        "        'N° du projet', 'FINESS\\njuridique',\"Nom de l'établissement de santé\\ngestionnaire des fonds\",\n",
        "        'Acronyme','Titre du projet',\n",
        "       \"Autorisation d'engagement (€)\"]\n",
        "print(\"-----------------------------------------------------------------------------------\")\n",
        "pathpreps5 = \"df_IMG_xlsx_Resultats_PREPS-DP_2013.xlsx\"\n",
        "dfpreps2013dp = pd.read_excel(pathpreps5)\n",
        "print(dfpreps2013dp.columns)\n",
        "columns_reindexing_preps2013dp = ['Porteur de projet / Investigateur\\ncoordonnateur\\nNOM',\n",
        "       'Porteur de projet / Investigateur\\ncoordonnateur\\nPRENOM',\n",
        "        'N° du projet', 'FINESS\\njuridique',\"Nom de l'établissement de santé\\ncoordonnateur\",\n",
        "        'Acronyme','Titre du projet',\n",
        "       'Montant accordé sous conditions de suivi (€)']\n",
        "  # I have an extra column that might cause problems later: 'Champ \"Innovation Recherche\" du PMSI'\n",
        "print(\"-----------------------------------------------------------------------------------\")\n",
        "pathpreps6 = \"df_IMG_xlsx_Resultats_PREPS-IQ_2013.xlsx\"\n",
        "dfpreps2013iq = pd.read_excel(pathpreps6)\n",
        "print(dfpreps2013iq.columns)\n",
        "columns_reindexing_preps2013iq = ['Porteur de projet / Investigateur\\ncoordonnateur\\nNOM',\n",
        "       'Porteur de projet / Investigateur\\ncoordonnateur\\nPRENOM',\n",
        "        'N° du projet', 'FINESS\\njuridique',\"Nom de l'établissement de santé\\ncoordonnateur\",\n",
        "        'Acronyme','Titre du projet',\n",
        "       'Montant accordé sous conditions de suivi (€)']\n",
        "    # EXTRA COLUMN PROB\n",
        "print(\"-----------------------------------------------------------------------------------\")\n",
        "pathpreps7 = \"df_IMG_xlsx_Resultats_PREPS_2013.xlsx\"\n",
        "dfpreps2013 = pd.read_excel(pathpreps7)\n",
        "print(dfpreps2013.columns)\n",
        "columns_reindexing_preps2013 = ['Porteur de projet / Investigateur\\ncoordonnateur\\nNOM',\n",
        "       'Porteur de projet / Investigateur\\ncoordonnateur\\nPRENOM',\n",
        "        'N° du projet', 'FINESS\\njuridique',\"Nom de l'établissement de santé\\ncoordonnateur\",\n",
        "        'Acronyme','Titre du projet',\n",
        "       'Montant accordé sous conditions de suivi (€)']\n",
        "print(\"-----------------------------------------------------------------------------------\")\n",
        "pathpreps8 = \"df_IMG_xlsx_resultats_preps_2016_mel.xlsx\"\n",
        "dfpreps2016 = pd.read_excel(pathpreps8)\n",
        "print(dfpreps2016.columns)\n",
        "columns_reindexing_preps2016 = ['Porteur de projet / Investigateur\\ncoordonnateur\\nNOM',\n",
        "       'Porteur de projet / Investigateur\\ncoordonnateur\\nPRENOM',\n",
        "        'N° du projet', 'FINESS\\njuridique',\"Nom de l'établissement de santé\\ngestionnaire des fonds\",\n",
        "        'Acronyme','Titre du projet',\n",
        "       \" Autorisation d'engagement \"]\n",
        "print(\"-----------------------------------------------------------------------------------\")\n",
        "pathpreps9 = \"df_IMG_xlsx_resultats_preps_2017_040118.xlsx\"\n",
        "dfpreps2017 = pd.read_excel(pathpreps9)\n",
        "print(dfpreps2017.columns)\n",
        "columns_reindexing_preps2017 = ['Porteur de projet / Investigateur\\ncoordonnateur\\nNOM',\n",
        "       'Porteur de projet / Investigateur\\ncoordonnateur\\nPRENOM',\n",
        "        'N° du projet', 'FINESS',\"Nom de l'établissement de santé\\ngestionnaire des fonds\",\n",
        "        'Acronyme','Titre du projet',\n",
        "       \" Autorisation d'engagement \"]\n",
        "print(\"-----------------------------------------------------------------------------------\")\n",
        "pathpreps10 = \"df_IMG_xlsx_resultats_preps_2018_mel.xlsx\"\n",
        "dfpreps2018 = pd.read_excel(pathpreps10)\n",
        "print(dfpreps2018.columns)\n",
        "columns_reindexing_preps2018 = ['Porteur de projet / Investigateur\\ncoordonnateur\\nNOM',\n",
        "       'Porteur de projet / Investigateur\\ncoordonnateur\\nPRENOM',\n",
        "        'N° du projet', 'FINESS',\"Nom de l'établissement de santé\\ngestionnaire des fonds\",\n",
        "        'Acronyme','Titre du projet',\n",
        "       \" Autorisation d'engagement \"]\n",
        "print(\"-----------------------------------------------------------------------------------\")\n",
        "pathpreps11 = \"df_IMG_xlsx_resultats_preps_2019_mel_v0-2_20200102.xlsx\"\n",
        "dfpreps2019 = pd.read_excel(pathpreps11)\n",
        "print(dfpreps2019.columns)\n",
        "columns_reindexing_preps2019 = ['Porteur de projet / Investigateur\\ncoordonnateur\\nNOM',\n",
        "       'Porteur de projet / Investigateur\\ncoordonnateur\\nPRENOM',\n",
        "        'N° du projet', 'FINESS',\"Nom de l'établissement de santé\\ngestionnaire des fonds\",\n",
        "        'Acronyme','Titre du projet',\n",
        "       \"Autorisation d'engagement (AE)\"]\n",
        "print(\"-----------------------------------------------------------------------------------\")\n",
        "pathpreps12 = \"df_IMG_xlsx_preps_20_resultatsselection_v2-0_20211006_mel.xlsx\"\n",
        "dfpreps2020 = pd.read_excel(pathpreps12)\n",
        "print(dfpreps2020.columns)\n",
        "columns_reindexing_preps2020 = ['Porteur de projet / Investigateur\\ncoordonnateur\\nNOM',\n",
        "       'Porteur de projet / Investigateur\\ncoordonnateur\\nPRENOM',\n",
        "        'N° du projet', 'FINESS',\"Nom de l'établissement de santé\\ngestionnaire des fonds\",\n",
        "        'Acronyme','Titre du projet',\n",
        "       \"Autorisation d'engagement (AE)\"]\n",
        "print(\"-----------------------------------------------------------------------------------\")\n"
      ],
      "metadata": {
        "id": "Del8vegvcByx"
      },
      "execution_count": null,
      "outputs": []
    },
    {
      "cell_type": "code",
      "source": [],
      "metadata": {
        "id": "uXDTeKYSY_Yn"
      },
      "execution_count": null,
      "outputs": []
    },
    {
      "cell_type": "code",
      "source": [
        "#preps et PREPS\n",
        "dfpreps2012 = dfpreps2012.reindex(columns= columns_reindexing_preps2012)\n",
        "print(dfpreps2012.columns)\n",
        "print(\"----------------------------------------------------------------------\")\n",
        "dfpreps2012sips = dfpreps2012sips.reindex(columns= columns_reindexing_preps2012sips)\n",
        "print(dfpreps2012sips.columns)\n",
        "print(\"----------------------------------------------------------------------\")\n",
        "dfpreps2014 = dfpreps2014.reindex(columns= columns_reindexing_preps2014)\n",
        "print(dfpreps2014.columns)\n",
        "print(\"----------------------------------------------------------------------\")\n",
        "dfpreps2015 = dfpreps2015.reindex(columns= columns_reindexing_preps2015)\n",
        "print(dfpreps2015.columns)\n",
        "print(\"----------------------------------------------------------------------\")\n",
        "dfpreps2013dp = dfpreps2013dp.reindex(columns= columns_reindexing_preps2013dp)\n",
        "print(dfpreps2013dp.columns)\n",
        "print(\"----------------------------------------------------------------------\")\n",
        "dfpreps2013iq = dfpreps2013iq.reindex(columns= columns_reindexing_preps2013iq)\n",
        "print(dfpreps2013iq.columns)\n",
        "print(\"----------------------------------------------------------------------\")\n",
        "dfpreps2013 = dfpreps2013.reindex(columns= columns_reindexing_preps2013)\n",
        "print(dfpreps2013.columns)\n",
        "print(\"----------------------------------------------------------------------\")\n",
        "dfpreps2016 = dfpreps2016.reindex(columns= columns_reindexing_preps2016)\n",
        "print(dfpreps2016.columns)\n",
        "print(\"----------------------------------------------------------------------\")\n",
        "dfpreps2017 = dfpreps2017.reindex(columns= columns_reindexing_preps2017)\n",
        "print(dfpreps2017.columns)\n",
        "print(\"----------------------------------------------------------------------\")\n",
        "dfpreps2018 = dfpreps2018.reindex(columns= columns_reindexing_preps2018)\n",
        "print(dfpreps2018.columns)\n",
        "print(\"----------------------------------------------------------------------\")\n",
        "dfpreps2019 = dfpreps2019.reindex(columns= columns_reindexing_preps2019)\n",
        "print(dfpreps2019.columns)\n",
        "print(\"----------------------------------------------------------------------\")\n",
        "dfpreps2020 = dfpreps2020.reindex(columns= columns_reindexing_preps2020)\n",
        "print(dfpreps2020.columns)\n",
        "print(\"----------------------------------------------------------------------\")\n"
      ],
      "metadata": {
        "id": "sGIFNzg7wjqv"
      },
      "execution_count": null,
      "outputs": []
    },
    {
      "cell_type": "code",
      "source": [],
      "metadata": {
        "id": "5uRnDkOlY_pU"
      },
      "execution_count": null,
      "outputs": []
    },
    {
      "cell_type": "code",
      "source": [
        "#preps et PREPS\n",
        "dfpreps2012['Date'] = 2012 # Date a ajouter\n",
        "dfpreps2012.columns = column0\n",
        "print(dfpreps2012.columns)\n",
        "dfpreps2012.to_excel('/content/' + pathpreps1,index=False)\n",
        "\n",
        "dfpreps2012sips['Date'] = 2012 # Date a ajouter\n",
        "dfpreps2012sips[\"Type\"] = \"SIPS\"   # Type du fichier\n",
        "dfpreps2012sips.columns = column\n",
        "print(dfpreps2012sips.columns)\n",
        "dfpreps2012sips.to_excel('/content/' + pathpreps2,index=False)\n",
        "\n",
        "dfpreps2013dp['Date'] = 2013 # Date a ajouter\n",
        "dfpreps2013dp[\"Type\"] = \"DP\"   # Type du fichier\n",
        "dfpreps2013dp.columns = column\n",
        "print(dfpreps2013dp.columns)\n",
        "dfpreps2013dp.to_excel('/content/' + pathpreps5,index=False)\n",
        "\n",
        "dfpreps2013iq['Date'] = 2013 # Date a ajouter\n",
        "dfpreps2013iq[\"Type\"] = \"IQ\"   # Type du fichier\n",
        "dfpreps2013iq.columns = column\n",
        "print(preps2013iq.columns)\n",
        "dfpreps2013iq.to_excel('/content/' + pathpreps6,index=False)\n",
        "\n",
        "dfpreps2013['Date'] = 2013 # Date a ajouter\n",
        "dfpreps2013.columns = column0\n",
        "print(preps2013.columns)\n",
        "dfpreps2013.to_excel('/content/' + pathpreps7,index=False)\n",
        "\n",
        "dfpreps2014['Date'] = 2014 # Date a ajouter\n",
        "dfpreps2014.columns = column0\n",
        "print(dfpreps2014.columns)\n",
        "dfpreps2014.to_excel('/content/' + pathpreps3,index=False)\n",
        "\n",
        "dfpreps2015['Date'] = 2015 # Date a ajouter\n",
        "dfpreps2015.columns = column0\n",
        "print(dfpreps2015.columns)\n",
        "dfpreps2015.to_excel('/content/' + pathpreps4,index=False)\n",
        "\n",
        "dfpreps2016['Date'] = 2016 # Date a ajouter\n",
        "dfpreps2016.columns = column0\n",
        "print(dfpreps2016.columns)\n",
        "dfpreps2016.to_excel('/content/' + pathpreps8,index=False)\n",
        "\n",
        "dfpreps2017['Date'] = 2017 # Date a ajouter\n",
        "dfpreps2017.columns = column0\n",
        "print(preps2017.columns)\n",
        "dfpreps2017.to_excel('/content/' + pathpreps9,index=False)\n",
        "\n",
        "dfpreps2018['Date'] = 2018 # Date a ajouter\n",
        "dfpreps2018.columns = column0\n",
        "print(preps2018.columns)\n",
        "dfpreps2018.to_excel('/content/' + pathpreps10,index=False)\n",
        "\n",
        "dfpreps2019['Date'] = 2019 # Date a ajouter\n",
        "dfpreps2019.columns = column0\n",
        "print(preps2019.columns)\n",
        "dfpreps2019.to_excel('/content/' + pathpreps11,index=False)\n",
        "\n",
        "dfpreps2020['Date'] = 2019 # Date a ajouter\n",
        "dfpreps2020.columns = column0\n",
        "print(preps2020.columns)\n",
        "dfpreps2020.to_excel('/content/' + pathpreps12,index=False)\n",
        "\n",
        "################################################################################################################\n"
      ],
      "metadata": {
        "colab": {
          "base_uri": "https://localhost:8080/",
          "height": 235
        },
        "id": "4M8p5119yzSd",
        "outputId": "9689beb8-7a7a-4987-e967-164f53fa82fa"
      },
      "execution_count": null,
      "outputs": [
        {
          "output_type": "error",
          "ename": "NameError",
          "evalue": "ignored",
          "traceback": [
            "\u001b[0;31m---------------------------------------------------------------------------\u001b[0m",
            "\u001b[0;31mNameError\u001b[0m                                 Traceback (most recent call last)",
            "\u001b[0;32m<ipython-input-1-bbb98d35150c>\u001b[0m in \u001b[0;36m<module>\u001b[0;34m\u001b[0m\n\u001b[1;32m      1\u001b[0m \u001b[0;31m#preps et PREPS\u001b[0m\u001b[0;34m\u001b[0m\u001b[0;34m\u001b[0m\u001b[0;34m\u001b[0m\u001b[0m\n\u001b[0;32m----> 2\u001b[0;31m \u001b[0mdfpreps2012\u001b[0m\u001b[0;34m[\u001b[0m\u001b[0;34m'Date'\u001b[0m\u001b[0;34m]\u001b[0m \u001b[0;34m=\u001b[0m \u001b[0;36m2012\u001b[0m \u001b[0;31m# Date a ajouter\u001b[0m\u001b[0;34m\u001b[0m\u001b[0;34m\u001b[0m\u001b[0m\n\u001b[0m\u001b[1;32m      3\u001b[0m \u001b[0mdfpreps2012\u001b[0m\u001b[0;34m.\u001b[0m\u001b[0mcolumns\u001b[0m \u001b[0;34m=\u001b[0m \u001b[0mcolumn0\u001b[0m\u001b[0;34m\u001b[0m\u001b[0;34m\u001b[0m\u001b[0m\n\u001b[1;32m      4\u001b[0m \u001b[0mprint\u001b[0m\u001b[0;34m(\u001b[0m\u001b[0mdfpreps2012\u001b[0m\u001b[0;34m.\u001b[0m\u001b[0mcolumns\u001b[0m\u001b[0;34m)\u001b[0m\u001b[0;34m\u001b[0m\u001b[0;34m\u001b[0m\u001b[0m\n\u001b[1;32m      5\u001b[0m \u001b[0mdfpreps2012\u001b[0m\u001b[0;34m.\u001b[0m\u001b[0mto_excel\u001b[0m\u001b[0;34m(\u001b[0m\u001b[0;34m'/content/'\u001b[0m \u001b[0;34m+\u001b[0m \u001b[0mpathpreps1\u001b[0m\u001b[0;34m,\u001b[0m\u001b[0mindex\u001b[0m\u001b[0;34m=\u001b[0m\u001b[0;32mFalse\u001b[0m\u001b[0;34m)\u001b[0m\u001b[0;34m\u001b[0m\u001b[0;34m\u001b[0m\u001b[0m\n",
            "\u001b[0;31mNameError\u001b[0m: name 'dfpreps2012' is not defined"
          ]
        }
      ]
    },
    {
      "cell_type": "code",
      "source": [],
      "metadata": {
        "id": "hRvnAg2QY_ro"
      },
      "execution_count": null,
      "outputs": []
    },
    {
      "cell_type": "code",
      "source": [],
      "metadata": {
        "id": "b5KUfwJiY_va"
      },
      "execution_count": null,
      "outputs": []
    }
  ],
  "metadata": {
    "colab": {
      "collapsed_sections": [],
      "provenance": [],
      "include_colab_link": true
    },
    "kernelspec": {
      "display_name": "Python 3 (ipykernel)",
      "language": "python",
      "name": "python3"
    },
    "language_info": {
      "codemirror_mode": {
        "name": "ipython",
        "version": 3
      },
      "file_extension": ".py",
      "mimetype": "text/x-python",
      "name": "python",
      "nbconvert_exporter": "python",
      "pygments_lexer": "ipython3",
      "version": "3.8.13"
    }
  },
  "nbformat": 4,
  "nbformat_minor": 0
}